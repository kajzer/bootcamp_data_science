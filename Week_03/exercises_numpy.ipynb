{
 "cells": [
  {
   "cell_type": "code",
   "execution_count": 70,
   "metadata": {},
   "outputs": [],
   "source": [
    "import numpy as np\n",
    "import math\n",
    "np.random.seed(123)"
   ]
  },
  {
   "cell_type": "markdown",
   "metadata": {},
   "source": [
    "### 1.1 "
   ]
  },
  {
   "cell_type": "code",
   "execution_count": 71,
   "metadata": {},
   "outputs": [
    {
     "data": {
      "text/plain": [
       "array([ 1.57175348, -1.71088532, -2.18518837,  0.41051815,  1.75575176,\n",
       "       -0.61514832,  3.84611359,  1.47863791, -0.15254479, -0.86305985,\n",
       "       -1.25457587,  1.83239766, -0.49142204, -3.52257683, -0.81564596,\n",
       "        1.90396325, -2.54006616, -2.59638595,  0.25241099,  0.2546207 ,\n",
       "        1.07520767,  2.79545435,  1.7956426 ,  0.88818809,  1.77954706,\n",
       "       -1.41632869, -1.10569076, -2.17389415, -1.65028763,  1.04780899])"
      ]
     },
     "execution_count": 71,
     "metadata": {},
     "output_type": "execute_result"
    }
   ],
   "source": [
    "my_arr = np.random.uniform(-4, 4, 30)\n",
    "my_arr"
   ]
  },
  {
   "cell_type": "code",
   "execution_count": 72,
   "metadata": {},
   "outputs": [
    {
     "data": {
      "text/plain": [
       "array([ 1.57175348, -1.71088532,  1.75575176,  1.47863791, -1.25457587,\n",
       "        1.83239766,  1.90396325,  1.07520767,  1.7956426 ,  1.77954706,\n",
       "       -1.41632869, -1.10569076, -1.65028763,  1.04780899])"
      ]
     },
     "execution_count": 72,
     "metadata": {},
     "output_type": "execute_result"
    }
   ],
   "source": [
    "my_arr[np.logical_and(my_arr >= -2, my_arr <= -1) | np.logical_and(my_arr >= 1, my_arr <=2)]"
   ]
  },
  {
   "cell_type": "code",
   "execution_count": 73,
   "metadata": {},
   "outputs": [
    {
     "data": {
      "text/plain": [
       "15"
      ]
     },
     "execution_count": 73,
     "metadata": {},
     "output_type": "execute_result"
    }
   ],
   "source": [
    "my_arr[my_arr >= 0].size"
   ]
  },
  {
   "cell_type": "code",
   "execution_count": 74,
   "metadata": {},
   "outputs": [
    {
     "data": {
      "text/plain": [
       "1.5260572308400788"
      ]
     },
     "execution_count": 74,
     "metadata": {},
     "output_type": "execute_result"
    }
   ],
   "source": [
    "np.mean(np.absolute(my_arr))"
   ]
  },
  {
   "cell_type": "code",
   "execution_count": 75,
   "metadata": {},
   "outputs": [
    {
     "data": {
      "text/plain": [
       "3.846113587076924"
      ]
     },
     "execution_count": 75,
     "metadata": {},
     "output_type": "execute_result"
    }
   ],
   "source": [
    "np.max(my_arr)"
   ]
  },
  {
   "cell_type": "code",
   "execution_count": 76,
   "metadata": {},
   "outputs": [
    {
     "data": {
      "text/plain": [
       "-3.522576827123453"
      ]
     },
     "execution_count": 76,
     "metadata": {},
     "output_type": "execute_result"
    }
   ],
   "source": [
    "np.min(my_arr)"
   ]
  },
  {
   "cell_type": "code",
   "execution_count": 77,
   "metadata": {},
   "outputs": [
    {
     "data": {
      "text/plain": [
       "0.15254478812511252"
      ]
     },
     "execution_count": 77,
     "metadata": {},
     "output_type": "execute_result"
    }
   ],
   "source": [
    "np.min(np.absolute(my_arr))"
   ]
  },
  {
   "cell_type": "code",
   "execution_count": 78,
   "metadata": {},
   "outputs": [
    {
     "data": {
      "text/plain": [
       "3.846113587076924"
      ]
     },
     "execution_count": 78,
     "metadata": {},
     "output_type": "execute_result"
    }
   ],
   "source": [
    "np.max(np.absolute(my_arr))"
   ]
  },
  {
   "cell_type": "code",
   "execution_count": 79,
   "metadata": {},
   "outputs": [
    {
     "data": {
      "text/plain": [
       "1.9039632458562856"
      ]
     },
     "execution_count": 79,
     "metadata": {},
     "output_type": "execute_result"
    }
   ],
   "source": [
    "my_arr[np.argmin(np.absolute(my_arr - 2))]"
   ]
  },
  {
   "cell_type": "code",
   "execution_count": 80,
   "metadata": {},
   "outputs": [
    {
     "data": {
      "text/plain": [
       "-3.522576827123453"
      ]
     },
     "execution_count": 80,
     "metadata": {},
     "output_type": "execute_result"
    }
   ],
   "source": [
    "my_arr[np.argmax(np.absolute(my_arr - 2))]"
   ]
  },
  {
   "cell_type": "code",
   "execution_count": 91,
   "metadata": {},
   "outputs": [
    {
     "data": {
      "text/plain": [
       "(array([ 0.57175348, -0.71088532, -0.18518837,  0.41051815,  0.75575176,\n",
       "        -0.61514832,  0.84611359,  0.47863791, -0.15254479, -0.86305985,\n",
       "        -0.25457587,  0.83239766, -0.49142204, -0.52257683, -0.81564596,\n",
       "         0.90396325, -0.54006616, -0.59638595,  0.25241099,  0.2546207 ,\n",
       "         0.07520767,  0.79545435,  0.7956426 ,  0.88818809,  0.77954706,\n",
       "        -0.41632869, -0.10569076, -0.17389415, -0.65028763,  0.04780899]),\n",
       " array([ 1., -1., -2.,  0.,  1., -0.,  3.,  1., -0., -0., -1.,  1., -0.,\n",
       "        -3., -0.,  1., -2., -2.,  0.,  0.,  1.,  2.,  1.,  0.,  1., -1.,\n",
       "        -1., -2., -1.,  1.]))"
      ]
     },
     "execution_count": 91,
     "metadata": {},
     "output_type": "execute_result"
    }
   ],
   "source": [
    "np.modf(my_arr)"
   ]
  },
  {
   "cell_type": "code",
   "execution_count": 82,
   "metadata": {},
   "outputs": [
    {
     "data": {
      "text/plain": [
       "array([ 0.38269625, -0.50827314, -0.63700783,  0.06751533,  0.43263682,\n",
       "       -0.21086968,  1.        ,  0.35742295, -0.08531046, -0.2781575 ,\n",
       "       -0.38442224,  0.45343994, -0.17728806, -1.        , -0.26528848,\n",
       "        0.47286418, -0.73332828, -0.74861452,  0.02460209,  0.02520185,\n",
       "        0.24792446,  0.71483149,  0.44346393,  0.19716386,  0.4390953 ,\n",
       "       -0.42832498, -0.34401205, -0.63394237, -0.49182579,  0.24048795])"
      ]
     },
     "execution_count": 82,
     "metadata": {},
     "output_type": "execute_result"
    }
   ],
   "source": [
    "np.interp(my_arr, (my_arr.min(), my_arr.max()), (-1, 1))"
   ]
  },
  {
   "cell_type": "code",
   "execution_count": 83,
   "metadata": {},
   "outputs": [
    {
     "data": {
      "text/plain": [
       "8.315859553206058"
      ]
     },
     "execution_count": 83,
     "metadata": {},
     "output_type": "execute_result"
    }
   ],
   "source": [
    "np.mean(my_arr[(my_arr > 3) | (my_arr < -2)] ** 2)"
   ]
  },
  {
   "cell_type": "code",
   "execution_count": 89,
   "metadata": {},
   "outputs": [
    {
     "data": {
      "text/plain": [
       "array(['nieujemna', 'ujemna', 'ujemna', 'nieujemna', 'nieujemna',\n",
       "       'ujemna', 'nieujemna', 'nieujemna', 'ujemna', 'ujemna', 'ujemna',\n",
       "       'nieujemna', 'ujemna', 'ujemna', 'ujemna', 'nieujemna', 'ujemna',\n",
       "       'ujemna', 'nieujemna', 'nieujemna', 'nieujemna', 'nieujemna',\n",
       "       'nieujemna', 'nieujemna', 'nieujemna', 'ujemna', 'ujemna',\n",
       "       'ujemna', 'ujemna', 'nieujemna'], dtype='<U9')"
      ]
     },
     "execution_count": 89,
     "metadata": {},
     "output_type": "execute_result"
    }
   ],
   "source": [
    "string_arr = np.where(my_arr>0, \"nieujemna\", \"ujemna\")\n",
    "string_arr"
   ]
  },
  {
   "cell_type": "code",
   "execution_count": 85,
   "metadata": {},
   "outputs": [],
   "source": [
    "def std_deviation(elm_list):\n",
    "    my_mean = np.mean(elm_list)\n",
    "    my_sum = sum([(x - my_mean)**2 for x in elm_list])\n",
    "    return math.sqrt(my_sum/len(elm_list))"
   ]
  },
  {
   "cell_type": "code",
   "execution_count": 92,
   "metadata": {},
   "outputs": [
    {
     "name": "stdout",
     "output_type": "stream",
     "text": [
      "3.155462650642973\n"
     ]
    }
   ],
   "source": [
    "print(std_deviation(my_arr)**2)"
   ]
  },
  {
   "cell_type": "code",
   "execution_count": 88,
   "metadata": {},
   "outputs": [
    {
     "name": "stdout",
     "output_type": "stream",
     "text": [
      "-3.522576827123453\n"
     ]
    }
   ],
   "source": [
    "minimum = my_arr[0]\n",
    "for elem in my_arr:\n",
    "    if minimum > elem:\n",
    "        minimum = elem\n",
    "print(minimum)    "
   ]
  },
  {
   "cell_type": "code",
   "execution_count": 90,
   "metadata": {},
   "outputs": [
    {
     "name": "stdout",
     "output_type": "stream",
     "text": [
      "3.846113587076924\n"
     ]
    }
   ],
   "source": [
    "maksimum = my_arr[0]\n",
    "for elem in my_arr:\n",
    "    if maksimum < elem:\n",
    "        maksimum = elem\n",
    "print(maksimum) "
   ]
  },
  {
   "cell_type": "code",
   "execution_count": 96,
   "metadata": {},
   "outputs": [
    {
     "name": "stdout",
     "output_type": "stream",
     "text": [
      "[ 1.57175348 -1.71088532 -2.18518837  0.8         1.75575176 -0.61514832\n",
      "  3.84611359  0.8        -0.15254479 -0.86305985 -1.25457587  1.83239766\n",
      " -0.49142204 -3.52257683 -0.81564596  1.90396325 -2.54006616 -2.59638595\n",
      "  0.25241099  0.2546207   0.8         2.5         1.7956426   0.8\n",
      "  1.77954706 -1.41632869 -1.10569076 -2.17389415 -1.65028763  0.8       ]\n"
     ]
    }
   ],
   "source": [
    "def historize(elm_list, k):\n",
    "    elm_list[np.logical_and(elm_list >= k, elm_list < k+1)] = k + 0.5\n",
    "    return elm_list\n",
    "print(historize(my_arr, 0.3))"
   ]
  },
  {
   "cell_type": "markdown",
   "metadata": {},
   "source": [
    "### 1.2"
   ]
  },
  {
   "cell_type": "code",
   "execution_count": 97,
   "metadata": {},
   "outputs": [],
   "source": [
    "def my_covariance(list1, list2):\n",
    "    if len(list1) != len(list2):\n",
    "        print(\"LLists are not equal!\")\n",
    "        return None\n",
    "    mean_x = np.mean(list1)\n",
    "    mean_y = np.mean(list2)\n",
    "    n = len(list1)\n",
    "    my_sum = list()\n",
    "    for x, y in zip(list1, list2):\n",
    "        my_sum.append((x - mean_x)*(y - mean_y))\n",
    "    return(sum(my_sum)/n)\n"
   ]
  },
  {
   "cell_type": "code",
   "execution_count": 98,
   "metadata": {},
   "outputs": [],
   "source": [
    "def pearsons_correlation(list1, list2):\n",
    "    p_cov = my_covariance(list1, list2)/(std_deviation(list1)*std_deviation(list2))\n",
    "    return p_cov"
   ]
  },
  {
   "cell_type": "code",
   "execution_count": 102,
   "metadata": {},
   "outputs": [
    {
     "name": "stdout",
     "output_type": "stream",
     "text": [
      "[ 0  1  2  3  4  5  6  7  8  9 10] [10  9  8  7  6  5  4  3  2  1  0]\n"
     ]
    }
   ],
   "source": [
    "x = np.array(list(range(11)))\n",
    "y = x[::-1]\n",
    "print(x,y)"
   ]
  },
  {
   "cell_type": "code",
   "execution_count": 103,
   "metadata": {},
   "outputs": [
    {
     "data": {
      "text/plain": [
       "-0.9999999999999998"
      ]
     },
     "execution_count": 103,
     "metadata": {},
     "output_type": "execute_result"
    }
   ],
   "source": [
    "pearsons_correlation(x,y)"
   ]
  },
  {
   "cell_type": "code",
   "execution_count": 113,
   "metadata": {},
   "outputs": [],
   "source": [
    "def from_last_corr(list1, list2):\n",
    "    if not list1.size == list2.size:\n",
    "        print(\"Lists are not equal!\")\n",
    "        return None\n",
    "    n = list1.size\n",
    "    top = n*(np.sum(list1*list2)-(np.sum(list1)*np.sum(list2)))\n",
    "    bot = math.sqrt(n*np.sum(list1**2)-(np.sum(list1)**2)) * math.sqrt(n*np.sum(list2**2)-(np.sum(list2)**2))\n",
    "    return top/bot"
   ]
  },
  {
   "cell_type": "code",
   "execution_count": 114,
   "metadata": {},
   "outputs": [
    {
     "data": {
      "text/plain": [
       "-25.999999999999996"
      ]
     },
     "execution_count": 114,
     "metadata": {},
     "output_type": "execute_result"
    }
   ],
   "source": [
    "from_last_corr(x,y)"
   ]
  },
  {
   "cell_type": "markdown",
   "metadata": {},
   "source": [
    "### 1.3"
   ]
  },
  {
   "cell_type": "code",
   "execution_count": 131,
   "metadata": {},
   "outputs": [],
   "source": [
    "def scale(x, out_range=(0, 1)):\n",
    "    domain = np.min(x), np.max(x)\n",
    "    y = (x - (domain[1] + domain[0]) / 2) / (domain[1] - domain[0])\n",
    "    return y * (out_range[1] - out_range[0]) + (out_range[1] + out_range[0]) / 2"
   ]
  },
  {
   "cell_type": "code",
   "execution_count": 138,
   "metadata": {},
   "outputs": [
    {
     "data": {
      "text/plain": [
       "array([-1.58113883, -1.26491106, -0.9486833 , -0.63245553, -0.31622777,\n",
       "        0.        ,  0.31622777,  0.63245553,  0.9486833 ,  1.26491106,\n",
       "        1.58113883])"
      ]
     },
     "execution_count": 138,
     "metadata": {},
     "output_type": "execute_result"
    }
   ],
   "source": [
    "def standarize(x):\n",
    "    mean = np.mean(x)\n",
    "    std = np.std(x)\n",
    "    return (x - mean)/std\n",
    "standarize(x)"
   ]
  },
  {
   "cell_type": "code",
   "execution_count": 139,
   "metadata": {},
   "outputs": [
    {
     "data": {
      "text/plain": [
       "0"
      ]
     },
     "execution_count": 139,
     "metadata": {},
     "output_type": "execute_result"
    }
   ],
   "source": [
    "int(np.mean(standarize(x)))"
   ]
  },
  {
   "cell_type": "code",
   "execution_count": 140,
   "metadata": {},
   "outputs": [
    {
     "data": {
      "text/plain": [
       "1.0"
      ]
     },
     "execution_count": 140,
     "metadata": {},
     "output_type": "execute_result"
    }
   ],
   "source": [
    "np.std(standarize(x))"
   ]
  },
  {
   "cell_type": "markdown",
   "metadata": {},
   "source": [
    "### 1.4"
   ]
  },
  {
   "cell_type": "code",
   "execution_count": 141,
   "metadata": {},
   "outputs": [
    {
     "data": {
      "text/plain": [
       "165"
      ]
     },
     "execution_count": 141,
     "metadata": {},
     "output_type": "execute_result"
    }
   ],
   "source": [
    "x @ y"
   ]
  },
  {
   "cell_type": "code",
   "execution_count": 142,
   "metadata": {},
   "outputs": [
    {
     "data": {
      "text/plain": [
       "165"
      ]
     },
     "execution_count": 142,
     "metadata": {},
     "output_type": "execute_result"
    }
   ],
   "source": [
    "np.dot(x,y)"
   ]
  },
  {
   "cell_type": "markdown",
   "metadata": {},
   "source": [
    "### 1.5"
   ]
  },
  {
   "cell_type": "code",
   "execution_count": 148,
   "metadata": {},
   "outputs": [
    {
     "data": {
      "text/plain": [
       "6.324555320336759"
      ]
     },
     "execution_count": 148,
     "metadata": {},
     "output_type": "execute_result"
    }
   ],
   "source": [
    "def rmse(x, y):\n",
    "    rmse = np.sqrt(np.sum((y-x)**2)/x.size)\n",
    "    return rmse\n",
    "\n",
    "rmse(x, y)"
   ]
  },
  {
   "cell_type": "markdown",
   "metadata": {},
   "source": [
    "### 1.6"
   ]
  },
  {
   "cell_type": "code",
   "execution_count": 149,
   "metadata": {},
   "outputs": [],
   "source": [
    "def mae(x,y):\n",
    "    return np.sum(np.abs(y-x))/x.size"
   ]
  },
  {
   "cell_type": "code",
   "execution_count": 150,
   "metadata": {},
   "outputs": [
    {
     "data": {
      "text/plain": [
       "5.454545454545454"
      ]
     },
     "execution_count": 150,
     "metadata": {},
     "output_type": "execute_result"
    }
   ],
   "source": [
    "mae(x,y)"
   ]
  },
  {
   "cell_type": "markdown",
   "metadata": {},
   "source": [
    "### 1.7"
   ]
  },
  {
   "cell_type": "code",
   "execution_count": 151,
   "metadata": {},
   "outputs": [],
   "source": [
    "def medae(x,y):\n",
    "    return np.median(np.abs(y-x))"
   ]
  },
  {
   "cell_type": "code",
   "execution_count": 152,
   "metadata": {},
   "outputs": [
    {
     "data": {
      "text/plain": [
       "6.0"
      ]
     },
     "execution_count": 152,
     "metadata": {},
     "output_type": "execute_result"
    }
   ],
   "source": [
    "medae(x,y)"
   ]
  },
  {
   "cell_type": "markdown",
   "metadata": {},
   "source": [
    "### 1.8"
   ]
  },
  {
   "cell_type": "code",
   "execution_count": 165,
   "metadata": {},
   "outputs": [],
   "source": [
    "def hamming_distance(s1, s2):\n",
    "    \"\"\"Return the Hamming distance between equal-length sequences\"\"\"\n",
    "    if s1.size != s2.size:\n",
    "        raise ValueError(\"Undefined for sequences of unequal length\")\n",
    "    return np.sum(s1 != s2)/s1.size"
   ]
  },
  {
   "cell_type": "code",
   "execution_count": 166,
   "metadata": {},
   "outputs": [
    {
     "data": {
      "text/plain": [
       "0.9090909090909091"
      ]
     },
     "execution_count": 166,
     "metadata": {},
     "output_type": "execute_result"
    }
   ],
   "source": [
    "hamming_distance(x,y)"
   ]
  },
  {
   "cell_type": "markdown",
   "metadata": {},
   "source": [
    "### 1.9"
   ]
  },
  {
   "cell_type": "code",
   "execution_count": 205,
   "metadata": {},
   "outputs": [
    {
     "data": {
      "text/plain": [
       "array([0.99535848, 0.35591487, 0.76254781, 0.59317692, 0.6917018 ,\n",
       "       0.15112745, 0.39887629, 0.2408559 ])"
      ]
     },
     "execution_count": 205,
     "metadata": {},
     "output_type": "execute_result"
    }
   ],
   "source": [
    "list_A = np.random.uniform(0,1,8)\n",
    "list_Y = np.random.choice([0,1] ,8)\n",
    "def cel(Y, A):\n",
    "    m = Y.size\n",
    "    return -(1.0/m) * np.sum(Y*np.log(A) + (1-Y)*np.log(1-A))\n",
    "list_A"
   ]
  },
  {
   "cell_type": "code",
   "execution_count": 206,
   "metadata": {},
   "outputs": [
    {
     "data": {
      "text/plain": [
       "0.5638717911709776"
      ]
     },
     "execution_count": 206,
     "metadata": {},
     "output_type": "execute_result"
    }
   ],
   "source": [
    "cel(list_Y, list_A)"
   ]
  },
  {
   "cell_type": "markdown",
   "metadata": {},
   "source": [
    "### 1.10"
   ]
  },
  {
   "cell_type": "code",
   "execution_count": 228,
   "metadata": {},
   "outputs": [],
   "source": [
    "np_list = np.r_[3:4:5j, 3:10]\n",
    "def lead(x, n):\n",
    "    ret = x[n:].copy()\n",
    "    ret = np.pad(ret, (0,n), 'constant', constant_values=(np.NaN))\n",
    "    return ret"
   ]
  },
  {
   "cell_type": "code",
   "execution_count": 229,
   "metadata": {},
   "outputs": [
    {
     "data": {
      "text/plain": [
       "array([3.  , 3.25, 3.5 , 3.75, 4.  , 3.  , 4.  , 5.  , 6.  , 7.  , 8.  ,\n",
       "       9.  ])"
      ]
     },
     "execution_count": 229,
     "metadata": {},
     "output_type": "execute_result"
    }
   ],
   "source": [
    "np_list"
   ]
  },
  {
   "cell_type": "code",
   "execution_count": 236,
   "metadata": {},
   "outputs": [
    {
     "name": "stdout",
     "output_type": "stream",
     "text": [
      "[3.75 4.   3.   4.   5.   6.   7.   8.   9.    nan  nan  nan]\n"
     ]
    }
   ],
   "source": [
    "print(lead(np_list, 3))"
   ]
  },
  {
   "cell_type": "code",
   "execution_count": 231,
   "metadata": {},
   "outputs": [],
   "source": [
    "def lag(x, n):\n",
    "    ret = x[:n].copy()\n",
    "    ret = np.pad(ret, (n,0), 'constant', constant_values=(np.NaN))\n",
    "    return ret"
   ]
  },
  {
   "cell_type": "code",
   "execution_count": 233,
   "metadata": {},
   "outputs": [
    {
     "name": "stdout",
     "output_type": "stream",
     "text": [
      "[ nan  nan  nan  nan  nan 3.   3.25 3.5  3.75 4.  ]\n"
     ]
    }
   ],
   "source": [
    "print(lag(np_list,5))"
   ]
  },
  {
   "cell_type": "markdown",
   "metadata": {},
   "source": [
    "### 1.11"
   ]
  },
  {
   "cell_type": "code",
   "execution_count": 253,
   "metadata": {},
   "outputs": [],
   "source": [
    "def cumall(x):\n",
    "    ret = []\n",
    "    for idx, val in enumerate(x):\n",
    "        ret.append(np.all(x[:idx+1]))\n",
    "    return ret"
   ]
  },
  {
   "cell_type": "code",
   "execution_count": 254,
   "metadata": {},
   "outputs": [
    {
     "data": {
      "text/plain": [
       "[True, True, True, False, False, False, False, False]"
      ]
     },
     "execution_count": 254,
     "metadata": {},
     "output_type": "execute_result"
    }
   ],
   "source": [
    "cumall(np.array([True, True, True, False, True, False, True, True]))"
   ]
  },
  {
   "cell_type": "code",
   "execution_count": 258,
   "metadata": {},
   "outputs": [],
   "source": [
    "def cumany(x):\n",
    "    ret = []\n",
    "    for idx, val in enumerate(x):\n",
    "        ret.append(np.any(x[:idx+1]))\n",
    "    return ret"
   ]
  },
  {
   "cell_type": "code",
   "execution_count": 259,
   "metadata": {},
   "outputs": [
    {
     "data": {
      "text/plain": [
       "[False, False, True, True, True, True, True, True]"
      ]
     },
     "execution_count": 259,
     "metadata": {},
     "output_type": "execute_result"
    }
   ],
   "source": [
    "cumany(np.array([False, False, True, False, True, False, True, True]))"
   ]
  },
  {
   "cell_type": "markdown",
   "metadata": {},
   "source": [
    "### 1.12"
   ]
  },
  {
   "cell_type": "code",
   "execution_count": null,
   "metadata": {},
   "outputs": [],
   "source": []
  }
 ],
 "metadata": {
  "kernelspec": {
   "display_name": "Python 3",
   "language": "python",
   "name": "python3"
  },
  "language_info": {
   "codemirror_mode": {
    "name": "ipython",
    "version": 3
   },
   "file_extension": ".py",
   "mimetype": "text/x-python",
   "name": "python",
   "nbconvert_exporter": "python",
   "pygments_lexer": "ipython3",
   "version": "3.6.5"
  }
 },
 "nbformat": 4,
 "nbformat_minor": 2
}
