{
 "cells": [
  {
   "cell_type": "markdown",
   "metadata": {},
   "source": [
    "# Applying Filtering, Ordering and Grouping to Queries"
   ]
  },
  {
   "cell_type": "markdown",
   "metadata": {},
   "source": [
    "### Connecting to a PostgreSQL DB on AWS"
   ]
  },
  {
   "cell_type": "code",
   "execution_count": 18,
   "metadata": {},
   "outputs": [],
   "source": [
    "dialect_driver = 'postgresql+psycopg2://'\n",
    "user_pass = 'student:datacamp'\n",
    "host = '@postgresql.csrrinzqubik.us-east-1.rds.amazonaws.com'\n",
    "port = ':5432/census'"
   ]
  },
  {
   "cell_type": "code",
   "execution_count": 19,
   "metadata": {},
   "outputs": [],
   "source": [
    "from sqlalchemy import create_engine\n",
    "from sqlalchemy import select\n",
    "from sqlalchemy import MetaData, Table"
   ]
  },
  {
   "cell_type": "code",
   "execution_count": 54,
   "metadata": {},
   "outputs": [],
   "source": [
    "# engine = create_engine(dialect_driver+user_pass+host+port)\n",
    "# Using local db for connection\n",
    "engine = create_engine('sqlite:///census.sqlite')"
   ]
  },
  {
   "cell_type": "code",
   "execution_count": 40,
   "metadata": {},
   "outputs": [
    {
     "data": {
      "text/plain": [
       "['census', 'state_fact']"
      ]
     },
     "execution_count": 40,
     "metadata": {},
     "output_type": "execute_result"
    }
   ],
   "source": [
    "engine.table_names()"
   ]
  },
  {
   "cell_type": "markdown",
   "metadata": {},
   "source": [
    "### Filter data selected from a Table"
   ]
  },
  {
   "cell_type": "code",
   "execution_count": 41,
   "metadata": {},
   "outputs": [],
   "source": [
    "metadata = MetaData()\n",
    "census = Table('census', metadata, autoload=True, autoload_with=engine)\n",
    "connection = engine.connect()"
   ]
  },
  {
   "cell_type": "code",
   "execution_count": 42,
   "metadata": {},
   "outputs": [],
   "source": [
    "stmt = select([census])"
   ]
  },
  {
   "cell_type": "code",
   "execution_count": 43,
   "metadata": {},
   "outputs": [],
   "source": [
    "stmt = stmt.where(census.columns.state == 'New York')"
   ]
  },
  {
   "cell_type": "code",
   "execution_count": 45,
   "metadata": {},
   "outputs": [
    {
     "data": {
      "text/plain": [
       "[('New York', 'M', 0, 126237, 128088),\n",
       " ('New York', 'M', 1, 124008, 125649),\n",
       " ('New York', 'M', 2, 124725, 121615),\n",
       " ('New York', 'M', 3, 126697, 120580),\n",
       " ('New York', 'M', 4, 131357, 122482)]"
      ]
     },
     "execution_count": 45,
     "metadata": {},
     "output_type": "execute_result"
    }
   ],
   "source": [
    "results = connection.execute(stmt).fetchall()\n",
    "results[:5]"
   ]
  },
  {
   "cell_type": "markdown",
   "metadata": {},
   "source": [
    "### Filter data selected from a Table - Expressions"
   ]
  },
  {
   "cell_type": "code",
   "execution_count": 46,
   "metadata": {},
   "outputs": [],
   "source": [
    "stmt = select([census])"
   ]
  },
  {
   "cell_type": "code",
   "execution_count": 47,
   "metadata": {},
   "outputs": [],
   "source": [
    "states = ['New York', 'California', 'Texas']"
   ]
  },
  {
   "cell_type": "code",
   "execution_count": 48,
   "metadata": {},
   "outputs": [],
   "source": [
    "stmt = stmt.where(census.columns.state.in_(states))"
   ]
  },
  {
   "cell_type": "code",
   "execution_count": 49,
   "metadata": {},
   "outputs": [
    {
     "name": "stdout",
     "output_type": "stream",
     "text": [
      "New York 126237\n",
      "New York 124008\n",
      "New York 124725\n",
      "New York 126697\n",
      "New York 131357\n",
      "New York 133095\n",
      "New York 134203\n",
      "New York 137986\n",
      "New York 139455\n",
      "New York 142454\n",
      "New York 145621\n",
      "New York 138746\n",
      "New York 135565\n",
      "New York 132288\n",
      "New York 132388\n",
      "New York 131959\n",
      "New York 130189\n",
      "New York 132566\n",
      "New York 132672\n",
      "New York 133654\n",
      "New York 132121\n",
      "New York 126166\n",
      "New York 123215\n",
      "New York 121282\n",
      "New York 118953\n",
      "New York 123151\n",
      "New York 118727\n",
      "New York 122359\n",
      "New York 128651\n",
      "New York 140687\n",
      "New York 149558\n",
      "New York 139477\n",
      "New York 138911\n",
      "New York 139031\n",
      "New York 145440\n",
      "New York 156168\n",
      "New York 153840\n",
      "New York 152078\n",
      "New York 150765\n",
      "New York 152606\n",
      "New York 159345\n",
      "New York 148628\n",
      "New York 147892\n",
      "New York 144195\n",
      "New York 139354\n",
      "New York 141953\n",
      "New York 131875\n",
      "New York 128767\n",
      "New York 125406\n",
      "New York 124155\n",
      "New York 125955\n",
      "New York 118542\n",
      "New York 118532\n",
      "New York 124418\n",
      "New York 95025\n",
      "New York 92652\n",
      "New York 90096\n",
      "New York 95340\n",
      "New York 83273\n",
      "New York 77213\n",
      "New York 77054\n",
      "New York 72212\n",
      "New York 70967\n",
      "New York 66461\n",
      "New York 64361\n",
      "New York 64385\n",
      "New York 58819\n",
      "New York 58176\n",
      "New York 57310\n",
      "New York 57057\n",
      "New York 57761\n",
      "New York 53775\n",
      "New York 53568\n",
      "New York 51263\n",
      "New York 48440\n",
      "New York 46702\n",
      "New York 43508\n",
      "New York 40730\n",
      "New York 37950\n",
      "New York 35774\n",
      "New York 32453\n",
      "New York 26803\n",
      "California 252494\n",
      "California 247978\n",
      "California 250644\n",
      "California 257443\n",
      "California 266855\n",
      "California 272801\n",
      "California 274899\n",
      "California 277580\n",
      "California 283553\n",
      "California 285478\n",
      "California 284518\n",
      "California 269009\n",
      "California 262671\n",
      "California 254889\n",
      "California 253023\n",
      "California 251962\n",
      "California 249220\n",
      "California 255482\n",
      "California 252607\n",
      "California 248356\n",
      "California 250156\n",
      "California 238235\n",
      "California 235718\n",
      "California 239698\n",
      "California 240655\n",
      "California 250964\n",
      "California 245324\n",
      "California 251413\n",
      "California 260869\n",
      "California 276142\n",
      "California 293816\n",
      "California 273159\n",
      "California 268484\n",
      "California 263472\n",
      "California 269607\n",
      "California 286895\n",
      "California 284414\n",
      "California 280861\n",
      "California 281214\n",
      "California 278802\n",
      "California 290332\n",
      "California 267684\n",
      "California 268045\n",
      "California 261885\n",
      "California 252175\n",
      "California 255340\n",
      "California 239126\n",
      "California 229057\n",
      "California 219293\n",
      "California 214700\n",
      "California 219017\n",
      "California 203068\n",
      "California 200466\n",
      "California 207237\n",
      "California 160674\n",
      "California 158483\n",
      "California 150235\n",
      "California 150046\n",
      "California 133017\n",
      "California 124106\n",
      "California 121984\n",
      "California 114331\n",
      "California 110491\n",
      "California 102859\n",
      "California 99345\n",
      "California 100052\n",
      "California 91053\n",
      "California 89634\n",
      "California 88258\n",
      "California 87840\n",
      "California 88575\n",
      "California 80843\n",
      "California 79376\n",
      "California 76365\n",
      "California 73697\n",
      "California 72885\n",
      "California 69738\n",
      "California 65865\n",
      "California 62867\n",
      "California 58012\n",
      "California 51806\n",
      "California 43254\n",
      "California 40083\n",
      "California 34144\n",
      "California 30384\n",
      "California 136442\n",
      "California 239605\n",
      "California 236543\n",
      "California 240010\n",
      "California 245739\n",
      "California 254522\n",
      "California 260264\n",
      "California 261296\n",
      "California 264083\n",
      "California 270447\n",
      "California 271482\n",
      "California 270567\n",
      "California 256656\n",
      "California 249887\n",
      "California 242724\n",
      "California 240752\n",
      "California 240170\n",
      "California 233186\n",
      "California 235767\n",
      "California 234949\n",
      "California 233477\n",
      "California 233532\n",
      "California 223990\n",
      "California 222035\n",
      "California 227742\n",
      "California 228401\n",
      "California 238602\n",
      "California 233133\n",
      "California 240008\n",
      "California 249185\n",
      "California 266010\n",
      "California 278894\n",
      "California 260916\n",
      "California 256168\n",
      "California 252784\n",
      "California 256283\n",
      "California 276234\n",
      "California 277592\n",
      "California 276277\n",
      "California 275129\n",
      "California 276094\n",
      "California 283554\n",
      "California 265614\n",
      "California 265895\n",
      "California 263355\n",
      "California 255016\n",
      "California 256779\n",
      "California 244172\n",
      "California 236211\n",
      "California 226391\n",
      "California 221928\n",
      "California 225414\n",
      "California 212545\n",
      "California 208500\n",
      "California 215228\n",
      "California 168388\n",
      "California 166675\n",
      "California 158368\n",
      "California 160423\n",
      "California 142287\n",
      "California 133235\n",
      "California 132033\n",
      "California 123328\n",
      "California 120982\n",
      "California 114959\n",
      "California 111942\n",
      "California 113547\n",
      "California 104910\n",
      "California 103883\n",
      "California 102061\n",
      "California 103181\n",
      "California 106514\n",
      "California 99453\n",
      "California 100574\n",
      "California 99772\n",
      "California 99390\n",
      "California 99277\n",
      "California 95046\n",
      "California 90193\n",
      "California 86911\n",
      "California 81990\n",
      "California 75849\n",
      "California 65410\n",
      "California 61518\n",
      "California 54748\n",
      "California 50746\n",
      "California 294583\n",
      "New York 25041\n",
      "New York 21687\n",
      "New York 18873\n",
      "New York 88366\n",
      "New York 120355\n",
      "New York 118219\n",
      "New York 119577\n",
      "New York 121029\n",
      "New York 125247\n",
      "New York 128227\n",
      "New York 128428\n",
      "New York 131161\n",
      "New York 133646\n",
      "New York 135746\n",
      "New York 138287\n",
      "New York 131904\n",
      "New York 129028\n",
      "New York 126571\n",
      "New York 125682\n",
      "New York 125409\n",
      "New York 122770\n",
      "New York 123978\n",
      "New York 125307\n",
      "New York 127956\n",
      "New York 129184\n",
      "New York 124575\n",
      "New York 123701\n",
      "New York 124108\n",
      "New York 122624\n",
      "New York 127474\n",
      "New York 123033\n",
      "New York 128125\n",
      "New York 134795\n",
      "New York 146832\n",
      "New York 152973\n",
      "New York 144001\n",
      "New York 143930\n",
      "New York 144653\n",
      "New York 151147\n",
      "New York 159228\n",
      "New York 159999\n",
      "New York 157911\n",
      "New York 156103\n",
      "New York 159284\n",
      "New York 163331\n",
      "New York 155353\n",
      "New York 153688\n",
      "New York 151615\n",
      "New York 146774\n",
      "New York 148318\n",
      "New York 139802\n",
      "New York 138062\n",
      "New York 134107\n",
      "New York 134399\n",
      "New York 136630\n",
      "New York 130843\n",
      "New York 130196\n",
      "New York 136064\n",
      "New York 106579\n",
      "New York 104847\n",
      "New York 101857\n",
      "New York 108406\n",
      "New York 94346\n",
      "New York 88584\n",
      "New York 88932\n",
      "New York 82899\n",
      "New York 82172\n",
      "New York 77171\n",
      "New York 76032\n",
      "New York 76498\n",
      "New York 70465\n",
      "New York 71088\n",
      "New York 70847\n",
      "New York 71377\n",
      "New York 74378\n",
      "New York 70611\n",
      "New York 70513\n",
      "New York 69156\n",
      "New York 68042\n",
      "New York 68410\n",
      "New York 64971\n",
      "New York 61287\n",
      "New York 58911\n",
      "New York 56865\n",
      "New York 54553\n",
      "New York 46381\n",
      "New York 45599\n",
      "New York 40525\n",
      "New York 37436\n",
      "New York 226378\n",
      "Texas 172223\n",
      "Texas 165635\n",
      "Texas 165337\n",
      "Texas 164292\n",
      "Texas 165785\n",
      "Texas 166278\n",
      "Texas 167170\n",
      "Texas 169210\n",
      "Texas 171199\n",
      "Texas 170521\n",
      "Texas 173734\n",
      "Texas 167859\n",
      "Texas 166474\n",
      "Texas 166014\n",
      "Texas 166081\n",
      "Texas 167257\n",
      "Texas 165881\n",
      "Texas 171567\n",
      "Texas 170011\n",
      "Texas 164671\n",
      "Texas 163295\n",
      "Texas 153946\n",
      "Texas 150839\n",
      "Texas 152673\n",
      "Texas 153769\n",
      "Texas 156739\n",
      "Texas 153181\n",
      "Texas 155480\n",
      "Texas 161048\n",
      "Texas 165852\n",
      "Texas 167982\n",
      "Texas 158505\n",
      "Texas 153855\n",
      "Texas 151149\n",
      "Texas 155095\n",
      "Texas 164514\n",
      "Texas 167136\n",
      "Texas 168668\n",
      "Texas 167261\n",
      "Texas 169195\n",
      "Texas 173212\n",
      "Texas 164647\n",
      "Texas 163690\n",
      "Texas 161774\n",
      "Texas 154542\n",
      "Texas 154603\n",
      "Texas 145891\n",
      "Texas 141254\n",
      "Texas 133710\n",
      "Texas 129998\n",
      "Texas 128278\n",
      "Texas 123298\n",
      "Texas 120815\n",
      "Texas 126031\n",
      "Texas 95701\n",
      "Texas 95537\n",
      "Texas 93337\n",
      "Texas 91482\n",
      "Texas 82603\n",
      "Texas 76614\n",
      "Texas 73441\n",
      "Texas 69422\n",
      "Texas 67820\n",
      "Texas 63502\n",
      "Texas 62593\n",
      "Texas 62994\n",
      "Texas 57324\n",
      "Texas 55581\n",
      "Texas 54657\n",
      "Texas 53235\n",
      "Texas 52902\n",
      "Texas 49046\n",
      "Texas 46608\n",
      "Texas 44784\n",
      "Texas 42390\n",
      "Texas 40487\n",
      "Texas 37785\n",
      "Texas 35332\n",
      "Texas 33199\n",
      "Texas 29635\n",
      "Texas 27357\n",
      "Texas 21864\n",
      "Texas 20249\n",
      "Texas 16946\n",
      "Texas 15033\n",
      "Texas 69392\n",
      "Texas 164724\n",
      "Texas 158669\n",
      "Texas 157386\n",
      "Texas 157374\n",
      "Texas 158236\n",
      "Texas 158722\n",
      "Texas 160506\n",
      "Texas 162126\n",
      "Texas 163788\n",
      "Texas 163500\n",
      "Texas 165717\n",
      "Texas 160176\n",
      "Texas 159167\n",
      "Texas 158693\n",
      "Texas 158580\n",
      "Texas 159654\n",
      "Texas 155841\n",
      "Texas 158372\n",
      "Texas 156767\n",
      "Texas 156778\n",
      "Texas 156625\n",
      "Texas 147729\n",
      "Texas 144433\n",
      "Texas 147865\n",
      "Texas 146961\n",
      "Texas 151098\n",
      "Texas 148823\n",
      "Texas 151810\n",
      "Texas 158452\n",
      "Texas 165252\n",
      "Texas 164600\n",
      "Texas 155658\n",
      "Texas 150518\n",
      "Texas 148996\n",
      "Texas 152593\n",
      "Texas 163350\n",
      "Texas 167597\n",
      "Texas 168463\n",
      "Texas 168421\n",
      "Texas 169355\n",
      "Texas 171412\n",
      "Texas 164244\n",
      "Texas 163809\n",
      "Texas 162822\n",
      "Texas 155226\n",
      "Texas 155427\n",
      "Texas 149105\n",
      "Texas 144081\n",
      "Texas 136873\n",
      "Texas 133610\n",
      "Texas 133121\n",
      "Texas 127211\n",
      "Texas 125058\n",
      "Texas 129694\n",
      "Texas 99379\n",
      "Texas 100403\n",
      "Texas 97778\n",
      "Texas 95755\n",
      "Texas 87189\n",
      "Texas 82764\n",
      "Texas 79048\n",
      "Texas 75160\n",
      "Texas 74358\n",
      "Texas 70332\n",
      "Texas 70089\n",
      "Texas 71266\n",
      "Texas 65074\n",
      "Texas 64383\n",
      "Texas 63639\n",
      "Texas 62713\n",
      "Texas 64996\n",
      "Texas 59894\n",
      "Texas 58527\n",
      "Texas 57708\n",
      "Texas 56446\n",
      "Texas 55989\n",
      "Texas 52656\n",
      "Texas 48993\n",
      "Texas 47681\n",
      "Texas 44609\n",
      "Texas 42132\n",
      "Texas 35378\n",
      "Texas 33852\n",
      "Texas 30076\n",
      "Texas 27961\n",
      "Texas 171538\n"
     ]
    }
   ],
   "source": [
    "for result in connection.execute(stmt):\n",
    "     print(result.state, result.pop2000)"
   ]
  },
  {
   "cell_type": "markdown",
   "metadata": {},
   "source": [
    "### Filter data selected from a Table"
   ]
  },
  {
   "cell_type": "code",
   "execution_count": 50,
   "metadata": {},
   "outputs": [],
   "source": [
    "from sqlalchemy import and_"
   ]
  },
  {
   "cell_type": "code",
   "execution_count": 51,
   "metadata": {},
   "outputs": [],
   "source": [
    "stmt = select([census])"
   ]
  },
  {
   "cell_type": "code",
   "execution_count": 52,
   "metadata": {},
   "outputs": [],
   "source": [
    "stmt = stmt.where(\n",
    "    and_(census.columns.state == 'California',\n",
    "         census.columns.sex != 'M'\n",
    "         )\n",
    ")"
   ]
  },
  {
   "cell_type": "code",
   "execution_count": 53,
   "metadata": {},
   "outputs": [
    {
     "name": "stdout",
     "output_type": "stream",
     "text": [
      "0 F\n",
      "1 F\n",
      "2 F\n",
      "3 F\n",
      "4 F\n",
      "5 F\n",
      "6 F\n",
      "7 F\n",
      "8 F\n",
      "9 F\n",
      "10 F\n",
      "11 F\n",
      "12 F\n",
      "13 F\n",
      "14 F\n",
      "15 F\n",
      "16 F\n",
      "17 F\n",
      "18 F\n",
      "19 F\n",
      "20 F\n",
      "21 F\n",
      "22 F\n",
      "23 F\n",
      "24 F\n",
      "25 F\n",
      "26 F\n",
      "27 F\n",
      "28 F\n",
      "29 F\n",
      "30 F\n",
      "31 F\n",
      "32 F\n",
      "33 F\n",
      "34 F\n",
      "35 F\n",
      "36 F\n",
      "37 F\n",
      "38 F\n",
      "39 F\n",
      "40 F\n",
      "41 F\n",
      "42 F\n",
      "43 F\n",
      "44 F\n",
      "45 F\n",
      "46 F\n",
      "47 F\n",
      "48 F\n",
      "49 F\n",
      "50 F\n",
      "51 F\n",
      "52 F\n",
      "53 F\n",
      "54 F\n",
      "55 F\n",
      "56 F\n",
      "57 F\n",
      "58 F\n",
      "59 F\n",
      "60 F\n",
      "61 F\n",
      "62 F\n",
      "63 F\n",
      "64 F\n",
      "65 F\n",
      "66 F\n",
      "67 F\n",
      "68 F\n",
      "69 F\n",
      "70 F\n",
      "71 F\n",
      "72 F\n",
      "73 F\n",
      "74 F\n",
      "75 F\n",
      "76 F\n",
      "77 F\n",
      "78 F\n",
      "79 F\n",
      "80 F\n",
      "81 F\n",
      "82 F\n",
      "83 F\n",
      "84 F\n",
      "85 F\n"
     ]
    }
   ],
   "source": [
    "for result in connection.execute(stmt):\n",
    "     print(result.age, result.sex)"
   ]
  },
  {
   "cell_type": "markdown",
   "metadata": {},
   "source": [
    "### Ordering by a Single Column"
   ]
  },
  {
   "cell_type": "code",
   "execution_count": 55,
   "metadata": {},
   "outputs": [],
   "source": [
    "stmt = select([census.columns.state])"
   ]
  },
  {
   "cell_type": "code",
   "execution_count": 57,
   "metadata": {},
   "outputs": [],
   "source": [
    "stmt = stmt.order_by(census.columns.state)"
   ]
  },
  {
   "cell_type": "code",
   "execution_count": 58,
   "metadata": {},
   "outputs": [],
   "source": [
    "results = connection.execute(stmt).fetchall()"
   ]
  },
  {
   "cell_type": "code",
   "execution_count": 59,
   "metadata": {},
   "outputs": [
    {
     "data": {
      "text/plain": [
       "[('Alabama',), ('Alabama',), ('Alabama',), ('Alabama',), ('Alabama',)]"
      ]
     },
     "execution_count": 59,
     "metadata": {},
     "output_type": "execute_result"
    }
   ],
   "source": [
    "results[:5]"
   ]
  },
  {
   "cell_type": "markdown",
   "metadata": {},
   "source": [
    "### Ordering in Descending Order by a Single Column"
   ]
  },
  {
   "cell_type": "code",
   "execution_count": 60,
   "metadata": {},
   "outputs": [],
   "source": [
    "from sqlalchemy import desc"
   ]
  },
  {
   "cell_type": "code",
   "execution_count": 61,
   "metadata": {},
   "outputs": [],
   "source": [
    "stmt = select([census])\n",
    "rev_stmt = stmt.order_by(desc(census.columns.state))"
   ]
  },
  {
   "cell_type": "code",
   "execution_count": 62,
   "metadata": {},
   "outputs": [
    {
     "data": {
      "text/plain": [
       "[('Wyoming', 'M', 0, 3236, 4066),\n",
       " ('Wyoming', 'M', 1, 3245, 4159),\n",
       " ('Wyoming', 'M', 2, 3102, 4058),\n",
       " ('Wyoming', 'M', 3, 3103, 3745),\n",
       " ('Wyoming', 'M', 4, 3166, 3633),\n",
       " ('Wyoming', 'M', 5, 3157, 3647),\n",
       " ('Wyoming', 'M', 6, 3421, 3667),\n",
       " ('Wyoming', 'M', 7, 3503, 3498),\n",
       " ('Wyoming', 'M', 8, 3577, 3479),\n",
       " ('Wyoming', 'M', 9, 3744, 3512)]"
      ]
     },
     "execution_count": 62,
     "metadata": {},
     "output_type": "execute_result"
    }
   ],
   "source": [
    "rev_results = connection.execute(rev_stmt).fetchall()\n",
    "rev_results[:10]"
   ]
  },
  {
   "cell_type": "markdown",
   "metadata": {},
   "source": [
    "### Ordering by Multiple Columns"
   ]
  },
  {
   "cell_type": "code",
   "execution_count": 64,
   "metadata": {},
   "outputs": [
    {
     "data": {
      "text/plain": [
       "[('Alabama', 85),\n",
       " ('Alabama', 85),\n",
       " ('Alabama', 84),\n",
       " ('Alabama', 84),\n",
       " ('Alabama', 83),\n",
       " ('Alabama', 83),\n",
       " ('Alabama', 82),\n",
       " ('Alabama', 82),\n",
       " ('Alabama', 81),\n",
       " ('Alabama', 81),\n",
       " ('Alabama', 80),\n",
       " ('Alabama', 80),\n",
       " ('Alabama', 79),\n",
       " ('Alabama', 79),\n",
       " ('Alabama', 78),\n",
       " ('Alabama', 78),\n",
       " ('Alabama', 77),\n",
       " ('Alabama', 77),\n",
       " ('Alabama', 76),\n",
       " ('Alabama', 76)]"
      ]
     },
     "execution_count": 64,
     "metadata": {},
     "output_type": "execute_result"
    }
   ],
   "source": [
    "stmt = select([census.columns.state, census.columns.age])\n",
    "stmt = stmt.order_by(census.columns.state, desc(census.columns.age))\n",
    "results = connection.execute(stmt).fetchall()\n",
    "results[:20]"
   ]
  },
  {
   "cell_type": "markdown",
   "metadata": {},
   "source": [
    "### Counting Distinct Data"
   ]
  },
  {
   "cell_type": "code",
   "execution_count": 65,
   "metadata": {},
   "outputs": [],
   "source": [
    "from sqlalchemy import func"
   ]
  },
  {
   "cell_type": "code",
   "execution_count": 66,
   "metadata": {},
   "outputs": [
    {
     "data": {
      "text/plain": [
       "51"
      ]
     },
     "execution_count": 66,
     "metadata": {},
     "output_type": "execute_result"
    }
   ],
   "source": [
    "stmt = select([func.count(census.columns.state.distinct())])\n",
    "distinct_state_count = connection.execute(stmt).scalar()\n",
    "distinct_state_count"
   ]
  },
  {
   "cell_type": "markdown",
   "metadata": {},
   "source": [
    "### Count of Records by State"
   ]
  },
  {
   "cell_type": "code",
   "execution_count": 67,
   "metadata": {},
   "outputs": [],
   "source": [
    "stmt = select([census.columns.state, func.count(census.columns.age)])\n",
    "stmt = stmt.group_by(census.columns.state)"
   ]
  },
  {
   "cell_type": "code",
   "execution_count": 68,
   "metadata": {},
   "outputs": [],
   "source": [
    "results = connection.execute(stmt).fetchall()"
   ]
  },
  {
   "cell_type": "code",
   "execution_count": 69,
   "metadata": {},
   "outputs": [
    {
     "data": {
      "text/plain": [
       "[('Alabama', 172),\n",
       " ('Alaska', 172),\n",
       " ('Arizona', 172),\n",
       " ('Arkansas', 172),\n",
       " ('California', 172)]"
      ]
     },
     "execution_count": 69,
     "metadata": {},
     "output_type": "execute_result"
    }
   ],
   "source": [
    "results[:5]"
   ]
  },
  {
   "cell_type": "code",
   "execution_count": 70,
   "metadata": {},
   "outputs": [
    {
     "data": {
      "text/plain": [
       "['state', 'count_1']"
      ]
     },
     "execution_count": 70,
     "metadata": {},
     "output_type": "execute_result"
    }
   ],
   "source": [
    "results[0].keys()"
   ]
  },
  {
   "cell_type": "markdown",
   "metadata": {},
   "source": [
    "### Determining the Population Sum by State"
   ]
  },
  {
   "cell_type": "code",
   "execution_count": 71,
   "metadata": {},
   "outputs": [
    {
     "data": {
      "text/plain": [
       "[('Alabama', 4649367),\n",
       " ('Alaska', 664546),\n",
       " ('Arizona', 6480767),\n",
       " ('Arkansas', 2848432),\n",
       " ('California', 36609002)]"
      ]
     },
     "execution_count": 71,
     "metadata": {},
     "output_type": "execute_result"
    }
   ],
   "source": [
    "pop2008_sum = func.sum(census.columns.pop2008).label('population')\n",
    "stmt = select([census.columns.state, pop2008_sum])\n",
    "stmt = stmt.group_by(census.columns.state)\n",
    "results = connection.execute(stmt).fetchall()\n",
    "results[:5]"
   ]
  },
  {
   "cell_type": "code",
   "execution_count": 72,
   "metadata": {},
   "outputs": [
    {
     "data": {
      "text/plain": [
       "['state', 'population']"
      ]
     },
     "execution_count": 72,
     "metadata": {},
     "output_type": "execute_result"
    }
   ],
   "source": [
    "results[0].keys()"
   ]
  },
  {
   "cell_type": "markdown",
   "metadata": {},
   "source": [
    "### SQLAlchemy ResultsProxy and Pandas Dataframes"
   ]
  },
  {
   "cell_type": "code",
   "execution_count": 73,
   "metadata": {},
   "outputs": [],
   "source": [
    "import pandas as pd"
   ]
  },
  {
   "cell_type": "code",
   "execution_count": 89,
   "metadata": {},
   "outputs": [],
   "source": [
    "df = pd.DataFrame(results)\n",
    "df.columns = results[0].keys()\n",
    "df = df.sort_values('population', ascending=False).set_index('state')"
   ]
  },
  {
   "cell_type": "code",
   "execution_count": 90,
   "metadata": {},
   "outputs": [
    {
     "data": {
      "text/html": [
       "<div>\n",
       "<style scoped>\n",
       "    .dataframe tbody tr th:only-of-type {\n",
       "        vertical-align: middle;\n",
       "    }\n",
       "\n",
       "    .dataframe tbody tr th {\n",
       "        vertical-align: top;\n",
       "    }\n",
       "\n",
       "    .dataframe thead th {\n",
       "        text-align: right;\n",
       "    }\n",
       "</style>\n",
       "<table border=\"1\" class=\"dataframe\">\n",
       "  <thead>\n",
       "    <tr style=\"text-align: right;\">\n",
       "      <th></th>\n",
       "      <th>population</th>\n",
       "    </tr>\n",
       "    <tr>\n",
       "      <th>state</th>\n",
       "      <th></th>\n",
       "    </tr>\n",
       "  </thead>\n",
       "  <tbody>\n",
       "    <tr>\n",
       "      <th>California</th>\n",
       "      <td>36609002</td>\n",
       "    </tr>\n",
       "    <tr>\n",
       "      <th>Texas</th>\n",
       "      <td>24214127</td>\n",
       "    </tr>\n",
       "    <tr>\n",
       "      <th>New York</th>\n",
       "      <td>19465159</td>\n",
       "    </tr>\n",
       "    <tr>\n",
       "      <th>Florida</th>\n",
       "      <td>18257662</td>\n",
       "    </tr>\n",
       "    <tr>\n",
       "      <th>Illinois</th>\n",
       "      <td>12867077</td>\n",
       "    </tr>\n",
       "  </tbody>\n",
       "</table>\n",
       "</div>"
      ],
      "text/plain": [
       "            population\n",
       "state                 \n",
       "California    36609002\n",
       "Texas         24214127\n",
       "New York      19465159\n",
       "Florida       18257662\n",
       "Illinois      12867077"
      ]
     },
     "execution_count": 90,
     "metadata": {},
     "output_type": "execute_result"
    }
   ],
   "source": [
    "df.head()"
   ]
  },
  {
   "cell_type": "markdown",
   "metadata": {},
   "source": [
    "### From SQLAlchemy results to a Graph"
   ]
  },
  {
   "cell_type": "code",
   "execution_count": 76,
   "metadata": {},
   "outputs": [],
   "source": [
    "import matplotlib.pyplot as plt"
   ]
  },
  {
   "cell_type": "code",
   "execution_count": 91,
   "metadata": {},
   "outputs": [
    {
     "data": {
      "image/png": "[encoded data removed]",
      "text/plain": [
       "<Figure size 432x288 with 1 Axes>"
      ]
     },
     "metadata": {},
     "output_type": "display_data"
    }
   ],
   "source": [
    "df.plot.bar()\n",
    "plt.show()"
   ]
  },
  {
   "cell_type": "code",
   "execution_count": null,
   "metadata": {},
   "outputs": [],
   "source": []
  }
 ],
 "metadata": {
  "kernelspec": {
   "display_name": "Python 3",
   "language": "python",
   "name": "python3"
  },
  "language_info": {
   "codemirror_mode": {
    "name": "ipython",
    "version": 3
   },
   "file_extension": ".py",
   "mimetype": "text/x-python",
   "name": "python",
   "nbconvert_exporter": "python",
   "pygments_lexer": "ipython3",
   "version": "3.6.5"
  }
 },
 "nbformat": 4,
 "nbformat_minor": 2
}
