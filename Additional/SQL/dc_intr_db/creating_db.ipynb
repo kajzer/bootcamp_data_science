{
 "cells": [
  {
   "cell_type": "markdown",
   "metadata": {},
   "source": [
    "# Creating and manipulating DB"
   ]
  },
  {
   "cell_type": "markdown",
   "metadata": {},
   "source": [
    "### Creating Tables with SQLAlchemy"
   ]
  },
  {
   "cell_type": "code",
   "execution_count": 1,
   "metadata": {},
   "outputs": [],
   "source": [
    "from sqlalchemy import Table, Column, String, Integer, Float, Boolean\n",
    "from sqlalchemy import create_engine, MetaData"
   ]
  },
  {
   "cell_type": "code",
   "execution_count": 2,
   "metadata": {},
   "outputs": [],
   "source": [
    "engine = create_engine('sqlite:///db_create.sqlite')\n",
    "metadata = MetaData()\n",
    "connection = engine.connect()"
   ]
  },
  {
   "cell_type": "code",
   "execution_count": 3,
   "metadata": {},
   "outputs": [],
   "source": [
    "data = Table('data',metadata,\n",
    "             Column('name', String(255)),\n",
    "             Column('count', Integer()),\n",
    "             Column('amount', Float()),\n",
    "             Column('valid', Boolean())\n",
    "            )"
   ]
  },
  {
   "cell_type": "code",
   "execution_count": 4,
   "metadata": {},
   "outputs": [
    {
     "name": "stdout",
     "output_type": "stream",
     "text": [
      "Table('data', MetaData(bind=None), Column('name', String(length=255), table=<data>), Column('count', Integer(), table=<data>), Column('amount', Float(), table=<data>), Column('valid', Boolean(), table=<data>), schema=None)\n"
     ]
    }
   ],
   "source": [
    "metadata.create_all(engine)\n",
    "print(repr(data))"
   ]
  },
  {
   "cell_type": "markdown",
   "metadata": {},
   "source": [
    "### Constraints and Data Defaults"
   ]
  },
  {
   "cell_type": "code",
   "execution_count": 5,
   "metadata": {},
   "outputs": [],
   "source": [
    "data = Table('data', metadata,\n",
    "             Column('name', String(255), unique=True),\n",
    "             Column('count', Integer(), default=1),\n",
    "             Column('amount', Float()),\n",
    "             Column('valid', Boolean(), default=False),\n",
    "             extend_existing=True\n",
    ")"
   ]
  },
  {
   "cell_type": "code",
   "execution_count": 6,
   "metadata": {},
   "outputs": [
    {
     "data": {
      "text/plain": [
       "\"Table('data', MetaData(bind=None), Column('name', String(length=255), table=<data>), Column('count', Integer(), table=<data>, default=ColumnDefault(1)), Column('amount', Float(), table=<data>), Column('valid', Boolean(), table=<data>, default=ColumnDefault(False)), schema=None)\""
      ]
     },
     "execution_count": 6,
     "metadata": {},
     "output_type": "execute_result"
    }
   ],
   "source": [
    "metadata.create_all(engine)\n",
    "repr(data)"
   ]
  },
  {
   "cell_type": "markdown",
   "metadata": {},
   "source": [
    "### Inserting a single row with an insert() statement"
   ]
  },
  {
   "cell_type": "code",
   "execution_count": 7,
   "metadata": {},
   "outputs": [],
   "source": [
    "from sqlalchemy import insert, select"
   ]
  },
  {
   "cell_type": "code",
   "execution_count": 8,
   "metadata": {},
   "outputs": [],
   "source": [
    "stmt = insert(data).values(\n",
    "    name='Anna',\n",
    "    count=1,\n",
    "    amount=1000.00,\n",
    "    valid=True\n",
    ")"
   ]
  },
  {
   "cell_type": "code",
   "execution_count": 9,
   "metadata": {},
   "outputs": [],
   "source": [
    "results = connection.execute(stmt)"
   ]
  },
  {
   "cell_type": "code",
   "execution_count": 10,
   "metadata": {},
   "outputs": [
    {
     "data": {
      "text/plain": [
       "1"
      ]
     },
     "execution_count": 10,
     "metadata": {},
     "output_type": "execute_result"
    }
   ],
   "source": [
    "results.rowcount"
   ]
  },
  {
   "cell_type": "code",
   "execution_count": 11,
   "metadata": {},
   "outputs": [
    {
     "data": {
      "text/plain": [
       "('Anna', 1, 1000.0, True)"
      ]
     },
     "execution_count": 11,
     "metadata": {},
     "output_type": "execute_result"
    }
   ],
   "source": [
    "stmt = select([data]).where(data.columns.name=='Anna')\n",
    "connection.execute(stmt).first()"
   ]
  },
  {
   "cell_type": "markdown",
   "metadata": {},
   "source": [
    "### Inserting Multiple Records at Once"
   ]
  },
  {
   "cell_type": "code",
   "execution_count": 12,
   "metadata": {},
   "outputs": [],
   "source": [
    "values_list = [\n",
    "    {'name': 'Anna', 'count': 1, 'amount': 900.00, 'valid': True},\n",
    "    {'name': 'Taylor', 'count': 1, 'amount': 750.00, 'valid': False}\n",
    "]"
   ]
  },
  {
   "cell_type": "code",
   "execution_count": 13,
   "metadata": {},
   "outputs": [
    {
     "data": {
      "text/plain": [
       "2"
      ]
     },
     "execution_count": 13,
     "metadata": {},
     "output_type": "execute_result"
    }
   ],
   "source": [
    "stmt = insert(data)\n",
    "results = connection.execute(stmt, values_list)\n",
    "results.rowcount"
   ]
  },
  {
   "cell_type": "code",
   "execution_count": 14,
   "metadata": {},
   "outputs": [
    {
     "data": {
      "text/plain": [
       "[('Anna', 1, 1000.0, True),\n",
       " ('Anna', 1, 900.0, True),\n",
       " ('Taylor', 1, 750.0, False),\n",
       " ('Anna', 1, 1000.0, True),\n",
       " ('Anna', 1, 900.0, True),\n",
       " ('Taylor', 1, 750.0, False),\n",
       " ('Anna', 1, 1000.0, True),\n",
       " ('Anna', 1, 900.0, True),\n",
       " ('Taylor', 1, 750.0, False)]"
      ]
     },
     "execution_count": 14,
     "metadata": {},
     "output_type": "execute_result"
    }
   ],
   "source": [
    "stmt = select([data])\n",
    "connection.execute(stmt).fetchall()"
   ]
  },
  {
   "cell_type": "markdown",
   "metadata": {},
   "source": [
    "### Loading a CSV into a Table"
   ]
  },
  {
   "cell_type": "code",
   "execution_count": 15,
   "metadata": {},
   "outputs": [],
   "source": [
    "engine = create_engine('sqlite:///census_csv.sqlite')\n",
    "metadata = MetaData()\n",
    "connection = engine.connect()"
   ]
  },
  {
   "cell_type": "code",
   "execution_count": 16,
   "metadata": {},
   "outputs": [
    {
     "data": {
      "text/plain": [
       "\"Table('census', MetaData(bind=None), Column('state', String(length=255), table=<census>), Column('sex', String(length=255), table=<census>), Column('age', Integer(), table=<census>), Column('pop2000', Float(), table=<census>), Column('pop2008', Float(), table=<census>), schema=None)\""
      ]
     },
     "execution_count": 16,
     "metadata": {},
     "output_type": "execute_result"
    }
   ],
   "source": [
    "census = Table('census',metadata,\n",
    "             Column('state', String(255)),\n",
    "             Column('sex', String(255)),\n",
    "             Column('age', Integer()),\n",
    "             Column('pop2000', Float()),\n",
    "             Column('pop2008', Float())\n",
    "            )\n",
    "metadata.create_all(engine)\n",
    "repr(census)"
   ]
  },
  {
   "cell_type": "code",
   "execution_count": 17,
   "metadata": {},
   "outputs": [],
   "source": [
    "import csv\n",
    "stmt = insert(census)\n",
    "values_list = []\n",
    "total_rowcount = 0"
   ]
  },
  {
   "cell_type": "code",
   "execution_count": 18,
   "metadata": {},
   "outputs": [],
   "source": [
    "with open('census.csv', newline='') as csvfile:\n",
    "    csv_reader = csv.reader(csvfile, delimiter=',')\n",
    "    for idx, row in enumerate(csv_reader):\n",
    "        data = {\n",
    "            'state': row[0],\n",
    "            'sex': row[1],\n",
    "            'age': row[2],\n",
    "            'pop2000': row[3],\n",
    "            'pop2008': row[4]\n",
    "        }\n",
    "        values_list.append(data)\n",
    "        \n",
    "        if idx % 51 == 0:\n",
    "            results = connection.execute(stmt, values_list)\n",
    "            total_rowcount += results.rowcount\n",
    "            values_list = []"
   ]
  },
  {
   "cell_type": "code",
   "execution_count": 19,
   "metadata": {},
   "outputs": [
    {
     "data": {
      "text/plain": [
       "8722"
      ]
     },
     "execution_count": 19,
     "metadata": {},
     "output_type": "execute_result"
    }
   ],
   "source": [
    "total_rowcount"
   ]
  },
  {
   "cell_type": "markdown",
   "metadata": {},
   "source": [
    "### Updating individual records"
   ]
  },
  {
   "cell_type": "code",
   "execution_count": 20,
   "metadata": {},
   "outputs": [],
   "source": [
    "from sqlalchemy import update"
   ]
  },
  {
   "cell_type": "code",
   "execution_count": 21,
   "metadata": {},
   "outputs": [],
   "source": [
    "engine = create_engine('sqlite:///census.sqlite')\n",
    "metadata = MetaData()\n",
    "census = Table('census', metadata, autoload=True, autoload_with=engine)\n",
    "state_fact = Table('state_fact', metadata, autoload=True, autoload_with=engine)\n",
    "connection = engine.connect()"
   ]
  },
  {
   "cell_type": "code",
   "execution_count": 22,
   "metadata": {},
   "outputs": [
    {
     "data": {
      "text/plain": [
       "['census', 'state_fact']"
      ]
     },
     "execution_count": 22,
     "metadata": {},
     "output_type": "execute_result"
    }
   ],
   "source": [
    "engine.table_names()"
   ]
  },
  {
   "cell_type": "code",
   "execution_count": 23,
   "metadata": {},
   "outputs": [
    {
     "data": {
      "text/plain": [
       "[('32', 'New York', 'NY', 'USA', 'state', '10', 'current', 'occupied', '', '36', 'N.Y.', 'II', '1', 'Northeast', '2', 'Mid-Atlantic', '2')]"
      ]
     },
     "execution_count": 23,
     "metadata": {},
     "output_type": "execute_result"
    }
   ],
   "source": [
    "select_stmt = select([state_fact]).where(state_fact.columns.name == 'New York')\n",
    "connection.execute(select_stmt).fetchall()"
   ]
  },
  {
   "cell_type": "code",
   "execution_count": 24,
   "metadata": {},
   "outputs": [],
   "source": [
    "stmt = update(state_fact).values(fips_state = 36)"
   ]
  },
  {
   "cell_type": "code",
   "execution_count": 25,
   "metadata": {},
   "outputs": [
    {
     "data": {
      "text/plain": [
       "1"
      ]
     },
     "execution_count": 25,
     "metadata": {},
     "output_type": "execute_result"
    }
   ],
   "source": [
    "stmt = stmt.where(state_fact.columns.name == 'New York')\n",
    "results = connection.execute(stmt)\n",
    "results.rowcount"
   ]
  },
  {
   "cell_type": "code",
   "execution_count": 26,
   "metadata": {},
   "outputs": [
    {
     "data": {
      "text/plain": [
       "[('32', 'New York', 'NY', 'USA', 'state', '10', 'current', 'occupied', '', '36', 'N.Y.', 'II', '1', 'Northeast', '2', 'Mid-Atlantic', '2')]"
      ]
     },
     "execution_count": 26,
     "metadata": {},
     "output_type": "execute_result"
    }
   ],
   "source": [
    "connection.execute(select_stmt).fetchall()"
   ]
  },
  {
   "cell_type": "markdown",
   "metadata": {},
   "source": [
    "### Updating Multiple Records"
   ]
  },
  {
   "cell_type": "code",
   "execution_count": 27,
   "metadata": {},
   "outputs": [],
   "source": [
    "stmt = update(state_fact).values(notes='The Wild West')\n",
    "stmt = stmt.where(state_fact.columns.census_region_name == 'West')"
   ]
  },
  {
   "cell_type": "code",
   "execution_count": 28,
   "metadata": {},
   "outputs": [
    {
     "data": {
      "text/plain": [
       "13"
      ]
     },
     "execution_count": 28,
     "metadata": {},
     "output_type": "execute_result"
    }
   ],
   "source": [
    "results = connection.execute(stmt)\n",
    "results.rowcount"
   ]
  },
  {
   "cell_type": "markdown",
   "metadata": {},
   "source": [
    "### Correlated Updates"
   ]
  },
  {
   "cell_type": "code",
   "execution_count": 29,
   "metadata": {},
   "outputs": [
    {
     "data": {
      "text/plain": [
       "\"Table('flat_census', MetaData(bind=None), Column('state_name', String(length=255), table=<flat_census>), Column('fips_code', Integer(), table=<flat_census>), schema=None)\""
      ]
     },
     "execution_count": 29,
     "metadata": {},
     "output_type": "execute_result"
    }
   ],
   "source": [
    "flat_census = Table('flat_census',metadata,\n",
    "             Column('state_name', String(255)),\n",
    "             Column('fips_code', Integer())\n",
    "            )\n",
    "metadata.create_all(engine)\n",
    "repr(flat_census)"
   ]
  },
  {
   "cell_type": "code",
   "execution_count": 30,
   "metadata": {},
   "outputs": [
    {
     "data": {
      "text/plain": [
       "['census', 'flat_census', 'state_fact']"
      ]
     },
     "execution_count": 30,
     "metadata": {},
     "output_type": "execute_result"
    }
   ],
   "source": [
    "engine.table_names()"
   ]
  },
  {
   "cell_type": "code",
   "execution_count": 31,
   "metadata": {},
   "outputs": [],
   "source": [
    "flat_census_list = [('Illinois', '17'),\n",
    " ('New Jersey', '34'),\n",
    " ('North Dakota', '38'),\n",
    " ('Oregon', '41'),\n",
    " ('Washington DC', '11'),\n",
    " ('Wisconsin', '55'),\n",
    " ('Arizona', '4'),\n",
    " ('Arkansas', '5'),\n",
    " ('Colorado', '8'),\n",
    " ('Hawaii', '15'),\n",
    " ('Kansas', '20'),\n",
    " ('Louisiana', '22'),\n",
    " ('Montana', '30'),\n",
    " ('Nebraska', '31'),\n",
    " ('Oklahoma', '40'),\n",
    " ('Idaho', '16'),\n",
    " ('Massachusetts', '25'),\n",
    " ('Michigan', '26'),\n",
    " ('Missouri', '29'),\n",
    " ('North Carolina', '37'),\n",
    " ('Ohio', '39'),\n",
    " ('Rhode Island', '44'),\n",
    " ('South Carolina', '45'),\n",
    " ('Wyoming', '56'),\n",
    " ('Indiana', '18'),\n",
    " ('Pennsylvania', '42'),\n",
    " ('South Dakota', '46'),\n",
    " ('Tennessee', '47'),\n",
    " ('Vermont', '50'),\n",
    " ('Alaska', '2'),\n",
    " ('Delaware', '10'),\n",
    " ('Kentucky', '21'),\n",
    " ('Mississippi', '28'),\n",
    " ('Virginia', '51'),\n",
    " ('Florida', '12'),\n",
    " ('Maryland', '24'),\n",
    " ('Nevada', '32'),\n",
    " ('Washington', '53'),\n",
    " ('California', '6'),\n",
    " ('Connecticut', '9'),\n",
    " ('Georgia', '13'),\n",
    " ('Iowa', '19'),\n",
    " ('Maine', '23'),\n",
    " ('New Hampshire', '33'),\n",
    " ('New Mexico', '35'),\n",
    " ('Texas', '48'),\n",
    " ('Alabama', '1'),\n",
    " ('Minnesota', '27'),\n",
    " ('New York', '36'),\n",
    " ('Utah', '49'),\n",
    " ('West Virginia', '54')]"
   ]
  },
  {
   "cell_type": "code",
   "execution_count": 32,
   "metadata": {},
   "outputs": [
    {
     "data": {
      "text/plain": [
       "51"
      ]
     },
     "execution_count": 32,
     "metadata": {},
     "output_type": "execute_result"
    }
   ],
   "source": [
    "stmt = insert(flat_census)\n",
    "values_list = []\n",
    "for row in flat_census_list:\n",
    "    data = {\n",
    "        'state_name': row[0],\n",
    "        'fips_code': row[1]\n",
    "    }\n",
    "    values_list.append(data)\n",
    "\n",
    "results = connection.execute(stmt, values_list)\n",
    "results.rowcount"
   ]
  },
  {
   "cell_type": "code",
   "execution_count": 33,
   "metadata": {},
   "outputs": [],
   "source": [
    "fips_stmt = select([state_fact.columns.name])"
   ]
  },
  {
   "cell_type": "code",
   "execution_count": 34,
   "metadata": {},
   "outputs": [],
   "source": [
    "fips_stmt = fips_stmt.where(\n",
    "    state_fact.columns.fips_state == flat_census.columns.fips_code)"
   ]
  },
  {
   "cell_type": "code",
   "execution_count": 35,
   "metadata": {},
   "outputs": [
    {
     "data": {
      "text/plain": [
       "51"
      ]
     },
     "execution_count": 35,
     "metadata": {},
     "output_type": "execute_result"
    }
   ],
   "source": [
    "update_stmt = update(flat_census).values(state_name=fips_stmt)\n",
    "results = connection.execute(update_stmt)\n",
    "results.rowcount"
   ]
  },
  {
   "cell_type": "markdown",
   "metadata": {},
   "source": [
    "### Deleting all the records from a table"
   ]
  },
  {
   "cell_type": "code",
   "execution_count": 36,
   "metadata": {},
   "outputs": [],
   "source": [
    "from sqlalchemy import delete, func, and_"
   ]
  },
  {
   "cell_type": "code",
   "execution_count": 37,
   "metadata": {},
   "outputs": [],
   "source": [
    "# stmt = delete(census)\n",
    "# results = connection.execute(stmt)"
   ]
  },
  {
   "cell_type": "markdown",
   "metadata": {},
   "source": [
    "### Deleting specific records"
   ]
  },
  {
   "cell_type": "code",
   "execution_count": 38,
   "metadata": {},
   "outputs": [],
   "source": [
    "stmt = select([func.count(census.columns.sex)]).where(and_(\n",
    "            census.columns.sex=='M',\n",
    "            census.columns.age==36)\n",
    "            )"
   ]
  },
  {
   "cell_type": "code",
   "execution_count": 39,
   "metadata": {},
   "outputs": [
    {
     "data": {
      "text/plain": [
       "51"
      ]
     },
     "execution_count": 39,
     "metadata": {},
     "output_type": "execute_result"
    }
   ],
   "source": [
    "connection.execute(stmt).scalar()"
   ]
  },
  {
   "cell_type": "code",
   "execution_count": 40,
   "metadata": {},
   "outputs": [
    {
     "data": {
      "text/plain": [
       "51"
      ]
     },
     "execution_count": 40,
     "metadata": {},
     "output_type": "execute_result"
    }
   ],
   "source": [
    "stmt_del = delete(census)\n",
    "stmt_del = stmt_del.where(\n",
    "            and_(\n",
    "                census.columns.sex == 'M',\n",
    "                census.columns.age == 36))\n",
    "results = connection.execute(stmt_del)\n",
    "results.rowcount"
   ]
  },
  {
   "cell_type": "markdown",
   "metadata": {},
   "source": [
    "### Deleting a Table Completely"
   ]
  },
  {
   "cell_type": "code",
   "execution_count": 41,
   "metadata": {},
   "outputs": [],
   "source": [
    "# state_fact.drop(engine)\n",
    "# print(state_fact.exists(engine))\n",
    "# metadata.drop_all(engine)\n",
    "# print(census.exists(engine))"
   ]
  },
  {
   "cell_type": "code",
   "execution_count": null,
   "metadata": {},
   "outputs": [],
   "source": []
  }
 ],
 "metadata": {
  "kernelspec": {
   "display_name": "Python 3",
   "language": "python",
   "name": "python3"
  },
  "language_info": {
   "codemirror_mode": {
    "name": "ipython",
    "version": 3
   },
   "file_extension": ".py",
   "mimetype": "text/x-python",
   "name": "python",
   "nbconvert_exporter": "python",
   "pygments_lexer": "ipython3",
   "version": "3.6.5"
  }
 },
 "nbformat": 4,
 "nbformat_minor": 2
}
