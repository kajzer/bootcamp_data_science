{
 "cells": [
  {
   "cell_type": "markdown",
   "metadata": {},
   "source": [
    "# SQL Join with postgreSQL and sqlalchemy"
   ]
  },
  {
   "cell_type": "code",
   "execution_count": 54,
   "metadata": {},
   "outputs": [],
   "source": [
    "import psycopg2\n",
    "import sqlalchemy\n",
    "from sqlalchemy import create_engine\n",
    "from sqlalchemy.sql import select\n",
    "import pandas as pd"
   ]
  },
  {
   "cell_type": "markdown",
   "metadata": {},
   "source": [
    "### Create engine"
   ]
  },
  {
   "cell_type": "code",
   "execution_count": 19,
   "metadata": {},
   "outputs": [],
   "source": [
    "con = create_engine('postgresql://postgres@localhost:5432/postgres')"
   ]
  },
  {
   "cell_type": "markdown",
   "metadata": {},
   "source": [
    "### Check tables in db"
   ]
  },
  {
   "cell_type": "code",
   "execution_count": 24,
   "metadata": {},
   "outputs": [
    {
     "data": {
      "text/plain": [
       "['accounts', 'orders', 'region', 'sales_reps', 'web_events']"
      ]
     },
     "execution_count": 24,
     "metadata": {},
     "output_type": "execute_result"
    }
   ],
   "source": [
    "engine.table_names()"
   ]
  },
  {
   "cell_type": "markdown",
   "metadata": {},
   "source": [
    "### Get data from csv and create and seed db with pandas to_sql"
   ]
  },
  {
   "cell_type": "code",
   "execution_count": 21,
   "metadata": {},
   "outputs": [],
   "source": [
    "accounts = pd.read_csv('accounts.csv', sep=';', index_col='id')\n",
    "accounts.to_sql('accounts', con=con, if_exists='replace')"
   ]
  },
  {
   "cell_type": "markdown",
   "metadata": {},
   "source": [
    "### Sanity check - select all records from created table and load to DataFrame"
   ]
  },
  {
   "cell_type": "code",
   "execution_count": 22,
   "metadata": {},
   "outputs": [
    {
     "data": {
      "text/html": [
       "<div>\n",
       "<style scoped>\n",
       "    .dataframe tbody tr th:only-of-type {\n",
       "        vertical-align: middle;\n",
       "    }\n",
       "\n",
       "    .dataframe tbody tr th {\n",
       "        vertical-align: top;\n",
       "    }\n",
       "\n",
       "    .dataframe thead th {\n",
       "        text-align: right;\n",
       "    }\n",
       "</style>\n",
       "<table border=\"1\" class=\"dataframe\">\n",
       "  <thead>\n",
       "    <tr style=\"text-align: right;\">\n",
       "      <th></th>\n",
       "      <th>id</th>\n",
       "      <th>name</th>\n",
       "      <th>website</th>\n",
       "      <th>lat</th>\n",
       "      <th>long</th>\n",
       "      <th>primary_poc</th>\n",
       "      <th>sales_rep_id</th>\n",
       "    </tr>\n",
       "  </thead>\n",
       "  <tbody>\n",
       "    <tr>\n",
       "      <th>0</th>\n",
       "      <td>1001</td>\n",
       "      <td>Walmart</td>\n",
       "      <td>www.walmart.com</td>\n",
       "      <td>40.238496</td>\n",
       "      <td>-75.103297</td>\n",
       "      <td>Tamara Tuma</td>\n",
       "      <td>321500</td>\n",
       "    </tr>\n",
       "    <tr>\n",
       "      <th>1</th>\n",
       "      <td>1011</td>\n",
       "      <td>Exxon Mobil</td>\n",
       "      <td>www.exxonmobil.com</td>\n",
       "      <td>41.169156</td>\n",
       "      <td>-73.849374</td>\n",
       "      <td>Sung Shields</td>\n",
       "      <td>321510</td>\n",
       "    </tr>\n",
       "    <tr>\n",
       "      <th>2</th>\n",
       "      <td>1021</td>\n",
       "      <td>Apple</td>\n",
       "      <td>www.apple.com</td>\n",
       "      <td>42.290495</td>\n",
       "      <td>-76.084009</td>\n",
       "      <td>Jodee Lupo</td>\n",
       "      <td>321520</td>\n",
       "    </tr>\n",
       "    <tr>\n",
       "      <th>3</th>\n",
       "      <td>1031</td>\n",
       "      <td>Berkshire Hathaway</td>\n",
       "      <td>www.berkshirehathaway.com</td>\n",
       "      <td>40.949021</td>\n",
       "      <td>-75.763898</td>\n",
       "      <td>Serafina Banda</td>\n",
       "      <td>321530</td>\n",
       "    </tr>\n",
       "    <tr>\n",
       "      <th>4</th>\n",
       "      <td>1041</td>\n",
       "      <td>McKesson</td>\n",
       "      <td>www.mckesson.com</td>\n",
       "      <td>42.217093</td>\n",
       "      <td>-75.284998</td>\n",
       "      <td>Angeles Crusoe</td>\n",
       "      <td>321540</td>\n",
       "    </tr>\n",
       "  </tbody>\n",
       "</table>\n",
       "</div>"
      ],
      "text/plain": [
       "     id                name                    website        lat       long  \\\n",
       "0  1001             Walmart            www.walmart.com  40.238496 -75.103297   \n",
       "1  1011         Exxon Mobil         www.exxonmobil.com  41.169156 -73.849374   \n",
       "2  1021               Apple              www.apple.com  42.290495 -76.084009   \n",
       "3  1031  Berkshire Hathaway  www.berkshirehathaway.com  40.949021 -75.763898   \n",
       "4  1041            McKesson           www.mckesson.com  42.217093 -75.284998   \n",
       "\n",
       "      primary_poc  sales_rep_id  \n",
       "0     Tamara Tuma        321500  \n",
       "1    Sung Shields        321510  \n",
       "2      Jodee Lupo        321520  \n",
       "3  Serafina Banda        321530  \n",
       "4  Angeles Crusoe        321540  "
      ]
     },
     "execution_count": 22,
     "metadata": {},
     "output_type": "execute_result"
    }
   ],
   "source": [
    "sql_result = pd.read_sql_query(\"SELECT * FROM accounts\", con)\n",
    "sql_result.head()"
   ]
  },
  {
   "cell_type": "markdown",
   "metadata": {},
   "source": [
    "### Load rest of the tables"
   ]
  },
  {
   "cell_type": "code",
   "execution_count": 23,
   "metadata": {},
   "outputs": [],
   "source": [
    "orders = pd.read_csv('orders.csv', sep=';', index_col='id')\n",
    "orders.to_sql('orders', con=con, if_exists='replace')\n",
    "region = pd.read_csv('region.csv', sep=';', index_col='id')\n",
    "region.to_sql('region', con=con, if_exists='replace')\n",
    "sales_reps = pd.read_csv('sales_reps.csv', sep=';', index_col='id')\n",
    "sales_reps.to_sql('sales_reps', con=con, if_exists='replace')\n",
    "web_events = pd.read_csv('web_events.csv', sep=';', index_col='id')\n",
    "web_events.to_sql('web_events', con=con, if_exists='replace')"
   ]
  },
  {
   "cell_type": "markdown",
   "metadata": {},
   "source": [
    "## DB structure\n",
    "![DB structure](db.png)"
   ]
  },
  {
   "cell_type": "markdown",
   "metadata": {},
   "source": [
    "Provide a table that provides the region for each sales_rep along with their associated accounts. This time only for the Midwest region. Your final table should include three columns: the region name, the sales rep name, and the account name. Sort the accounts alphabetically (A-Z) according to account name."
   ]
  },
  {
   "cell_type": "code",
   "execution_count": 28,
   "metadata": {},
   "outputs": [
    {
     "data": {
      "text/html": [
       "<div>\n",
       "<style scoped>\n",
       "    .dataframe tbody tr th:only-of-type {\n",
       "        vertical-align: middle;\n",
       "    }\n",
       "\n",
       "    .dataframe tbody tr th {\n",
       "        vertical-align: top;\n",
       "    }\n",
       "\n",
       "    .dataframe thead th {\n",
       "        text-align: right;\n",
       "    }\n",
       "</style>\n",
       "<table border=\"1\" class=\"dataframe\">\n",
       "  <thead>\n",
       "    <tr style=\"text-align: right;\">\n",
       "      <th></th>\n",
       "      <th>region</th>\n",
       "      <th>rep</th>\n",
       "      <th>account</th>\n",
       "    </tr>\n",
       "  </thead>\n",
       "  <tbody>\n",
       "    <tr>\n",
       "      <th>0</th>\n",
       "      <td>Midwest</td>\n",
       "      <td>Chau Rowles</td>\n",
       "      <td>Abbott Laboratories</td>\n",
       "    </tr>\n",
       "    <tr>\n",
       "      <th>1</th>\n",
       "      <td>Midwest</td>\n",
       "      <td>Julie Starr</td>\n",
       "      <td>AbbVie</td>\n",
       "    </tr>\n",
       "    <tr>\n",
       "      <th>2</th>\n",
       "      <td>Midwest</td>\n",
       "      <td>Cliff Meints</td>\n",
       "      <td>Aflac</td>\n",
       "    </tr>\n",
       "    <tr>\n",
       "      <th>3</th>\n",
       "      <td>Midwest</td>\n",
       "      <td>Chau Rowles</td>\n",
       "      <td>Alcoa</td>\n",
       "    </tr>\n",
       "    <tr>\n",
       "      <th>4</th>\n",
       "      <td>Midwest</td>\n",
       "      <td>Charles Bidwell</td>\n",
       "      <td>Altria Group</td>\n",
       "    </tr>\n",
       "  </tbody>\n",
       "</table>\n",
       "</div>"
      ],
      "text/plain": [
       "    region              rep              account\n",
       "0  Midwest      Chau Rowles  Abbott Laboratories\n",
       "1  Midwest      Julie Starr               AbbVie\n",
       "2  Midwest     Cliff Meints                Aflac\n",
       "3  Midwest      Chau Rowles                Alcoa\n",
       "4  Midwest  Charles Bidwell         Altria Group"
      ]
     },
     "execution_count": 28,
     "metadata": {},
     "output_type": "execute_result"
    }
   ],
   "source": [
    "sql_result = pd.read_sql_query(\"\\\n",
    "SELECT r.name region, s.name rep, a.name account \\\n",
    "FROM sales_reps s \\\n",
    "JOIN region r \\\n",
    "ON s.region_id = r.id \\\n",
    "JOIN accounts a \\\n",
    "ON a.sales_rep_id = s.id \\\n",
    "WHERE r.name = 'Midwest' \\\n",
    "ORDER BY a.name; \\\n",
    "\", con)\n",
    "sql_result.head()"
   ]
  },
  {
   "cell_type": "markdown",
   "metadata": {},
   "source": [
    "Provide a table that provides the region for each sales_rep along with their associated accounts. This time only for accounts where the sales rep has a first name starting with S and in the Midwest region. Your final table should include three columns: the region name, the sales rep name, and the account name. Sort the accounts alphabetically (A-Z) according to account name. "
   ]
  },
  {
   "cell_type": "code",
   "execution_count": 37,
   "metadata": {},
   "outputs": [
    {
     "data": {
      "text/html": [
       "<div>\n",
       "<style scoped>\n",
       "    .dataframe tbody tr th:only-of-type {\n",
       "        vertical-align: middle;\n",
       "    }\n",
       "\n",
       "    .dataframe tbody tr th {\n",
       "        vertical-align: top;\n",
       "    }\n",
       "\n",
       "    .dataframe thead th {\n",
       "        text-align: right;\n",
       "    }\n",
       "</style>\n",
       "<table border=\"1\" class=\"dataframe\">\n",
       "  <thead>\n",
       "    <tr style=\"text-align: right;\">\n",
       "      <th></th>\n",
       "      <th>sales_rep</th>\n",
       "      <th>account</th>\n",
       "      <th>region</th>\n",
       "    </tr>\n",
       "  </thead>\n",
       "  <tbody>\n",
       "    <tr>\n",
       "      <th>0</th>\n",
       "      <td>Sherlene Wetherington</td>\n",
       "      <td>Community Health Systems</td>\n",
       "      <td>Midwest</td>\n",
       "    </tr>\n",
       "    <tr>\n",
       "      <th>1</th>\n",
       "      <td>Sherlene Wetherington</td>\n",
       "      <td>Progressive</td>\n",
       "      <td>Midwest</td>\n",
       "    </tr>\n",
       "    <tr>\n",
       "      <th>2</th>\n",
       "      <td>Sherlene Wetherington</td>\n",
       "      <td>Rite Aid</td>\n",
       "      <td>Midwest</td>\n",
       "    </tr>\n",
       "    <tr>\n",
       "      <th>3</th>\n",
       "      <td>Sherlene Wetherington</td>\n",
       "      <td>Time Warner Cable</td>\n",
       "      <td>Midwest</td>\n",
       "    </tr>\n",
       "    <tr>\n",
       "      <th>4</th>\n",
       "      <td>Sherlene Wetherington</td>\n",
       "      <td>U.S. Bancorp</td>\n",
       "      <td>Midwest</td>\n",
       "    </tr>\n",
       "  </tbody>\n",
       "</table>\n",
       "</div>"
      ],
      "text/plain": [
       "               sales_rep                   account   region\n",
       "0  Sherlene Wetherington  Community Health Systems  Midwest\n",
       "1  Sherlene Wetherington               Progressive  Midwest\n",
       "2  Sherlene Wetherington                  Rite Aid  Midwest\n",
       "3  Sherlene Wetherington         Time Warner Cable  Midwest\n",
       "4  Sherlene Wetherington              U.S. Bancorp  Midwest"
      ]
     },
     "execution_count": 37,
     "metadata": {},
     "output_type": "execute_result"
    }
   ],
   "source": [
    "# Use %% for % in LIKE \n",
    "sql_result = pd.read_sql_query(\"\\\n",
    "SELECT s.name sales_rep, a.name account, r.name region \\\n",
    "FROM accounts a \\\n",
    "JOIN sales_reps s \\\n",
    "ON a.sales_rep_id = s.id \\\n",
    "JOIN region r \\\n",
    "ON s.region_id = r.id \\\n",
    "WHERE s.name LIKE 'S%%' \\\n",
    "AND r.name = 'Midwest' \\\n",
    "ORDER BY a.name; \\\n",
    "\", con)\n",
    "sql_result.head()"
   ]
  },
  {
   "cell_type": "markdown",
   "metadata": {},
   "source": [
    "Provide a table that provides the region for each sales_rep along with their associated accounts. This time only for accounts where the sales rep has a last name starting with K and in the Midwest region. Your final table should include three columns: the region name, the sales rep name, and the account name. Sort the accounts alphabetically (A-Z) according to account name."
   ]
  },
  {
   "cell_type": "code",
   "execution_count": 38,
   "metadata": {},
   "outputs": [
    {
     "data": {
      "text/html": [
       "<div>\n",
       "<style scoped>\n",
       "    .dataframe tbody tr th:only-of-type {\n",
       "        vertical-align: middle;\n",
       "    }\n",
       "\n",
       "    .dataframe tbody tr th {\n",
       "        vertical-align: top;\n",
       "    }\n",
       "\n",
       "    .dataframe thead th {\n",
       "        text-align: right;\n",
       "    }\n",
       "</style>\n",
       "<table border=\"1\" class=\"dataframe\">\n",
       "  <thead>\n",
       "    <tr style=\"text-align: right;\">\n",
       "      <th></th>\n",
       "      <th>sales_rep</th>\n",
       "      <th>account</th>\n",
       "      <th>region</th>\n",
       "    </tr>\n",
       "  </thead>\n",
       "  <tbody>\n",
       "    <tr>\n",
       "      <th>0</th>\n",
       "      <td>Delilah Krum</td>\n",
       "      <td>Amgen</td>\n",
       "      <td>Midwest</td>\n",
       "    </tr>\n",
       "    <tr>\n",
       "      <th>1</th>\n",
       "      <td>Delilah Krum</td>\n",
       "      <td>AutoNation</td>\n",
       "      <td>Midwest</td>\n",
       "    </tr>\n",
       "    <tr>\n",
       "      <th>2</th>\n",
       "      <td>Delilah Krum</td>\n",
       "      <td>Capital One Financial</td>\n",
       "      <td>Midwest</td>\n",
       "    </tr>\n",
       "    <tr>\n",
       "      <th>3</th>\n",
       "      <td>Delilah Krum</td>\n",
       "      <td>Cummins</td>\n",
       "      <td>Midwest</td>\n",
       "    </tr>\n",
       "    <tr>\n",
       "      <th>4</th>\n",
       "      <td>Carletta Kosinski</td>\n",
       "      <td>Danaher</td>\n",
       "      <td>Midwest</td>\n",
       "    </tr>\n",
       "  </tbody>\n",
       "</table>\n",
       "</div>"
      ],
      "text/plain": [
       "           sales_rep                account   region\n",
       "0       Delilah Krum                  Amgen  Midwest\n",
       "1       Delilah Krum             AutoNation  Midwest\n",
       "2       Delilah Krum  Capital One Financial  Midwest\n",
       "3       Delilah Krum                Cummins  Midwest\n",
       "4  Carletta Kosinski                Danaher  Midwest"
      ]
     },
     "execution_count": 38,
     "metadata": {},
     "output_type": "execute_result"
    }
   ],
   "source": [
    "sql_result = pd.read_sql_query(\"\\\n",
    "SELECT s.name sales_rep, a.name account, r.name region \\\n",
    "FROM accounts a \\\n",
    "JOIN sales_reps s \\\n",
    "ON a.sales_rep_id = s.id \\\n",
    "JOIN region r \\\n",
    "ON s.region_id = r.id \\\n",
    "WHERE s.name LIKE '%% K%%' \\\n",
    "AND r.name = 'Midwest' \\\n",
    "ORDER BY a.name; \\\n",
    "\", con)\n",
    "sql_result.head()"
   ]
  },
  {
   "cell_type": "markdown",
   "metadata": {},
   "source": [
    "Provide the name for each region for every order, as well as the account name and the unit price they paid (total_amt_usd/total) for the order. However, you should only provide the results if the standard order quantity exceeds 100. Your final table should have 3 columns: region name, account name, and unit price. In order to avoid a division by zero error, adding .01 to the denominator here is helpful total_amt_usd/(total+0.01). "
   ]
  },
  {
   "cell_type": "code",
   "execution_count": 39,
   "metadata": {},
   "outputs": [
    {
     "data": {
      "text/html": [
       "<div>\n",
       "<style scoped>\n",
       "    .dataframe tbody tr th:only-of-type {\n",
       "        vertical-align: middle;\n",
       "    }\n",
       "\n",
       "    .dataframe tbody tr th {\n",
       "        vertical-align: top;\n",
       "    }\n",
       "\n",
       "    .dataframe thead th {\n",
       "        text-align: right;\n",
       "    }\n",
       "</style>\n",
       "<table border=\"1\" class=\"dataframe\">\n",
       "  <thead>\n",
       "    <tr style=\"text-align: right;\">\n",
       "      <th></th>\n",
       "      <th>account</th>\n",
       "      <th>region</th>\n",
       "      <th>unit_price</th>\n",
       "    </tr>\n",
       "  </thead>\n",
       "  <tbody>\n",
       "    <tr>\n",
       "      <th>0</th>\n",
       "      <td>Walmart</td>\n",
       "      <td>Northeast</td>\n",
       "      <td>5.759600</td>\n",
       "    </tr>\n",
       "    <tr>\n",
       "      <th>1</th>\n",
       "      <td>Walmart</td>\n",
       "      <td>Northeast</td>\n",
       "      <td>5.965175</td>\n",
       "    </tr>\n",
       "    <tr>\n",
       "      <th>2</th>\n",
       "      <td>Walmart</td>\n",
       "      <td>Northeast</td>\n",
       "      <td>5.879706</td>\n",
       "    </tr>\n",
       "    <tr>\n",
       "      <th>3</th>\n",
       "      <td>Walmart</td>\n",
       "      <td>Northeast</td>\n",
       "      <td>5.444236</td>\n",
       "    </tr>\n",
       "    <tr>\n",
       "      <th>4</th>\n",
       "      <td>Walmart</td>\n",
       "      <td>Northeast</td>\n",
       "      <td>5.960184</td>\n",
       "    </tr>\n",
       "  </tbody>\n",
       "</table>\n",
       "</div>"
      ],
      "text/plain": [
       "   account     region  unit_price\n",
       "0  Walmart  Northeast    5.759600\n",
       "1  Walmart  Northeast    5.965175\n",
       "2  Walmart  Northeast    5.879706\n",
       "3  Walmart  Northeast    5.444236\n",
       "4  Walmart  Northeast    5.960184"
      ]
     },
     "execution_count": 39,
     "metadata": {},
     "output_type": "execute_result"
    }
   ],
   "source": [
    "sql_result = pd.read_sql_query(\"\\\n",
    "SELECT a.name account, r.name region, o.total_amt_usd/(o.total + 0.01) unit_price \\\n",
    "FROM accounts a \\\n",
    "JOIN sales_reps s \\\n",
    "ON a.sales_rep_id = s.id \\\n",
    "JOIN region r \\\n",
    "ON s.region_id = r.id \\\n",
    "JOIN orders o \\\n",
    "ON a.id = o.account_id; \\\n",
    "\", con)\n",
    "sql_result.head()"
   ]
  },
  {
   "cell_type": "markdown",
   "metadata": {},
   "source": [
    "Provide the name for each region for every order, as well as the account name and the unit price they paid (total_amt_usd/total) for the order. However, you should only provide the results if the standard order quantity exceeds 100 and the poster order quantity exceeds 50. Your final table should have 3 columns: region name, account name, and unit price. Sort for the smallest unit price first. In order to avoid a division by zero error, adding .01 to the denominator here is helpful (total_amt_usd/(total+0.01). "
   ]
  },
  {
   "cell_type": "code",
   "execution_count": 40,
   "metadata": {},
   "outputs": [
    {
     "data": {
      "text/html": [
       "<div>\n",
       "<style scoped>\n",
       "    .dataframe tbody tr th:only-of-type {\n",
       "        vertical-align: middle;\n",
       "    }\n",
       "\n",
       "    .dataframe tbody tr th {\n",
       "        vertical-align: top;\n",
       "    }\n",
       "\n",
       "    .dataframe thead th {\n",
       "        text-align: right;\n",
       "    }\n",
       "</style>\n",
       "<table border=\"1\" class=\"dataframe\">\n",
       "  <thead>\n",
       "    <tr style=\"text-align: right;\">\n",
       "      <th></th>\n",
       "      <th>account</th>\n",
       "      <th>region</th>\n",
       "      <th>unit_price</th>\n",
       "    </tr>\n",
       "  </thead>\n",
       "  <tbody>\n",
       "    <tr>\n",
       "      <th>0</th>\n",
       "      <td>State Farm Insurance Cos.</td>\n",
       "      <td>Northeast</td>\n",
       "      <td>5.119282</td>\n",
       "    </tr>\n",
       "    <tr>\n",
       "      <th>1</th>\n",
       "      <td>DISH Network</td>\n",
       "      <td>Southeast</td>\n",
       "      <td>5.231816</td>\n",
       "    </tr>\n",
       "    <tr>\n",
       "      <th>2</th>\n",
       "      <td>Travelers Cos.</td>\n",
       "      <td>Northeast</td>\n",
       "      <td>5.235181</td>\n",
       "    </tr>\n",
       "    <tr>\n",
       "      <th>3</th>\n",
       "      <td>Best Buy</td>\n",
       "      <td>Northeast</td>\n",
       "      <td>5.260426</td>\n",
       "    </tr>\n",
       "    <tr>\n",
       "      <th>4</th>\n",
       "      <td>Stanley Black &amp; Decker</td>\n",
       "      <td>West</td>\n",
       "      <td>5.266396</td>\n",
       "    </tr>\n",
       "  </tbody>\n",
       "</table>\n",
       "</div>"
      ],
      "text/plain": [
       "                     account     region  unit_price\n",
       "0  State Farm Insurance Cos.  Northeast    5.119282\n",
       "1               DISH Network  Southeast    5.231816\n",
       "2             Travelers Cos.  Northeast    5.235181\n",
       "3                   Best Buy  Northeast    5.260426\n",
       "4     Stanley Black & Decker       West    5.266396"
      ]
     },
     "execution_count": 40,
     "metadata": {},
     "output_type": "execute_result"
    }
   ],
   "source": [
    "sql_result = pd.read_sql_query(\"\\\n",
    "SELECT a.name account, r.name region, o.total_amt_usd/(o.total + 0.01) unit_price \\\n",
    "FROM accounts a \\\n",
    "JOIN sales_reps s \\\n",
    "ON a.sales_rep_id = s.id \\\n",
    "JOIN region r \\\n",
    "ON s.region_id = r.id \\\n",
    "JOIN orders o \\\n",
    "ON a.id = o.account_id \\\n",
    "WHERE o.standard_qty > 100 \\\n",
    "AND o.poster_qty > 50 \\\n",
    "ORDER BY unit_price; \\\n",
    "\", con)\n",
    "sql_result.head()"
   ]
  },
  {
   "cell_type": "markdown",
   "metadata": {},
   "source": [
    "What are the different channels used by account id 1001? Your final table should have only 2 columns: account name and the different channels. You can try SELECT DISTINCT to narrow down the results to only the unique values."
   ]
  },
  {
   "cell_type": "code",
   "execution_count": 41,
   "metadata": {},
   "outputs": [
    {
     "data": {
      "text/html": [
       "<div>\n",
       "<style scoped>\n",
       "    .dataframe tbody tr th:only-of-type {\n",
       "        vertical-align: middle;\n",
       "    }\n",
       "\n",
       "    .dataframe tbody tr th {\n",
       "        vertical-align: top;\n",
       "    }\n",
       "\n",
       "    .dataframe thead th {\n",
       "        text-align: right;\n",
       "    }\n",
       "</style>\n",
       "<table border=\"1\" class=\"dataframe\">\n",
       "  <thead>\n",
       "    <tr style=\"text-align: right;\">\n",
       "      <th></th>\n",
       "      <th>name</th>\n",
       "      <th>channel</th>\n",
       "    </tr>\n",
       "  </thead>\n",
       "  <tbody>\n",
       "    <tr>\n",
       "      <th>0</th>\n",
       "      <td>Walmart</td>\n",
       "      <td>adwords</td>\n",
       "    </tr>\n",
       "    <tr>\n",
       "      <th>1</th>\n",
       "      <td>Walmart</td>\n",
       "      <td>banner</td>\n",
       "    </tr>\n",
       "    <tr>\n",
       "      <th>2</th>\n",
       "      <td>Walmart</td>\n",
       "      <td>direct</td>\n",
       "    </tr>\n",
       "    <tr>\n",
       "      <th>3</th>\n",
       "      <td>Walmart</td>\n",
       "      <td>facebook</td>\n",
       "    </tr>\n",
       "    <tr>\n",
       "      <th>4</th>\n",
       "      <td>Walmart</td>\n",
       "      <td>organic</td>\n",
       "    </tr>\n",
       "  </tbody>\n",
       "</table>\n",
       "</div>"
      ],
      "text/plain": [
       "      name   channel\n",
       "0  Walmart   adwords\n",
       "1  Walmart    banner\n",
       "2  Walmart    direct\n",
       "3  Walmart  facebook\n",
       "4  Walmart   organic"
      ]
     },
     "execution_count": 41,
     "metadata": {},
     "output_type": "execute_result"
    }
   ],
   "source": [
    "sql_result = pd.read_sql_query(\"\\\n",
    "SELECT DISTINCT a.name, w.channel \\\n",
    "FROM accounts a \\\n",
    "JOIN web_events w \\\n",
    "ON a.id = w.account_id \\\n",
    "WHERE a.id = '1001'; \\\n",
    "\", con)\n",
    "sql_result.head()"
   ]
  },
  {
   "cell_type": "markdown",
   "metadata": {},
   "source": [
    "Find all the orders that occurred in 2015. Your final table should have 4 columns: occurred_at, account name, order total, and order total_amt_usd."
   ]
  },
  {
   "cell_type": "code",
   "execution_count": 65,
   "metadata": {},
   "outputs": [
    {
     "name": "stdout",
     "output_type": "stream",
     "text": [
      "('2015-12-31T23:21:15.000Z', 'Thermo Fisher Scientific', 61, 446.97)\n",
      "('2015-12-31T23:15:35.000Z', 'Thermo Fisher Scientific', 635, 3246.9)\n",
      "('2015-12-31T20:44:28.000Z', 'Coca-Cola', 528, 2693.54)\n",
      "('2015-12-31T15:12:41.000Z', 'Computer Sciences', 164, 875.25)\n",
      "('2015-12-31T15:11:15.000Z', 'Cameron International', 513, 2626.82)\n",
      "('2015-12-31T13:29:55.000Z', 'eBay', 52, 422.24)\n",
      "('2015-12-31T13:08:25.000Z', 'eBay', 506, 2581.28)\n",
      "('2015-12-31T09:14:45.000Z', 'Masco', 160, 847.18)\n",
      "('2015-12-31T09:07:46.000Z', 'Masco', 763, 4785.99)\n",
      "('2015-12-31T02:51:20.000Z', 'Cigna', 516, 2584.84)\n"
     ]
    }
   ],
   "source": [
    "connection = engine.connect()\n",
    "result = connection.execute(\"SELECT o.occurred_at, a.name, o.total, o.total_amt_usd \\\n",
    "FROM accounts a \\\n",
    "JOIN orders o \\\n",
    "ON o.account_id = a.id \\\n",
    "WHERE o.occurred_at BETWEEN '2015-01-01' AND '2016-01-01' \\\n",
    "ORDER BY o.occurred_at DESC \\\n",
    "LIMIT 10;\")\n",
    "for row in result:\n",
    "    print(row)\n",
    "connection.close()"
   ]
  },
  {
   "cell_type": "code",
   "execution_count": null,
   "metadata": {},
   "outputs": [],
   "source": []
  }
 ],
 "metadata": {
  "kernelspec": {
   "display_name": "Python 3",
   "language": "python",
   "name": "python3"
  },
  "language_info": {
   "codemirror_mode": {
    "name": "ipython",
    "version": 3
   },
   "file_extension": ".py",
   "mimetype": "text/x-python",
   "name": "python",
   "nbconvert_exporter": "python",
   "pygments_lexer": "ipython3",
   "version": "3.6.5"
  }
 },
 "nbformat": 4,
 "nbformat_minor": 2
}
