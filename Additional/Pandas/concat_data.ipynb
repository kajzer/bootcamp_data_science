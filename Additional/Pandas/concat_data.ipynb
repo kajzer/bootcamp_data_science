{
 "cells": [
  {
   "cell_type": "markdown",
   "metadata": {
    "colab_type": "text",
    "id": "RW6K3lKiPjeX"
   },
   "source": [
    "# Merging DataFrames with pandas"
   ]
  },
  {
   "cell_type": "markdown",
   "metadata": {
    "colab_type": "text",
    "id": "QPEMPyLePo__"
   },
   "source": [
    "### Appending pandas Series"
   ]
  },
  {
   "cell_type": "code",
   "execution_count": 1,
   "metadata": {
    "colab": {},
    "colab_type": "code",
    "id": "YmrRxo_tPvG9"
   },
   "outputs": [],
   "source": [
    "import pandas as pd"
   ]
  },
  {
   "cell_type": "code",
   "execution_count": 2,
   "metadata": {
    "colab": {},
    "colab_type": "code",
    "id": "XTG7VcNvUhT1"
   },
   "outputs": [],
   "source": [
    "jan = pd.read_csv('sales/sales-jan-2015.csv', parse_dates=True, index_col='Date')\n",
    "feb = pd.read_csv('sales/sales-feb-2015.csv', parse_dates=True, index_col='Date')\n",
    "mar = pd.read_csv('sales/sales-mar-2015.csv', parse_dates=True, index_col='Date')"
   ]
  },
  {
   "cell_type": "code",
   "execution_count": 3,
   "metadata": {
    "colab": {},
    "colab_type": "code",
    "id": "Cq4NVpNaU4lM"
   },
   "outputs": [],
   "source": [
    "jan_units = jan['Units']\n",
    "feb_units = feb['Units']\n",
    "mar_units = mar['Units']"
   ]
  },
  {
   "cell_type": "code",
   "execution_count": 4,
   "metadata": {
    "colab": {},
    "colab_type": "code",
    "id": "P5CpQf7BVX-a"
   },
   "outputs": [],
   "source": [
    "quarter1 = jan_units.append(feb_units).append(mar_units)"
   ]
  },
  {
   "cell_type": "code",
   "execution_count": 5,
   "metadata": {
    "colab": {
     "base_uri": "https://localhost:8080/",
     "height": 102
    },
    "colab_type": "code",
    "executionInfo": {
     "elapsed": 495,
     "status": "ok",
     "timestamp": 1540540027620,
     "user": {
      "displayName": "Karol Jezierski",
      "photoUrl": "https://lh5.googleusercontent.com/-wgjj5yIIzw4/AAAAAAAAAAI/AAAAAAAAAdg/ukUvmCQdBQc/s64/photo.jpg",
      "userId": "07387898320424940670"
     },
     "user_tz": -120
    },
    "id": "cKTpakZWVvdw",
    "outputId": "10661ff6-fe47-4288-fb91-f17b83d3a25b"
   },
   "outputs": [
    {
     "data": {
      "text/plain": [
       "Date\n",
       "2015-01-27 07:11:55    18\n",
       "2015-02-02 08:30:00     3\n",
       "2015-02-02 21:00:00     9\n",
       "Name: Units, dtype: int64"
      ]
     },
     "execution_count": 5,
     "metadata": {},
     "output_type": "execute_result"
    }
   ],
   "source": [
    "quarter1.loc['jan 27, 2015':'feb 2, 2015']"
   ]
  },
  {
   "cell_type": "code",
   "execution_count": 6,
   "metadata": {
    "colab": {
     "base_uri": "https://localhost:8080/",
     "height": 119
    },
    "colab_type": "code",
    "executionInfo": {
     "elapsed": 415,
     "status": "ok",
     "timestamp": 1540540092684,
     "user": {
      "displayName": "Karol Jezierski",
      "photoUrl": "https://lh5.googleusercontent.com/-wgjj5yIIzw4/AAAAAAAAAAI/AAAAAAAAAdg/ukUvmCQdBQc/s64/photo.jpg",
      "userId": "07387898320424940670"
     },
     "user_tz": -120
    },
    "id": "DiNQJtjzV1DI",
    "outputId": "928eeaa1-82d1-4178-e60d-4226feabd69e"
   },
   "outputs": [
    {
     "data": {
      "text/plain": [
       "Date\n",
       "2015-02-26 09:00:00     4\n",
       "2015-03-06 10:11:45    17\n",
       "2015-03-06 02:03:56    17\n",
       "Name: Units, dtype: int64"
      ]
     },
     "execution_count": 6,
     "metadata": {},
     "output_type": "execute_result"
    }
   ],
   "source": [
    "quarter1.loc['feb 26, 2015':'mar 7, 2015']"
   ]
  },
  {
   "cell_type": "code",
   "execution_count": 7,
   "metadata": {
    "colab": {
     "base_uri": "https://localhost:8080/",
     "height": 34
    },
    "colab_type": "code",
    "executionInfo": {
     "elapsed": 463,
     "status": "ok",
     "timestamp": 1540540079736,
     "user": {
      "displayName": "Karol Jezierski",
      "photoUrl": "https://lh5.googleusercontent.com/-wgjj5yIIzw4/AAAAAAAAAAI/AAAAAAAAAdg/ukUvmCQdBQc/s64/photo.jpg",
      "userId": "07387898320424940670"
     },
     "user_tz": -120
    },
    "id": "xXVX8-npWAPL",
    "outputId": "5f3fe7c4-72ff-48e4-acf7-bf584c3670bd"
   },
   "outputs": [
    {
     "data": {
      "text/plain": [
       "641"
      ]
     },
     "execution_count": 7,
     "metadata": {},
     "output_type": "execute_result"
    }
   ],
   "source": [
    "quarter1.sum()"
   ]
  },
  {
   "cell_type": "markdown",
   "metadata": {
    "colab_type": "text",
    "id": "6qq8W7EmWJNE"
   },
   "source": [
    "### Concatenating pandas Series along row axis"
   ]
  },
  {
   "cell_type": "code",
   "execution_count": 8,
   "metadata": {
    "colab": {
     "base_uri": "https://localhost:8080/",
     "height": 102
    },
    "colab_type": "code",
    "executionInfo": {
     "elapsed": 457,
     "status": "ok",
     "timestamp": 1540540410443,
     "user": {
      "displayName": "Karol Jezierski",
      "photoUrl": "https://lh5.googleusercontent.com/-wgjj5yIIzw4/AAAAAAAAAAI/AAAAAAAAAdg/ukUvmCQdBQc/s64/photo.jpg",
      "userId": "07387898320424940670"
     },
     "user_tz": -120
    },
    "id": "QuVxBn8BWBx7",
    "outputId": "0e702567-af4d-4401-91a0-e50b386fbd98"
   },
   "outputs": [
    {
     "data": {
      "text/plain": [
       "Date\n",
       "2015-01-27 07:11:55    18\n",
       "2015-02-02 08:30:00     3\n",
       "2015-02-02 21:00:00     9\n",
       "Name: Units, dtype: int64"
      ]
     },
     "execution_count": 8,
     "metadata": {},
     "output_type": "execute_result"
    }
   ],
   "source": [
    "units=[]\n",
    "for month in [jan, feb, mar]:\n",
    "  units.append(month['Units'])\n",
    "quarter1 = pd.concat(units, axis='rows')\n",
    "quarter1.loc['jan 27, 2015':'feb 2, 2015']"
   ]
  },
  {
   "cell_type": "code",
   "execution_count": 9,
   "metadata": {
    "colab": {
     "base_uri": "https://localhost:8080/",
     "height": 119
    },
    "colab_type": "code",
    "executionInfo": {
     "elapsed": 422,
     "status": "ok",
     "timestamp": 1540540413368,
     "user": {
      "displayName": "Karol Jezierski",
      "photoUrl": "https://lh5.googleusercontent.com/-wgjj5yIIzw4/AAAAAAAAAAI/AAAAAAAAAdg/ukUvmCQdBQc/s64/photo.jpg",
      "userId": "07387898320424940670"
     },
     "user_tz": -120
    },
    "id": "ftCYO2caW3Mf",
    "outputId": "4cf0f33b-078b-476f-bbeb-7616b8fb4dc6"
   },
   "outputs": [
    {
     "data": {
      "text/plain": [
       "Date\n",
       "2015-02-26 09:00:00     4\n",
       "2015-03-06 10:11:45    17\n",
       "2015-03-06 02:03:56    17\n",
       "Name: Units, dtype: int64"
      ]
     },
     "execution_count": 9,
     "metadata": {},
     "output_type": "execute_result"
    }
   ],
   "source": [
    "quarter1.loc['feb 26, 2015':'mar 7, 2015']"
   ]
  },
  {
   "cell_type": "markdown",
   "metadata": {
    "colab_type": "text",
    "id": "xTQQUydqZF4d"
   },
   "source": [
    "### Appending DataFrames with ignore_index"
   ]
  },
  {
   "cell_type": "code",
   "execution_count": 10,
   "metadata": {
    "colab": {},
    "colab_type": "code",
    "id": "8gjbjBzbW4hH"
   },
   "outputs": [],
   "source": [
    "names_1881 = pd.read_csv('baby_names/names1881.csv', header=None)\n",
    "names_1981 = pd.read_csv('baby_names/names1981.csv', header=None)"
   ]
  },
  {
   "cell_type": "code",
   "execution_count": 11,
   "metadata": {
    "colab": {
     "base_uri": "https://localhost:8080/",
     "height": 204
    },
    "colab_type": "code",
    "executionInfo": {
     "elapsed": 465,
     "status": "ok",
     "timestamp": 1540541891759,
     "user": {
      "displayName": "Karol Jezierski",
      "photoUrl": "https://lh5.googleusercontent.com/-wgjj5yIIzw4/AAAAAAAAAAI/AAAAAAAAAdg/ukUvmCQdBQc/s64/photo.jpg",
      "userId": "07387898320424940670"
     },
     "user_tz": -120
    },
    "id": "ac2gZrlGamfi",
    "outputId": "bfcd903f-23e6-4df9-bd7c-54ad3c1e50c3"
   },
   "outputs": [
    {
     "data": {
      "text/html": [
       "<div>\n",
       "<style scoped>\n",
       "    .dataframe tbody tr th:only-of-type {\n",
       "        vertical-align: middle;\n",
       "    }\n",
       "\n",
       "    .dataframe tbody tr th {\n",
       "        vertical-align: top;\n",
       "    }\n",
       "\n",
       "    .dataframe thead th {\n",
       "        text-align: right;\n",
       "    }\n",
       "</style>\n",
       "<table border=\"1\" class=\"dataframe\">\n",
       "  <thead>\n",
       "    <tr style=\"text-align: right;\">\n",
       "      <th></th>\n",
       "      <th>name</th>\n",
       "      <th>gender</th>\n",
       "      <th>count</th>\n",
       "      <th>year</th>\n",
       "    </tr>\n",
       "  </thead>\n",
       "  <tbody>\n",
       "    <tr>\n",
       "      <th>0</th>\n",
       "      <td>Mary</td>\n",
       "      <td>F</td>\n",
       "      <td>6919</td>\n",
       "      <td>1881</td>\n",
       "    </tr>\n",
       "    <tr>\n",
       "      <th>1</th>\n",
       "      <td>Anna</td>\n",
       "      <td>F</td>\n",
       "      <td>2698</td>\n",
       "      <td>1881</td>\n",
       "    </tr>\n",
       "    <tr>\n",
       "      <th>2</th>\n",
       "      <td>Emma</td>\n",
       "      <td>F</td>\n",
       "      <td>2034</td>\n",
       "      <td>1881</td>\n",
       "    </tr>\n",
       "    <tr>\n",
       "      <th>3</th>\n",
       "      <td>Elizabeth</td>\n",
       "      <td>F</td>\n",
       "      <td>1852</td>\n",
       "      <td>1881</td>\n",
       "    </tr>\n",
       "    <tr>\n",
       "      <th>4</th>\n",
       "      <td>Margaret</td>\n",
       "      <td>F</td>\n",
       "      <td>1658</td>\n",
       "      <td>1881</td>\n",
       "    </tr>\n",
       "  </tbody>\n",
       "</table>\n",
       "</div>"
      ],
      "text/plain": [
       "        name gender  count  year\n",
       "0       Mary      F   6919  1881\n",
       "1       Anna      F   2698  1881\n",
       "2       Emma      F   2034  1881\n",
       "3  Elizabeth      F   1852  1881\n",
       "4   Margaret      F   1658  1881"
      ]
     },
     "execution_count": 11,
     "metadata": {},
     "output_type": "execute_result"
    }
   ],
   "source": [
    "col_names = ['name', 'gender', 'count', 'year']\n",
    "names_1881['year'] = 1881\n",
    "names_1981['year'] = 1981\n",
    "names_1881.columns = col_names\n",
    "names_1981.columns = col_names\n",
    "names_1881.head()"
   ]
  },
  {
   "cell_type": "code",
   "execution_count": 12,
   "metadata": {
    "colab": {},
    "colab_type": "code",
    "id": "f2TXM17ZbrtA"
   },
   "outputs": [],
   "source": [
    "combined_names = names_1881.append(names_1981, ignore_index=True)"
   ]
  },
  {
   "cell_type": "code",
   "execution_count": 13,
   "metadata": {
    "colab": {
     "base_uri": "https://localhost:8080/",
     "height": 68
    },
    "colab_type": "code",
    "executionInfo": {
     "elapsed": 562,
     "status": "ok",
     "timestamp": 1540541899585,
     "user": {
      "displayName": "Karol Jezierski",
      "photoUrl": "https://lh5.googleusercontent.com/-wgjj5yIIzw4/AAAAAAAAAAI/AAAAAAAAAdg/ukUvmCQdBQc/s64/photo.jpg",
      "userId": "07387898320424940670"
     },
     "user_tz": -120
    },
    "id": "cZGfjWX1b2ZR",
    "outputId": "cee9802b-8fe6-45ec-e7be-d5ba090849f4"
   },
   "outputs": [
    {
     "name": "stdout",
     "output_type": "stream",
     "text": [
      "(19455, 4)\n",
      "(1935, 4)\n",
      "(21390, 4)\n"
     ]
    }
   ],
   "source": [
    "print(names_1981.shape)\n",
    "print(names_1881.shape)\n",
    "print(combined_names.shape)"
   ]
  },
  {
   "cell_type": "code",
   "execution_count": 14,
   "metadata": {
    "colab": {
     "base_uri": "https://localhost:8080/",
     "height": 85
    },
    "colab_type": "code",
    "executionInfo": {
     "elapsed": 455,
     "status": "ok",
     "timestamp": 1540541907880,
     "user": {
      "displayName": "Karol Jezierski",
      "photoUrl": "https://lh5.googleusercontent.com/-wgjj5yIIzw4/AAAAAAAAAAI/AAAAAAAAAdg/ukUvmCQdBQc/s64/photo.jpg",
      "userId": "07387898320424940670"
     },
     "user_tz": -120
    },
    "id": "K0m0W8q0b25a",
    "outputId": "c1ee5759-afe5-4a13-bcad-32719e9c1514"
   },
   "outputs": [
    {
     "name": "stdout",
     "output_type": "stream",
     "text": [
      "         name gender  count  year\n",
      "1283   Morgan      M     23  1881\n",
      "2096   Morgan      F   1769  1981\n",
      "14390  Morgan      M    766  1981\n"
     ]
    }
   ],
   "source": [
    "print(combined_names.loc[combined_names['name']=='Morgan'])"
   ]
  },
  {
   "cell_type": "markdown",
   "metadata": {
    "colab_type": "text",
    "id": "vS_eyy2ddEK6"
   },
   "source": [
    "### Concatenating pandas DataFrames along column axis"
   ]
  },
  {
   "cell_type": "code",
   "execution_count": 15,
   "metadata": {
    "colab": {
     "base_uri": "https://localhost:8080/",
     "height": 204
    },
    "colab_type": "code",
    "executionInfo": {
     "elapsed": 544,
     "status": "ok",
     "timestamp": 1540542989122,
     "user": {
      "displayName": "Karol Jezierski",
      "photoUrl": "https://lh5.googleusercontent.com/-wgjj5yIIzw4/AAAAAAAAAAI/AAAAAAAAAdg/ukUvmCQdBQc/s64/photo.jpg",
      "userId": "07387898320424940670"
     },
     "user_tz": -120
    },
    "id": "MYfoMOpfb8Dl",
    "outputId": "811a348f-00ce-464f-a9da-1f18064b38a5"
   },
   "outputs": [
    {
     "data": {
      "text/html": [
       "<div>\n",
       "<style scoped>\n",
       "    .dataframe tbody tr th:only-of-type {\n",
       "        vertical-align: middle;\n",
       "    }\n",
       "\n",
       "    .dataframe tbody tr th {\n",
       "        vertical-align: top;\n",
       "    }\n",
       "\n",
       "    .dataframe thead th {\n",
       "        text-align: right;\n",
       "    }\n",
       "</style>\n",
       "<table border=\"1\" class=\"dataframe\">\n",
       "  <thead>\n",
       "    <tr style=\"text-align: right;\">\n",
       "      <th></th>\n",
       "      <th>Max_TemperatureF</th>\n",
       "    </tr>\n",
       "    <tr>\n",
       "      <th>Month</th>\n",
       "      <th></th>\n",
       "    </tr>\n",
       "  </thead>\n",
       "  <tbody>\n",
       "    <tr>\n",
       "      <th>Jan</th>\n",
       "      <td>68</td>\n",
       "    </tr>\n",
       "    <tr>\n",
       "      <th>Apr</th>\n",
       "      <td>89</td>\n",
       "    </tr>\n",
       "    <tr>\n",
       "      <th>Jul</th>\n",
       "      <td>91</td>\n",
       "    </tr>\n",
       "    <tr>\n",
       "      <th>Oct</th>\n",
       "      <td>84</td>\n",
       "    </tr>\n",
       "  </tbody>\n",
       "</table>\n",
       "</div>"
      ],
      "text/plain": [
       "       Max_TemperatureF\n",
       "Month                  \n",
       "Jan                  68\n",
       "Apr                  89\n",
       "Jul                  91\n",
       "Oct                  84"
      ]
     },
     "execution_count": 15,
     "metadata": {},
     "output_type": "execute_result"
    }
   ],
   "source": [
    "weather_4 = {'Month':['Jan','Apr','Jul','Oct'], 'Max_TemperatureF':[68,89,91,84]}\n",
    "weather_max = pd.DataFrame(weather_4)\n",
    "weather_max.set_index('Month', inplace=True)\n",
    "weather_max.head()"
   ]
  },
  {
   "cell_type": "code",
   "execution_count": 16,
   "metadata": {
    "colab": {
     "base_uri": "https://localhost:8080/",
     "height": 235
    },
    "colab_type": "code",
    "executionInfo": {
     "elapsed": 413,
     "status": "ok",
     "timestamp": 1540542985249,
     "user": {
      "displayName": "Karol Jezierski",
      "photoUrl": "https://lh5.googleusercontent.com/-wgjj5yIIzw4/AAAAAAAAAAI/AAAAAAAAAdg/ukUvmCQdBQc/s64/photo.jpg",
      "userId": "07387898320424940670"
     },
     "user_tz": -120
    },
    "id": "phTdFshUfkvy",
    "outputId": "3d436ac5-cb41-481f-a71a-d1fdeb7674ff"
   },
   "outputs": [
    {
     "data": {
      "text/html": [
       "<div>\n",
       "<style scoped>\n",
       "    .dataframe tbody tr th:only-of-type {\n",
       "        vertical-align: middle;\n",
       "    }\n",
       "\n",
       "    .dataframe tbody tr th {\n",
       "        vertical-align: top;\n",
       "    }\n",
       "\n",
       "    .dataframe thead th {\n",
       "        text-align: right;\n",
       "    }\n",
       "</style>\n",
       "<table border=\"1\" class=\"dataframe\">\n",
       "  <thead>\n",
       "    <tr style=\"text-align: right;\">\n",
       "      <th></th>\n",
       "      <th>Mean_TemperatureF</th>\n",
       "    </tr>\n",
       "    <tr>\n",
       "      <th>Month</th>\n",
       "      <th></th>\n",
       "    </tr>\n",
       "  </thead>\n",
       "  <tbody>\n",
       "    <tr>\n",
       "      <th>Apr</th>\n",
       "      <td>53.100000</td>\n",
       "    </tr>\n",
       "    <tr>\n",
       "      <th>Aug</th>\n",
       "      <td>70.000000</td>\n",
       "    </tr>\n",
       "    <tr>\n",
       "      <th>Dec</th>\n",
       "      <td>34.935484</td>\n",
       "    </tr>\n",
       "    <tr>\n",
       "      <th>Feb</th>\n",
       "      <td>28.714286</td>\n",
       "    </tr>\n",
       "    <tr>\n",
       "      <th>Jan</th>\n",
       "      <td>32.354839</td>\n",
       "    </tr>\n",
       "  </tbody>\n",
       "</table>\n",
       "</div>"
      ],
      "text/plain": [
       "       Mean_TemperatureF\n",
       "Month                   \n",
       "Apr            53.100000\n",
       "Aug            70.000000\n",
       "Dec            34.935484\n",
       "Feb            28.714286\n",
       "Jan            32.354839"
      ]
     },
     "execution_count": 16,
     "metadata": {},
     "output_type": "execute_result"
    }
   ],
   "source": [
    "months = ['Apr','Aug','Dec','Feb','Jan','Jul','Jun','Mar','May','Nov','Oct','Sep']\n",
    "mean = [53.100000,70.000000,34.935484,28.714286,32.354839,72.870968,70.133333,35.000000,\n",
    "        62.612903,39.800000,55.451613,63.766667\n",
    "]\n",
    "weather_mean = pd.DataFrame({'Month':months, 'Mean_TemperatureF':mean})\n",
    "weather_mean.set_index('Month', inplace=True)\n",
    "weather_mean.head()"
   ]
  },
  {
   "cell_type": "code",
   "execution_count": 18,
   "metadata": {
    "colab": {
     "base_uri": "https://localhost:8080/",
     "height": 266
    },
    "colab_type": "code",
    "executionInfo": {
     "elapsed": 424,
     "status": "ok",
     "timestamp": 1540543111929,
     "user": {
      "displayName": "Karol Jezierski",
      "photoUrl": "https://lh5.googleusercontent.com/-wgjj5yIIzw4/AAAAAAAAAAI/AAAAAAAAAdg/ukUvmCQdBQc/s64/photo.jpg",
      "userId": "07387898320424940670"
     },
     "user_tz": -120
    },
    "id": "7ECVqm9Ogxz4",
    "outputId": "f1113d0f-1bd6-4f7c-d643-b9d74a31b998"
   },
   "outputs": [
    {
     "data": {
      "text/html": [
       "<div>\n",
       "<style scoped>\n",
       "    .dataframe tbody tr th:only-of-type {\n",
       "        vertical-align: middle;\n",
       "    }\n",
       "\n",
       "    .dataframe tbody tr th {\n",
       "        vertical-align: top;\n",
       "    }\n",
       "\n",
       "    .dataframe thead th {\n",
       "        text-align: right;\n",
       "    }\n",
       "</style>\n",
       "<table border=\"1\" class=\"dataframe\">\n",
       "  <thead>\n",
       "    <tr style=\"text-align: right;\">\n",
       "      <th></th>\n",
       "      <th>Max_TemperatureF</th>\n",
       "      <th>Mean_TemperatureF</th>\n",
       "    </tr>\n",
       "  </thead>\n",
       "  <tbody>\n",
       "    <tr>\n",
       "      <th>Jan</th>\n",
       "      <td>68.0</td>\n",
       "      <td>32.354839</td>\n",
       "    </tr>\n",
       "    <tr>\n",
       "      <th>Apr</th>\n",
       "      <td>89.0</td>\n",
       "      <td>53.100000</td>\n",
       "    </tr>\n",
       "    <tr>\n",
       "      <th>Jul</th>\n",
       "      <td>91.0</td>\n",
       "      <td>72.870968</td>\n",
       "    </tr>\n",
       "    <tr>\n",
       "      <th>Oct</th>\n",
       "      <td>84.0</td>\n",
       "      <td>55.451613</td>\n",
       "    </tr>\n",
       "    <tr>\n",
       "      <th>Aug</th>\n",
       "      <td>NaN</td>\n",
       "      <td>70.000000</td>\n",
       "    </tr>\n",
       "    <tr>\n",
       "      <th>Dec</th>\n",
       "      <td>NaN</td>\n",
       "      <td>34.935484</td>\n",
       "    </tr>\n",
       "    <tr>\n",
       "      <th>Feb</th>\n",
       "      <td>NaN</td>\n",
       "      <td>28.714286</td>\n",
       "    </tr>\n",
       "  </tbody>\n",
       "</table>\n",
       "</div>"
      ],
      "text/plain": [
       "     Max_TemperatureF  Mean_TemperatureF\n",
       "Jan              68.0          32.354839\n",
       "Apr              89.0          53.100000\n",
       "Jul              91.0          72.870968\n",
       "Oct              84.0          55.451613\n",
       "Aug               NaN          70.000000\n",
       "Dec               NaN          34.935484\n",
       "Feb               NaN          28.714286"
      ]
     },
     "execution_count": 18,
     "metadata": {},
     "output_type": "execute_result"
    }
   ],
   "source": [
    "weather = pd.concat([weather_max,weather_mean], axis=1, sort=False)\n",
    "weather.head(7)"
   ]
  },
  {
   "cell_type": "markdown",
   "metadata": {
    "colab_type": "text",
    "id": "QI6_1AWViwRF"
   },
   "source": [
    "### Reading multiple files to build a DataFrame"
   ]
  },
  {
   "cell_type": "code",
   "execution_count": 22,
   "metadata": {
    "colab": {},
    "colab_type": "code",
    "id": "2CQXZkhVhiyh"
   },
   "outputs": [],
   "source": [
    "medals = []\n",
    "medal_types = ['bronze', 'silver', 'gold']"
   ]
  },
  {
   "cell_type": "code",
   "execution_count": 23,
   "metadata": {
    "colab": {
     "base_uri": "https://localhost:8080/",
     "height": 235
    },
    "colab_type": "code",
    "executionInfo": {
     "elapsed": 2524,
     "status": "ok",
     "timestamp": 1540543866838,
     "user": {
      "displayName": "Karol Jezierski",
      "photoUrl": "https://lh5.googleusercontent.com/-wgjj5yIIzw4/AAAAAAAAAAI/AAAAAAAAAdg/ukUvmCQdBQc/s64/photo.jpg",
      "userId": "07387898320424940670"
     },
     "user_tz": -120
    },
    "id": "rh90dcMvjRkw",
    "outputId": "84f1e240-ddaf-40c5-d62f-8292ab6d207e"
   },
   "outputs": [
    {
     "data": {
      "text/html": [
       "<div>\n",
       "<style scoped>\n",
       "    .dataframe tbody tr th:only-of-type {\n",
       "        vertical-align: middle;\n",
       "    }\n",
       "\n",
       "    .dataframe tbody tr th {\n",
       "        vertical-align: top;\n",
       "    }\n",
       "\n",
       "    .dataframe thead th {\n",
       "        text-align: right;\n",
       "    }\n",
       "</style>\n",
       "<table border=\"1\" class=\"dataframe\">\n",
       "  <thead>\n",
       "    <tr style=\"text-align: right;\">\n",
       "      <th></th>\n",
       "      <th>bronze</th>\n",
       "      <th>silver</th>\n",
       "      <th>gold</th>\n",
       "    </tr>\n",
       "  </thead>\n",
       "  <tbody>\n",
       "    <tr>\n",
       "      <th>United States</th>\n",
       "      <td>1052.0</td>\n",
       "      <td>1195.0</td>\n",
       "      <td>2088.0</td>\n",
       "    </tr>\n",
       "    <tr>\n",
       "      <th>Soviet Union</th>\n",
       "      <td>584.0</td>\n",
       "      <td>627.0</td>\n",
       "      <td>838.0</td>\n",
       "    </tr>\n",
       "    <tr>\n",
       "      <th>United Kingdom</th>\n",
       "      <td>505.0</td>\n",
       "      <td>591.0</td>\n",
       "      <td>498.0</td>\n",
       "    </tr>\n",
       "    <tr>\n",
       "      <th>France</th>\n",
       "      <td>475.0</td>\n",
       "      <td>461.0</td>\n",
       "      <td>NaN</td>\n",
       "    </tr>\n",
       "    <tr>\n",
       "      <th>Germany</th>\n",
       "      <td>454.0</td>\n",
       "      <td>NaN</td>\n",
       "      <td>407.0</td>\n",
       "    </tr>\n",
       "    <tr>\n",
       "      <th>Italy</th>\n",
       "      <td>NaN</td>\n",
       "      <td>394.0</td>\n",
       "      <td>460.0</td>\n",
       "    </tr>\n",
       "  </tbody>\n",
       "</table>\n",
       "</div>"
      ],
      "text/plain": [
       "                bronze  silver    gold\n",
       "United States   1052.0  1195.0  2088.0\n",
       "Soviet Union     584.0   627.0   838.0\n",
       "United Kingdom   505.0   591.0   498.0\n",
       "France           475.0   461.0     NaN\n",
       "Germany          454.0     NaN   407.0\n",
       "Italy              NaN   394.0   460.0"
      ]
     },
     "execution_count": 23,
     "metadata": {},
     "output_type": "execute_result"
    }
   ],
   "source": [
    "for medal in medal_types:\n",
    "  file_name = \"%s_top5.csv\" % medal\n",
    "  columns = ['Country', medal]\n",
    "  medal_df = pd.read_csv('medals/'+file_name, header=0, index_col='Country', names=columns)\n",
    "  medals.append(medal_df)\n",
    "\n",
    "medals = pd.concat(medals, axis='columns',sort=False)\n",
    "medals"
   ]
  },
  {
   "cell_type": "markdown",
   "metadata": {
    "colab_type": "text",
    "id": "c7Uha5ACmx5w"
   },
   "source": [
    "### Concatenating vertically to get MultiIndexed rows"
   ]
  },
  {
   "cell_type": "code",
   "execution_count": 24,
   "metadata": {
    "colab": {},
    "colab_type": "code",
    "id": "w0wuoyENkbSa"
   },
   "outputs": [],
   "source": [
    "medals=[]\n",
    "medal_types = ['bronze', 'silver', 'gold']"
   ]
  },
  {
   "cell_type": "code",
   "execution_count": 25,
   "metadata": {
    "colab": {
     "base_uri": "https://localhost:8080/",
     "height": 545
    },
    "colab_type": "code",
    "executionInfo": {
     "elapsed": 442,
     "status": "ok",
     "timestamp": 1540544892049,
     "user": {
      "displayName": "Karol Jezierski",
      "photoUrl": "https://lh5.googleusercontent.com/-wgjj5yIIzw4/AAAAAAAAAAI/AAAAAAAAAdg/ukUvmCQdBQc/s64/photo.jpg",
      "userId": "07387898320424940670"
     },
     "user_tz": -120
    },
    "id": "-ujLELf8nZ4g",
    "outputId": "89b0da3a-b432-46eb-90c6-a3bae3919ef0"
   },
   "outputs": [
    {
     "data": {
      "text/html": [
       "<div>\n",
       "<style scoped>\n",
       "    .dataframe tbody tr th:only-of-type {\n",
       "        vertical-align: middle;\n",
       "    }\n",
       "\n",
       "    .dataframe tbody tr th {\n",
       "        vertical-align: top;\n",
       "    }\n",
       "\n",
       "    .dataframe thead th {\n",
       "        text-align: right;\n",
       "    }\n",
       "</style>\n",
       "<table border=\"1\" class=\"dataframe\">\n",
       "  <thead>\n",
       "    <tr style=\"text-align: right;\">\n",
       "      <th></th>\n",
       "      <th></th>\n",
       "      <th>Total</th>\n",
       "    </tr>\n",
       "    <tr>\n",
       "      <th></th>\n",
       "      <th>Country</th>\n",
       "      <th></th>\n",
       "    </tr>\n",
       "  </thead>\n",
       "  <tbody>\n",
       "    <tr>\n",
       "      <th rowspan=\"5\" valign=\"top\">bronze</th>\n",
       "      <th>United States</th>\n",
       "      <td>1052.0</td>\n",
       "    </tr>\n",
       "    <tr>\n",
       "      <th>Soviet Union</th>\n",
       "      <td>584.0</td>\n",
       "    </tr>\n",
       "    <tr>\n",
       "      <th>United Kingdom</th>\n",
       "      <td>505.0</td>\n",
       "    </tr>\n",
       "    <tr>\n",
       "      <th>France</th>\n",
       "      <td>475.0</td>\n",
       "    </tr>\n",
       "    <tr>\n",
       "      <th>Germany</th>\n",
       "      <td>454.0</td>\n",
       "    </tr>\n",
       "    <tr>\n",
       "      <th rowspan=\"5\" valign=\"top\">silver</th>\n",
       "      <th>United States</th>\n",
       "      <td>1195.0</td>\n",
       "    </tr>\n",
       "    <tr>\n",
       "      <th>Soviet Union</th>\n",
       "      <td>627.0</td>\n",
       "    </tr>\n",
       "    <tr>\n",
       "      <th>United Kingdom</th>\n",
       "      <td>591.0</td>\n",
       "    </tr>\n",
       "    <tr>\n",
       "      <th>France</th>\n",
       "      <td>461.0</td>\n",
       "    </tr>\n",
       "    <tr>\n",
       "      <th>Italy</th>\n",
       "      <td>394.0</td>\n",
       "    </tr>\n",
       "    <tr>\n",
       "      <th rowspan=\"5\" valign=\"top\">gold</th>\n",
       "      <th>United States</th>\n",
       "      <td>2088.0</td>\n",
       "    </tr>\n",
       "    <tr>\n",
       "      <th>Soviet Union</th>\n",
       "      <td>838.0</td>\n",
       "    </tr>\n",
       "    <tr>\n",
       "      <th>United Kingdom</th>\n",
       "      <td>498.0</td>\n",
       "    </tr>\n",
       "    <tr>\n",
       "      <th>Italy</th>\n",
       "      <td>460.0</td>\n",
       "    </tr>\n",
       "    <tr>\n",
       "      <th>Germany</th>\n",
       "      <td>407.0</td>\n",
       "    </tr>\n",
       "  </tbody>\n",
       "</table>\n",
       "</div>"
      ],
      "text/plain": [
       "                        Total\n",
       "       Country               \n",
       "bronze United States   1052.0\n",
       "       Soviet Union     584.0\n",
       "       United Kingdom   505.0\n",
       "       France           475.0\n",
       "       Germany          454.0\n",
       "silver United States   1195.0\n",
       "       Soviet Union     627.0\n",
       "       United Kingdom   591.0\n",
       "       France           461.0\n",
       "       Italy            394.0\n",
       "gold   United States   2088.0\n",
       "       Soviet Union     838.0\n",
       "       United Kingdom   498.0\n",
       "       Italy            460.0\n",
       "       Germany          407.0"
      ]
     },
     "execution_count": 25,
     "metadata": {},
     "output_type": "execute_result"
    }
   ],
   "source": [
    "for medal in medal_types:\n",
    "  file_name = \"%s_top5.csv\" % medal\n",
    "  medal_df = pd.read_csv('medals/'+file_name, index_col='Country')\n",
    "  medals.append(medal_df)\n",
    "medals = pd.concat(medals, keys=medal_types, sort=False)\n",
    "medals"
   ]
  },
  {
   "cell_type": "markdown",
   "metadata": {
    "colab_type": "text",
    "id": "-cnYIBmnobGU"
   },
   "source": [
    "### Slicing MultiIndexed DataFrames"
   ]
  },
  {
   "cell_type": "code",
   "execution_count": 26,
   "metadata": {
    "colab": {
     "base_uri": "https://localhost:8080/",
     "height": 235
    },
    "colab_type": "code",
    "executionInfo": {
     "elapsed": 425,
     "status": "ok",
     "timestamp": 1540545263722,
     "user": {
      "displayName": "Karol Jezierski",
      "photoUrl": "https://lh5.googleusercontent.com/-wgjj5yIIzw4/AAAAAAAAAAI/AAAAAAAAAdg/ukUvmCQdBQc/s64/photo.jpg",
      "userId": "07387898320424940670"
     },
     "user_tz": -120
    },
    "id": "0sNOsLU_oCfa",
    "outputId": "d3997e91-9268-4a43-f105-5f690e2e8fe5"
   },
   "outputs": [
    {
     "data": {
      "text/html": [
       "<div>\n",
       "<style scoped>\n",
       "    .dataframe tbody tr th:only-of-type {\n",
       "        vertical-align: middle;\n",
       "    }\n",
       "\n",
       "    .dataframe tbody tr th {\n",
       "        vertical-align: top;\n",
       "    }\n",
       "\n",
       "    .dataframe thead th {\n",
       "        text-align: right;\n",
       "    }\n",
       "</style>\n",
       "<table border=\"1\" class=\"dataframe\">\n",
       "  <thead>\n",
       "    <tr style=\"text-align: right;\">\n",
       "      <th></th>\n",
       "      <th></th>\n",
       "      <th>Total</th>\n",
       "    </tr>\n",
       "    <tr>\n",
       "      <th></th>\n",
       "      <th>Country</th>\n",
       "      <th></th>\n",
       "    </tr>\n",
       "  </thead>\n",
       "  <tbody>\n",
       "    <tr>\n",
       "      <th rowspan=\"5\" valign=\"top\">bronze</th>\n",
       "      <th>France</th>\n",
       "      <td>475.0</td>\n",
       "    </tr>\n",
       "    <tr>\n",
       "      <th>Germany</th>\n",
       "      <td>454.0</td>\n",
       "    </tr>\n",
       "    <tr>\n",
       "      <th>Soviet Union</th>\n",
       "      <td>584.0</td>\n",
       "    </tr>\n",
       "    <tr>\n",
       "      <th>United Kingdom</th>\n",
       "      <td>505.0</td>\n",
       "    </tr>\n",
       "    <tr>\n",
       "      <th>United States</th>\n",
       "      <td>1052.0</td>\n",
       "    </tr>\n",
       "  </tbody>\n",
       "</table>\n",
       "</div>"
      ],
      "text/plain": [
       "                        Total\n",
       "       Country               \n",
       "bronze France           475.0\n",
       "       Germany          454.0\n",
       "       Soviet Union     584.0\n",
       "       United Kingdom   505.0\n",
       "       United States   1052.0"
      ]
     },
     "execution_count": 26,
     "metadata": {},
     "output_type": "execute_result"
    }
   ],
   "source": [
    "medals_sorted = medals.sort_index(level=0)\n",
    "medals_sorted.head()"
   ]
  },
  {
   "cell_type": "code",
   "execution_count": 27,
   "metadata": {
    "colab": {
     "base_uri": "https://localhost:8080/",
     "height": 51
    },
    "colab_type": "code",
    "executionInfo": {
     "elapsed": 404,
     "status": "ok",
     "timestamp": 1540545306389,
     "user": {
      "displayName": "Karol Jezierski",
      "photoUrl": "https://lh5.googleusercontent.com/-wgjj5yIIzw4/AAAAAAAAAAI/AAAAAAAAAdg/ukUvmCQdBQc/s64/photo.jpg",
      "userId": "07387898320424940670"
     },
     "user_tz": -120
    },
    "id": "24OhPVK7pw91",
    "outputId": "013b667c-4abd-405e-df0f-0dfcd34cc85b"
   },
   "outputs": [
    {
     "data": {
      "text/plain": [
       "Total    454.0\n",
       "Name: (bronze, Germany), dtype: float64"
      ]
     },
     "execution_count": 27,
     "metadata": {},
     "output_type": "execute_result"
    }
   ],
   "source": [
    "medals_sorted.loc[('bronze','Germany')]"
   ]
  },
  {
   "cell_type": "code",
   "execution_count": 28,
   "metadata": {
    "colab": {
     "base_uri": "https://localhost:8080/",
     "height": 235
    },
    "colab_type": "code",
    "executionInfo": {
     "elapsed": 441,
     "status": "ok",
     "timestamp": 1540545299723,
     "user": {
      "displayName": "Karol Jezierski",
      "photoUrl": "https://lh5.googleusercontent.com/-wgjj5yIIzw4/AAAAAAAAAAI/AAAAAAAAAdg/ukUvmCQdBQc/s64/photo.jpg",
      "userId": "07387898320424940670"
     },
     "user_tz": -120
    },
    "id": "t8huq7E2p23V",
    "outputId": "6a3560cb-17a2-4cd5-d871-580cd4412392"
   },
   "outputs": [
    {
     "data": {
      "text/html": [
       "<div>\n",
       "<style scoped>\n",
       "    .dataframe tbody tr th:only-of-type {\n",
       "        vertical-align: middle;\n",
       "    }\n",
       "\n",
       "    .dataframe tbody tr th {\n",
       "        vertical-align: top;\n",
       "    }\n",
       "\n",
       "    .dataframe thead th {\n",
       "        text-align: right;\n",
       "    }\n",
       "</style>\n",
       "<table border=\"1\" class=\"dataframe\">\n",
       "  <thead>\n",
       "    <tr style=\"text-align: right;\">\n",
       "      <th></th>\n",
       "      <th>Total</th>\n",
       "    </tr>\n",
       "    <tr>\n",
       "      <th>Country</th>\n",
       "      <th></th>\n",
       "    </tr>\n",
       "  </thead>\n",
       "  <tbody>\n",
       "    <tr>\n",
       "      <th>France</th>\n",
       "      <td>461.0</td>\n",
       "    </tr>\n",
       "    <tr>\n",
       "      <th>Italy</th>\n",
       "      <td>394.0</td>\n",
       "    </tr>\n",
       "    <tr>\n",
       "      <th>Soviet Union</th>\n",
       "      <td>627.0</td>\n",
       "    </tr>\n",
       "    <tr>\n",
       "      <th>United Kingdom</th>\n",
       "      <td>591.0</td>\n",
       "    </tr>\n",
       "    <tr>\n",
       "      <th>United States</th>\n",
       "      <td>1195.0</td>\n",
       "    </tr>\n",
       "  </tbody>\n",
       "</table>\n",
       "</div>"
      ],
      "text/plain": [
       "                 Total\n",
       "Country               \n",
       "France           461.0\n",
       "Italy            394.0\n",
       "Soviet Union     627.0\n",
       "United Kingdom   591.0\n",
       "United States   1195.0"
      ]
     },
     "execution_count": 28,
     "metadata": {},
     "output_type": "execute_result"
    }
   ],
   "source": [
    "medals_sorted.loc['silver']"
   ]
  },
  {
   "cell_type": "code",
   "execution_count": 29,
   "metadata": {
    "colab": {
     "base_uri": "https://localhost:8080/",
     "height": 173
    },
    "colab_type": "code",
    "executionInfo": {
     "elapsed": 418,
     "status": "ok",
     "timestamp": 1540545317868,
     "user": {
      "displayName": "Karol Jezierski",
      "photoUrl": "https://lh5.googleusercontent.com/-wgjj5yIIzw4/AAAAAAAAAAI/AAAAAAAAAdg/ukUvmCQdBQc/s64/photo.jpg",
      "userId": "07387898320424940670"
     },
     "user_tz": -120
    },
    "id": "9Gdu_vBjp5JV",
    "outputId": "43c5f466-ad2b-4f8d-e8e9-f5d7dbc04b7e"
   },
   "outputs": [
    {
     "data": {
      "text/html": [
       "<div>\n",
       "<style scoped>\n",
       "    .dataframe tbody tr th:only-of-type {\n",
       "        vertical-align: middle;\n",
       "    }\n",
       "\n",
       "    .dataframe tbody tr th {\n",
       "        vertical-align: top;\n",
       "    }\n",
       "\n",
       "    .dataframe thead th {\n",
       "        text-align: right;\n",
       "    }\n",
       "</style>\n",
       "<table border=\"1\" class=\"dataframe\">\n",
       "  <thead>\n",
       "    <tr style=\"text-align: right;\">\n",
       "      <th></th>\n",
       "      <th></th>\n",
       "      <th>Total</th>\n",
       "    </tr>\n",
       "    <tr>\n",
       "      <th></th>\n",
       "      <th>Country</th>\n",
       "      <th></th>\n",
       "    </tr>\n",
       "  </thead>\n",
       "  <tbody>\n",
       "    <tr>\n",
       "      <th>bronze</th>\n",
       "      <th>United Kingdom</th>\n",
       "      <td>505.0</td>\n",
       "    </tr>\n",
       "    <tr>\n",
       "      <th>gold</th>\n",
       "      <th>United Kingdom</th>\n",
       "      <td>498.0</td>\n",
       "    </tr>\n",
       "    <tr>\n",
       "      <th>silver</th>\n",
       "      <th>United Kingdom</th>\n",
       "      <td>591.0</td>\n",
       "    </tr>\n",
       "  </tbody>\n",
       "</table>\n",
       "</div>"
      ],
      "text/plain": [
       "                       Total\n",
       "       Country              \n",
       "bronze United Kingdom  505.0\n",
       "gold   United Kingdom  498.0\n",
       "silver United Kingdom  591.0"
      ]
     },
     "execution_count": 29,
     "metadata": {},
     "output_type": "execute_result"
    }
   ],
   "source": [
    "idx = pd.IndexSlice\n",
    "medals_sorted.loc[idx[:,'United Kingdom'], :]"
   ]
  },
  {
   "cell_type": "markdown",
   "metadata": {
    "colab_type": "text",
    "id": "1NPr8U4TqGPt"
   },
   "source": [
    "### Concatenating horizontally to get MultiIndexed columns"
   ]
  },
  {
   "cell_type": "code",
   "execution_count": 30,
   "metadata": {
    "colab": {
     "base_uri": "https://localhost:8080/",
     "height": 459
    },
    "colab_type": "code",
    "executionInfo": {
     "elapsed": 458,
     "status": "ok",
     "timestamp": 1540545882582,
     "user": {
      "displayName": "Karol Jezierski",
      "photoUrl": "https://lh5.googleusercontent.com/-wgjj5yIIzw4/AAAAAAAAAAI/AAAAAAAAAdg/ukUvmCQdBQc/s64/photo.jpg",
      "userId": "07387898320424940670"
     },
     "user_tz": -120
    },
    "id": "kIrf9amgqAoF",
    "outputId": "f9e5e0f8-a7bf-4766-bf00-907bc5b42ec3"
   },
   "outputs": [
    {
     "data": {
      "text/plain": [
       "[                             Company   Product  Units\n",
       " Date                                                 \n",
       " 2015-02-04 21:52:45  Acme Coporation  Hardware     14\n",
       " 2015-02-07 22:58:10  Acme Coporation  Hardware      1\n",
       " 2015-02-19 10:59:33        Mediacore  Hardware     16\n",
       " 2015-02-02 20:54:49        Mediacore  Hardware      9\n",
       " 2015-02-21 20:41:47            Hooli  Hardware      3,\n",
       "                              Company   Product  Units\n",
       " Date                                                 \n",
       " 2015-02-16 12:09:19            Hooli  Software     10\n",
       " 2015-02-03 14:14:18          Initech  Software     13\n",
       " 2015-02-02 08:33:01            Hooli  Software      3\n",
       " 2015-02-05 01:53:06  Acme Coporation  Software     19\n",
       " 2015-02-11 20:03:08          Initech  Software      7\n",
       " 2015-02-09 13:09:55        Mediacore  Software      7\n",
       " 2015-02-11 22:50:44            Hooli  Software      4\n",
       " 2015-02-04 15:36:29        Streeplex  Software     13\n",
       " 2015-02-21 05:01:26        Mediacore  Software      3,\n",
       "                        Company  Product  Units\n",
       " Date                                          \n",
       " 2015-02-26 08:57:45  Streeplex  Service      4\n",
       " 2015-02-25 00:29:00    Initech  Service     10\n",
       " 2015-02-09 08:57:30  Streeplex  Service     19\n",
       " 2015-02-26 08:58:51  Streeplex  Service      1\n",
       " 2015-02-05 22:05:03      Hooli  Service     10\n",
       " 2015-02-19 16:02:58  Mediacore  Service     10]"
      ]
     },
     "execution_count": 30,
     "metadata": {},
     "output_type": "execute_result"
    }
   ],
   "source": [
    "dataframes = []\n",
    "files = ['feb-sales-Hardware.csv', 'feb-sales-Software.csv', 'feb-sales-Service.csv']\n",
    "for file in files:\n",
    "  sales_df = pd.read_csv('sales/'+file, parse_dates=True, index_col='Date')\n",
    "  dataframes.append(sales_df)\n",
    "dataframes"
   ]
  },
  {
   "cell_type": "code",
   "execution_count": 31,
   "metadata": {
    "colab": {
     "base_uri": "https://localhost:8080/",
     "height": 351
    },
    "colab_type": "code",
    "executionInfo": {
     "elapsed": 432,
     "status": "ok",
     "timestamp": 1540546068286,
     "user": {
      "displayName": "Karol Jezierski",
      "photoUrl": "https://lh5.googleusercontent.com/-wgjj5yIIzw4/AAAAAAAAAAI/AAAAAAAAAdg/ukUvmCQdBQc/s64/photo.jpg",
      "userId": "07387898320424940670"
     },
     "user_tz": -120
    },
    "id": "Q0NFNCsrr6nx",
    "outputId": "dec845d2-98ce-479e-db97-7b6662a0a8f0"
   },
   "outputs": [
    {
     "data": {
      "text/html": [
       "<div>\n",
       "<style scoped>\n",
       "    .dataframe tbody tr th:only-of-type {\n",
       "        vertical-align: middle;\n",
       "    }\n",
       "\n",
       "    .dataframe tbody tr th {\n",
       "        vertical-align: top;\n",
       "    }\n",
       "\n",
       "    .dataframe thead tr th {\n",
       "        text-align: left;\n",
       "    }\n",
       "\n",
       "    .dataframe thead tr:last-of-type th {\n",
       "        text-align: right;\n",
       "    }\n",
       "</style>\n",
       "<table border=\"1\" class=\"dataframe\">\n",
       "  <thead>\n",
       "    <tr>\n",
       "      <th></th>\n",
       "      <th colspan=\"3\" halign=\"left\">Hardware</th>\n",
       "      <th colspan=\"3\" halign=\"left\">Software</th>\n",
       "      <th colspan=\"3\" halign=\"left\">Service</th>\n",
       "    </tr>\n",
       "    <tr>\n",
       "      <th></th>\n",
       "      <th>Company</th>\n",
       "      <th>Product</th>\n",
       "      <th>Units</th>\n",
       "      <th>Company</th>\n",
       "      <th>Product</th>\n",
       "      <th>Units</th>\n",
       "      <th>Company</th>\n",
       "      <th>Product</th>\n",
       "      <th>Units</th>\n",
       "    </tr>\n",
       "    <tr>\n",
       "      <th>Date</th>\n",
       "      <th></th>\n",
       "      <th></th>\n",
       "      <th></th>\n",
       "      <th></th>\n",
       "      <th></th>\n",
       "      <th></th>\n",
       "      <th></th>\n",
       "      <th></th>\n",
       "      <th></th>\n",
       "    </tr>\n",
       "  </thead>\n",
       "  <tbody>\n",
       "    <tr>\n",
       "      <th>2015-02-02 08:33:01</th>\n",
       "      <td>NaN</td>\n",
       "      <td>NaN</td>\n",
       "      <td>NaN</td>\n",
       "      <td>Hooli</td>\n",
       "      <td>Software</td>\n",
       "      <td>3.0</td>\n",
       "      <td>NaN</td>\n",
       "      <td>NaN</td>\n",
       "      <td>NaN</td>\n",
       "    </tr>\n",
       "    <tr>\n",
       "      <th>2015-02-02 20:54:49</th>\n",
       "      <td>Mediacore</td>\n",
       "      <td>Hardware</td>\n",
       "      <td>9.0</td>\n",
       "      <td>NaN</td>\n",
       "      <td>NaN</td>\n",
       "      <td>NaN</td>\n",
       "      <td>NaN</td>\n",
       "      <td>NaN</td>\n",
       "      <td>NaN</td>\n",
       "    </tr>\n",
       "    <tr>\n",
       "      <th>2015-02-03 14:14:18</th>\n",
       "      <td>NaN</td>\n",
       "      <td>NaN</td>\n",
       "      <td>NaN</td>\n",
       "      <td>Initech</td>\n",
       "      <td>Software</td>\n",
       "      <td>13.0</td>\n",
       "      <td>NaN</td>\n",
       "      <td>NaN</td>\n",
       "      <td>NaN</td>\n",
       "    </tr>\n",
       "    <tr>\n",
       "      <th>2015-02-04 15:36:29</th>\n",
       "      <td>NaN</td>\n",
       "      <td>NaN</td>\n",
       "      <td>NaN</td>\n",
       "      <td>Streeplex</td>\n",
       "      <td>Software</td>\n",
       "      <td>13.0</td>\n",
       "      <td>NaN</td>\n",
       "      <td>NaN</td>\n",
       "      <td>NaN</td>\n",
       "    </tr>\n",
       "    <tr>\n",
       "      <th>2015-02-04 21:52:45</th>\n",
       "      <td>Acme Coporation</td>\n",
       "      <td>Hardware</td>\n",
       "      <td>14.0</td>\n",
       "      <td>NaN</td>\n",
       "      <td>NaN</td>\n",
       "      <td>NaN</td>\n",
       "      <td>NaN</td>\n",
       "      <td>NaN</td>\n",
       "      <td>NaN</td>\n",
       "    </tr>\n",
       "  </tbody>\n",
       "</table>\n",
       "</div>"
      ],
      "text/plain": [
       "                            Hardware                   Software            \\\n",
       "                             Company   Product Units    Company   Product   \n",
       "Date                                                                        \n",
       "2015-02-02 08:33:01              NaN       NaN   NaN      Hooli  Software   \n",
       "2015-02-02 20:54:49        Mediacore  Hardware   9.0        NaN       NaN   \n",
       "2015-02-03 14:14:18              NaN       NaN   NaN    Initech  Software   \n",
       "2015-02-04 15:36:29              NaN       NaN   NaN  Streeplex  Software   \n",
       "2015-02-04 21:52:45  Acme Coporation  Hardware  14.0        NaN       NaN   \n",
       "\n",
       "                          Service                \n",
       "                    Units Company Product Units  \n",
       "Date                                             \n",
       "2015-02-02 08:33:01   3.0     NaN     NaN   NaN  \n",
       "2015-02-02 20:54:49   NaN     NaN     NaN   NaN  \n",
       "2015-02-03 14:14:18  13.0     NaN     NaN   NaN  \n",
       "2015-02-04 15:36:29  13.0     NaN     NaN   NaN  \n",
       "2015-02-04 21:52:45   NaN     NaN     NaN   NaN  "
      ]
     },
     "execution_count": 31,
     "metadata": {},
     "output_type": "execute_result"
    }
   ],
   "source": [
    "february = pd.concat(dataframes, keys=['Hardware', 'Software', 'Service'], axis=1)\n",
    "february.head()"
   ]
  },
  {
   "cell_type": "code",
   "execution_count": 32,
   "metadata": {
    "colab": {
     "base_uri": "https://localhost:8080/",
     "height": 255
    },
    "colab_type": "code",
    "executionInfo": {
     "elapsed": 478,
     "status": "ok",
     "timestamp": 1540546081938,
     "user": {
      "displayName": "Karol Jezierski",
      "photoUrl": "https://lh5.googleusercontent.com/-wgjj5yIIzw4/AAAAAAAAAAI/AAAAAAAAAdg/ukUvmCQdBQc/s64/photo.jpg",
      "userId": "07387898320424940670"
     },
     "user_tz": -120
    },
    "id": "5VK2gUGBs2Gi",
    "outputId": "2e782ffd-ce4b-41c8-947c-3b20c0842e55"
   },
   "outputs": [
    {
     "name": "stdout",
     "output_type": "stream",
     "text": [
      "<class 'pandas.core.frame.DataFrame'>\n",
      "DatetimeIndex: 20 entries, 2015-02-02 08:33:01 to 2015-02-26 08:58:51\n",
      "Data columns (total 9 columns):\n",
      "(Hardware, Company)    5 non-null object\n",
      "(Hardware, Product)    5 non-null object\n",
      "(Hardware, Units)      5 non-null float64\n",
      "(Software, Company)    9 non-null object\n",
      "(Software, Product)    9 non-null object\n",
      "(Software, Units)      9 non-null float64\n",
      "(Service, Company)     6 non-null object\n",
      "(Service, Product)     6 non-null object\n",
      "(Service, Units)       6 non-null float64\n",
      "dtypes: float64(3), object(6)\n",
      "memory usage: 1.6+ KB\n"
     ]
    }
   ],
   "source": [
    "february.info()"
   ]
  },
  {
   "cell_type": "code",
   "execution_count": 33,
   "metadata": {
    "colab": {
     "base_uri": "https://localhost:8080/",
     "height": 359
    },
    "colab_type": "code",
    "executionInfo": {
     "elapsed": 501,
     "status": "ok",
     "timestamp": 1540546185108,
     "user": {
      "displayName": "Karol Jezierski",
      "photoUrl": "https://lh5.googleusercontent.com/-wgjj5yIIzw4/AAAAAAAAAAI/AAAAAAAAAdg/ukUvmCQdBQc/s64/photo.jpg",
      "userId": "07387898320424940670"
     },
     "user_tz": -120
    },
    "id": "jtAhBh5us7J6",
    "outputId": "cefb5bc1-c15f-4c18-9c81-416c5c3b42f1"
   },
   "outputs": [
    {
     "data": {
      "text/html": [
       "<div>\n",
       "<style scoped>\n",
       "    .dataframe tbody tr th:only-of-type {\n",
       "        vertical-align: middle;\n",
       "    }\n",
       "\n",
       "    .dataframe tbody tr th {\n",
       "        vertical-align: top;\n",
       "    }\n",
       "\n",
       "    .dataframe thead tr th {\n",
       "        text-align: left;\n",
       "    }\n",
       "\n",
       "    .dataframe thead tr:last-of-type th {\n",
       "        text-align: right;\n",
       "    }\n",
       "</style>\n",
       "<table border=\"1\" class=\"dataframe\">\n",
       "  <thead>\n",
       "    <tr>\n",
       "      <th></th>\n",
       "      <th>Hardware</th>\n",
       "      <th>Software</th>\n",
       "      <th>Service</th>\n",
       "    </tr>\n",
       "    <tr>\n",
       "      <th></th>\n",
       "      <th>Company</th>\n",
       "      <th>Company</th>\n",
       "      <th>Company</th>\n",
       "    </tr>\n",
       "    <tr>\n",
       "      <th>Date</th>\n",
       "      <th></th>\n",
       "      <th></th>\n",
       "      <th></th>\n",
       "    </tr>\n",
       "  </thead>\n",
       "  <tbody>\n",
       "    <tr>\n",
       "      <th>2015-02-02 08:33:01</th>\n",
       "      <td>NaN</td>\n",
       "      <td>Hooli</td>\n",
       "      <td>NaN</td>\n",
       "    </tr>\n",
       "    <tr>\n",
       "      <th>2015-02-02 20:54:49</th>\n",
       "      <td>Mediacore</td>\n",
       "      <td>NaN</td>\n",
       "      <td>NaN</td>\n",
       "    </tr>\n",
       "    <tr>\n",
       "      <th>2015-02-03 14:14:18</th>\n",
       "      <td>NaN</td>\n",
       "      <td>Initech</td>\n",
       "      <td>NaN</td>\n",
       "    </tr>\n",
       "    <tr>\n",
       "      <th>2015-02-04 15:36:29</th>\n",
       "      <td>NaN</td>\n",
       "      <td>Streeplex</td>\n",
       "      <td>NaN</td>\n",
       "    </tr>\n",
       "    <tr>\n",
       "      <th>2015-02-04 21:52:45</th>\n",
       "      <td>Acme Coporation</td>\n",
       "      <td>NaN</td>\n",
       "      <td>NaN</td>\n",
       "    </tr>\n",
       "    <tr>\n",
       "      <th>2015-02-05 01:53:06</th>\n",
       "      <td>NaN</td>\n",
       "      <td>Acme Coporation</td>\n",
       "      <td>NaN</td>\n",
       "    </tr>\n",
       "    <tr>\n",
       "      <th>2015-02-05 22:05:03</th>\n",
       "      <td>NaN</td>\n",
       "      <td>NaN</td>\n",
       "      <td>Hooli</td>\n",
       "    </tr>\n",
       "    <tr>\n",
       "      <th>2015-02-07 22:58:10</th>\n",
       "      <td>Acme Coporation</td>\n",
       "      <td>NaN</td>\n",
       "      <td>NaN</td>\n",
       "    </tr>\n",
       "  </tbody>\n",
       "</table>\n",
       "</div>"
      ],
      "text/plain": [
       "                            Hardware         Software Service\n",
       "                             Company          Company Company\n",
       "Date                                                         \n",
       "2015-02-02 08:33:01              NaN            Hooli     NaN\n",
       "2015-02-02 20:54:49        Mediacore              NaN     NaN\n",
       "2015-02-03 14:14:18              NaN          Initech     NaN\n",
       "2015-02-04 15:36:29              NaN        Streeplex     NaN\n",
       "2015-02-04 21:52:45  Acme Coporation              NaN     NaN\n",
       "2015-02-05 01:53:06              NaN  Acme Coporation     NaN\n",
       "2015-02-05 22:05:03              NaN              NaN   Hooli\n",
       "2015-02-07 22:58:10  Acme Coporation              NaN     NaN"
      ]
     },
     "execution_count": 33,
     "metadata": {},
     "output_type": "execute_result"
    }
   ],
   "source": [
    "idx = pd.IndexSlice\n",
    "slice_2_8 = february.loc['2015-2-2':'2015-2-8', idx[:,'Company']]\n",
    "slice_2_8"
   ]
  },
  {
   "cell_type": "markdown",
   "metadata": {
    "colab_type": "text",
    "id": "N-cAcAwVtdNe"
   },
   "source": [
    "### Concatenating DataFrames from a dict"
   ]
  },
  {
   "cell_type": "code",
   "execution_count": 34,
   "metadata": {
    "colab": {},
    "colab_type": "code",
    "id": "AKQ5Zw_ptUVj"
   },
   "outputs": [],
   "source": [
    "month_list = [('january', jan), ('february', feb), ('march', mar)]\n",
    "month_dict = {}"
   ]
  },
  {
   "cell_type": "code",
   "execution_count": 35,
   "metadata": {
    "colab": {},
    "colab_type": "code",
    "id": "jCdlIol0vxx_"
   },
   "outputs": [],
   "source": [
    "for month_name, month_data in month_list:\n",
    "  month_dict[month_name] = month_data.groupby('Company').sum()\n",
    "sales = pd.concat(month_dict)"
   ]
  },
  {
   "cell_type": "code",
   "execution_count": 36,
   "metadata": {
    "colab": {
     "base_uri": "https://localhost:8080/",
     "height": 545
    },
    "colab_type": "code",
    "executionInfo": {
     "elapsed": 451,
     "status": "ok",
     "timestamp": 1540547096450,
     "user": {
      "displayName": "Karol Jezierski",
      "photoUrl": "https://lh5.googleusercontent.com/-wgjj5yIIzw4/AAAAAAAAAAI/AAAAAAAAAdg/ukUvmCQdBQc/s64/photo.jpg",
      "userId": "07387898320424940670"
     },
     "user_tz": -120
    },
    "id": "IPFyshhOws_p",
    "outputId": "b5df3299-728e-490f-ac15-64e67d4b05c9"
   },
   "outputs": [
    {
     "data": {
      "text/html": [
       "<div>\n",
       "<style scoped>\n",
       "    .dataframe tbody tr th:only-of-type {\n",
       "        vertical-align: middle;\n",
       "    }\n",
       "\n",
       "    .dataframe tbody tr th {\n",
       "        vertical-align: top;\n",
       "    }\n",
       "\n",
       "    .dataframe thead th {\n",
       "        text-align: right;\n",
       "    }\n",
       "</style>\n",
       "<table border=\"1\" class=\"dataframe\">\n",
       "  <thead>\n",
       "    <tr style=\"text-align: right;\">\n",
       "      <th></th>\n",
       "      <th></th>\n",
       "      <th>Units</th>\n",
       "    </tr>\n",
       "    <tr>\n",
       "      <th></th>\n",
       "      <th>Company</th>\n",
       "      <th></th>\n",
       "    </tr>\n",
       "  </thead>\n",
       "  <tbody>\n",
       "    <tr>\n",
       "      <th rowspan=\"5\" valign=\"top\">february</th>\n",
       "      <th>Acme Coporation</th>\n",
       "      <td>34</td>\n",
       "    </tr>\n",
       "    <tr>\n",
       "      <th>Hooli</th>\n",
       "      <td>30</td>\n",
       "    </tr>\n",
       "    <tr>\n",
       "      <th>Initech</th>\n",
       "      <td>30</td>\n",
       "    </tr>\n",
       "    <tr>\n",
       "      <th>Mediacore</th>\n",
       "      <td>45</td>\n",
       "    </tr>\n",
       "    <tr>\n",
       "      <th>Streeplex</th>\n",
       "      <td>36</td>\n",
       "    </tr>\n",
       "    <tr>\n",
       "      <th rowspan=\"5\" valign=\"top\">january</th>\n",
       "      <th>Acme Coporation</th>\n",
       "      <td>76</td>\n",
       "    </tr>\n",
       "    <tr>\n",
       "      <th>Hooli</th>\n",
       "      <td>70</td>\n",
       "    </tr>\n",
       "    <tr>\n",
       "      <th>Initech</th>\n",
       "      <td>37</td>\n",
       "    </tr>\n",
       "    <tr>\n",
       "      <th>Mediacore</th>\n",
       "      <td>15</td>\n",
       "    </tr>\n",
       "    <tr>\n",
       "      <th>Streeplex</th>\n",
       "      <td>50</td>\n",
       "    </tr>\n",
       "    <tr>\n",
       "      <th rowspan=\"5\" valign=\"top\">march</th>\n",
       "      <th>Acme Coporation</th>\n",
       "      <td>5</td>\n",
       "    </tr>\n",
       "    <tr>\n",
       "      <th>Hooli</th>\n",
       "      <td>37</td>\n",
       "    </tr>\n",
       "    <tr>\n",
       "      <th>Initech</th>\n",
       "      <td>68</td>\n",
       "    </tr>\n",
       "    <tr>\n",
       "      <th>Mediacore</th>\n",
       "      <td>68</td>\n",
       "    </tr>\n",
       "    <tr>\n",
       "      <th>Streeplex</th>\n",
       "      <td>40</td>\n",
       "    </tr>\n",
       "  </tbody>\n",
       "</table>\n",
       "</div>"
      ],
      "text/plain": [
       "                          Units\n",
       "         Company               \n",
       "february Acme Coporation     34\n",
       "         Hooli               30\n",
       "         Initech             30\n",
       "         Mediacore           45\n",
       "         Streeplex           36\n",
       "january  Acme Coporation     76\n",
       "         Hooli               70\n",
       "         Initech             37\n",
       "         Mediacore           15\n",
       "         Streeplex           50\n",
       "march    Acme Coporation      5\n",
       "         Hooli               37\n",
       "         Initech             68\n",
       "         Mediacore           68\n",
       "         Streeplex           40"
      ]
     },
     "execution_count": 36,
     "metadata": {},
     "output_type": "execute_result"
    }
   ],
   "source": [
    "sales"
   ]
  },
  {
   "cell_type": "code",
   "execution_count": 37,
   "metadata": {
    "colab": {
     "base_uri": "https://localhost:8080/",
     "height": 102
    },
    "colab_type": "code",
    "executionInfo": {
     "elapsed": 422,
     "status": "ok",
     "timestamp": 1540547087899,
     "user": {
      "displayName": "Karol Jezierski",
      "photoUrl": "https://lh5.googleusercontent.com/-wgjj5yIIzw4/AAAAAAAAAAI/AAAAAAAAAdg/ukUvmCQdBQc/s64/photo.jpg",
      "userId": "07387898320424940670"
     },
     "user_tz": -120
    },
    "id": "LFuoylg_wumJ",
    "outputId": "070efc87-7642-4ca9-c4d9-f634e7253f98"
   },
   "outputs": [
    {
     "name": "stdout",
     "output_type": "stream",
     "text": [
      "                    Units\n",
      "         Company         \n",
      "february Mediacore     45\n",
      "january  Mediacore     15\n",
      "march    Mediacore     68\n"
     ]
    }
   ],
   "source": [
    "idx = pd.IndexSlice\n",
    "print(sales.loc[idx[:, 'Mediacore'], :])"
   ]
  },
  {
   "cell_type": "markdown",
   "metadata": {
    "colab_type": "text",
    "id": "gVfW_nhxzNHf"
   },
   "source": [
    "### Concatenating DataFrames with inner join"
   ]
  },
  {
   "cell_type": "code",
   "execution_count": 41,
   "metadata": {
    "colab": {},
    "colab_type": "code",
    "id": "3WNse_Uowww6"
   },
   "outputs": [],
   "source": [
    "bronze = pd.read_csv('medals/bronze_top5.csv', index_col='Country')\n",
    "silver = pd.read_csv('medals/silver_top5.csv', index_col='Country')\n",
    "gold = pd.read_csv('medals/gold_top5.csv', index_col='Country')"
   ]
  },
  {
   "cell_type": "code",
   "execution_count": 42,
   "metadata": {
    "colab": {
     "base_uri": "https://localhost:8080/",
     "height": 235
    },
    "colab_type": "code",
    "executionInfo": {
     "elapsed": 417,
     "status": "ok",
     "timestamp": 1540547908266,
     "user": {
      "displayName": "Karol Jezierski",
      "photoUrl": "https://lh5.googleusercontent.com/-wgjj5yIIzw4/AAAAAAAAAAI/AAAAAAAAAdg/ukUvmCQdBQc/s64/photo.jpg",
      "userId": "07387898320424940670"
     },
     "user_tz": -120
    },
    "id": "pEToumxczRQn",
    "outputId": "43a2b9fa-8705-431b-dd34-ccd867189f1f"
   },
   "outputs": [
    {
     "data": {
      "text/html": [
       "<div>\n",
       "<style scoped>\n",
       "    .dataframe tbody tr th:only-of-type {\n",
       "        vertical-align: middle;\n",
       "    }\n",
       "\n",
       "    .dataframe tbody tr th {\n",
       "        vertical-align: top;\n",
       "    }\n",
       "\n",
       "    .dataframe thead th {\n",
       "        text-align: right;\n",
       "    }\n",
       "</style>\n",
       "<table border=\"1\" class=\"dataframe\">\n",
       "  <thead>\n",
       "    <tr style=\"text-align: right;\">\n",
       "      <th></th>\n",
       "      <th>Total</th>\n",
       "    </tr>\n",
       "    <tr>\n",
       "      <th>Country</th>\n",
       "      <th></th>\n",
       "    </tr>\n",
       "  </thead>\n",
       "  <tbody>\n",
       "    <tr>\n",
       "      <th>United States</th>\n",
       "      <td>1052.0</td>\n",
       "    </tr>\n",
       "    <tr>\n",
       "      <th>Soviet Union</th>\n",
       "      <td>584.0</td>\n",
       "    </tr>\n",
       "    <tr>\n",
       "      <th>United Kingdom</th>\n",
       "      <td>505.0</td>\n",
       "    </tr>\n",
       "    <tr>\n",
       "      <th>France</th>\n",
       "      <td>475.0</td>\n",
       "    </tr>\n",
       "    <tr>\n",
       "      <th>Germany</th>\n",
       "      <td>454.0</td>\n",
       "    </tr>\n",
       "  </tbody>\n",
       "</table>\n",
       "</div>"
      ],
      "text/plain": [
       "                 Total\n",
       "Country               \n",
       "United States   1052.0\n",
       "Soviet Union     584.0\n",
       "United Kingdom   505.0\n",
       "France           475.0\n",
       "Germany          454.0"
      ]
     },
     "execution_count": 42,
     "metadata": {},
     "output_type": "execute_result"
    }
   ],
   "source": [
    "bronze"
   ]
  },
  {
   "cell_type": "code",
   "execution_count": 43,
   "metadata": {
    "colab": {
     "base_uri": "https://localhost:8080/",
     "height": 266
    },
    "colab_type": "code",
    "executionInfo": {
     "elapsed": 421,
     "status": "ok",
     "timestamp": 1540548030623,
     "user": {
      "displayName": "Karol Jezierski",
      "photoUrl": "https://lh5.googleusercontent.com/-wgjj5yIIzw4/AAAAAAAAAAI/AAAAAAAAAdg/ukUvmCQdBQc/s64/photo.jpg",
      "userId": "07387898320424940670"
     },
     "user_tz": -120
    },
    "id": "mlghjySMz5C7",
    "outputId": "5e53dac5-371e-4f3f-9667-ad4503e1a895"
   },
   "outputs": [
    {
     "data": {
      "text/html": [
       "<div>\n",
       "<style scoped>\n",
       "    .dataframe tbody tr th:only-of-type {\n",
       "        vertical-align: middle;\n",
       "    }\n",
       "\n",
       "    .dataframe tbody tr th {\n",
       "        vertical-align: top;\n",
       "    }\n",
       "\n",
       "    .dataframe thead tr th {\n",
       "        text-align: left;\n",
       "    }\n",
       "</style>\n",
       "<table border=\"1\" class=\"dataframe\">\n",
       "  <thead>\n",
       "    <tr>\n",
       "      <th></th>\n",
       "      <th>bronze</th>\n",
       "      <th>silver</th>\n",
       "      <th>gold</th>\n",
       "    </tr>\n",
       "    <tr>\n",
       "      <th></th>\n",
       "      <th>Total</th>\n",
       "      <th>Total</th>\n",
       "      <th>Total</th>\n",
       "    </tr>\n",
       "  </thead>\n",
       "  <tbody>\n",
       "    <tr>\n",
       "      <th>United States</th>\n",
       "      <td>1052.0</td>\n",
       "      <td>1195.0</td>\n",
       "      <td>2088.0</td>\n",
       "    </tr>\n",
       "    <tr>\n",
       "      <th>Soviet Union</th>\n",
       "      <td>584.0</td>\n",
       "      <td>627.0</td>\n",
       "      <td>838.0</td>\n",
       "    </tr>\n",
       "    <tr>\n",
       "      <th>United Kingdom</th>\n",
       "      <td>505.0</td>\n",
       "      <td>591.0</td>\n",
       "      <td>498.0</td>\n",
       "    </tr>\n",
       "    <tr>\n",
       "      <th>France</th>\n",
       "      <td>475.0</td>\n",
       "      <td>461.0</td>\n",
       "      <td>NaN</td>\n",
       "    </tr>\n",
       "    <tr>\n",
       "      <th>Germany</th>\n",
       "      <td>454.0</td>\n",
       "      <td>NaN</td>\n",
       "      <td>407.0</td>\n",
       "    </tr>\n",
       "    <tr>\n",
       "      <th>Italy</th>\n",
       "      <td>NaN</td>\n",
       "      <td>394.0</td>\n",
       "      <td>460.0</td>\n",
       "    </tr>\n",
       "  </tbody>\n",
       "</table>\n",
       "</div>"
      ],
      "text/plain": [
       "                bronze  silver    gold\n",
       "                 Total   Total   Total\n",
       "United States   1052.0  1195.0  2088.0\n",
       "Soviet Union     584.0   627.0   838.0\n",
       "United Kingdom   505.0   591.0   498.0\n",
       "France           475.0   461.0     NaN\n",
       "Germany          454.0     NaN   407.0\n",
       "Italy              NaN   394.0   460.0"
      ]
     },
     "execution_count": 43,
     "metadata": {},
     "output_type": "execute_result"
    }
   ],
   "source": [
    "medal_list = [bronze, silver, gold]\n",
    "medals = pd.concat(medal_list, keys=['bronze', 'silver', 'gold'], axis=1,sort=False)\n",
    "medals"
   ]
  },
  {
   "cell_type": "code",
   "execution_count": 44,
   "metadata": {
    "colab": {
     "base_uri": "https://localhost:8080/",
     "height": 204
    },
    "colab_type": "code",
    "executionInfo": {
     "elapsed": 448,
     "status": "ok",
     "timestamp": 1540548036219,
     "user": {
      "displayName": "Karol Jezierski",
      "photoUrl": "https://lh5.googleusercontent.com/-wgjj5yIIzw4/AAAAAAAAAAI/AAAAAAAAAdg/ukUvmCQdBQc/s64/photo.jpg",
      "userId": "07387898320424940670"
     },
     "user_tz": -120
    },
    "id": "N9Fzb-rG0BZK",
    "outputId": "8f90de8d-07e1-4cf5-c292-cd44a4ed7e8f"
   },
   "outputs": [
    {
     "data": {
      "text/html": [
       "<div>\n",
       "<style scoped>\n",
       "    .dataframe tbody tr th:only-of-type {\n",
       "        vertical-align: middle;\n",
       "    }\n",
       "\n",
       "    .dataframe tbody tr th {\n",
       "        vertical-align: top;\n",
       "    }\n",
       "\n",
       "    .dataframe thead tr th {\n",
       "        text-align: left;\n",
       "    }\n",
       "\n",
       "    .dataframe thead tr:last-of-type th {\n",
       "        text-align: right;\n",
       "    }\n",
       "</style>\n",
       "<table border=\"1\" class=\"dataframe\">\n",
       "  <thead>\n",
       "    <tr>\n",
       "      <th></th>\n",
       "      <th>bronze</th>\n",
       "      <th>silver</th>\n",
       "      <th>gold</th>\n",
       "    </tr>\n",
       "    <tr>\n",
       "      <th></th>\n",
       "      <th>Total</th>\n",
       "      <th>Total</th>\n",
       "      <th>Total</th>\n",
       "    </tr>\n",
       "    <tr>\n",
       "      <th>Country</th>\n",
       "      <th></th>\n",
       "      <th></th>\n",
       "      <th></th>\n",
       "    </tr>\n",
       "  </thead>\n",
       "  <tbody>\n",
       "    <tr>\n",
       "      <th>United States</th>\n",
       "      <td>1052.0</td>\n",
       "      <td>1195.0</td>\n",
       "      <td>2088.0</td>\n",
       "    </tr>\n",
       "    <tr>\n",
       "      <th>Soviet Union</th>\n",
       "      <td>584.0</td>\n",
       "      <td>627.0</td>\n",
       "      <td>838.0</td>\n",
       "    </tr>\n",
       "    <tr>\n",
       "      <th>United Kingdom</th>\n",
       "      <td>505.0</td>\n",
       "      <td>591.0</td>\n",
       "      <td>498.0</td>\n",
       "    </tr>\n",
       "  </tbody>\n",
       "</table>\n",
       "</div>"
      ],
      "text/plain": [
       "                bronze  silver    gold\n",
       "                 Total   Total   Total\n",
       "Country                               \n",
       "United States   1052.0  1195.0  2088.0\n",
       "Soviet Union     584.0   627.0   838.0\n",
       "United Kingdom   505.0   591.0   498.0"
      ]
     },
     "execution_count": 44,
     "metadata": {},
     "output_type": "execute_result"
    }
   ],
   "source": [
    "medals = pd.concat(medal_list, keys=['bronze', 'silver', 'gold'], axis=1, join='inner',sort=False)\n",
    "medals"
   ]
  },
  {
   "cell_type": "markdown",
   "metadata": {
    "colab_type": "text",
    "id": "WJ6NMuHG0apl"
   },
   "source": [
    "### Resampling & concatenating DataFrames with inner join"
   ]
  },
  {
   "cell_type": "code",
   "execution_count": 45,
   "metadata": {
    "colab": {},
    "colab_type": "code",
    "id": "6huCznn30YR2"
   },
   "outputs": [],
   "source": [
    "china = pd.read_csv('GDP/gdp_china.csv', parse_dates=True, index_col='Year')\n",
    "usa = pd.read_csv('GDP/gdp_usa.csv', parse_dates=True, index_col='DATE')\n",
    "usa.index.name = 'Year'\n",
    "china.columns = ['China']\n",
    "usa.columns = ['US']"
   ]
  },
  {
   "cell_type": "code",
   "execution_count": 46,
   "metadata": {
    "colab": {
     "base_uri": "https://localhost:8080/",
     "height": 266
    },
    "colab_type": "code",
    "executionInfo": {
     "elapsed": 435,
     "status": "ok",
     "timestamp": 1540549399936,
     "user": {
      "displayName": "Karol Jezierski",
      "photoUrl": "https://lh5.googleusercontent.com/-wgjj5yIIzw4/AAAAAAAAAAI/AAAAAAAAAdg/ukUvmCQdBQc/s64/photo.jpg",
      "userId": "07387898320424940670"
     },
     "user_tz": -120
    },
    "id": "552TBDf717rK",
    "outputId": "de98eda5-ecb3-45b9-be40-fe00013d503f"
   },
   "outputs": [
    {
     "data": {
      "text/html": [
       "<div>\n",
       "<style scoped>\n",
       "    .dataframe tbody tr th:only-of-type {\n",
       "        vertical-align: middle;\n",
       "    }\n",
       "\n",
       "    .dataframe tbody tr th {\n",
       "        vertical-align: top;\n",
       "    }\n",
       "\n",
       "    .dataframe thead th {\n",
       "        text-align: right;\n",
       "    }\n",
       "</style>\n",
       "<table border=\"1\" class=\"dataframe\">\n",
       "  <thead>\n",
       "    <tr style=\"text-align: right;\">\n",
       "      <th></th>\n",
       "      <th>China</th>\n",
       "      <th>US</th>\n",
       "    </tr>\n",
       "    <tr>\n",
       "      <th>Year</th>\n",
       "      <th></th>\n",
       "      <th></th>\n",
       "    </tr>\n",
       "  </thead>\n",
       "  <tbody>\n",
       "    <tr>\n",
       "      <th>1970-12-31</th>\n",
       "      <td>0.546128</td>\n",
       "      <td>0.980397</td>\n",
       "    </tr>\n",
       "    <tr>\n",
       "      <th>1980-12-31</th>\n",
       "      <td>1.072537</td>\n",
       "      <td>1.660540</td>\n",
       "    </tr>\n",
       "    <tr>\n",
       "      <th>1990-12-31</th>\n",
       "      <td>0.892820</td>\n",
       "      <td>1.088953</td>\n",
       "    </tr>\n",
       "    <tr>\n",
       "      <th>2000-12-31</th>\n",
       "      <td>2.357522</td>\n",
       "      <td>0.719980</td>\n",
       "    </tr>\n",
       "    <tr>\n",
       "      <th>2010-12-31</th>\n",
       "      <td>4.011081</td>\n",
       "      <td>0.455009</td>\n",
       "    </tr>\n",
       "    <tr>\n",
       "      <th>2020-12-31</th>\n",
       "      <td>3.789936</td>\n",
       "      <td>0.377506</td>\n",
       "    </tr>\n",
       "  </tbody>\n",
       "</table>\n",
       "</div>"
      ],
      "text/plain": [
       "               China        US\n",
       "Year                          \n",
       "1970-12-31  0.546128  0.980397\n",
       "1980-12-31  1.072537  1.660540\n",
       "1990-12-31  0.892820  1.088953\n",
       "2000-12-31  2.357522  0.719980\n",
       "2010-12-31  4.011081  0.455009\n",
       "2020-12-31  3.789936  0.377506"
      ]
     },
     "execution_count": 46,
     "metadata": {},
     "output_type": "execute_result"
    }
   ],
   "source": [
    "china_annual = china.resample('A').mean().pct_change(10).dropna()\n",
    "us_annual = usa.resample('A').mean().pct_change(10).dropna()\n",
    "gdp = pd.concat([china_annual, us_annual], axis=1, join='inner')\n",
    "gdp.resample('10A').last()"
   ]
  },
  {
   "cell_type": "code",
   "execution_count": 0,
   "metadata": {
    "colab": {},
    "colab_type": "code",
    "id": "4fVu8sx_2A-S"
   },
   "outputs": [],
   "source": []
  }
 ],
 "metadata": {
  "colab": {
   "collapsed_sections": [],
   "name": "concat_data.ipynb",
   "provenance": [],
   "version": "0.3.2"
  },
  "kernelspec": {
   "display_name": "Python 3",
   "language": "python",
   "name": "python3"
  },
  "language_info": {
   "codemirror_mode": {
    "name": "ipython",
    "version": 3
   },
   "file_extension": ".py",
   "mimetype": "text/x-python",
   "name": "python",
   "nbconvert_exporter": "python",
   "pygments_lexer": "ipython3",
   "version": "3.6.5"
  }
 },
 "nbformat": 4,
 "nbformat_minor": 1
}
