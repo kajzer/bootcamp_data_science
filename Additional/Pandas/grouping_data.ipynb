{
 "cells": [
  {
   "cell_type": "markdown",
   "metadata": {},
   "source": [
    "# Grouping data"
   ]
  },
  {
   "cell_type": "code",
   "execution_count": 48,
   "metadata": {},
   "outputs": [],
   "source": [
    "import pandas as pd\n",
    "from scipy.stats import zscore"
   ]
  },
  {
   "cell_type": "markdown",
   "metadata": {},
   "source": [
    "### Grouping by multiple columns"
   ]
  },
  {
   "cell_type": "code",
   "execution_count": 4,
   "metadata": {},
   "outputs": [
    {
     "name": "stdout",
     "output_type": "stream",
     "text": [
      "<class 'pandas.core.frame.DataFrame'>\n",
      "RangeIndex: 1309 entries, 0 to 1308\n",
      "Data columns (total 14 columns):\n",
      "pclass       1309 non-null int64\n",
      "survived     1309 non-null int64\n",
      "name         1309 non-null object\n",
      "sex          1309 non-null object\n",
      "age          1046 non-null float64\n",
      "sibsp        1309 non-null int64\n",
      "parch        1309 non-null int64\n",
      "ticket       1309 non-null object\n",
      "fare         1308 non-null float64\n",
      "cabin        295 non-null object\n",
      "embarked     1307 non-null object\n",
      "boat         486 non-null object\n",
      "body         121 non-null float64\n",
      "home.dest    745 non-null object\n",
      "dtypes: float64(3), int64(4), object(7)\n",
      "memory usage: 143.2+ KB\n"
     ]
    }
   ],
   "source": [
    "titanic = pd.read_csv('titanic.csv')\n",
    "titanic.info()"
   ]
  },
  {
   "cell_type": "code",
   "execution_count": 13,
   "metadata": {},
   "outputs": [
    {
     "data": {
      "text/plain": [
       "pclass\n",
       "1    323\n",
       "2    277\n",
       "3    709\n",
       "Name: survived, dtype: int64"
      ]
     },
     "execution_count": 13,
     "metadata": {},
     "output_type": "execute_result"
    }
   ],
   "source": [
    "by_class = titanic.groupby('pclass')\n",
    "count_by_class = by_class.survived.count()\n",
    "count_by_class"
   ]
  },
  {
   "cell_type": "code",
   "execution_count": 14,
   "metadata": {},
   "outputs": [
    {
     "data": {
      "text/plain": [
       "embarked  pclass\n",
       "C         1         141\n",
       "          2          28\n",
       "          3         101\n",
       "Q         1           3\n",
       "          2           7\n",
       "          3         113\n",
       "S         1         177\n",
       "          2         242\n",
       "          3         495\n",
       "Name: survived, dtype: int64"
      ]
     },
     "execution_count": 14,
     "metadata": {},
     "output_type": "execute_result"
    }
   ],
   "source": [
    "by_port_class = titanic.groupby(['embarked','pclass'])\n",
    "count_p_c = by_port_class.survived.count()\n",
    "count_p_c"
   ]
  },
  {
   "cell_type": "markdown",
   "metadata": {},
   "source": [
    "### Grouping by another series"
   ]
  },
  {
   "cell_type": "code",
   "execution_count": 15,
   "metadata": {},
   "outputs": [],
   "source": [
    "life = pd.read_csv('life_expectancy.csv',index_col='Country')\n",
    "regions = pd.read_csv('regions.csv', index_col='Country')"
   ]
  },
  {
   "cell_type": "code",
   "execution_count": 17,
   "metadata": {},
   "outputs": [
    {
     "data": {
      "text/html": [
       "<div>\n",
       "<style scoped>\n",
       "    .dataframe tbody tr th:only-of-type {\n",
       "        vertical-align: middle;\n",
       "    }\n",
       "\n",
       "    .dataframe tbody tr th {\n",
       "        vertical-align: top;\n",
       "    }\n",
       "\n",
       "    .dataframe thead th {\n",
       "        text-align: right;\n",
       "    }\n",
       "</style>\n",
       "<table border=\"1\" class=\"dataframe\">\n",
       "  <thead>\n",
       "    <tr style=\"text-align: right;\">\n",
       "      <th></th>\n",
       "      <th>region</th>\n",
       "    </tr>\n",
       "    <tr>\n",
       "      <th>Country</th>\n",
       "      <th></th>\n",
       "    </tr>\n",
       "  </thead>\n",
       "  <tbody>\n",
       "    <tr>\n",
       "      <th>Afghanistan</th>\n",
       "      <td>South Asia</td>\n",
       "    </tr>\n",
       "    <tr>\n",
       "      <th>Albania</th>\n",
       "      <td>Europe &amp; Central Asia</td>\n",
       "    </tr>\n",
       "    <tr>\n",
       "      <th>Algeria</th>\n",
       "      <td>Middle East &amp; North Africa</td>\n",
       "    </tr>\n",
       "    <tr>\n",
       "      <th>Angola</th>\n",
       "      <td>Sub-Saharan Africa</td>\n",
       "    </tr>\n",
       "    <tr>\n",
       "      <th>Antigua and Barbuda</th>\n",
       "      <td>America</td>\n",
       "    </tr>\n",
       "  </tbody>\n",
       "</table>\n",
       "</div>"
      ],
      "text/plain": [
       "                                         region\n",
       "Country                                        \n",
       "Afghanistan                          South Asia\n",
       "Albania                   Europe & Central Asia\n",
       "Algeria              Middle East & North Africa\n",
       "Angola                       Sub-Saharan Africa\n",
       "Antigua and Barbuda                     America"
      ]
     },
     "execution_count": 17,
     "metadata": {},
     "output_type": "execute_result"
    }
   ],
   "source": [
    "regions.head()"
   ]
  },
  {
   "cell_type": "code",
   "execution_count": 18,
   "metadata": {},
   "outputs": [
    {
     "data": {
      "text/html": [
       "<div>\n",
       "<style scoped>\n",
       "    .dataframe tbody tr th:only-of-type {\n",
       "        vertical-align: middle;\n",
       "    }\n",
       "\n",
       "    .dataframe tbody tr th {\n",
       "        vertical-align: top;\n",
       "    }\n",
       "\n",
       "    .dataframe thead th {\n",
       "        text-align: right;\n",
       "    }\n",
       "</style>\n",
       "<table border=\"1\" class=\"dataframe\">\n",
       "  <thead>\n",
       "    <tr style=\"text-align: right;\">\n",
       "      <th></th>\n",
       "      <th>1964</th>\n",
       "      <th>1965</th>\n",
       "      <th>1966</th>\n",
       "      <th>1967</th>\n",
       "      <th>1968</th>\n",
       "      <th>1969</th>\n",
       "      <th>1970</th>\n",
       "      <th>1971</th>\n",
       "      <th>1972</th>\n",
       "      <th>1973</th>\n",
       "      <th>...</th>\n",
       "      <th>2004</th>\n",
       "      <th>2005</th>\n",
       "      <th>2006</th>\n",
       "      <th>2007</th>\n",
       "      <th>2008</th>\n",
       "      <th>2009</th>\n",
       "      <th>2010</th>\n",
       "      <th>2011</th>\n",
       "      <th>2012</th>\n",
       "      <th>2013</th>\n",
       "    </tr>\n",
       "    <tr>\n",
       "      <th>Country</th>\n",
       "      <th></th>\n",
       "      <th></th>\n",
       "      <th></th>\n",
       "      <th></th>\n",
       "      <th></th>\n",
       "      <th></th>\n",
       "      <th></th>\n",
       "      <th></th>\n",
       "      <th></th>\n",
       "      <th></th>\n",
       "      <th></th>\n",
       "      <th></th>\n",
       "      <th></th>\n",
       "      <th></th>\n",
       "      <th></th>\n",
       "      <th></th>\n",
       "      <th></th>\n",
       "      <th></th>\n",
       "      <th></th>\n",
       "      <th></th>\n",
       "      <th></th>\n",
       "    </tr>\n",
       "  </thead>\n",
       "  <tbody>\n",
       "    <tr>\n",
       "      <th>Afghanistan</th>\n",
       "      <td>33.639</td>\n",
       "      <td>34.152</td>\n",
       "      <td>34.662</td>\n",
       "      <td>35.170</td>\n",
       "      <td>35.674</td>\n",
       "      <td>36.172</td>\n",
       "      <td>36.663</td>\n",
       "      <td>37.143</td>\n",
       "      <td>37.614</td>\n",
       "      <td>38.075</td>\n",
       "      <td>...</td>\n",
       "      <td>56.583</td>\n",
       "      <td>57.071</td>\n",
       "      <td>57.582</td>\n",
       "      <td>58.102</td>\n",
       "      <td>58.618</td>\n",
       "      <td>59.124</td>\n",
       "      <td>59.612</td>\n",
       "      <td>60.079</td>\n",
       "      <td>60.524</td>\n",
       "      <td>60.947</td>\n",
       "    </tr>\n",
       "    <tr>\n",
       "      <th>Albania</th>\n",
       "      <td>65.475</td>\n",
       "      <td>65.863</td>\n",
       "      <td>66.122</td>\n",
       "      <td>66.316</td>\n",
       "      <td>66.500</td>\n",
       "      <td>66.702</td>\n",
       "      <td>66.948</td>\n",
       "      <td>67.251</td>\n",
       "      <td>67.595</td>\n",
       "      <td>67.966</td>\n",
       "      <td>...</td>\n",
       "      <td>75.725</td>\n",
       "      <td>75.949</td>\n",
       "      <td>76.124</td>\n",
       "      <td>76.278</td>\n",
       "      <td>76.433</td>\n",
       "      <td>76.598</td>\n",
       "      <td>76.780</td>\n",
       "      <td>76.979</td>\n",
       "      <td>77.185</td>\n",
       "      <td>77.392</td>\n",
       "    </tr>\n",
       "    <tr>\n",
       "      <th>Algeria</th>\n",
       "      <td>47.953</td>\n",
       "      <td>48.389</td>\n",
       "      <td>48.806</td>\n",
       "      <td>49.205</td>\n",
       "      <td>49.592</td>\n",
       "      <td>49.976</td>\n",
       "      <td>50.366</td>\n",
       "      <td>50.767</td>\n",
       "      <td>51.195</td>\n",
       "      <td>51.670</td>\n",
       "      <td>...</td>\n",
       "      <td>69.682</td>\n",
       "      <td>69.854</td>\n",
       "      <td>70.020</td>\n",
       "      <td>70.180</td>\n",
       "      <td>70.332</td>\n",
       "      <td>70.477</td>\n",
       "      <td>70.615</td>\n",
       "      <td>70.747</td>\n",
       "      <td>70.874</td>\n",
       "      <td>71.000</td>\n",
       "    </tr>\n",
       "    <tr>\n",
       "      <th>Angola</th>\n",
       "      <td>34.604</td>\n",
       "      <td>35.007</td>\n",
       "      <td>35.410</td>\n",
       "      <td>35.816</td>\n",
       "      <td>36.222</td>\n",
       "      <td>36.627</td>\n",
       "      <td>37.032</td>\n",
       "      <td>37.439</td>\n",
       "      <td>37.846</td>\n",
       "      <td>38.247</td>\n",
       "      <td>...</td>\n",
       "      <td>48.036</td>\n",
       "      <td>48.572</td>\n",
       "      <td>49.041</td>\n",
       "      <td>49.471</td>\n",
       "      <td>49.882</td>\n",
       "      <td>50.286</td>\n",
       "      <td>50.689</td>\n",
       "      <td>51.094</td>\n",
       "      <td>51.498</td>\n",
       "      <td>51.899</td>\n",
       "    </tr>\n",
       "    <tr>\n",
       "      <th>Antigua and Barbuda</th>\n",
       "      <td>63.775</td>\n",
       "      <td>64.149</td>\n",
       "      <td>64.511</td>\n",
       "      <td>64.865</td>\n",
       "      <td>65.213</td>\n",
       "      <td>65.558</td>\n",
       "      <td>65.898</td>\n",
       "      <td>66.232</td>\n",
       "      <td>66.558</td>\n",
       "      <td>66.875</td>\n",
       "      <td>...</td>\n",
       "      <td>74.355</td>\n",
       "      <td>74.544</td>\n",
       "      <td>74.729</td>\n",
       "      <td>74.910</td>\n",
       "      <td>75.087</td>\n",
       "      <td>75.263</td>\n",
       "      <td>75.437</td>\n",
       "      <td>75.610</td>\n",
       "      <td>75.783</td>\n",
       "      <td>75.954</td>\n",
       "    </tr>\n",
       "  </tbody>\n",
       "</table>\n",
       "<p>5 rows × 50 columns</p>\n",
       "</div>"
      ],
      "text/plain": [
       "                       1964    1965    1966    1967    1968    1969    1970  \\\n",
       "Country                                                                       \n",
       "Afghanistan          33.639  34.152  34.662  35.170  35.674  36.172  36.663   \n",
       "Albania              65.475  65.863  66.122  66.316  66.500  66.702  66.948   \n",
       "Algeria              47.953  48.389  48.806  49.205  49.592  49.976  50.366   \n",
       "Angola               34.604  35.007  35.410  35.816  36.222  36.627  37.032   \n",
       "Antigua and Barbuda  63.775  64.149  64.511  64.865  65.213  65.558  65.898   \n",
       "\n",
       "                       1971    1972    1973   ...      2004    2005    2006  \\\n",
       "Country                                       ...                             \n",
       "Afghanistan          37.143  37.614  38.075   ...    56.583  57.071  57.582   \n",
       "Albania              67.251  67.595  67.966   ...    75.725  75.949  76.124   \n",
       "Algeria              50.767  51.195  51.670   ...    69.682  69.854  70.020   \n",
       "Angola               37.439  37.846  38.247   ...    48.036  48.572  49.041   \n",
       "Antigua and Barbuda  66.232  66.558  66.875   ...    74.355  74.544  74.729   \n",
       "\n",
       "                       2007    2008    2009    2010    2011    2012    2013  \n",
       "Country                                                                      \n",
       "Afghanistan          58.102  58.618  59.124  59.612  60.079  60.524  60.947  \n",
       "Albania              76.278  76.433  76.598  76.780  76.979  77.185  77.392  \n",
       "Algeria              70.180  70.332  70.477  70.615  70.747  70.874  71.000  \n",
       "Angola               49.471  49.882  50.286  50.689  51.094  51.498  51.899  \n",
       "Antigua and Barbuda  74.910  75.087  75.263  75.437  75.610  75.783  75.954  \n",
       "\n",
       "[5 rows x 50 columns]"
      ]
     },
     "execution_count": 18,
     "metadata": {},
     "output_type": "execute_result"
    }
   ],
   "source": [
    "life.head()"
   ]
  },
  {
   "cell_type": "code",
   "execution_count": 24,
   "metadata": {},
   "outputs": [
    {
     "data": {
      "text/plain": [
       "region\n",
       "America                       74.037350\n",
       "East Asia & Pacific           73.405750\n",
       "Europe & Central Asia         75.656387\n",
       "Middle East & North Africa    72.805333\n",
       "South Asia                    68.189750\n",
       "Sub-Saharan Africa            57.575080\n",
       "Name: 2010, dtype: float64"
      ]
     },
     "execution_count": 24,
     "metadata": {},
     "output_type": "execute_result"
    }
   ],
   "source": [
    "life_exp_by_region = life.groupby(regions['region'])\n",
    "life_exp_by_region['2010'].mean()"
   ]
  },
  {
   "cell_type": "markdown",
   "metadata": {},
   "source": [
    "### Computing multiple aggregates of multiple columns\n",
    "- groupby 'pclass'\n",
    "- select 'age' and 'fare'\n",
    "- aggregate by 'max' and 'median'\n",
    "- get maximum age in each class\n",
    "- get median fare in each class"
   ]
  },
  {
   "cell_type": "code",
   "execution_count": 27,
   "metadata": {},
   "outputs": [
    {
     "data": {
      "text/html": [
       "<div>\n",
       "<style scoped>\n",
       "    .dataframe tbody tr th:only-of-type {\n",
       "        vertical-align: middle;\n",
       "    }\n",
       "\n",
       "    .dataframe tbody tr th {\n",
       "        vertical-align: top;\n",
       "    }\n",
       "\n",
       "    .dataframe thead tr th {\n",
       "        text-align: left;\n",
       "    }\n",
       "\n",
       "    .dataframe thead tr:last-of-type th {\n",
       "        text-align: right;\n",
       "    }\n",
       "</style>\n",
       "<table border=\"1\" class=\"dataframe\">\n",
       "  <thead>\n",
       "    <tr>\n",
       "      <th></th>\n",
       "      <th colspan=\"2\" halign=\"left\">age</th>\n",
       "      <th colspan=\"2\" halign=\"left\">fare</th>\n",
       "    </tr>\n",
       "    <tr>\n",
       "      <th></th>\n",
       "      <th>max</th>\n",
       "      <th>median</th>\n",
       "      <th>max</th>\n",
       "      <th>median</th>\n",
       "    </tr>\n",
       "    <tr>\n",
       "      <th>pclass</th>\n",
       "      <th></th>\n",
       "      <th></th>\n",
       "      <th></th>\n",
       "      <th></th>\n",
       "    </tr>\n",
       "  </thead>\n",
       "  <tbody>\n",
       "    <tr>\n",
       "      <th>1</th>\n",
       "      <td>80.0</td>\n",
       "      <td>39.0</td>\n",
       "      <td>512.3292</td>\n",
       "      <td>60.0000</td>\n",
       "    </tr>\n",
       "    <tr>\n",
       "      <th>2</th>\n",
       "      <td>70.0</td>\n",
       "      <td>29.0</td>\n",
       "      <td>73.5000</td>\n",
       "      <td>15.0458</td>\n",
       "    </tr>\n",
       "    <tr>\n",
       "      <th>3</th>\n",
       "      <td>74.0</td>\n",
       "      <td>24.0</td>\n",
       "      <td>69.5500</td>\n",
       "      <td>8.0500</td>\n",
       "    </tr>\n",
       "  </tbody>\n",
       "</table>\n",
       "</div>"
      ],
      "text/plain": [
       "         age             fare         \n",
       "         max median       max   median\n",
       "pclass                                \n",
       "1       80.0   39.0  512.3292  60.0000\n",
       "2       70.0   29.0   73.5000  15.0458\n",
       "3       74.0   24.0   69.5500   8.0500"
      ]
     },
     "execution_count": 27,
     "metadata": {},
     "output_type": "execute_result"
    }
   ],
   "source": [
    "by_class = titanic.groupby('pclass')\n",
    "by_class_sub = by_class[['age', 'fare']]\n",
    "aggregated = by_class_sub.agg(['max','median'])\n",
    "aggregated"
   ]
  },
  {
   "cell_type": "code",
   "execution_count": 29,
   "metadata": {},
   "outputs": [
    {
     "data": {
      "text/plain": [
       "pclass\n",
       "1    80.0\n",
       "2    70.0\n",
       "3    74.0\n",
       "Name: (age, max), dtype: float64"
      ]
     },
     "execution_count": 29,
     "metadata": {},
     "output_type": "execute_result"
    }
   ],
   "source": [
    "aggregated.loc[:,('age','max')]"
   ]
  },
  {
   "cell_type": "code",
   "execution_count": 30,
   "metadata": {},
   "outputs": [
    {
     "data": {
      "text/plain": [
       "pclass\n",
       "1    60.0000\n",
       "2    15.0458\n",
       "3     8.0500\n",
       "Name: (fare, median), dtype: float64"
      ]
     },
     "execution_count": 30,
     "metadata": {},
     "output_type": "execute_result"
    }
   ],
   "source": [
    "aggregated.loc[:,('fare','median')]"
   ]
  },
  {
   "cell_type": "markdown",
   "metadata": {},
   "source": [
    "### Aggregating on index levels/fields\n",
    "- group by year and region\n",
    "- define function to compute spread\n",
    "- create dict for aggregation\n",
    "- aggregate and print"
   ]
  },
  {
   "cell_type": "code",
   "execution_count": 31,
   "metadata": {},
   "outputs": [
    {
     "data": {
      "text/html": [
       "<div>\n",
       "<style scoped>\n",
       "    .dataframe tbody tr th:only-of-type {\n",
       "        vertical-align: middle;\n",
       "    }\n",
       "\n",
       "    .dataframe tbody tr th {\n",
       "        vertical-align: top;\n",
       "    }\n",
       "\n",
       "    .dataframe thead th {\n",
       "        text-align: right;\n",
       "    }\n",
       "</style>\n",
       "<table border=\"1\" class=\"dataframe\">\n",
       "  <thead>\n",
       "    <tr style=\"text-align: right;\">\n",
       "      <th></th>\n",
       "      <th></th>\n",
       "      <th></th>\n",
       "      <th>fertility</th>\n",
       "      <th>life</th>\n",
       "      <th>population</th>\n",
       "      <th>child_mortality</th>\n",
       "      <th>gdp</th>\n",
       "    </tr>\n",
       "    <tr>\n",
       "      <th>Year</th>\n",
       "      <th>region</th>\n",
       "      <th>Country</th>\n",
       "      <th></th>\n",
       "      <th></th>\n",
       "      <th></th>\n",
       "      <th></th>\n",
       "      <th></th>\n",
       "    </tr>\n",
       "  </thead>\n",
       "  <tbody>\n",
       "    <tr>\n",
       "      <th rowspan=\"5\" valign=\"top\">1964</th>\n",
       "      <th rowspan=\"5\" valign=\"top\">America</th>\n",
       "      <th>Antigua and Barbuda</th>\n",
       "      <td>4.250</td>\n",
       "      <td>63.775</td>\n",
       "      <td>58653.0</td>\n",
       "      <td>72.78</td>\n",
       "      <td>5008.0</td>\n",
       "    </tr>\n",
       "    <tr>\n",
       "      <th>Argentina</th>\n",
       "      <td>3.068</td>\n",
       "      <td>65.388</td>\n",
       "      <td>21966478.0</td>\n",
       "      <td>57.43</td>\n",
       "      <td>8227.0</td>\n",
       "    </tr>\n",
       "    <tr>\n",
       "      <th>Aruba</th>\n",
       "      <td>4.059</td>\n",
       "      <td>67.113</td>\n",
       "      <td>57031.0</td>\n",
       "      <td>NaN</td>\n",
       "      <td>5505.0</td>\n",
       "    </tr>\n",
       "    <tr>\n",
       "      <th>Bahamas</th>\n",
       "      <td>4.220</td>\n",
       "      <td>64.189</td>\n",
       "      <td>133709.0</td>\n",
       "      <td>48.56</td>\n",
       "      <td>18160.0</td>\n",
       "    </tr>\n",
       "    <tr>\n",
       "      <th>Barbados</th>\n",
       "      <td>4.094</td>\n",
       "      <td>62.819</td>\n",
       "      <td>234455.0</td>\n",
       "      <td>64.70</td>\n",
       "      <td>5681.0</td>\n",
       "    </tr>\n",
       "  </tbody>\n",
       "</table>\n",
       "</div>"
      ],
      "text/plain": [
       "                                  fertility    life  population  \\\n",
       "Year region  Country                                              \n",
       "1964 America Antigua and Barbuda      4.250  63.775     58653.0   \n",
       "             Argentina                3.068  65.388  21966478.0   \n",
       "             Aruba                    4.059  67.113     57031.0   \n",
       "             Bahamas                  4.220  64.189    133709.0   \n",
       "             Barbados                 4.094  62.819    234455.0   \n",
       "\n",
       "                                  child_mortality      gdp  \n",
       "Year region  Country                                        \n",
       "1964 America Antigua and Barbuda            72.78   5008.0  \n",
       "             Argentina                      57.43   8227.0  \n",
       "             Aruba                            NaN   5505.0  \n",
       "             Bahamas                        48.56  18160.0  \n",
       "             Barbados                       64.70   5681.0  "
      ]
     },
     "execution_count": 31,
     "metadata": {},
     "output_type": "execute_result"
    }
   ],
   "source": [
    "gapminder = pd.read_csv('gapminder_tidy.csv', index_col=['Year', 'region', 'Country']).sort_index()\n",
    "gapminder.head()"
   ]
  },
  {
   "cell_type": "code",
   "execution_count": 38,
   "metadata": {},
   "outputs": [],
   "source": [
    "by_year_region = gapminder.groupby(['Year', 'region'])"
   ]
  },
  {
   "cell_type": "code",
   "execution_count": 39,
   "metadata": {},
   "outputs": [],
   "source": [
    "def spread(series):\n",
    "    return series.max() - series.min()"
   ]
  },
  {
   "cell_type": "code",
   "execution_count": 40,
   "metadata": {},
   "outputs": [],
   "source": [
    "aggregator = {\n",
    "    'population':'sum',\n",
    "    'child_mortality':'mean',\n",
    "    'gdp':spread\n",
    "}"
   ]
  },
  {
   "cell_type": "code",
   "execution_count": 41,
   "metadata": {},
   "outputs": [
    {
     "data": {
      "text/html": [
       "<div>\n",
       "<style scoped>\n",
       "    .dataframe tbody tr th:only-of-type {\n",
       "        vertical-align: middle;\n",
       "    }\n",
       "\n",
       "    .dataframe tbody tr th {\n",
       "        vertical-align: top;\n",
       "    }\n",
       "\n",
       "    .dataframe thead th {\n",
       "        text-align: right;\n",
       "    }\n",
       "</style>\n",
       "<table border=\"1\" class=\"dataframe\">\n",
       "  <thead>\n",
       "    <tr style=\"text-align: right;\">\n",
       "      <th></th>\n",
       "      <th></th>\n",
       "      <th>population</th>\n",
       "      <th>child_mortality</th>\n",
       "      <th>gdp</th>\n",
       "    </tr>\n",
       "    <tr>\n",
       "      <th>Year</th>\n",
       "      <th>region</th>\n",
       "      <th></th>\n",
       "      <th></th>\n",
       "      <th></th>\n",
       "    </tr>\n",
       "  </thead>\n",
       "  <tbody>\n",
       "    <tr>\n",
       "      <th rowspan=\"6\" valign=\"top\">2013</th>\n",
       "      <th>America</th>\n",
       "      <td>9.629087e+08</td>\n",
       "      <td>17.745833</td>\n",
       "      <td>49634.0</td>\n",
       "    </tr>\n",
       "    <tr>\n",
       "      <th>East Asia &amp; Pacific</th>\n",
       "      <td>2.244209e+09</td>\n",
       "      <td>22.285714</td>\n",
       "      <td>134744.0</td>\n",
       "    </tr>\n",
       "    <tr>\n",
       "      <th>Europe &amp; Central Asia</th>\n",
       "      <td>8.968788e+08</td>\n",
       "      <td>9.831875</td>\n",
       "      <td>86418.0</td>\n",
       "    </tr>\n",
       "    <tr>\n",
       "      <th>Middle East &amp; North Africa</th>\n",
       "      <td>4.030504e+08</td>\n",
       "      <td>20.221500</td>\n",
       "      <td>128676.0</td>\n",
       "    </tr>\n",
       "    <tr>\n",
       "      <th>South Asia</th>\n",
       "      <td>1.701241e+09</td>\n",
       "      <td>46.287500</td>\n",
       "      <td>11469.0</td>\n",
       "    </tr>\n",
       "    <tr>\n",
       "      <th>Sub-Saharan Africa</th>\n",
       "      <td>9.205996e+08</td>\n",
       "      <td>76.944490</td>\n",
       "      <td>32035.0</td>\n",
       "    </tr>\n",
       "  </tbody>\n",
       "</table>\n",
       "</div>"
      ],
      "text/plain": [
       "                                   population  child_mortality       gdp\n",
       "Year region                                                             \n",
       "2013 America                     9.629087e+08        17.745833   49634.0\n",
       "     East Asia & Pacific         2.244209e+09        22.285714  134744.0\n",
       "     Europe & Central Asia       8.968788e+08         9.831875   86418.0\n",
       "     Middle East & North Africa  4.030504e+08        20.221500  128676.0\n",
       "     South Asia                  1.701241e+09        46.287500   11469.0\n",
       "     Sub-Saharan Africa          9.205996e+08        76.944490   32035.0"
      ]
     },
     "execution_count": 41,
     "metadata": {},
     "output_type": "execute_result"
    }
   ],
   "source": [
    "aggregated = by_year_region.agg(aggregator)\n",
    "aggregated.tail(6)"
   ]
  },
  {
   "cell_type": "markdown",
   "metadata": {},
   "source": [
    "### Grouping on a function of the index"
   ]
  },
  {
   "cell_type": "code",
   "execution_count": 45,
   "metadata": {},
   "outputs": [
    {
     "data": {
      "text/html": [
       "<div>\n",
       "<style scoped>\n",
       "    .dataframe tbody tr th:only-of-type {\n",
       "        vertical-align: middle;\n",
       "    }\n",
       "\n",
       "    .dataframe tbody tr th {\n",
       "        vertical-align: top;\n",
       "    }\n",
       "\n",
       "    .dataframe thead th {\n",
       "        text-align: right;\n",
       "    }\n",
       "</style>\n",
       "<table border=\"1\" class=\"dataframe\">\n",
       "  <thead>\n",
       "    <tr style=\"text-align: right;\">\n",
       "      <th></th>\n",
       "      <th>Company</th>\n",
       "      <th>Product</th>\n",
       "      <th>Units</th>\n",
       "    </tr>\n",
       "    <tr>\n",
       "      <th>Date</th>\n",
       "      <th></th>\n",
       "      <th></th>\n",
       "      <th></th>\n",
       "    </tr>\n",
       "  </thead>\n",
       "  <tbody>\n",
       "    <tr>\n",
       "      <th>2015-02-02 08:30:00</th>\n",
       "      <td>Hooli</td>\n",
       "      <td>Software</td>\n",
       "      <td>3</td>\n",
       "    </tr>\n",
       "    <tr>\n",
       "      <th>2015-02-02 21:00:00</th>\n",
       "      <td>Mediacore</td>\n",
       "      <td>Hardware</td>\n",
       "      <td>9</td>\n",
       "    </tr>\n",
       "    <tr>\n",
       "      <th>2015-02-03 14:00:00</th>\n",
       "      <td>Initech</td>\n",
       "      <td>Software</td>\n",
       "      <td>13</td>\n",
       "    </tr>\n",
       "    <tr>\n",
       "      <th>2015-02-04 15:30:00</th>\n",
       "      <td>Streeplex</td>\n",
       "      <td>Software</td>\n",
       "      <td>13</td>\n",
       "    </tr>\n",
       "    <tr>\n",
       "      <th>2015-02-04 22:00:00</th>\n",
       "      <td>Acme Coporation</td>\n",
       "      <td>Hardware</td>\n",
       "      <td>14</td>\n",
       "    </tr>\n",
       "  </tbody>\n",
       "</table>\n",
       "</div>"
      ],
      "text/plain": [
       "                             Company   Product  Units\n",
       "Date                                                 \n",
       "2015-02-02 08:30:00            Hooli  Software      3\n",
       "2015-02-02 21:00:00        Mediacore  Hardware      9\n",
       "2015-02-03 14:00:00          Initech  Software     13\n",
       "2015-02-04 15:30:00        Streeplex  Software     13\n",
       "2015-02-04 22:00:00  Acme Coporation  Hardware     14"
      ]
     },
     "execution_count": 45,
     "metadata": {},
     "output_type": "execute_result"
    }
   ],
   "source": [
    "sales = pd.read_csv('sales/sales-feb-2015.csv', parse_dates=True, index_col='Date')\n",
    "sales.head()"
   ]
  },
  {
   "cell_type": "code",
   "execution_count": 47,
   "metadata": {},
   "outputs": [
    {
     "data": {
      "text/plain": [
       "Mon    48\n",
       "Sat     7\n",
       "Thu    59\n",
       "Tue    13\n",
       "Wed    48\n",
       "Name: Units, dtype: int64"
      ]
     },
     "execution_count": 47,
     "metadata": {},
     "output_type": "execute_result"
    }
   ],
   "source": [
    "by_day = sales.groupby(sales.index.strftime('%a'))\n",
    "units_sum = by_day['Units'].sum()\n",
    "units_sum"
   ]
  },
  {
   "cell_type": "markdown",
   "metadata": {},
   "source": [
    "### Detecting outliers with Z-Scores\n",
    "- group by region and transform life and fertility by zscore\n",
    "- construct boolean series where life < -3 and fertility > 3 from zscore\n",
    "- filter gapminder"
   ]
  },
  {
   "cell_type": "code",
   "execution_count": 61,
   "metadata": {},
   "outputs": [
    {
     "name": "stdout",
     "output_type": "stream",
     "text": [
      "<class 'pandas.core.frame.DataFrame'>\n",
      "Index: 202 entries, Afghanistan to Zimbabwe\n",
      "Data columns (total 6 columns):\n",
      "fertility          202 non-null float64\n",
      "life               202 non-null float64\n",
      "population         202 non-null float64\n",
      "child_mortality    189 non-null float64\n",
      "gdp                180 non-null float64\n",
      "region             202 non-null object\n",
      "dtypes: float64(5), object(1)\n",
      "memory usage: 11.0+ KB\n"
     ]
    }
   ],
   "source": [
    "gapminder = pd.read_csv('gapminder_tidy.csv', index_col='Country')\n",
    "gapminder_2010 = gapminder[gapminder['Year']==2010]\n",
    "del gapminder_2010['Year']\n",
    "gapminder_2010.info()"
   ]
  },
  {
   "cell_type": "code",
   "execution_count": 66,
   "metadata": {},
   "outputs": [
    {
     "data": {
      "text/html": [
       "<div>\n",
       "<style scoped>\n",
       "    .dataframe tbody tr th:only-of-type {\n",
       "        vertical-align: middle;\n",
       "    }\n",
       "\n",
       "    .dataframe tbody tr th {\n",
       "        vertical-align: top;\n",
       "    }\n",
       "\n",
       "    .dataframe thead th {\n",
       "        text-align: right;\n",
       "    }\n",
       "</style>\n",
       "<table border=\"1\" class=\"dataframe\">\n",
       "  <thead>\n",
       "    <tr style=\"text-align: right;\">\n",
       "      <th></th>\n",
       "      <th>life</th>\n",
       "      <th>fertility</th>\n",
       "    </tr>\n",
       "    <tr>\n",
       "      <th>Country</th>\n",
       "      <th></th>\n",
       "      <th></th>\n",
       "    </tr>\n",
       "  </thead>\n",
       "  <tbody>\n",
       "    <tr>\n",
       "      <th>Afghanistan</th>\n",
       "      <td>-1.743601</td>\n",
       "      <td>2.504732</td>\n",
       "    </tr>\n",
       "    <tr>\n",
       "      <th>Albania</th>\n",
       "      <td>0.226367</td>\n",
       "      <td>0.010964</td>\n",
       "    </tr>\n",
       "    <tr>\n",
       "      <th>Algeria</th>\n",
       "      <td>-0.440196</td>\n",
       "      <td>-0.003972</td>\n",
       "    </tr>\n",
       "    <tr>\n",
       "      <th>Angola</th>\n",
       "      <td>-0.882537</td>\n",
       "      <td>1.095653</td>\n",
       "    </tr>\n",
       "    <tr>\n",
       "      <th>Antigua and Barbuda</th>\n",
       "      <td>0.240607</td>\n",
       "      <td>-0.363761</td>\n",
       "    </tr>\n",
       "  </tbody>\n",
       "</table>\n",
       "</div>"
      ],
      "text/plain": [
       "                         life  fertility\n",
       "Country                                 \n",
       "Afghanistan         -1.743601   2.504732\n",
       "Albania              0.226367   0.010964\n",
       "Algeria             -0.440196  -0.003972\n",
       "Angola              -0.882537   1.095653\n",
       "Antigua and Barbuda  0.240607  -0.363761"
      ]
     },
     "execution_count": 66,
     "metadata": {},
     "output_type": "execute_result"
    }
   ],
   "source": [
    "standardized = gapminder_2010.groupby('region')[['life','fertility']].transform(zscore)\n",
    "standardized.head()"
   ]
  },
  {
   "cell_type": "code",
   "execution_count": 68,
   "metadata": {},
   "outputs": [
    {
     "data": {
      "text/html": [
       "<div>\n",
       "<style scoped>\n",
       "    .dataframe tbody tr th:only-of-type {\n",
       "        vertical-align: middle;\n",
       "    }\n",
       "\n",
       "    .dataframe tbody tr th {\n",
       "        vertical-align: top;\n",
       "    }\n",
       "\n",
       "    .dataframe thead th {\n",
       "        text-align: right;\n",
       "    }\n",
       "</style>\n",
       "<table border=\"1\" class=\"dataframe\">\n",
       "  <thead>\n",
       "    <tr style=\"text-align: right;\">\n",
       "      <th></th>\n",
       "      <th>fertility</th>\n",
       "      <th>life</th>\n",
       "      <th>population</th>\n",
       "      <th>child_mortality</th>\n",
       "      <th>gdp</th>\n",
       "      <th>region</th>\n",
       "    </tr>\n",
       "    <tr>\n",
       "      <th>Country</th>\n",
       "      <th></th>\n",
       "      <th></th>\n",
       "      <th></th>\n",
       "      <th></th>\n",
       "      <th></th>\n",
       "      <th></th>\n",
       "    </tr>\n",
       "  </thead>\n",
       "  <tbody>\n",
       "    <tr>\n",
       "      <th>Guatemala</th>\n",
       "      <td>3.974</td>\n",
       "      <td>71.100</td>\n",
       "      <td>14388929.0</td>\n",
       "      <td>34.5</td>\n",
       "      <td>6849.0</td>\n",
       "      <td>America</td>\n",
       "    </tr>\n",
       "    <tr>\n",
       "      <th>Haiti</th>\n",
       "      <td>3.350</td>\n",
       "      <td>45.000</td>\n",
       "      <td>9993247.0</td>\n",
       "      <td>208.8</td>\n",
       "      <td>1518.0</td>\n",
       "      <td>America</td>\n",
       "    </tr>\n",
       "    <tr>\n",
       "      <th>Tajikistan</th>\n",
       "      <td>3.780</td>\n",
       "      <td>66.830</td>\n",
       "      <td>6878637.0</td>\n",
       "      <td>52.6</td>\n",
       "      <td>2110.0</td>\n",
       "      <td>Europe &amp; Central Asia</td>\n",
       "    </tr>\n",
       "    <tr>\n",
       "      <th>Timor-Leste</th>\n",
       "      <td>6.237</td>\n",
       "      <td>65.952</td>\n",
       "      <td>1124355.0</td>\n",
       "      <td>63.8</td>\n",
       "      <td>1777.0</td>\n",
       "      <td>East Asia &amp; Pacific</td>\n",
       "    </tr>\n",
       "  </tbody>\n",
       "</table>\n",
       "</div>"
      ],
      "text/plain": [
       "             fertility    life  population  child_mortality     gdp  \\\n",
       "Country                                                               \n",
       "Guatemala        3.974  71.100  14388929.0             34.5  6849.0   \n",
       "Haiti            3.350  45.000   9993247.0            208.8  1518.0   \n",
       "Tajikistan       3.780  66.830   6878637.0             52.6  2110.0   \n",
       "Timor-Leste      6.237  65.952   1124355.0             63.8  1777.0   \n",
       "\n",
       "                            region  \n",
       "Country                             \n",
       "Guatemala                  America  \n",
       "Haiti                      America  \n",
       "Tajikistan   Europe & Central Asia  \n",
       "Timor-Leste    East Asia & Pacific  "
      ]
     },
     "execution_count": 68,
     "metadata": {},
     "output_type": "execute_result"
    }
   ],
   "source": [
    "outliers = (standardized['life'] < -3) | (standardized['fertility'] > 3)\n",
    "gapminder_outliers_2010 = gapminder_2010.loc[outliers]\n",
    "gapminder_outliers_2010"
   ]
  },
  {
   "cell_type": "markdown",
   "metadata": {},
   "source": [
    "### Filling missing data (imputation) by group\n",
    "- Group titanic by 'sex' and 'pclass'\n",
    "- Write a function called impute_median() that fills missing values with the median of a series.\n",
    "- Call .transform() with impute_median on the 'age' column of by_sex_class"
   ]
  },
  {
   "cell_type": "code",
   "execution_count": 72,
   "metadata": {},
   "outputs": [
    {
     "data": {
      "text/html": [
       "<div>\n",
       "<style scoped>\n",
       "    .dataframe tbody tr th:only-of-type {\n",
       "        vertical-align: middle;\n",
       "    }\n",
       "\n",
       "    .dataframe tbody tr th {\n",
       "        vertical-align: top;\n",
       "    }\n",
       "\n",
       "    .dataframe thead th {\n",
       "        text-align: right;\n",
       "    }\n",
       "</style>\n",
       "<table border=\"1\" class=\"dataframe\">\n",
       "  <thead>\n",
       "    <tr style=\"text-align: right;\">\n",
       "      <th></th>\n",
       "      <th>pclass</th>\n",
       "      <th>survived</th>\n",
       "      <th>name</th>\n",
       "      <th>sex</th>\n",
       "      <th>age</th>\n",
       "      <th>sibsp</th>\n",
       "      <th>parch</th>\n",
       "      <th>ticket</th>\n",
       "      <th>fare</th>\n",
       "      <th>cabin</th>\n",
       "      <th>embarked</th>\n",
       "      <th>boat</th>\n",
       "      <th>body</th>\n",
       "      <th>home.dest</th>\n",
       "    </tr>\n",
       "  </thead>\n",
       "  <tbody>\n",
       "    <tr>\n",
       "      <th>1304</th>\n",
       "      <td>3</td>\n",
       "      <td>0</td>\n",
       "      <td>Zabour, Miss. Hileni</td>\n",
       "      <td>female</td>\n",
       "      <td>14.5</td>\n",
       "      <td>1</td>\n",
       "      <td>0</td>\n",
       "      <td>2665</td>\n",
       "      <td>14.4542</td>\n",
       "      <td>NaN</td>\n",
       "      <td>C</td>\n",
       "      <td>NaN</td>\n",
       "      <td>328.0</td>\n",
       "      <td>NaN</td>\n",
       "    </tr>\n",
       "    <tr>\n",
       "      <th>1305</th>\n",
       "      <td>3</td>\n",
       "      <td>0</td>\n",
       "      <td>Zabour, Miss. Thamine</td>\n",
       "      <td>female</td>\n",
       "      <td>NaN</td>\n",
       "      <td>1</td>\n",
       "      <td>0</td>\n",
       "      <td>2665</td>\n",
       "      <td>14.4542</td>\n",
       "      <td>NaN</td>\n",
       "      <td>C</td>\n",
       "      <td>NaN</td>\n",
       "      <td>NaN</td>\n",
       "      <td>NaN</td>\n",
       "    </tr>\n",
       "    <tr>\n",
       "      <th>1306</th>\n",
       "      <td>3</td>\n",
       "      <td>0</td>\n",
       "      <td>Zakarian, Mr. Mapriededer</td>\n",
       "      <td>male</td>\n",
       "      <td>26.5</td>\n",
       "      <td>0</td>\n",
       "      <td>0</td>\n",
       "      <td>2656</td>\n",
       "      <td>7.2250</td>\n",
       "      <td>NaN</td>\n",
       "      <td>C</td>\n",
       "      <td>NaN</td>\n",
       "      <td>304.0</td>\n",
       "      <td>NaN</td>\n",
       "    </tr>\n",
       "    <tr>\n",
       "      <th>1307</th>\n",
       "      <td>3</td>\n",
       "      <td>0</td>\n",
       "      <td>Zakarian, Mr. Ortin</td>\n",
       "      <td>male</td>\n",
       "      <td>27.0</td>\n",
       "      <td>0</td>\n",
       "      <td>0</td>\n",
       "      <td>2670</td>\n",
       "      <td>7.2250</td>\n",
       "      <td>NaN</td>\n",
       "      <td>C</td>\n",
       "      <td>NaN</td>\n",
       "      <td>NaN</td>\n",
       "      <td>NaN</td>\n",
       "    </tr>\n",
       "    <tr>\n",
       "      <th>1308</th>\n",
       "      <td>3</td>\n",
       "      <td>0</td>\n",
       "      <td>Zimmerman, Mr. Leo</td>\n",
       "      <td>male</td>\n",
       "      <td>29.0</td>\n",
       "      <td>0</td>\n",
       "      <td>0</td>\n",
       "      <td>315082</td>\n",
       "      <td>7.8750</td>\n",
       "      <td>NaN</td>\n",
       "      <td>S</td>\n",
       "      <td>NaN</td>\n",
       "      <td>NaN</td>\n",
       "      <td>NaN</td>\n",
       "    </tr>\n",
       "  </tbody>\n",
       "</table>\n",
       "</div>"
      ],
      "text/plain": [
       "      pclass  survived                       name     sex   age  sibsp  parch  \\\n",
       "1304       3         0       Zabour, Miss. Hileni  female  14.5      1      0   \n",
       "1305       3         0      Zabour, Miss. Thamine  female   NaN      1      0   \n",
       "1306       3         0  Zakarian, Mr. Mapriededer    male  26.5      0      0   \n",
       "1307       3         0        Zakarian, Mr. Ortin    male  27.0      0      0   \n",
       "1308       3         0         Zimmerman, Mr. Leo    male  29.0      0      0   \n",
       "\n",
       "      ticket     fare cabin embarked boat   body home.dest  \n",
       "1304    2665  14.4542   NaN        C  NaN  328.0       NaN  \n",
       "1305    2665  14.4542   NaN        C  NaN    NaN       NaN  \n",
       "1306    2656   7.2250   NaN        C  NaN  304.0       NaN  \n",
       "1307    2670   7.2250   NaN        C  NaN    NaN       NaN  \n",
       "1308  315082   7.8750   NaN        S  NaN    NaN       NaN  "
      ]
     },
     "execution_count": 72,
     "metadata": {},
     "output_type": "execute_result"
    }
   ],
   "source": [
    "titanic.tail()"
   ]
  },
  {
   "cell_type": "code",
   "execution_count": 70,
   "metadata": {},
   "outputs": [],
   "source": [
    "by_sex_class = titanic.groupby(['sex', 'pclass'])"
   ]
  },
  {
   "cell_type": "code",
   "execution_count": 73,
   "metadata": {},
   "outputs": [],
   "source": [
    "def impute_median(series):\n",
    "    return series.fillna(series.median())"
   ]
  },
  {
   "cell_type": "code",
   "execution_count": 74,
   "metadata": {},
   "outputs": [],
   "source": [
    "titanic.age = by_sex_class['age'].transform(impute_median)"
   ]
  },
  {
   "cell_type": "code",
   "execution_count": 75,
   "metadata": {},
   "outputs": [
    {
     "data": {
      "text/html": [
       "<div>\n",
       "<style scoped>\n",
       "    .dataframe tbody tr th:only-of-type {\n",
       "        vertical-align: middle;\n",
       "    }\n",
       "\n",
       "    .dataframe tbody tr th {\n",
       "        vertical-align: top;\n",
       "    }\n",
       "\n",
       "    .dataframe thead th {\n",
       "        text-align: right;\n",
       "    }\n",
       "</style>\n",
       "<table border=\"1\" class=\"dataframe\">\n",
       "  <thead>\n",
       "    <tr style=\"text-align: right;\">\n",
       "      <th></th>\n",
       "      <th>pclass</th>\n",
       "      <th>survived</th>\n",
       "      <th>name</th>\n",
       "      <th>sex</th>\n",
       "      <th>age</th>\n",
       "      <th>sibsp</th>\n",
       "      <th>parch</th>\n",
       "      <th>ticket</th>\n",
       "      <th>fare</th>\n",
       "      <th>cabin</th>\n",
       "      <th>embarked</th>\n",
       "      <th>boat</th>\n",
       "      <th>body</th>\n",
       "      <th>home.dest</th>\n",
       "    </tr>\n",
       "  </thead>\n",
       "  <tbody>\n",
       "    <tr>\n",
       "      <th>1304</th>\n",
       "      <td>3</td>\n",
       "      <td>0</td>\n",
       "      <td>Zabour, Miss. Hileni</td>\n",
       "      <td>female</td>\n",
       "      <td>14.5</td>\n",
       "      <td>1</td>\n",
       "      <td>0</td>\n",
       "      <td>2665</td>\n",
       "      <td>14.4542</td>\n",
       "      <td>NaN</td>\n",
       "      <td>C</td>\n",
       "      <td>NaN</td>\n",
       "      <td>328.0</td>\n",
       "      <td>NaN</td>\n",
       "    </tr>\n",
       "    <tr>\n",
       "      <th>1305</th>\n",
       "      <td>3</td>\n",
       "      <td>0</td>\n",
       "      <td>Zabour, Miss. Thamine</td>\n",
       "      <td>female</td>\n",
       "      <td>22.0</td>\n",
       "      <td>1</td>\n",
       "      <td>0</td>\n",
       "      <td>2665</td>\n",
       "      <td>14.4542</td>\n",
       "      <td>NaN</td>\n",
       "      <td>C</td>\n",
       "      <td>NaN</td>\n",
       "      <td>NaN</td>\n",
       "      <td>NaN</td>\n",
       "    </tr>\n",
       "    <tr>\n",
       "      <th>1306</th>\n",
       "      <td>3</td>\n",
       "      <td>0</td>\n",
       "      <td>Zakarian, Mr. Mapriededer</td>\n",
       "      <td>male</td>\n",
       "      <td>26.5</td>\n",
       "      <td>0</td>\n",
       "      <td>0</td>\n",
       "      <td>2656</td>\n",
       "      <td>7.2250</td>\n",
       "      <td>NaN</td>\n",
       "      <td>C</td>\n",
       "      <td>NaN</td>\n",
       "      <td>304.0</td>\n",
       "      <td>NaN</td>\n",
       "    </tr>\n",
       "    <tr>\n",
       "      <th>1307</th>\n",
       "      <td>3</td>\n",
       "      <td>0</td>\n",
       "      <td>Zakarian, Mr. Ortin</td>\n",
       "      <td>male</td>\n",
       "      <td>27.0</td>\n",
       "      <td>0</td>\n",
       "      <td>0</td>\n",
       "      <td>2670</td>\n",
       "      <td>7.2250</td>\n",
       "      <td>NaN</td>\n",
       "      <td>C</td>\n",
       "      <td>NaN</td>\n",
       "      <td>NaN</td>\n",
       "      <td>NaN</td>\n",
       "    </tr>\n",
       "    <tr>\n",
       "      <th>1308</th>\n",
       "      <td>3</td>\n",
       "      <td>0</td>\n",
       "      <td>Zimmerman, Mr. Leo</td>\n",
       "      <td>male</td>\n",
       "      <td>29.0</td>\n",
       "      <td>0</td>\n",
       "      <td>0</td>\n",
       "      <td>315082</td>\n",
       "      <td>7.8750</td>\n",
       "      <td>NaN</td>\n",
       "      <td>S</td>\n",
       "      <td>NaN</td>\n",
       "      <td>NaN</td>\n",
       "      <td>NaN</td>\n",
       "    </tr>\n",
       "  </tbody>\n",
       "</table>\n",
       "</div>"
      ],
      "text/plain": [
       "      pclass  survived                       name     sex   age  sibsp  parch  \\\n",
       "1304       3         0       Zabour, Miss. Hileni  female  14.5      1      0   \n",
       "1305       3         0      Zabour, Miss. Thamine  female  22.0      1      0   \n",
       "1306       3         0  Zakarian, Mr. Mapriededer    male  26.5      0      0   \n",
       "1307       3         0        Zakarian, Mr. Ortin    male  27.0      0      0   \n",
       "1308       3         0         Zimmerman, Mr. Leo    male  29.0      0      0   \n",
       "\n",
       "      ticket     fare cabin embarked boat   body home.dest  \n",
       "1304    2665  14.4542   NaN        C  NaN  328.0       NaN  \n",
       "1305    2665  14.4542   NaN        C  NaN    NaN       NaN  \n",
       "1306    2656   7.2250   NaN        C  NaN  304.0       NaN  \n",
       "1307    2670   7.2250   NaN        C  NaN    NaN       NaN  \n",
       "1308  315082   7.8750   NaN        S  NaN    NaN       NaN  "
      ]
     },
     "execution_count": 75,
     "metadata": {},
     "output_type": "execute_result"
    }
   ],
   "source": [
    "titanic.tail()"
   ]
  },
  {
   "cell_type": "markdown",
   "metadata": {},
   "source": [
    "### Other transformations with .apply\n",
    "- Group gapminder_2010 by 'region'\n",
    "- Apply disparity function\n",
    "- Use .loc[] to select ['United States','United Kingdom','China']"
   ]
  },
  {
   "cell_type": "code",
   "execution_count": 76,
   "metadata": {},
   "outputs": [],
   "source": [
    "def disparity(gr):\n",
    "    # Compute the spread of gr['gdp']: s\n",
    "    s = gr['gdp'].max() - gr['gdp'].min()\n",
    "    # Compute the z-score of gr['gdp'] as (gr['gdp']-gr['gdp'].mean())/gr['gdp'].std(): z\n",
    "    z = (gr['gdp'] - gr['gdp'].mean())/gr['gdp'].std()\n",
    "    # Return a DataFrame with the inputs {'z(gdp)':z, 'regional spread(gdp)':s}\n",
    "    return pd.DataFrame({'z(gdp)':z , 'regional spread(gdp)':s})"
   ]
  },
  {
   "cell_type": "code",
   "execution_count": 77,
   "metadata": {},
   "outputs": [],
   "source": [
    "regional = gapminder_2010.groupby('region')"
   ]
  },
  {
   "cell_type": "code",
   "execution_count": 80,
   "metadata": {},
   "outputs": [],
   "source": [
    "regional_disparity = regional.apply(disparity)"
   ]
  },
  {
   "cell_type": "code",
   "execution_count": 81,
   "metadata": {},
   "outputs": [
    {
     "data": {
      "text/html": [
       "<div>\n",
       "<style scoped>\n",
       "    .dataframe tbody tr th:only-of-type {\n",
       "        vertical-align: middle;\n",
       "    }\n",
       "\n",
       "    .dataframe tbody tr th {\n",
       "        vertical-align: top;\n",
       "    }\n",
       "\n",
       "    .dataframe thead th {\n",
       "        text-align: right;\n",
       "    }\n",
       "</style>\n",
       "<table border=\"1\" class=\"dataframe\">\n",
       "  <thead>\n",
       "    <tr style=\"text-align: right;\">\n",
       "      <th></th>\n",
       "      <th>z(gdp)</th>\n",
       "      <th>regional spread(gdp)</th>\n",
       "    </tr>\n",
       "    <tr>\n",
       "      <th>Country</th>\n",
       "      <th></th>\n",
       "      <th></th>\n",
       "    </tr>\n",
       "  </thead>\n",
       "  <tbody>\n",
       "    <tr>\n",
       "      <th>United States</th>\n",
       "      <td>3.013374</td>\n",
       "      <td>47855.0</td>\n",
       "    </tr>\n",
       "    <tr>\n",
       "      <th>United Kingdom</th>\n",
       "      <td>0.572873</td>\n",
       "      <td>89037.0</td>\n",
       "    </tr>\n",
       "    <tr>\n",
       "      <th>China</th>\n",
       "      <td>-0.432756</td>\n",
       "      <td>96993.0</td>\n",
       "    </tr>\n",
       "  </tbody>\n",
       "</table>\n",
       "</div>"
      ],
      "text/plain": [
       "                  z(gdp)  regional spread(gdp)\n",
       "Country                                       \n",
       "United States   3.013374               47855.0\n",
       "United Kingdom  0.572873               89037.0\n",
       "China          -0.432756               96993.0"
      ]
     },
     "execution_count": 81,
     "metadata": {},
     "output_type": "execute_result"
    }
   ],
   "source": [
    "regional_disparity.loc[['United States','United Kingdom','China']]"
   ]
  },
  {
   "cell_type": "markdown",
   "metadata": {},
   "source": [
    "### Grouping and filtering with .apply()\n",
    "- Group titanic by 'sex'\n",
    "- Apply c_deck_survival function on the by_sex DataFrame"
   ]
  },
  {
   "cell_type": "code",
   "execution_count": 84,
   "metadata": {},
   "outputs": [],
   "source": [
    "def c_deck_survival(gr):\n",
    "    c_passengers = gr['cabin'].str.startswith('C').fillna(False)\n",
    "    return gr.loc[c_passengers, 'survived'].mean()"
   ]
  },
  {
   "cell_type": "code",
   "execution_count": 86,
   "metadata": {},
   "outputs": [
    {
     "data": {
      "text/plain": [
       "sex\n",
       "female    0.913043\n",
       "male      0.312500\n",
       "dtype: float64"
      ]
     },
     "execution_count": 86,
     "metadata": {},
     "output_type": "execute_result"
    }
   ],
   "source": [
    "by_sex = titanic.groupby('sex')\n",
    "c_surv_by_sex = by_sex.apply(c_deck_survival)\n",
    "c_surv_by_sex"
   ]
  },
  {
   "cell_type": "code",
   "execution_count": 90,
   "metadata": {},
   "outputs": [
    {
     "data": {
      "text/plain": [
       "0.6063829787234043"
      ]
     },
     "execution_count": 90,
     "metadata": {},
     "output_type": "execute_result"
    }
   ],
   "source": [
    "titanic.loc[titanic['cabin'].str.startswith('C').fillna(False), 'survived'].mean()"
   ]
  },
  {
   "cell_type": "markdown",
   "metadata": {},
   "source": [
    "### Grouping and filtering with .filter()\n",
    "- Group sales by 'Company'\n",
    "- Compute and print the sum of the 'Units'\n",
    "- Call `.filter()` with `lambda g:g['Units'].sum() > 35`"
   ]
  },
  {
   "cell_type": "code",
   "execution_count": 95,
   "metadata": {},
   "outputs": [
    {
     "data": {
      "text/plain": [
       "Company\n",
       "Acme Coporation    34\n",
       "Hooli              30\n",
       "Initech            30\n",
       "Mediacore          45\n",
       "Streeplex          36\n",
       "Name: Units, dtype: int64"
      ]
     },
     "execution_count": 95,
     "metadata": {},
     "output_type": "execute_result"
    }
   ],
   "source": [
    "by_company = sales.groupby('Company')\n",
    "sum_by_company = by_company['Units'].sum()\n",
    "sum_by_company"
   ]
  },
  {
   "cell_type": "code",
   "execution_count": 98,
   "metadata": {},
   "outputs": [
    {
     "data": {
      "text/html": [
       "<div>\n",
       "<style scoped>\n",
       "    .dataframe tbody tr th:only-of-type {\n",
       "        vertical-align: middle;\n",
       "    }\n",
       "\n",
       "    .dataframe tbody tr th {\n",
       "        vertical-align: top;\n",
       "    }\n",
       "\n",
       "    .dataframe thead th {\n",
       "        text-align: right;\n",
       "    }\n",
       "</style>\n",
       "<table border=\"1\" class=\"dataframe\">\n",
       "  <thead>\n",
       "    <tr style=\"text-align: right;\">\n",
       "      <th></th>\n",
       "      <th>Company</th>\n",
       "      <th>Product</th>\n",
       "      <th>Units</th>\n",
       "    </tr>\n",
       "    <tr>\n",
       "      <th>Date</th>\n",
       "      <th></th>\n",
       "      <th></th>\n",
       "      <th></th>\n",
       "    </tr>\n",
       "  </thead>\n",
       "  <tbody>\n",
       "    <tr>\n",
       "      <th>2015-02-02 21:00:00</th>\n",
       "      <td>Mediacore</td>\n",
       "      <td>Hardware</td>\n",
       "      <td>9</td>\n",
       "    </tr>\n",
       "    <tr>\n",
       "      <th>2015-02-04 15:30:00</th>\n",
       "      <td>Streeplex</td>\n",
       "      <td>Software</td>\n",
       "      <td>13</td>\n",
       "    </tr>\n",
       "    <tr>\n",
       "      <th>2015-02-09 09:00:00</th>\n",
       "      <td>Streeplex</td>\n",
       "      <td>Service</td>\n",
       "      <td>19</td>\n",
       "    </tr>\n",
       "    <tr>\n",
       "      <th>2015-02-09 13:00:00</th>\n",
       "      <td>Mediacore</td>\n",
       "      <td>Software</td>\n",
       "      <td>7</td>\n",
       "    </tr>\n",
       "    <tr>\n",
       "      <th>2015-02-19 11:00:00</th>\n",
       "      <td>Mediacore</td>\n",
       "      <td>Hardware</td>\n",
       "      <td>16</td>\n",
       "    </tr>\n",
       "    <tr>\n",
       "      <th>2015-02-19 16:00:00</th>\n",
       "      <td>Mediacore</td>\n",
       "      <td>Service</td>\n",
       "      <td>10</td>\n",
       "    </tr>\n",
       "    <tr>\n",
       "      <th>2015-02-21 05:00:00</th>\n",
       "      <td>Mediacore</td>\n",
       "      <td>Software</td>\n",
       "      <td>3</td>\n",
       "    </tr>\n",
       "    <tr>\n",
       "      <th>2015-02-26 09:00:00</th>\n",
       "      <td>Streeplex</td>\n",
       "      <td>Service</td>\n",
       "      <td>4</td>\n",
       "    </tr>\n",
       "  </tbody>\n",
       "</table>\n",
       "</div>"
      ],
      "text/plain": [
       "                       Company   Product  Units\n",
       "Date                                           \n",
       "2015-02-02 21:00:00  Mediacore  Hardware      9\n",
       "2015-02-04 15:30:00  Streeplex  Software     13\n",
       "2015-02-09 09:00:00  Streeplex   Service     19\n",
       "2015-02-09 13:00:00  Mediacore  Software      7\n",
       "2015-02-19 11:00:00  Mediacore  Hardware     16\n",
       "2015-02-19 16:00:00  Mediacore   Service     10\n",
       "2015-02-21 05:00:00  Mediacore  Software      3\n",
       "2015-02-26 09:00:00  Streeplex   Service      4"
      ]
     },
     "execution_count": 98,
     "metadata": {},
     "output_type": "execute_result"
    }
   ],
   "source": [
    "filter_company = by_company.filter(lambda g: g['Units'].sum()>35)\n",
    "filter_company"
   ]
  },
  {
   "cell_type": "markdown",
   "metadata": {},
   "source": [
    "### Filtering and grouping with .map()\n",
    "- Create a Boolean Series of titanic['age'] < 10 and call .map with {True:'under 10', False:'over 10'}\n",
    "- Group titanic by the under10 Series and then compute and print the mean of the 'survived' column\n",
    "- Group titanic by the under10 Series as well as the 'pclass' column and then compute and print the mean of the 'survived' column"
   ]
  },
  {
   "cell_type": "code",
   "execution_count": 114,
   "metadata": {},
   "outputs": [
    {
     "data": {
      "text/plain": [
       "0     over 10\n",
       "1    under 10\n",
       "2    under 10\n",
       "3     over 10\n",
       "4     over 10\n",
       "Name: age, dtype: object"
      ]
     },
     "execution_count": 114,
     "metadata": {},
     "output_type": "execute_result"
    }
   ],
   "source": [
    "under_10 = (titanic['age']<10).map({True:'under 10', False:'over 10'})\n",
    "under_10.head()"
   ]
  },
  {
   "cell_type": "code",
   "execution_count": 115,
   "metadata": {},
   "outputs": [
    {
     "data": {
      "text/plain": [
       "age\n",
       "over 10     0.366748\n",
       "under 10    0.609756\n",
       "Name: survived, dtype: float64"
      ]
     },
     "execution_count": 115,
     "metadata": {},
     "output_type": "execute_result"
    }
   ],
   "source": [
    "survived_mean_1 = titanic.groupby(under_10)['survived'].mean()\n",
    "survived_mean_1"
   ]
  },
  {
   "cell_type": "code",
   "execution_count": 116,
   "metadata": {},
   "outputs": [
    {
     "data": {
      "text/plain": [
       "age       pclass\n",
       "over 10   1         0.617555\n",
       "          2         0.380392\n",
       "          3         0.238897\n",
       "under 10  1         0.750000\n",
       "          2         1.000000\n",
       "          3         0.446429\n",
       "Name: survived, dtype: float64"
      ]
     },
     "execution_count": 116,
     "metadata": {},
     "output_type": "execute_result"
    }
   ],
   "source": [
    "survived_mean_2 = titanic.groupby([under_10, 'pclass'])['survived'].mean()\n",
    "survived_mean_2"
   ]
  }
 ],
 "metadata": {
  "kernelspec": {
   "display_name": "Python 3",
   "language": "python",
   "name": "python3"
  },
  "language_info": {
   "codemirror_mode": {
    "name": "ipython",
    "version": 3
   },
   "file_extension": ".py",
   "mimetype": "text/x-python",
   "name": "python",
   "nbconvert_exporter": "python",
   "pygments_lexer": "ipython3",
   "version": "3.6.5"
  }
 },
 "nbformat": 4,
 "nbformat_minor": 2
}
