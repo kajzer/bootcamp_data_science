{
 "cells": [
  {
   "cell_type": "markdown",
   "metadata": {},
   "source": [
    "# Exploratory data analysis"
   ]
  },
  {
   "cell_type": "code",
   "execution_count": 113,
   "metadata": {},
   "outputs": [],
   "source": [
    "import pandas as pd\n",
    "import numpy as np\n",
    "import matplotlib.pyplot as plt"
   ]
  },
  {
   "cell_type": "markdown",
   "metadata": {},
   "source": [
    "Pandas line plots\n",
    "- prepare data"
   ]
  },
  {
   "cell_type": "code",
   "execution_count": 114,
   "metadata": {},
   "outputs": [],
   "source": [
    "stock_data = pd.read_csv('messy_stock_data.tsv', delimiter=' ', header=3, comment='#')"
   ]
  },
  {
   "cell_type": "code",
   "execution_count": 115,
   "metadata": {},
   "outputs": [
    {
     "data": {
      "text/html": [
       "<div>\n",
       "<style scoped>\n",
       "    .dataframe tbody tr th:only-of-type {\n",
       "        vertical-align: middle;\n",
       "    }\n",
       "\n",
       "    .dataframe tbody tr th {\n",
       "        vertical-align: top;\n",
       "    }\n",
       "\n",
       "    .dataframe thead th {\n",
       "        text-align: right;\n",
       "    }\n",
       "</style>\n",
       "<table border=\"1\" class=\"dataframe\">\n",
       "  <thead>\n",
       "    <tr style=\"text-align: right;\">\n",
       "      <th></th>\n",
       "      <th>name</th>\n",
       "      <th>Jan</th>\n",
       "      <th>Feb</th>\n",
       "      <th>Mar</th>\n",
       "      <th>Apr</th>\n",
       "      <th>May</th>\n",
       "      <th>Jun</th>\n",
       "      <th>Jul</th>\n",
       "      <th>Aug</th>\n",
       "      <th>Sep</th>\n",
       "      <th>Oct</th>\n",
       "      <th>Nov</th>\n",
       "      <th>Dec</th>\n",
       "    </tr>\n",
       "  </thead>\n",
       "  <tbody>\n",
       "    <tr>\n",
       "      <th>0</th>\n",
       "      <td>IBM</td>\n",
       "      <td>156.08</td>\n",
       "      <td>160.01</td>\n",
       "      <td>159.81</td>\n",
       "      <td>165.22</td>\n",
       "      <td>172.25</td>\n",
       "      <td>167.15</td>\n",
       "      <td>164.75</td>\n",
       "      <td>152.77</td>\n",
       "      <td>145.36</td>\n",
       "      <td>146.11</td>\n",
       "      <td>137.21</td>\n",
       "      <td>137.96</td>\n",
       "    </tr>\n",
       "    <tr>\n",
       "      <th>1</th>\n",
       "      <td>MSFT</td>\n",
       "      <td>45.51</td>\n",
       "      <td>43.08</td>\n",
       "      <td>42.13</td>\n",
       "      <td>43.47</td>\n",
       "      <td>47.53</td>\n",
       "      <td>45.96</td>\n",
       "      <td>45.61</td>\n",
       "      <td>45.51</td>\n",
       "      <td>43.56</td>\n",
       "      <td>48.70</td>\n",
       "      <td>53.88</td>\n",
       "      <td>55.40</td>\n",
       "    </tr>\n",
       "    <tr>\n",
       "      <th>2</th>\n",
       "      <td>GOOGLE</td>\n",
       "      <td>512.42</td>\n",
       "      <td>537.99</td>\n",
       "      <td>559.72</td>\n",
       "      <td>540.50</td>\n",
       "      <td>535.24</td>\n",
       "      <td>532.92</td>\n",
       "      <td>590.09</td>\n",
       "      <td>636.84</td>\n",
       "      <td>617.93</td>\n",
       "      <td>663.59</td>\n",
       "      <td>735.39</td>\n",
       "      <td>755.35</td>\n",
       "    </tr>\n",
       "    <tr>\n",
       "      <th>3</th>\n",
       "      <td>APPLE</td>\n",
       "      <td>110.64</td>\n",
       "      <td>125.43</td>\n",
       "      <td>125.97</td>\n",
       "      <td>127.29</td>\n",
       "      <td>128.76</td>\n",
       "      <td>127.81</td>\n",
       "      <td>125.34</td>\n",
       "      <td>113.39</td>\n",
       "      <td>112.80</td>\n",
       "      <td>113.36</td>\n",
       "      <td>118.16</td>\n",
       "      <td>111.73</td>\n",
       "    </tr>\n",
       "  </tbody>\n",
       "</table>\n",
       "</div>"
      ],
      "text/plain": [
       "     name     Jan     Feb     Mar     Apr     May     Jun     Jul     Aug  \\\n",
       "0     IBM  156.08  160.01  159.81  165.22  172.25  167.15  164.75  152.77   \n",
       "1    MSFT   45.51   43.08   42.13   43.47   47.53   45.96   45.61   45.51   \n",
       "2  GOOGLE  512.42  537.99  559.72  540.50  535.24  532.92  590.09  636.84   \n",
       "3   APPLE  110.64  125.43  125.97  127.29  128.76  127.81  125.34  113.39   \n",
       "\n",
       "      Sep     Oct     Nov     Dec  \n",
       "0  145.36  146.11  137.21  137.96  \n",
       "1   43.56   48.70   53.88   55.40  \n",
       "2  617.93  663.59  735.39  755.35  \n",
       "3  112.80  113.36  118.16  111.73  "
      ]
     },
     "execution_count": 115,
     "metadata": {},
     "output_type": "execute_result"
    }
   ],
   "source": [
    "stock_data.head()"
   ]
  },
  {
   "cell_type": "code",
   "execution_count": 116,
   "metadata": {},
   "outputs": [
    {
     "data": {
      "text/html": [
       "<div>\n",
       "<style scoped>\n",
       "    .dataframe tbody tr th:only-of-type {\n",
       "        vertical-align: middle;\n",
       "    }\n",
       "\n",
       "    .dataframe tbody tr th {\n",
       "        vertical-align: top;\n",
       "    }\n",
       "\n",
       "    .dataframe thead th {\n",
       "        text-align: right;\n",
       "    }\n",
       "</style>\n",
       "<table border=\"1\" class=\"dataframe\">\n",
       "  <thead>\n",
       "    <tr style=\"text-align: right;\">\n",
       "      <th>name</th>\n",
       "      <th>IBM</th>\n",
       "      <th>MSFT</th>\n",
       "      <th>GOOGLE</th>\n",
       "      <th>APPLE</th>\n",
       "      <th>Month</th>\n",
       "    </tr>\n",
       "  </thead>\n",
       "  <tbody>\n",
       "    <tr>\n",
       "      <th>Jan</th>\n",
       "      <td>156.08</td>\n",
       "      <td>45.51</td>\n",
       "      <td>512.42</td>\n",
       "      <td>110.64</td>\n",
       "      <td>Jan</td>\n",
       "    </tr>\n",
       "    <tr>\n",
       "      <th>Feb</th>\n",
       "      <td>160.01</td>\n",
       "      <td>43.08</td>\n",
       "      <td>537.99</td>\n",
       "      <td>125.43</td>\n",
       "      <td>Feb</td>\n",
       "    </tr>\n",
       "    <tr>\n",
       "      <th>Mar</th>\n",
       "      <td>159.81</td>\n",
       "      <td>42.13</td>\n",
       "      <td>559.72</td>\n",
       "      <td>125.97</td>\n",
       "      <td>Mar</td>\n",
       "    </tr>\n",
       "    <tr>\n",
       "      <th>Apr</th>\n",
       "      <td>165.22</td>\n",
       "      <td>43.47</td>\n",
       "      <td>540.5</td>\n",
       "      <td>127.29</td>\n",
       "      <td>Apr</td>\n",
       "    </tr>\n",
       "    <tr>\n",
       "      <th>May</th>\n",
       "      <td>172.25</td>\n",
       "      <td>47.53</td>\n",
       "      <td>535.24</td>\n",
       "      <td>128.76</td>\n",
       "      <td>May</td>\n",
       "    </tr>\n",
       "  </tbody>\n",
       "</table>\n",
       "</div>"
      ],
      "text/plain": [
       "name     IBM   MSFT  GOOGLE   APPLE Month\n",
       "Jan   156.08  45.51  512.42  110.64   Jan\n",
       "Feb   160.01  43.08  537.99  125.43   Feb\n",
       "Mar   159.81  42.13  559.72  125.97   Mar\n",
       "Apr   165.22  43.47   540.5  127.29   Apr\n",
       "May   172.25  47.53  535.24  128.76   May"
      ]
     },
     "execution_count": 116,
     "metadata": {},
     "output_type": "execute_result"
    }
   ],
   "source": [
    "stock_data_t = stock_data.T\n",
    "stock_data_t.columns = stock_data_t.iloc[0]\n",
    "stock_data_t = stock_data_t.drop(['name'])\n",
    "stock_data_t.rename(columns={'name':'Month'}, inplace=True)\n",
    "stock_data_t['Month'] = stock_data_t.index\n",
    "stock_data_t.head()"
   ]
  },
  {
   "cell_type": "code",
   "execution_count": 117,
   "metadata": {},
   "outputs": [
    {
     "data": {
      "image/png": "[encoded data removed]",
      "text/plain": [
       "<Figure size 432x288 with 1 Axes>"
      ]
     },
     "metadata": {},
     "output_type": "display_data"
    }
   ],
   "source": [
    "stock_data_t.plot(x='Month', y=['IBM','MSFT', 'GOOGLE', 'APPLE'])\n",
    "plt.title('Monthly stock prices')\n",
    "plt.ylabel('Price ($US)')\n",
    "plt.savefig('stock_prices.png')\n",
    "plt.show()"
   ]
  },
  {
   "cell_type": "markdown",
   "metadata": {},
   "source": [
    "Pandas scatter plots"
   ]
  },
  {
   "cell_type": "code",
   "execution_count": 118,
   "metadata": {
    "scrolled": true
   },
   "outputs": [
    {
     "data": {
      "text/html": [
       "<div>\n",
       "<style scoped>\n",
       "    .dataframe tbody tr th:only-of-type {\n",
       "        vertical-align: middle;\n",
       "    }\n",
       "\n",
       "    .dataframe tbody tr th {\n",
       "        vertical-align: top;\n",
       "    }\n",
       "\n",
       "    .dataframe thead th {\n",
       "        text-align: right;\n",
       "    }\n",
       "</style>\n",
       "<table border=\"1\" class=\"dataframe\">\n",
       "  <thead>\n",
       "    <tr style=\"text-align: right;\">\n",
       "      <th></th>\n",
       "      <th>mpg</th>\n",
       "      <th>cyl</th>\n",
       "      <th>displ</th>\n",
       "      <th>hp</th>\n",
       "      <th>weight</th>\n",
       "      <th>accel</th>\n",
       "      <th>yr</th>\n",
       "      <th>origin</th>\n",
       "      <th>name</th>\n",
       "    </tr>\n",
       "  </thead>\n",
       "  <tbody>\n",
       "    <tr>\n",
       "      <th>0</th>\n",
       "      <td>18.0</td>\n",
       "      <td>8</td>\n",
       "      <td>307.0</td>\n",
       "      <td>130</td>\n",
       "      <td>3504</td>\n",
       "      <td>12.0</td>\n",
       "      <td>70</td>\n",
       "      <td>US</td>\n",
       "      <td>chevrolet chevelle malibu</td>\n",
       "    </tr>\n",
       "    <tr>\n",
       "      <th>1</th>\n",
       "      <td>15.0</td>\n",
       "      <td>8</td>\n",
       "      <td>350.0</td>\n",
       "      <td>165</td>\n",
       "      <td>3693</td>\n",
       "      <td>11.5</td>\n",
       "      <td>70</td>\n",
       "      <td>US</td>\n",
       "      <td>buick skylark 320</td>\n",
       "    </tr>\n",
       "    <tr>\n",
       "      <th>2</th>\n",
       "      <td>18.0</td>\n",
       "      <td>8</td>\n",
       "      <td>318.0</td>\n",
       "      <td>150</td>\n",
       "      <td>3436</td>\n",
       "      <td>11.0</td>\n",
       "      <td>70</td>\n",
       "      <td>US</td>\n",
       "      <td>plymouth satellite</td>\n",
       "    </tr>\n",
       "    <tr>\n",
       "      <th>3</th>\n",
       "      <td>16.0</td>\n",
       "      <td>8</td>\n",
       "      <td>304.0</td>\n",
       "      <td>150</td>\n",
       "      <td>3433</td>\n",
       "      <td>12.0</td>\n",
       "      <td>70</td>\n",
       "      <td>US</td>\n",
       "      <td>amc rebel sst</td>\n",
       "    </tr>\n",
       "    <tr>\n",
       "      <th>4</th>\n",
       "      <td>17.0</td>\n",
       "      <td>8</td>\n",
       "      <td>302.0</td>\n",
       "      <td>140</td>\n",
       "      <td>3449</td>\n",
       "      <td>10.5</td>\n",
       "      <td>70</td>\n",
       "      <td>US</td>\n",
       "      <td>ford torino</td>\n",
       "    </tr>\n",
       "  </tbody>\n",
       "</table>\n",
       "</div>"
      ],
      "text/plain": [
       "    mpg  cyl  displ   hp  weight  accel  yr origin                       name\n",
       "0  18.0    8  307.0  130    3504   12.0  70     US  chevrolet chevelle malibu\n",
       "1  15.0    8  350.0  165    3693   11.5  70     US          buick skylark 320\n",
       "2  18.0    8  318.0  150    3436   11.0  70     US         plymouth satellite\n",
       "3  16.0    8  304.0  150    3433   12.0  70     US              amc rebel sst\n",
       "4  17.0    8  302.0  140    3449   10.5  70     US                ford torino"
      ]
     },
     "execution_count": 118,
     "metadata": {},
     "output_type": "execute_result"
    }
   ],
   "source": [
    "auto_mpg = pd.read_csv('auto-mpg.csv')\n",
    "auto_mpg.head()"
   ]
  },
  {
   "cell_type": "code",
   "execution_count": 119,
   "metadata": {},
   "outputs": [
    {
     "data": {
      "image/png": "[encoded data removed]",
      "text/plain": [
       "<Figure size 432x288 with 1 Axes>"
      ]
     },
     "metadata": {},
     "output_type": "display_data"
    }
   ],
   "source": [
    "sizes = np.array([ 51.12044694,  56.78387977,  49.15557238,  49.06977358,\n",
    "        49.52823321,  78.4595872 ,  78.93021696,  77.41479205,\n",
    "        81.52541106,  61.71459825,  52.85646225,  54.23007578,\n",
    "        58.89427963,  39.65137852,  23.42587473,  33.41639502,\n",
    "        32.03903011,  27.8650165 ,  18.88972581,  14.0196956 ,\n",
    "        29.72619722,  24.58549713,  23.48516821,  20.77938954,\n",
    "        29.19459189,  88.67676838,  79.72987328,  79.94866084,\n",
    "        93.23005042,  18.88972581,  21.34122243,  20.6679223 ,\n",
    "        28.88670381,  49.24144612,  46.14174741,  45.39631334,\n",
    "        45.01218186,  73.76057586,  82.96880195,  71.84547684,\n",
    "        69.85320595, 102.22421043,  93.78252358, 110.        ,\n",
    "        36.52889673,  24.14234281,  44.84805372,  41.02504618,\n",
    "        20.51976563,  18.765772  ,  17.9095202 ,  17.75442285,\n",
    "        13.08832041,  10.83266174,  14.00441945,  15.91328975,\n",
    "        21.60597587,  18.8188451 ,  21.15311208,  24.14234281,\n",
    "        20.63083317,  76.05635059,  80.05816704,  71.18975117,\n",
    "        70.98330444,  56.13992036,  89.36985382,  84.38736544,\n",
    "        82.6716892 ,  81.4149056 ,  22.60363518,  63.06844313,\n",
    "        69.92143863,  76.76982089,  69.2066568 ,  35.81711267,\n",
    "        26.25184749,  36.94940537,  19.95069229,  23.88237331,\n",
    "        21.79608472,  26.1474042 ,  19.49759118,  18.36136808,\n",
    "        69.98970461,  56.13992036,  66.21810474,  68.02351436,\n",
    "        59.39644014, 102.10046481,  82.96880195,  79.25686195,\n",
    "        74.74521151,  93.34830013, 102.05923292,  60.7883734 ,\n",
    "        40.55589449,  44.7388015 ,  36.11079464,  37.9986264 ,\n",
    "        35.11233175,  15.83199594, 103.96451839, 100.21241654,\n",
    "        90.18186347,  84.27493641,  32.38645967,  21.62494928,\n",
    "        24.00218436,  23.56434276,  18.78345471,  22.21725537,\n",
    "        25.44271071,  21.36007926,  69.37650986,  76.19877818,\n",
    "        14.51292942,  19.38962134,  27.75740889,  34.24717407,\n",
    "        48.10262495,  29.459795  ,  32.80584831,  55.89556844,\n",
    "        40.06360581,  35.03982309,  46.33599903,  15.83199594,\n",
    "        25.01226779,  14.03498009,  26.90404245,  59.52231336,\n",
    "        54.92349014,  54.35035315,  71.39649768,  91.93424995,\n",
    "        82.70879915,  89.56285636,  75.45251972,  20.50128352,\n",
    "        16.04379287,  22.02531454,  11.32159874,  16.70430249,\n",
    "        18.80114574,  18.50153068,  21.00322336,  25.79385418,\n",
    "        23.80266582,  16.65430211,  44.35746794,  49.815853  ,\n",
    "        49.04119063,  41.52318884,  90.72524338,  82.07906251,\n",
    "        84.23747672,  90.29816462,  63.55551901,  63.23059357,\n",
    "        57.92740995,  59.64831981,  38.45278922,  43.19643409,\n",
    "        41.81296121,  19.62393488,  28.99647648,  35.35456858,\n",
    "        27.97283229,  30.39744886,  20.57526193,  26.96758278,\n",
    "        37.07354237,  15.62160631,  42.92863291,  30.21771564,\n",
    "        36.40567571,  36.11079464,  29.70395123,  13.41514444,\n",
    "        25.27829944,  20.51976563,  27.54281821,  21.17188565,\n",
    "        20.18836167,  73.97101962,  73.09614831,  65.35749368,\n",
    "        73.97101962,  43.51889468,  46.80945169,  37.77255674,\n",
    "        39.6256851 ,  17.24230306,  19.49759118,  15.62160631,\n",
    "        13.41514444,  55.49963323,  53.18333207,  55.31736854,\n",
    "        42.44868923,  13.86730874,  16.48817545,  19.33574884,\n",
    "        27.3931002 ,  41.31307817,  64.63368105,  44.52069676,\n",
    "        35.74387954,  60.75655952,  79.87569835,  68.46177648,\n",
    "        62.35745431,  58.70651902,  17.41217694,  19.33574884,\n",
    "        13.86730874,  22.02531454,  15.75091031,  62.68013142,\n",
    "        68.63071356,  71.36201911,  76.80558184,  51.58836621,\n",
    "        48.84134317,  54.86301837,  51.73502816,  74.14661842,\n",
    "        72.22648148,  77.88228247,  78.24284811,  15.67003285,\n",
    "        31.25845963,  21.36007926,  31.60164234,  17.51450098,\n",
    "        17.92679488,  16.40542438,  19.96892459,  32.99310928,\n",
    "        28.14577056,  30.80379718,  16.40542438,  13.48998471,\n",
    "        16.40542438,  17.84050478,  13.48998471,  47.1451025 ,\n",
    "        58.08281541,  53.06435374,  52.02897659,  41.44433489,\n",
    "        36.60292926,  30.80379718,  48.98404972,  42.90189859,\n",
    "        47.56635225,  39.24128299,  54.56115914,  48.41447259,\n",
    "        48.84134317,  49.41341845,  42.76835191,  69.30854366,\n",
    "        19.33574884,  27.28640858,  22.02531454,  20.70504474,\n",
    "        26.33555201,  31.37264569,  33.93740821,  24.08222494,\n",
    "        33.34566004,  41.05118927,  32.52595611,  48.41447259,\n",
    "        16.48817545,  18.97851406,  43.84255439,  37.22278157,\n",
    "        34.77459916,  44.38465193,  47.00510227,  61.39441929,\n",
    "        57.77221268,  65.12675249,  61.07507305,  79.14790534,\n",
    "        68.42801405,  54.10993164,  64.63368105,  15.42864956,\n",
    "        16.24054679,  15.26876826,  29.68171358,  51.88189829,\n",
    "        63.32798377,  42.36896092,  48.6988448 ,  20.15170555,\n",
    "        19.24612787,  16.98905358,  18.88972581,  29.68171358,\n",
    "        28.03762169,  30.35246559,  27.20120517,  19.13885751,\n",
    "        16.12562794,  18.71277385,  16.9722369 ,  29.85984799,\n",
    "        34.29495526,  37.54716158,  47.59450219,  19.93246832,\n",
    "        30.60028577,  26.90404245,  24.66650366,  21.36007926,\n",
    "        18.5366546 ,  32.64243213,  18.5366546 ,  18.09999962,\n",
    "        22.70075058,  36.23351603,  43.97776651,  14.24983724,\n",
    "        19.15671509,  14.17291518,  35.25757392,  24.38356372,\n",
    "        26.02234705,  21.83420642,  25.81458463,  28.90864169,\n",
    "        28.58044785,  30.91715052,  23.6833544 ,  12.82391671,\n",
    "        14.63757021,  12.89709155,  17.75442285,  16.24054679,\n",
    "        17.49742615,  16.40542438,  20.42743834,  17.41217694,\n",
    "        23.58415722,  19.96892459,  20.33531923,  22.99334585,\n",
    "        28.47146626,  28.90864169,  43.43816712,  41.57579979,\n",
    "        35.01567018,  35.74387954,  48.5565546 ,  57.77221268,\n",
    "        38.98605581,  49.98882458,  28.25412762,  29.01845599,\n",
    "        23.88237331,  27.60710798,  26.54539622,  31.14448175,\n",
    "        34.17556473,  16.3228815 ,  17.0732619 ,  16.15842026,\n",
    "        18.80114574,  18.80114574,  19.42557798,  20.2434083 ,\n",
    "        20.98452475,  16.07650192,  16.07650192,  16.57113469,\n",
    "        36.11079464,  37.84783835,  27.82194848,  33.46359332,\n",
    "        29.5706502 ,  23.38638738,  36.23351603,  32.40968826,\n",
    "        18.88972581,  21.92965639,  28.68963762,  30.80379718])\n",
    "auto_mpg.plot(kind='scatter', x='hp', y='mpg', s=sizes)\n",
    "plt.title('Fuel efficiency vs Horse-power')\n",
    "plt.xlabel('Horse power')\n",
    "plt.ylabel('Fuel efficiency (mpg)')\n",
    "plt.savefig('Fuel_efficiency.png')\n",
    "plt.show()"
   ]
  },
  {
   "cell_type": "markdown",
   "metadata": {},
   "source": [
    "Pandas box plot"
   ]
  },
  {
   "cell_type": "code",
   "execution_count": 120,
   "metadata": {},
   "outputs": [
    {
     "data": {
      "image/png": "[encoded data removed]",
      "text/plain": [
       "<Figure size 432x288 with 2 Axes>"
      ]
     },
     "metadata": {},
     "output_type": "display_data"
    }
   ],
   "source": [
    "auto_mpg[['weight', 'mpg']].plot(subplots=True, kind='box')\n",
    "plt.savefig('box_plot_auto.png')\n",
    "plt.show()"
   ]
  },
  {
   "cell_type": "markdown",
   "metadata": {},
   "source": [
    "Pandas hist, pdf and cdf\n",
    "PDF - probability density function\n",
    "CDF - cumulative density function"
   ]
  },
  {
   "cell_type": "code",
   "execution_count": 121,
   "metadata": {},
   "outputs": [
    {
     "data": {
      "text/html": [
       "<div>\n",
       "<style scoped>\n",
       "    .dataframe tbody tr th:only-of-type {\n",
       "        vertical-align: middle;\n",
       "    }\n",
       "\n",
       "    .dataframe tbody tr th {\n",
       "        vertical-align: top;\n",
       "    }\n",
       "\n",
       "    .dataframe thead th {\n",
       "        text-align: right;\n",
       "    }\n",
       "</style>\n",
       "<table border=\"1\" class=\"dataframe\">\n",
       "  <thead>\n",
       "    <tr style=\"text-align: right;\">\n",
       "      <th></th>\n",
       "      <th>total_bill</th>\n",
       "      <th>tip</th>\n",
       "      <th>sex</th>\n",
       "      <th>smoker</th>\n",
       "      <th>day</th>\n",
       "      <th>time</th>\n",
       "      <th>size</th>\n",
       "      <th>fraction</th>\n",
       "    </tr>\n",
       "  </thead>\n",
       "  <tbody>\n",
       "    <tr>\n",
       "      <th>0</th>\n",
       "      <td>16.99</td>\n",
       "      <td>1.01</td>\n",
       "      <td>Female</td>\n",
       "      <td>No</td>\n",
       "      <td>Sun</td>\n",
       "      <td>Dinner</td>\n",
       "      <td>2</td>\n",
       "      <td>0.059447</td>\n",
       "    </tr>\n",
       "    <tr>\n",
       "      <th>1</th>\n",
       "      <td>10.34</td>\n",
       "      <td>1.66</td>\n",
       "      <td>Male</td>\n",
       "      <td>No</td>\n",
       "      <td>Sun</td>\n",
       "      <td>Dinner</td>\n",
       "      <td>3</td>\n",
       "      <td>0.160542</td>\n",
       "    </tr>\n",
       "    <tr>\n",
       "      <th>2</th>\n",
       "      <td>21.01</td>\n",
       "      <td>3.50</td>\n",
       "      <td>Male</td>\n",
       "      <td>No</td>\n",
       "      <td>Sun</td>\n",
       "      <td>Dinner</td>\n",
       "      <td>3</td>\n",
       "      <td>0.166587</td>\n",
       "    </tr>\n",
       "    <tr>\n",
       "      <th>3</th>\n",
       "      <td>23.68</td>\n",
       "      <td>3.31</td>\n",
       "      <td>Male</td>\n",
       "      <td>No</td>\n",
       "      <td>Sun</td>\n",
       "      <td>Dinner</td>\n",
       "      <td>2</td>\n",
       "      <td>0.139780</td>\n",
       "    </tr>\n",
       "    <tr>\n",
       "      <th>4</th>\n",
       "      <td>24.59</td>\n",
       "      <td>3.61</td>\n",
       "      <td>Female</td>\n",
       "      <td>No</td>\n",
       "      <td>Sun</td>\n",
       "      <td>Dinner</td>\n",
       "      <td>4</td>\n",
       "      <td>0.146808</td>\n",
       "    </tr>\n",
       "  </tbody>\n",
       "</table>\n",
       "</div>"
      ],
      "text/plain": [
       "   total_bill   tip     sex smoker  day    time  size  fraction\n",
       "0       16.99  1.01  Female     No  Sun  Dinner     2  0.059447\n",
       "1       10.34  1.66    Male     No  Sun  Dinner     3  0.160542\n",
       "2       21.01  3.50    Male     No  Sun  Dinner     3  0.166587\n",
       "3       23.68  3.31    Male     No  Sun  Dinner     2  0.139780\n",
       "4       24.59  3.61  Female     No  Sun  Dinner     4  0.146808"
      ]
     },
     "execution_count": 121,
     "metadata": {},
     "output_type": "execute_result"
    }
   ],
   "source": [
    "tips = pd.read_csv('tips.csv')\n",
    "tips['fraction'] = tips.tip/tips.total_bill\n",
    "tips.head()"
   ]
  },
  {
   "cell_type": "code",
   "execution_count": 122,
   "metadata": {},
   "outputs": [
    {
     "data": {
      "image/png": "[encoded data removed]",
      "text/plain": [
       "<Figure size 432x288 with 2 Axes>"
      ]
     },
     "metadata": {},
     "output_type": "display_data"
    }
   ],
   "source": [
    "# Format plots such that they apper on separate rows\n",
    "fig, axes = plt.subplots(nrows=2,ncols=1)\n",
    "tips.fraction.plot(ax=axes[0], kind='hist', bins=30, density=True, range=(0,.3))\n",
    "tips.fraction.plot(ax=axes[1], kind='hist', bins=30, density=True, cumulative=True, range=(0,.3))\n",
    "plt.savefig('pdf_cdf.png')\n",
    "plt.show()"
   ]
  },
  {
   "cell_type": "markdown",
   "metadata": {},
   "source": [
    "Median"
   ]
  },
  {
   "cell_type": "code",
   "execution_count": 123,
   "metadata": {},
   "outputs": [
    {
     "data": {
      "text/plain": [
       "22.75"
      ]
     },
     "execution_count": 123,
     "metadata": {},
     "output_type": "execute_result"
    }
   ],
   "source": [
    "auto_mpg['mpg'].median()"
   ]
  },
  {
   "cell_type": "markdown",
   "metadata": {},
   "source": [
    "Min, max and mean"
   ]
  },
  {
   "cell_type": "code",
   "execution_count": 124,
   "metadata": {},
   "outputs": [
    {
     "data": {
      "text/html": [
       "<div>\n",
       "<style scoped>\n",
       "    .dataframe tbody tr th:only-of-type {\n",
       "        vertical-align: middle;\n",
       "    }\n",
       "\n",
       "    .dataframe tbody tr th {\n",
       "        vertical-align: top;\n",
       "    }\n",
       "\n",
       "    .dataframe thead th {\n",
       "        text-align: right;\n",
       "    }\n",
       "</style>\n",
       "<table border=\"1\" class=\"dataframe\">\n",
       "  <thead>\n",
       "    <tr style=\"text-align: right;\">\n",
       "      <th></th>\n",
       "      <th>Year</th>\n",
       "      <th>Agriculture</th>\n",
       "      <th>Architecture</th>\n",
       "      <th>Art and Performance</th>\n",
       "      <th>Biology</th>\n",
       "      <th>Business</th>\n",
       "      <th>Communications and Journalism</th>\n",
       "      <th>Computer Science</th>\n",
       "      <th>Education</th>\n",
       "      <th>Engineering</th>\n",
       "      <th>English</th>\n",
       "      <th>Foreign Languages</th>\n",
       "      <th>Health Professions</th>\n",
       "      <th>Math and Statistics</th>\n",
       "      <th>Physical Sciences</th>\n",
       "      <th>Psychology</th>\n",
       "      <th>Public Administration</th>\n",
       "      <th>Social Sciences and History</th>\n",
       "    </tr>\n",
       "  </thead>\n",
       "  <tbody>\n",
       "    <tr>\n",
       "      <th>0</th>\n",
       "      <td>1970</td>\n",
       "      <td>4.229798</td>\n",
       "      <td>11.921005</td>\n",
       "      <td>59.7</td>\n",
       "      <td>29.088363</td>\n",
       "      <td>9.064439</td>\n",
       "      <td>35.3</td>\n",
       "      <td>13.6</td>\n",
       "      <td>74.535328</td>\n",
       "      <td>0.8</td>\n",
       "      <td>65.570923</td>\n",
       "      <td>73.8</td>\n",
       "      <td>77.1</td>\n",
       "      <td>38.0</td>\n",
       "      <td>13.8</td>\n",
       "      <td>44.4</td>\n",
       "      <td>68.4</td>\n",
       "      <td>36.8</td>\n",
       "    </tr>\n",
       "    <tr>\n",
       "      <th>1</th>\n",
       "      <td>1971</td>\n",
       "      <td>5.452797</td>\n",
       "      <td>12.003106</td>\n",
       "      <td>59.9</td>\n",
       "      <td>29.394403</td>\n",
       "      <td>9.503187</td>\n",
       "      <td>35.5</td>\n",
       "      <td>13.6</td>\n",
       "      <td>74.149204</td>\n",
       "      <td>1.0</td>\n",
       "      <td>64.556485</td>\n",
       "      <td>73.9</td>\n",
       "      <td>75.5</td>\n",
       "      <td>39.0</td>\n",
       "      <td>14.9</td>\n",
       "      <td>46.2</td>\n",
       "      <td>65.5</td>\n",
       "      <td>36.2</td>\n",
       "    </tr>\n",
       "    <tr>\n",
       "      <th>2</th>\n",
       "      <td>1972</td>\n",
       "      <td>7.420710</td>\n",
       "      <td>13.214594</td>\n",
       "      <td>60.4</td>\n",
       "      <td>29.810221</td>\n",
       "      <td>10.558962</td>\n",
       "      <td>36.6</td>\n",
       "      <td>14.9</td>\n",
       "      <td>73.554520</td>\n",
       "      <td>1.2</td>\n",
       "      <td>63.664263</td>\n",
       "      <td>74.6</td>\n",
       "      <td>76.9</td>\n",
       "      <td>40.2</td>\n",
       "      <td>14.8</td>\n",
       "      <td>47.6</td>\n",
       "      <td>62.6</td>\n",
       "      <td>36.1</td>\n",
       "    </tr>\n",
       "    <tr>\n",
       "      <th>3</th>\n",
       "      <td>1973</td>\n",
       "      <td>9.653602</td>\n",
       "      <td>14.791613</td>\n",
       "      <td>60.2</td>\n",
       "      <td>31.147915</td>\n",
       "      <td>12.804602</td>\n",
       "      <td>38.4</td>\n",
       "      <td>16.4</td>\n",
       "      <td>73.501814</td>\n",
       "      <td>1.6</td>\n",
       "      <td>62.941502</td>\n",
       "      <td>74.9</td>\n",
       "      <td>77.4</td>\n",
       "      <td>40.9</td>\n",
       "      <td>16.5</td>\n",
       "      <td>50.4</td>\n",
       "      <td>64.3</td>\n",
       "      <td>36.4</td>\n",
       "    </tr>\n",
       "    <tr>\n",
       "      <th>4</th>\n",
       "      <td>1974</td>\n",
       "      <td>14.074623</td>\n",
       "      <td>17.444688</td>\n",
       "      <td>61.9</td>\n",
       "      <td>32.996183</td>\n",
       "      <td>16.204850</td>\n",
       "      <td>40.5</td>\n",
       "      <td>18.9</td>\n",
       "      <td>73.336811</td>\n",
       "      <td>2.2</td>\n",
       "      <td>62.413412</td>\n",
       "      <td>75.3</td>\n",
       "      <td>77.9</td>\n",
       "      <td>41.8</td>\n",
       "      <td>18.2</td>\n",
       "      <td>52.6</td>\n",
       "      <td>66.1</td>\n",
       "      <td>37.3</td>\n",
       "    </tr>\n",
       "  </tbody>\n",
       "</table>\n",
       "</div>"
      ],
      "text/plain": [
       "   Year  Agriculture  Architecture  Art and Performance    Biology   Business  \\\n",
       "0  1970     4.229798     11.921005                 59.7  29.088363   9.064439   \n",
       "1  1971     5.452797     12.003106                 59.9  29.394403   9.503187   \n",
       "2  1972     7.420710     13.214594                 60.4  29.810221  10.558962   \n",
       "3  1973     9.653602     14.791613                 60.2  31.147915  12.804602   \n",
       "4  1974    14.074623     17.444688                 61.9  32.996183  16.204850   \n",
       "\n",
       "   Communications and Journalism  Computer Science  Education  Engineering  \\\n",
       "0                           35.3              13.6  74.535328          0.8   \n",
       "1                           35.5              13.6  74.149204          1.0   \n",
       "2                           36.6              14.9  73.554520          1.2   \n",
       "3                           38.4              16.4  73.501814          1.6   \n",
       "4                           40.5              18.9  73.336811          2.2   \n",
       "\n",
       "     English  Foreign Languages  Health Professions  Math and Statistics  \\\n",
       "0  65.570923               73.8                77.1                 38.0   \n",
       "1  64.556485               73.9                75.5                 39.0   \n",
       "2  63.664263               74.6                76.9                 40.2   \n",
       "3  62.941502               74.9                77.4                 40.9   \n",
       "4  62.413412               75.3                77.9                 41.8   \n",
       "\n",
       "   Physical Sciences  Psychology  Public Administration  \\\n",
       "0               13.8        44.4                   68.4   \n",
       "1               14.9        46.2                   65.5   \n",
       "2               14.8        47.6                   62.6   \n",
       "3               16.5        50.4                   64.3   \n",
       "4               18.2        52.6                   66.1   \n",
       "\n",
       "   Social Sciences and History  \n",
       "0                         36.8  \n",
       "1                         36.2  \n",
       "2                         36.1  \n",
       "3                         36.4  \n",
       "4                         37.3  "
      ]
     },
     "execution_count": 124,
     "metadata": {},
     "output_type": "execute_result"
    }
   ],
   "source": [
    "degrees = pd.read_csv('percent-bachelors-degrees-women-usa.csv')\n",
    "degrees.head()"
   ]
  },
  {
   "cell_type": "code",
   "execution_count": 125,
   "metadata": {},
   "outputs": [
    {
     "data": {
      "text/plain": [
       "0.8"
      ]
     },
     "execution_count": 125,
     "metadata": {},
     "output_type": "execute_result"
    }
   ],
   "source": [
    "degrees['Engineering'].min()"
   ]
  },
  {
   "cell_type": "code",
   "execution_count": 126,
   "metadata": {},
   "outputs": [
    {
     "data": {
      "text/plain": [
       "19.0"
      ]
     },
     "execution_count": 126,
     "metadata": {},
     "output_type": "execute_result"
    }
   ],
   "source": [
    "degrees['Engineering'].max()"
   ]
  },
  {
   "cell_type": "code",
   "execution_count": 130,
   "metadata": {},
   "outputs": [
    {
     "data": {
      "image/png": "[encoded data removed]",
      "text/plain": [
       "<Figure size 432x288 with 1 Axes>"
      ]
     },
     "metadata": {},
     "output_type": "display_data"
    }
   ],
   "source": [
    "# Mean percentage per year\n",
    "mean = degrees.mean(axis='columns')\n",
    "mean.plot()\n",
    "plt.show()"
   ]
  },
  {
   "cell_type": "markdown",
   "metadata": {},
   "source": [
    "Median vs mean - In many data sets, there can be large differences in the mean and median value due to the presence of outliers"
   ]
  },
  {
   "cell_type": "code",
   "execution_count": 131,
   "metadata": {},
   "outputs": [
    {
     "data": {
      "text/html": [
       "<div>\n",
       "<style scoped>\n",
       "    .dataframe tbody tr th:only-of-type {\n",
       "        vertical-align: middle;\n",
       "    }\n",
       "\n",
       "    .dataframe tbody tr th {\n",
       "        vertical-align: top;\n",
       "    }\n",
       "\n",
       "    .dataframe thead th {\n",
       "        text-align: right;\n",
       "    }\n",
       "</style>\n",
       "<table border=\"1\" class=\"dataframe\">\n",
       "  <thead>\n",
       "    <tr style=\"text-align: right;\">\n",
       "      <th></th>\n",
       "      <th>pclass</th>\n",
       "      <th>survived</th>\n",
       "      <th>name</th>\n",
       "      <th>sex</th>\n",
       "      <th>age</th>\n",
       "      <th>sibsp</th>\n",
       "      <th>parch</th>\n",
       "      <th>ticket</th>\n",
       "      <th>fare</th>\n",
       "      <th>cabin</th>\n",
       "      <th>embarked</th>\n",
       "      <th>boat</th>\n",
       "      <th>body</th>\n",
       "      <th>home.dest</th>\n",
       "    </tr>\n",
       "  </thead>\n",
       "  <tbody>\n",
       "    <tr>\n",
       "      <th>0</th>\n",
       "      <td>1</td>\n",
       "      <td>1</td>\n",
       "      <td>Allen, Miss. Elisabeth Walton</td>\n",
       "      <td>female</td>\n",
       "      <td>29.00</td>\n",
       "      <td>0</td>\n",
       "      <td>0</td>\n",
       "      <td>24160</td>\n",
       "      <td>211.3375</td>\n",
       "      <td>B5</td>\n",
       "      <td>S</td>\n",
       "      <td>2</td>\n",
       "      <td>NaN</td>\n",
       "      <td>St Louis, MO</td>\n",
       "    </tr>\n",
       "    <tr>\n",
       "      <th>1</th>\n",
       "      <td>1</td>\n",
       "      <td>1</td>\n",
       "      <td>Allison, Master. Hudson Trevor</td>\n",
       "      <td>male</td>\n",
       "      <td>0.92</td>\n",
       "      <td>1</td>\n",
       "      <td>2</td>\n",
       "      <td>113781</td>\n",
       "      <td>151.5500</td>\n",
       "      <td>C22 C26</td>\n",
       "      <td>S</td>\n",
       "      <td>11</td>\n",
       "      <td>NaN</td>\n",
       "      <td>Montreal, PQ / Chesterville, ON</td>\n",
       "    </tr>\n",
       "    <tr>\n",
       "      <th>2</th>\n",
       "      <td>1</td>\n",
       "      <td>0</td>\n",
       "      <td>Allison, Miss. Helen Loraine</td>\n",
       "      <td>female</td>\n",
       "      <td>2.00</td>\n",
       "      <td>1</td>\n",
       "      <td>2</td>\n",
       "      <td>113781</td>\n",
       "      <td>151.5500</td>\n",
       "      <td>C22 C26</td>\n",
       "      <td>S</td>\n",
       "      <td>NaN</td>\n",
       "      <td>NaN</td>\n",
       "      <td>Montreal, PQ / Chesterville, ON</td>\n",
       "    </tr>\n",
       "    <tr>\n",
       "      <th>3</th>\n",
       "      <td>1</td>\n",
       "      <td>0</td>\n",
       "      <td>Allison, Mr. Hudson Joshua Creighton</td>\n",
       "      <td>male</td>\n",
       "      <td>30.00</td>\n",
       "      <td>1</td>\n",
       "      <td>2</td>\n",
       "      <td>113781</td>\n",
       "      <td>151.5500</td>\n",
       "      <td>C22 C26</td>\n",
       "      <td>S</td>\n",
       "      <td>NaN</td>\n",
       "      <td>135.0</td>\n",
       "      <td>Montreal, PQ / Chesterville, ON</td>\n",
       "    </tr>\n",
       "    <tr>\n",
       "      <th>4</th>\n",
       "      <td>1</td>\n",
       "      <td>0</td>\n",
       "      <td>Allison, Mrs. Hudson J C (Bessie Waldo Daniels)</td>\n",
       "      <td>female</td>\n",
       "      <td>25.00</td>\n",
       "      <td>1</td>\n",
       "      <td>2</td>\n",
       "      <td>113781</td>\n",
       "      <td>151.5500</td>\n",
       "      <td>C22 C26</td>\n",
       "      <td>S</td>\n",
       "      <td>NaN</td>\n",
       "      <td>NaN</td>\n",
       "      <td>Montreal, PQ / Chesterville, ON</td>\n",
       "    </tr>\n",
       "  </tbody>\n",
       "</table>\n",
       "</div>"
      ],
      "text/plain": [
       "   pclass  survived                                             name     sex  \\\n",
       "0       1         1                    Allen, Miss. Elisabeth Walton  female   \n",
       "1       1         1                   Allison, Master. Hudson Trevor    male   \n",
       "2       1         0                     Allison, Miss. Helen Loraine  female   \n",
       "3       1         0             Allison, Mr. Hudson Joshua Creighton    male   \n",
       "4       1         0  Allison, Mrs. Hudson J C (Bessie Waldo Daniels)  female   \n",
       "\n",
       "     age  sibsp  parch  ticket      fare    cabin embarked boat   body  \\\n",
       "0  29.00      0      0   24160  211.3375       B5        S    2    NaN   \n",
       "1   0.92      1      2  113781  151.5500  C22 C26        S   11    NaN   \n",
       "2   2.00      1      2  113781  151.5500  C22 C26        S  NaN    NaN   \n",
       "3  30.00      1      2  113781  151.5500  C22 C26        S  NaN  135.0   \n",
       "4  25.00      1      2  113781  151.5500  C22 C26        S  NaN    NaN   \n",
       "\n",
       "                         home.dest  \n",
       "0                     St Louis, MO  \n",
       "1  Montreal, PQ / Chesterville, ON  \n",
       "2  Montreal, PQ / Chesterville, ON  \n",
       "3  Montreal, PQ / Chesterville, ON  \n",
       "4  Montreal, PQ / Chesterville, ON  "
      ]
     },
     "execution_count": 131,
     "metadata": {},
     "output_type": "execute_result"
    }
   ],
   "source": [
    "titanic = pd.read_csv('titanic.csv')\n",
    "titanic.head()"
   ]
  },
  {
   "cell_type": "code",
   "execution_count": 132,
   "metadata": {},
   "outputs": [
    {
     "data": {
      "text/plain": [
       "count    1308.000000\n",
       "mean       33.295479\n",
       "std        51.758668\n",
       "min         0.000000\n",
       "25%         7.895800\n",
       "50%        14.454200\n",
       "75%        31.275000\n",
       "max       512.329200\n",
       "Name: fare, dtype: float64"
      ]
     },
     "execution_count": 132,
     "metadata": {},
     "output_type": "execute_result"
    }
   ],
   "source": [
    "titanic.fare.describe()"
   ]
  },
  {
   "cell_type": "code",
   "execution_count": 133,
   "metadata": {},
   "outputs": [
    {
     "data": {
      "image/png": "[encoded data removed]",
      "text/plain": [
       "<Figure size 432x288 with 1 Axes>"
      ]
     },
     "metadata": {},
     "output_type": "display_data"
    }
   ],
   "source": [
    "titanic.fare.plot(kind='box')\n",
    "plt.show()"
   ]
  },
  {
   "cell_type": "markdown",
   "metadata": {},
   "source": [
    "Quantiles and # of values"
   ]
  },
  {
   "cell_type": "code",
   "execution_count": 137,
   "metadata": {},
   "outputs": [
    {
     "data": {
      "text/html": [
       "<div>\n",
       "<style scoped>\n",
       "    .dataframe tbody tr th:only-of-type {\n",
       "        vertical-align: middle;\n",
       "    }\n",
       "\n",
       "    .dataframe tbody tr th {\n",
       "        vertical-align: top;\n",
       "    }\n",
       "\n",
       "    .dataframe thead th {\n",
       "        text-align: right;\n",
       "    }\n",
       "</style>\n",
       "<table border=\"1\" class=\"dataframe\">\n",
       "  <thead>\n",
       "    <tr style=\"text-align: right;\">\n",
       "      <th></th>\n",
       "      <th>Unnamed: 0</th>\n",
       "      <th>Life expectancy</th>\n",
       "      <th>1800</th>\n",
       "      <th>1801</th>\n",
       "      <th>1802</th>\n",
       "      <th>1803</th>\n",
       "      <th>1804</th>\n",
       "      <th>1805</th>\n",
       "      <th>1806</th>\n",
       "      <th>1807</th>\n",
       "      <th>...</th>\n",
       "      <th>2007</th>\n",
       "      <th>2008</th>\n",
       "      <th>2009</th>\n",
       "      <th>2010</th>\n",
       "      <th>2011</th>\n",
       "      <th>2012</th>\n",
       "      <th>2013</th>\n",
       "      <th>2014</th>\n",
       "      <th>2015</th>\n",
       "      <th>2016</th>\n",
       "    </tr>\n",
       "  </thead>\n",
       "  <tbody>\n",
       "    <tr>\n",
       "      <th>0</th>\n",
       "      <td>0</td>\n",
       "      <td>Abkhazia</td>\n",
       "      <td>NaN</td>\n",
       "      <td>NaN</td>\n",
       "      <td>NaN</td>\n",
       "      <td>NaN</td>\n",
       "      <td>NaN</td>\n",
       "      <td>NaN</td>\n",
       "      <td>NaN</td>\n",
       "      <td>NaN</td>\n",
       "      <td>...</td>\n",
       "      <td>NaN</td>\n",
       "      <td>NaN</td>\n",
       "      <td>NaN</td>\n",
       "      <td>NaN</td>\n",
       "      <td>NaN</td>\n",
       "      <td>NaN</td>\n",
       "      <td>NaN</td>\n",
       "      <td>NaN</td>\n",
       "      <td>NaN</td>\n",
       "      <td>NaN</td>\n",
       "    </tr>\n",
       "    <tr>\n",
       "      <th>1</th>\n",
       "      <td>1</td>\n",
       "      <td>Afghanistan</td>\n",
       "      <td>28.21</td>\n",
       "      <td>28.20</td>\n",
       "      <td>28.19</td>\n",
       "      <td>28.18</td>\n",
       "      <td>28.17</td>\n",
       "      <td>28.16</td>\n",
       "      <td>28.15</td>\n",
       "      <td>28.14</td>\n",
       "      <td>...</td>\n",
       "      <td>52.4</td>\n",
       "      <td>52.8</td>\n",
       "      <td>53.3</td>\n",
       "      <td>53.6</td>\n",
       "      <td>54.0</td>\n",
       "      <td>54.4</td>\n",
       "      <td>54.8</td>\n",
       "      <td>54.9</td>\n",
       "      <td>53.8</td>\n",
       "      <td>52.72</td>\n",
       "    </tr>\n",
       "    <tr>\n",
       "      <th>2</th>\n",
       "      <td>2</td>\n",
       "      <td>Akrotiri and Dhekelia</td>\n",
       "      <td>NaN</td>\n",
       "      <td>NaN</td>\n",
       "      <td>NaN</td>\n",
       "      <td>NaN</td>\n",
       "      <td>NaN</td>\n",
       "      <td>NaN</td>\n",
       "      <td>NaN</td>\n",
       "      <td>NaN</td>\n",
       "      <td>...</td>\n",
       "      <td>NaN</td>\n",
       "      <td>NaN</td>\n",
       "      <td>NaN</td>\n",
       "      <td>NaN</td>\n",
       "      <td>NaN</td>\n",
       "      <td>NaN</td>\n",
       "      <td>NaN</td>\n",
       "      <td>NaN</td>\n",
       "      <td>NaN</td>\n",
       "      <td>NaN</td>\n",
       "    </tr>\n",
       "    <tr>\n",
       "      <th>3</th>\n",
       "      <td>3</td>\n",
       "      <td>Albania</td>\n",
       "      <td>35.40</td>\n",
       "      <td>35.40</td>\n",
       "      <td>35.40</td>\n",
       "      <td>35.40</td>\n",
       "      <td>35.40</td>\n",
       "      <td>35.40</td>\n",
       "      <td>35.40</td>\n",
       "      <td>35.40</td>\n",
       "      <td>...</td>\n",
       "      <td>76.6</td>\n",
       "      <td>76.8</td>\n",
       "      <td>77.0</td>\n",
       "      <td>77.2</td>\n",
       "      <td>77.4</td>\n",
       "      <td>77.5</td>\n",
       "      <td>77.7</td>\n",
       "      <td>77.9</td>\n",
       "      <td>78.0</td>\n",
       "      <td>78.10</td>\n",
       "    </tr>\n",
       "    <tr>\n",
       "      <th>4</th>\n",
       "      <td>4</td>\n",
       "      <td>Algeria</td>\n",
       "      <td>28.82</td>\n",
       "      <td>28.82</td>\n",
       "      <td>28.82</td>\n",
       "      <td>28.82</td>\n",
       "      <td>28.82</td>\n",
       "      <td>28.82</td>\n",
       "      <td>28.82</td>\n",
       "      <td>28.82</td>\n",
       "      <td>...</td>\n",
       "      <td>75.3</td>\n",
       "      <td>75.5</td>\n",
       "      <td>75.7</td>\n",
       "      <td>76.0</td>\n",
       "      <td>76.1</td>\n",
       "      <td>76.2</td>\n",
       "      <td>76.3</td>\n",
       "      <td>76.3</td>\n",
       "      <td>76.4</td>\n",
       "      <td>76.50</td>\n",
       "    </tr>\n",
       "  </tbody>\n",
       "</table>\n",
       "<p>5 rows × 219 columns</p>\n",
       "</div>"
      ],
      "text/plain": [
       "   Unnamed: 0        Life expectancy   1800   1801   1802   1803   1804  \\\n",
       "0           0               Abkhazia    NaN    NaN    NaN    NaN    NaN   \n",
       "1           1            Afghanistan  28.21  28.20  28.19  28.18  28.17   \n",
       "2           2  Akrotiri and Dhekelia    NaN    NaN    NaN    NaN    NaN   \n",
       "3           3                Albania  35.40  35.40  35.40  35.40  35.40   \n",
       "4           4                Algeria  28.82  28.82  28.82  28.82  28.82   \n",
       "\n",
       "    1805   1806   1807  ...    2007  2008  2009  2010  2011  2012  2013  2014  \\\n",
       "0    NaN    NaN    NaN  ...     NaN   NaN   NaN   NaN   NaN   NaN   NaN   NaN   \n",
       "1  28.16  28.15  28.14  ...    52.4  52.8  53.3  53.6  54.0  54.4  54.8  54.9   \n",
       "2    NaN    NaN    NaN  ...     NaN   NaN   NaN   NaN   NaN   NaN   NaN   NaN   \n",
       "3  35.40  35.40  35.40  ...    76.6  76.8  77.0  77.2  77.4  77.5  77.7  77.9   \n",
       "4  28.82  28.82  28.82  ...    75.3  75.5  75.7  76.0  76.1  76.2  76.3  76.3   \n",
       "\n",
       "   2015   2016  \n",
       "0   NaN    NaN  \n",
       "1  53.8  52.72  \n",
       "2   NaN    NaN  \n",
       "3  78.0  78.10  \n",
       "4  76.4  76.50  \n",
       "\n",
       "[5 rows x 219 columns]"
      ]
     },
     "execution_count": 137,
     "metadata": {},
     "output_type": "execute_result"
    }
   ],
   "source": [
    "life_exp = pd.read_csv('life_expectancy_at_birth.csv')\n",
    "life_exp.head()"
   ]
  },
  {
   "cell_type": "code",
   "execution_count": 138,
   "metadata": {},
   "outputs": [
    {
     "data": {
      "text/plain": [
       "208"
      ]
     },
     "execution_count": 138,
     "metadata": {},
     "output_type": "execute_result"
    }
   ],
   "source": [
    "life_exp['2015'].count()"
   ]
  },
  {
   "cell_type": "code",
   "execution_count": 139,
   "metadata": {},
   "outputs": [
    {
     "data": {
      "text/html": [
       "<div>\n",
       "<style scoped>\n",
       "    .dataframe tbody tr th:only-of-type {\n",
       "        vertical-align: middle;\n",
       "    }\n",
       "\n",
       "    .dataframe tbody tr th {\n",
       "        vertical-align: top;\n",
       "    }\n",
       "\n",
       "    .dataframe thead th {\n",
       "        text-align: right;\n",
       "    }\n",
       "</style>\n",
       "<table border=\"1\" class=\"dataframe\">\n",
       "  <thead>\n",
       "    <tr style=\"text-align: right;\">\n",
       "      <th></th>\n",
       "      <th>Unnamed: 0</th>\n",
       "      <th>1800</th>\n",
       "      <th>1801</th>\n",
       "      <th>1802</th>\n",
       "      <th>1803</th>\n",
       "      <th>1804</th>\n",
       "      <th>1805</th>\n",
       "      <th>1806</th>\n",
       "      <th>1807</th>\n",
       "      <th>1808</th>\n",
       "      <th>...</th>\n",
       "      <th>2007</th>\n",
       "      <th>2008</th>\n",
       "      <th>2009</th>\n",
       "      <th>2010</th>\n",
       "      <th>2011</th>\n",
       "      <th>2012</th>\n",
       "      <th>2013</th>\n",
       "      <th>2014</th>\n",
       "      <th>2015</th>\n",
       "      <th>2016</th>\n",
       "    </tr>\n",
       "  </thead>\n",
       "  <tbody>\n",
       "    <tr>\n",
       "      <th>0.05</th>\n",
       "      <td>12.95</td>\n",
       "      <td>25.40</td>\n",
       "      <td>25.30</td>\n",
       "      <td>25.20</td>\n",
       "      <td>25.2</td>\n",
       "      <td>25.2</td>\n",
       "      <td>25.40</td>\n",
       "      <td>25.40</td>\n",
       "      <td>25.40</td>\n",
       "      <td>25.3</td>\n",
       "      <td>...</td>\n",
       "      <td>53.07</td>\n",
       "      <td>53.60</td>\n",
       "      <td>54.235</td>\n",
       "      <td>54.935</td>\n",
       "      <td>55.97</td>\n",
       "      <td>56.335</td>\n",
       "      <td>56.705</td>\n",
       "      <td>56.87</td>\n",
       "      <td>57.855</td>\n",
       "      <td>59.2555</td>\n",
       "    </tr>\n",
       "    <tr>\n",
       "      <th>0.95</th>\n",
       "      <td>246.05</td>\n",
       "      <td>37.92</td>\n",
       "      <td>37.35</td>\n",
       "      <td>38.37</td>\n",
       "      <td>38.0</td>\n",
       "      <td>38.3</td>\n",
       "      <td>38.37</td>\n",
       "      <td>38.37</td>\n",
       "      <td>38.37</td>\n",
       "      <td>38.0</td>\n",
       "      <td>...</td>\n",
       "      <td>80.73</td>\n",
       "      <td>80.93</td>\n",
       "      <td>81.200</td>\n",
       "      <td>81.365</td>\n",
       "      <td>81.60</td>\n",
       "      <td>81.665</td>\n",
       "      <td>81.830</td>\n",
       "      <td>82.00</td>\n",
       "      <td>82.100</td>\n",
       "      <td>82.1650</td>\n",
       "    </tr>\n",
       "  </tbody>\n",
       "</table>\n",
       "<p>2 rows × 218 columns</p>\n",
       "</div>"
      ],
      "text/plain": [
       "      Unnamed: 0   1800   1801   1802  1803  1804   1805   1806   1807  1808  \\\n",
       "0.05       12.95  25.40  25.30  25.20  25.2  25.2  25.40  25.40  25.40  25.3   \n",
       "0.95      246.05  37.92  37.35  38.37  38.0  38.3  38.37  38.37  38.37  38.0   \n",
       "\n",
       "       ...      2007   2008    2009    2010   2011    2012    2013   2014  \\\n",
       "0.05   ...     53.07  53.60  54.235  54.935  55.97  56.335  56.705  56.87   \n",
       "0.95   ...     80.73  80.93  81.200  81.365  81.60  81.665  81.830  82.00   \n",
       "\n",
       "        2015     2016  \n",
       "0.05  57.855  59.2555  \n",
       "0.95  82.100  82.1650  \n",
       "\n",
       "[2 rows x 218 columns]"
      ]
     },
     "execution_count": 139,
     "metadata": {},
     "output_type": "execute_result"
    }
   ],
   "source": [
    "life_exp.quantile([0.05,0.95])"
   ]
  },
  {
   "cell_type": "code",
   "execution_count": 141,
   "metadata": {},
   "outputs": [
    {
     "data": {
      "image/png": "[encoded data removed]",
      "text/plain": [
       "<Figure size 432x288 with 1 Axes>"
      ]
     },
     "metadata": {},
     "output_type": "display_data"
    }
   ],
   "source": [
    "years = ['1800','1850','1900','1950','2000']\n",
    "life_exp[years].plot(kind='box')\n",
    "plt.title('Life expectancy every 50 years')\n",
    "plt.xlabel('Years')\n",
    "plt.ylabel('Life expectancy')\n",
    "plt.savefig('life_exp_box.png')\n",
    "plt.show()"
   ]
  },
  {
   "cell_type": "markdown",
   "metadata": {},
   "source": [
    "Mean and standard deviation"
   ]
  },
  {
   "cell_type": "code",
   "execution_count": 143,
   "metadata": {},
   "outputs": [
    {
     "name": "stdout",
     "output_type": "stream",
     "text": [
      "33.013383084577114\n",
      "6.336988677401311\n"
     ]
    }
   ],
   "source": [
    "print(life_exp['1900'].mean())\n",
    "print(life_exp['1900'].std())"
   ]
  },
  {
   "cell_type": "markdown",
   "metadata": {},
   "source": [
    "Separate and summarize"
   ]
  },
  {
   "cell_type": "code",
   "execution_count": 146,
   "metadata": {},
   "outputs": [
    {
     "name": "stdout",
     "output_type": "stream",
     "text": [
      "mpg         23.445918\n",
      "cyl          5.471939\n",
      "displ      194.411990\n",
      "hp         104.469388\n",
      "weight    2977.584184\n",
      "accel       15.541327\n",
      "yr          75.979592\n",
      "dtype: float64\n",
      "mpg         7.805007\n",
      "cyl         1.705783\n",
      "displ     104.644004\n",
      "hp         38.491160\n",
      "weight    849.402560\n",
      "accel       2.758864\n",
      "yr          3.683737\n",
      "dtype: float64\n"
     ]
    }
   ],
   "source": [
    "global_mean = auto_mpg.mean()\n",
    "print(global_mean)\n",
    "global_std = auto_mpg.std()\n",
    "print(global_std)"
   ]
  },
  {
   "cell_type": "code",
   "execution_count": 148,
   "metadata": {},
   "outputs": [],
   "source": [
    "us = auto_mpg[auto_mpg['origin']=='US']\n",
    "\n",
    "us_mean = us.mean()\n",
    "us_std = us.std()"
   ]
  },
  {
   "cell_type": "code",
   "execution_count": 149,
   "metadata": {},
   "outputs": [
    {
     "name": "stdout",
     "output_type": "stream",
     "text": [
      "mpg        -3.412449\n",
      "cyl         0.805612\n",
      "displ      53.100255\n",
      "hp         14.579592\n",
      "weight    394.905612\n",
      "accel      -0.551122\n",
      "yr         -0.387755\n",
      "dtype: float64\n",
      "mpg       -1.364623\n",
      "cyl       -0.049788\n",
      "displ     -6.267657\n",
      "hp         1.406630\n",
      "weight   -54.055870\n",
      "accel     -0.022844\n",
      "yr        -0.023369\n",
      "dtype: float64\n"
     ]
    }
   ],
   "source": [
    "print(us_mean - global_mean)\n",
    "print(us_std - global_std)"
   ]
  },
  {
   "cell_type": "markdown",
   "metadata": {},
   "source": [
    "Separate and plot"
   ]
  },
  {
   "cell_type": "code",
   "execution_count": 151,
   "metadata": {},
   "outputs": [
    {
     "data": {
      "image/png": "[encoded data removed]",
      "text/plain": [
       "<Figure size 432x288 with 3 Axes>"
      ]
     },
     "metadata": {},
     "output_type": "display_data"
    }
   ],
   "source": [
    "fig, axes = plt.subplots(nrows=3,ncols=1)\n",
    "titanic.loc[titanic['pclass']==1].plot(ax=axes[0], y='fare', kind='box')\n",
    "titanic.loc[titanic['pclass']==2].plot(ax=axes[1], y='fare', kind='box')\n",
    "titanic.loc[titanic['pclass']==3].plot(ax=axes[2], y='fare', kind='box')\n",
    "plt.show()"
   ]
  },
  {
   "cell_type": "code",
   "execution_count": null,
   "metadata": {},
   "outputs": [],
   "source": []
  }
 ],
 "metadata": {
  "kernelspec": {
   "display_name": "Python 3",
   "language": "python",
   "name": "python3"
  },
  "language_info": {
   "codemirror_mode": {
    "name": "ipython",
    "version": 3
   },
   "file_extension": ".py",
   "mimetype": "text/x-python",
   "name": "python",
   "nbconvert_exporter": "python",
   "pygments_lexer": "ipython3",
   "version": "3.6.5"
  }
 },
 "nbformat": 4,
 "nbformat_minor": 2
}
