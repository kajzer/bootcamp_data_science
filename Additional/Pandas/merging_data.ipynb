{
 "cells": [
  {
   "cell_type": "markdown",
   "metadata": {},
   "source": [
    "# Merging Data in pandas"
   ]
  },
  {
   "cell_type": "code",
   "execution_count": 1,
   "metadata": {
    "colab": {},
    "colab_type": "code",
    "id": "z5tuiOpESTgV"
   },
   "outputs": [],
   "source": [
    "import pandas as pd"
   ]
  },
  {
   "cell_type": "markdown",
   "metadata": {
    "colab_type": "text",
    "id": "e-WTYdrxWcPE"
   },
   "source": [
    "### Merging on a specific column"
   ]
  },
  {
   "cell_type": "code",
   "execution_count": 2,
   "metadata": {
    "colab": {},
    "colab_type": "code",
    "id": "pjeJoCUeSswt"
   },
   "outputs": [],
   "source": [
    "branch_id = [10,20,30,47]\n",
    "city = ['Austin','Denver','Springfield','Mendocino']\n",
    "revenue = [100,83,4,200]\n",
    "revenue = pd.DataFrame({'branch_id':branch_id, 'city':city, 'revenue':revenue})"
   ]
  },
  {
   "cell_type": "code",
   "execution_count": 3,
   "metadata": {
    "colab": {},
    "colab_type": "code",
    "id": "sNjfVtfXX59X"
   },
   "outputs": [],
   "source": [
    "branch_id = [10,20,47,31]\n",
    "city = ['Austin','Denver','Mendocino','Springfield']\n",
    "manager = ['Charles','Joel','Brett','Sally']\n",
    "managers = pd.DataFrame({'branch_id':branch_id,'city':city,'manager':manager})"
   ]
  },
  {
   "cell_type": "code",
   "execution_count": 4,
   "metadata": {
    "colab": {
     "base_uri": "https://localhost:8080/",
     "height": 173
    },
    "colab_type": "code",
    "executionInfo": {
     "elapsed": 460,
     "status": "ok",
     "timestamp": 1540557758862,
     "user": {
      "displayName": "Karol Jezierski",
      "photoUrl": "https://lh5.googleusercontent.com/-wgjj5yIIzw4/AAAAAAAAAAI/AAAAAAAAAdg/ukUvmCQdBQc/s64/photo.jpg",
      "userId": "07387898320424940670"
     },
     "user_tz": -120
    },
    "id": "DjKuEZULY1Ih",
    "outputId": "d4abcea8-e08a-400d-a51a-130ca976634d"
   },
   "outputs": [
    {
     "data": {
      "text/html": [
       "<div>\n",
       "<style scoped>\n",
       "    .dataframe tbody tr th:only-of-type {\n",
       "        vertical-align: middle;\n",
       "    }\n",
       "\n",
       "    .dataframe tbody tr th {\n",
       "        vertical-align: top;\n",
       "    }\n",
       "\n",
       "    .dataframe thead th {\n",
       "        text-align: right;\n",
       "    }\n",
       "</style>\n",
       "<table border=\"1\" class=\"dataframe\">\n",
       "  <thead>\n",
       "    <tr style=\"text-align: right;\">\n",
       "      <th></th>\n",
       "      <th>branch_id_x</th>\n",
       "      <th>city</th>\n",
       "      <th>revenue</th>\n",
       "      <th>branch_id_y</th>\n",
       "      <th>manager</th>\n",
       "    </tr>\n",
       "  </thead>\n",
       "  <tbody>\n",
       "    <tr>\n",
       "      <th>0</th>\n",
       "      <td>10</td>\n",
       "      <td>Austin</td>\n",
       "      <td>100</td>\n",
       "      <td>10</td>\n",
       "      <td>Charles</td>\n",
       "    </tr>\n",
       "    <tr>\n",
       "      <th>1</th>\n",
       "      <td>20</td>\n",
       "      <td>Denver</td>\n",
       "      <td>83</td>\n",
       "      <td>20</td>\n",
       "      <td>Joel</td>\n",
       "    </tr>\n",
       "    <tr>\n",
       "      <th>2</th>\n",
       "      <td>30</td>\n",
       "      <td>Springfield</td>\n",
       "      <td>4</td>\n",
       "      <td>31</td>\n",
       "      <td>Sally</td>\n",
       "    </tr>\n",
       "    <tr>\n",
       "      <th>3</th>\n",
       "      <td>47</td>\n",
       "      <td>Mendocino</td>\n",
       "      <td>200</td>\n",
       "      <td>47</td>\n",
       "      <td>Brett</td>\n",
       "    </tr>\n",
       "  </tbody>\n",
       "</table>\n",
       "</div>"
      ],
      "text/plain": [
       "   branch_id_x         city  revenue  branch_id_y  manager\n",
       "0           10       Austin      100           10  Charles\n",
       "1           20       Denver       83           20     Joel\n",
       "2           30  Springfield        4           31    Sally\n",
       "3           47    Mendocino      200           47    Brett"
      ]
     },
     "execution_count": 4,
     "metadata": {},
     "output_type": "execute_result"
    }
   ],
   "source": [
    "merge_by_city = pd.merge(revenue,managers,on='city')\n",
    "merge_by_city"
   ]
  },
  {
   "cell_type": "code",
   "execution_count": 5,
   "metadata": {
    "colab": {
     "base_uri": "https://localhost:8080/",
     "height": 142
    },
    "colab_type": "code",
    "executionInfo": {
     "elapsed": 479,
     "status": "ok",
     "timestamp": 1540557787516,
     "user": {
      "displayName": "Karol Jezierski",
      "photoUrl": "https://lh5.googleusercontent.com/-wgjj5yIIzw4/AAAAAAAAAAI/AAAAAAAAAdg/ukUvmCQdBQc/s64/photo.jpg",
      "userId": "07387898320424940670"
     },
     "user_tz": -120
    },
    "id": "jDS9lhq7Y9A5",
    "outputId": "28392022-b60d-4769-9ad1-56c31829ecfa"
   },
   "outputs": [
    {
     "data": {
      "text/html": [
       "<div>\n",
       "<style scoped>\n",
       "    .dataframe tbody tr th:only-of-type {\n",
       "        vertical-align: middle;\n",
       "    }\n",
       "\n",
       "    .dataframe tbody tr th {\n",
       "        vertical-align: top;\n",
       "    }\n",
       "\n",
       "    .dataframe thead th {\n",
       "        text-align: right;\n",
       "    }\n",
       "</style>\n",
       "<table border=\"1\" class=\"dataframe\">\n",
       "  <thead>\n",
       "    <tr style=\"text-align: right;\">\n",
       "      <th></th>\n",
       "      <th>branch_id</th>\n",
       "      <th>city_x</th>\n",
       "      <th>revenue</th>\n",
       "      <th>city_y</th>\n",
       "      <th>manager</th>\n",
       "    </tr>\n",
       "  </thead>\n",
       "  <tbody>\n",
       "    <tr>\n",
       "      <th>0</th>\n",
       "      <td>10</td>\n",
       "      <td>Austin</td>\n",
       "      <td>100</td>\n",
       "      <td>Austin</td>\n",
       "      <td>Charles</td>\n",
       "    </tr>\n",
       "    <tr>\n",
       "      <th>1</th>\n",
       "      <td>20</td>\n",
       "      <td>Denver</td>\n",
       "      <td>83</td>\n",
       "      <td>Denver</td>\n",
       "      <td>Joel</td>\n",
       "    </tr>\n",
       "    <tr>\n",
       "      <th>2</th>\n",
       "      <td>47</td>\n",
       "      <td>Mendocino</td>\n",
       "      <td>200</td>\n",
       "      <td>Mendocino</td>\n",
       "      <td>Brett</td>\n",
       "    </tr>\n",
       "  </tbody>\n",
       "</table>\n",
       "</div>"
      ],
      "text/plain": [
       "   branch_id     city_x  revenue     city_y  manager\n",
       "0         10     Austin      100     Austin  Charles\n",
       "1         20     Denver       83     Denver     Joel\n",
       "2         47  Mendocino      200  Mendocino    Brett"
      ]
     },
     "execution_count": 5,
     "metadata": {},
     "output_type": "execute_result"
    }
   ],
   "source": [
    "merge_by_id = pd.merge(revenue,managers,on='branch_id')\n",
    "merge_by_id"
   ]
  },
  {
   "cell_type": "markdown",
   "metadata": {
    "colab_type": "text",
    "id": "jpiaSJP6ZuZK"
   },
   "source": [
    "### Merging on columns with non-matching labels"
   ]
  },
  {
   "cell_type": "code",
   "execution_count": 6,
   "metadata": {
    "colab": {},
    "colab_type": "code",
    "id": "7zMsXk-zZk9q"
   },
   "outputs": [],
   "source": [
    "managers = managers.rename(columns={'city':'branch'})"
   ]
  },
  {
   "cell_type": "code",
   "execution_count": 7,
   "metadata": {
    "colab": {
     "base_uri": "https://localhost:8080/",
     "height": 173
    },
    "colab_type": "code",
    "executionInfo": {
     "elapsed": 427,
     "status": "ok",
     "timestamp": 1540558054330,
     "user": {
      "displayName": "Karol Jezierski",
      "photoUrl": "https://lh5.googleusercontent.com/-wgjj5yIIzw4/AAAAAAAAAAI/AAAAAAAAAdg/ukUvmCQdBQc/s64/photo.jpg",
      "userId": "07387898320424940670"
     },
     "user_tz": -120
    },
    "id": "JRCXIUWpaGGi",
    "outputId": "c600bd59-214d-4099-ac83-1bdd91b59956"
   },
   "outputs": [
    {
     "data": {
      "text/html": [
       "<div>\n",
       "<style scoped>\n",
       "    .dataframe tbody tr th:only-of-type {\n",
       "        vertical-align: middle;\n",
       "    }\n",
       "\n",
       "    .dataframe tbody tr th {\n",
       "        vertical-align: top;\n",
       "    }\n",
       "\n",
       "    .dataframe thead th {\n",
       "        text-align: right;\n",
       "    }\n",
       "</style>\n",
       "<table border=\"1\" class=\"dataframe\">\n",
       "  <thead>\n",
       "    <tr style=\"text-align: right;\">\n",
       "      <th></th>\n",
       "      <th>branch_id_x</th>\n",
       "      <th>city</th>\n",
       "      <th>revenue</th>\n",
       "      <th>branch_id_y</th>\n",
       "      <th>branch</th>\n",
       "      <th>manager</th>\n",
       "    </tr>\n",
       "  </thead>\n",
       "  <tbody>\n",
       "    <tr>\n",
       "      <th>0</th>\n",
       "      <td>10</td>\n",
       "      <td>Austin</td>\n",
       "      <td>100</td>\n",
       "      <td>10</td>\n",
       "      <td>Austin</td>\n",
       "      <td>Charles</td>\n",
       "    </tr>\n",
       "    <tr>\n",
       "      <th>1</th>\n",
       "      <td>20</td>\n",
       "      <td>Denver</td>\n",
       "      <td>83</td>\n",
       "      <td>20</td>\n",
       "      <td>Denver</td>\n",
       "      <td>Joel</td>\n",
       "    </tr>\n",
       "    <tr>\n",
       "      <th>2</th>\n",
       "      <td>30</td>\n",
       "      <td>Springfield</td>\n",
       "      <td>4</td>\n",
       "      <td>31</td>\n",
       "      <td>Springfield</td>\n",
       "      <td>Sally</td>\n",
       "    </tr>\n",
       "    <tr>\n",
       "      <th>3</th>\n",
       "      <td>47</td>\n",
       "      <td>Mendocino</td>\n",
       "      <td>200</td>\n",
       "      <td>47</td>\n",
       "      <td>Mendocino</td>\n",
       "      <td>Brett</td>\n",
       "    </tr>\n",
       "  </tbody>\n",
       "</table>\n",
       "</div>"
      ],
      "text/plain": [
       "   branch_id_x         city  revenue  branch_id_y       branch  manager\n",
       "0           10       Austin      100           10       Austin  Charles\n",
       "1           20       Denver       83           20       Denver     Joel\n",
       "2           30  Springfield        4           31  Springfield    Sally\n",
       "3           47    Mendocino      200           47    Mendocino    Brett"
      ]
     },
     "execution_count": 7,
     "metadata": {},
     "output_type": "execute_result"
    }
   ],
   "source": [
    "combined = pd.merge(revenue,managers,left_on='city',right_on='branch')\n",
    "combined"
   ]
  },
  {
   "cell_type": "markdown",
   "metadata": {
    "colab_type": "text",
    "id": "Sex2LPMBarkz"
   },
   "source": [
    "### Merging on multiple columns"
   ]
  },
  {
   "cell_type": "code",
   "execution_count": 8,
   "metadata": {
    "colab": {},
    "colab_type": "code",
    "id": "xmAjyLr_amHb"
   },
   "outputs": [],
   "source": [
    "managers['state'] = ['TX','CO','CA','MO']\n",
    "managers = managers.rename(columns={'branch':'city'})\n",
    "revenue['state'] = ['TX','CO','IL','CA']"
   ]
  },
  {
   "cell_type": "code",
   "execution_count": 9,
   "metadata": {
    "colab": {
     "base_uri": "https://localhost:8080/",
     "height": 142
    },
    "colab_type": "code",
    "executionInfo": {
     "elapsed": 451,
     "status": "ok",
     "timestamp": 1540558327781,
     "user": {
      "displayName": "Karol Jezierski",
      "photoUrl": "https://lh5.googleusercontent.com/-wgjj5yIIzw4/AAAAAAAAAAI/AAAAAAAAAdg/ukUvmCQdBQc/s64/photo.jpg",
      "userId": "07387898320424940670"
     },
     "user_tz": -120
    },
    "id": "rg2QUxqBbZvs",
    "outputId": "8d79850d-5617-48e3-8fc6-f56abc9b8129"
   },
   "outputs": [
    {
     "data": {
      "text/html": [
       "<div>\n",
       "<style scoped>\n",
       "    .dataframe tbody tr th:only-of-type {\n",
       "        vertical-align: middle;\n",
       "    }\n",
       "\n",
       "    .dataframe tbody tr th {\n",
       "        vertical-align: top;\n",
       "    }\n",
       "\n",
       "    .dataframe thead th {\n",
       "        text-align: right;\n",
       "    }\n",
       "</style>\n",
       "<table border=\"1\" class=\"dataframe\">\n",
       "  <thead>\n",
       "    <tr style=\"text-align: right;\">\n",
       "      <th></th>\n",
       "      <th>branch_id</th>\n",
       "      <th>city</th>\n",
       "      <th>revenue</th>\n",
       "      <th>state</th>\n",
       "      <th>manager</th>\n",
       "    </tr>\n",
       "  </thead>\n",
       "  <tbody>\n",
       "    <tr>\n",
       "      <th>0</th>\n",
       "      <td>10</td>\n",
       "      <td>Austin</td>\n",
       "      <td>100</td>\n",
       "      <td>TX</td>\n",
       "      <td>Charles</td>\n",
       "    </tr>\n",
       "    <tr>\n",
       "      <th>1</th>\n",
       "      <td>20</td>\n",
       "      <td>Denver</td>\n",
       "      <td>83</td>\n",
       "      <td>CO</td>\n",
       "      <td>Joel</td>\n",
       "    </tr>\n",
       "    <tr>\n",
       "      <th>2</th>\n",
       "      <td>47</td>\n",
       "      <td>Mendocino</td>\n",
       "      <td>200</td>\n",
       "      <td>CA</td>\n",
       "      <td>Brett</td>\n",
       "    </tr>\n",
       "  </tbody>\n",
       "</table>\n",
       "</div>"
      ],
      "text/plain": [
       "   branch_id       city  revenue state  manager\n",
       "0         10     Austin      100    TX  Charles\n",
       "1         20     Denver       83    CO     Joel\n",
       "2         47  Mendocino      200    CA    Brett"
      ]
     },
     "execution_count": 9,
     "metadata": {},
     "output_type": "execute_result"
    }
   ],
   "source": [
    "combined = pd.merge(revenue,managers,on=['branch_id','city','state'])\n",
    "combined"
   ]
  },
  {
   "cell_type": "markdown",
   "metadata": {
    "colab_type": "text",
    "id": "5ybbqFRBewlD"
   },
   "source": [
    "### Left & right merging on multiple columns"
   ]
  },
  {
   "cell_type": "code",
   "execution_count": 10,
   "metadata": {
    "colab": {},
    "colab_type": "code",
    "id": "EBKl3wQVbf80"
   },
   "outputs": [],
   "source": [
    "city = ['Mendocino','Denver','Austin','Springfield','Springfield']\n",
    "state = ['CA','CO','TX','MO','IL']\n",
    "units = [1,4,2,5,1]\n",
    "sales = pd.DataFrame({'city':city,'state':state,'uints':units})\n",
    "managers = managers.rename(columns={'city':'branch'})"
   ]
  },
  {
   "cell_type": "code",
   "execution_count": 11,
   "metadata": {
    "colab": {
     "base_uri": "https://localhost:8080/",
     "height": 204
    },
    "colab_type": "code",
    "executionInfo": {
     "elapsed": 446,
     "status": "ok",
     "timestamp": 1540560038045,
     "user": {
      "displayName": "Karol Jezierski",
      "photoUrl": "https://lh5.googleusercontent.com/-wgjj5yIIzw4/AAAAAAAAAAI/AAAAAAAAAdg/ukUvmCQdBQc/s64/photo.jpg",
      "userId": "07387898320424940670"
     },
     "user_tz": -120
    },
    "id": "1QcCcephgybN",
    "outputId": "3925626f-1e61-4793-da49-4b9ab1302c47"
   },
   "outputs": [
    {
     "data": {
      "text/html": [
       "<div>\n",
       "<style scoped>\n",
       "    .dataframe tbody tr th:only-of-type {\n",
       "        vertical-align: middle;\n",
       "    }\n",
       "\n",
       "    .dataframe tbody tr th {\n",
       "        vertical-align: top;\n",
       "    }\n",
       "\n",
       "    .dataframe thead th {\n",
       "        text-align: right;\n",
       "    }\n",
       "</style>\n",
       "<table border=\"1\" class=\"dataframe\">\n",
       "  <thead>\n",
       "    <tr style=\"text-align: right;\">\n",
       "      <th></th>\n",
       "      <th>branch_id</th>\n",
       "      <th>city</th>\n",
       "      <th>revenue</th>\n",
       "      <th>state</th>\n",
       "      <th>uints</th>\n",
       "    </tr>\n",
       "  </thead>\n",
       "  <tbody>\n",
       "    <tr>\n",
       "      <th>0</th>\n",
       "      <td>10.0</td>\n",
       "      <td>Austin</td>\n",
       "      <td>100.0</td>\n",
       "      <td>TX</td>\n",
       "      <td>2</td>\n",
       "    </tr>\n",
       "    <tr>\n",
       "      <th>1</th>\n",
       "      <td>20.0</td>\n",
       "      <td>Denver</td>\n",
       "      <td>83.0</td>\n",
       "      <td>CO</td>\n",
       "      <td>4</td>\n",
       "    </tr>\n",
       "    <tr>\n",
       "      <th>2</th>\n",
       "      <td>30.0</td>\n",
       "      <td>Springfield</td>\n",
       "      <td>4.0</td>\n",
       "      <td>IL</td>\n",
       "      <td>1</td>\n",
       "    </tr>\n",
       "    <tr>\n",
       "      <th>3</th>\n",
       "      <td>47.0</td>\n",
       "      <td>Mendocino</td>\n",
       "      <td>200.0</td>\n",
       "      <td>CA</td>\n",
       "      <td>1</td>\n",
       "    </tr>\n",
       "    <tr>\n",
       "      <th>4</th>\n",
       "      <td>NaN</td>\n",
       "      <td>Springfield</td>\n",
       "      <td>NaN</td>\n",
       "      <td>MO</td>\n",
       "      <td>5</td>\n",
       "    </tr>\n",
       "  </tbody>\n",
       "</table>\n",
       "</div>"
      ],
      "text/plain": [
       "   branch_id         city  revenue state  uints\n",
       "0       10.0       Austin    100.0    TX      2\n",
       "1       20.0       Denver     83.0    CO      4\n",
       "2       30.0  Springfield      4.0    IL      1\n",
       "3       47.0    Mendocino    200.0    CA      1\n",
       "4        NaN  Springfield      NaN    MO      5"
      ]
     },
     "execution_count": 11,
     "metadata": {},
     "output_type": "execute_result"
    }
   ],
   "source": [
    "revenue_and_sales = pd.merge(revenue,sales,how='right',on=['city','state'])\n",
    "revenue_and_sales"
   ]
  },
  {
   "cell_type": "code",
   "execution_count": 12,
   "metadata": {
    "colab": {
     "base_uri": "https://localhost:8080/",
     "height": 204
    },
    "colab_type": "code",
    "executionInfo": {
     "elapsed": 450,
     "status": "ok",
     "timestamp": 1540560143534,
     "user": {
      "displayName": "Karol Jezierski",
      "photoUrl": "https://lh5.googleusercontent.com/-wgjj5yIIzw4/AAAAAAAAAAI/AAAAAAAAAdg/ukUvmCQdBQc/s64/photo.jpg",
      "userId": "07387898320424940670"
     },
     "user_tz": -120
    },
    "id": "0-plt8bRiKap",
    "outputId": "5182fb40-d009-4742-d85d-4e52c39c24ba"
   },
   "outputs": [
    {
     "data": {
      "text/html": [
       "<div>\n",
       "<style scoped>\n",
       "    .dataframe tbody tr th:only-of-type {\n",
       "        vertical-align: middle;\n",
       "    }\n",
       "\n",
       "    .dataframe tbody tr th {\n",
       "        vertical-align: top;\n",
       "    }\n",
       "\n",
       "    .dataframe thead th {\n",
       "        text-align: right;\n",
       "    }\n",
       "</style>\n",
       "<table border=\"1\" class=\"dataframe\">\n",
       "  <thead>\n",
       "    <tr style=\"text-align: right;\">\n",
       "      <th></th>\n",
       "      <th>city</th>\n",
       "      <th>state</th>\n",
       "      <th>uints</th>\n",
       "      <th>branch_id</th>\n",
       "      <th>branch</th>\n",
       "      <th>manager</th>\n",
       "    </tr>\n",
       "  </thead>\n",
       "  <tbody>\n",
       "    <tr>\n",
       "      <th>0</th>\n",
       "      <td>Mendocino</td>\n",
       "      <td>CA</td>\n",
       "      <td>1</td>\n",
       "      <td>47.0</td>\n",
       "      <td>Mendocino</td>\n",
       "      <td>Brett</td>\n",
       "    </tr>\n",
       "    <tr>\n",
       "      <th>1</th>\n",
       "      <td>Denver</td>\n",
       "      <td>CO</td>\n",
       "      <td>4</td>\n",
       "      <td>20.0</td>\n",
       "      <td>Denver</td>\n",
       "      <td>Joel</td>\n",
       "    </tr>\n",
       "    <tr>\n",
       "      <th>2</th>\n",
       "      <td>Austin</td>\n",
       "      <td>TX</td>\n",
       "      <td>2</td>\n",
       "      <td>10.0</td>\n",
       "      <td>Austin</td>\n",
       "      <td>Charles</td>\n",
       "    </tr>\n",
       "    <tr>\n",
       "      <th>3</th>\n",
       "      <td>Springfield</td>\n",
       "      <td>MO</td>\n",
       "      <td>5</td>\n",
       "      <td>31.0</td>\n",
       "      <td>Springfield</td>\n",
       "      <td>Sally</td>\n",
       "    </tr>\n",
       "    <tr>\n",
       "      <th>4</th>\n",
       "      <td>Springfield</td>\n",
       "      <td>IL</td>\n",
       "      <td>1</td>\n",
       "      <td>NaN</td>\n",
       "      <td>NaN</td>\n",
       "      <td>NaN</td>\n",
       "    </tr>\n",
       "  </tbody>\n",
       "</table>\n",
       "</div>"
      ],
      "text/plain": [
       "          city state  uints  branch_id       branch  manager\n",
       "0    Mendocino    CA      1       47.0    Mendocino    Brett\n",
       "1       Denver    CO      4       20.0       Denver     Joel\n",
       "2       Austin    TX      2       10.0       Austin  Charles\n",
       "3  Springfield    MO      5       31.0  Springfield    Sally\n",
       "4  Springfield    IL      1        NaN          NaN      NaN"
      ]
     },
     "execution_count": 12,
     "metadata": {},
     "output_type": "execute_result"
    }
   ],
   "source": [
    "sales_and_managers = pd.merge(sales,managers,how='left',left_on=['city', 'state'],right_on=['branch', 'state'])\n",
    "sales_and_managers"
   ]
  },
  {
   "cell_type": "markdown",
   "metadata": {
    "colab_type": "text",
    "id": "DSh3OBs_inw2"
   },
   "source": [
    "### Merging DataFrames with outer join"
   ]
  },
  {
   "cell_type": "code",
   "execution_count": 13,
   "metadata": {
    "colab": {
     "base_uri": "https://localhost:8080/",
     "height": 142
    },
    "colab_type": "code",
    "executionInfo": {
     "elapsed": 453,
     "status": "ok",
     "timestamp": 1540560465420,
     "user": {
      "displayName": "Karol Jezierski",
      "photoUrl": "https://lh5.googleusercontent.com/-wgjj5yIIzw4/AAAAAAAAAAI/AAAAAAAAAdg/ukUvmCQdBQc/s64/photo.jpg",
      "userId": "07387898320424940670"
     },
     "user_tz": -120
    },
    "id": "y8fhpGKkikK2",
    "outputId": "d544663b-7ed5-42fa-b35b-80db98afe691"
   },
   "outputs": [
    {
     "data": {
      "text/html": [
       "<div>\n",
       "<style scoped>\n",
       "    .dataframe tbody tr th:only-of-type {\n",
       "        vertical-align: middle;\n",
       "    }\n",
       "\n",
       "    .dataframe tbody tr th {\n",
       "        vertical-align: top;\n",
       "    }\n",
       "\n",
       "    .dataframe thead th {\n",
       "        text-align: right;\n",
       "    }\n",
       "</style>\n",
       "<table border=\"1\" class=\"dataframe\">\n",
       "  <thead>\n",
       "    <tr style=\"text-align: right;\">\n",
       "      <th></th>\n",
       "      <th>city</th>\n",
       "      <th>state</th>\n",
       "      <th>uints</th>\n",
       "      <th>branch_id</th>\n",
       "      <th>branch</th>\n",
       "      <th>manager</th>\n",
       "      <th>revenue</th>\n",
       "    </tr>\n",
       "  </thead>\n",
       "  <tbody>\n",
       "    <tr>\n",
       "      <th>0</th>\n",
       "      <td>Mendocino</td>\n",
       "      <td>CA</td>\n",
       "      <td>1</td>\n",
       "      <td>47.0</td>\n",
       "      <td>Mendocino</td>\n",
       "      <td>Brett</td>\n",
       "      <td>200.0</td>\n",
       "    </tr>\n",
       "    <tr>\n",
       "      <th>1</th>\n",
       "      <td>Denver</td>\n",
       "      <td>CO</td>\n",
       "      <td>4</td>\n",
       "      <td>20.0</td>\n",
       "      <td>Denver</td>\n",
       "      <td>Joel</td>\n",
       "      <td>83.0</td>\n",
       "    </tr>\n",
       "    <tr>\n",
       "      <th>2</th>\n",
       "      <td>Austin</td>\n",
       "      <td>TX</td>\n",
       "      <td>2</td>\n",
       "      <td>10.0</td>\n",
       "      <td>Austin</td>\n",
       "      <td>Charles</td>\n",
       "      <td>100.0</td>\n",
       "    </tr>\n",
       "  </tbody>\n",
       "</table>\n",
       "</div>"
      ],
      "text/plain": [
       "        city state  uints  branch_id     branch  manager  revenue\n",
       "0  Mendocino    CA      1       47.0  Mendocino    Brett    200.0\n",
       "1     Denver    CO      4       20.0     Denver     Joel     83.0\n",
       "2     Austin    TX      2       10.0     Austin  Charles    100.0"
      ]
     },
     "execution_count": 13,
     "metadata": {},
     "output_type": "execute_result"
    }
   ],
   "source": [
    "merge_default = pd.merge(sales_and_managers,revenue_and_sales)\n",
    "merge_default"
   ]
  },
  {
   "cell_type": "code",
   "execution_count": 14,
   "metadata": {
    "colab": {
     "base_uri": "https://localhost:8080/",
     "height": 266
    },
    "colab_type": "code",
    "executionInfo": {
     "elapsed": 433,
     "status": "ok",
     "timestamp": 1540560477811,
     "user": {
      "displayName": "Karol Jezierski",
      "photoUrl": "https://lh5.googleusercontent.com/-wgjj5yIIzw4/AAAAAAAAAAI/AAAAAAAAAdg/ukUvmCQdBQc/s64/photo.jpg",
      "userId": "07387898320424940670"
     },
     "user_tz": -120
    },
    "id": "8XbWEZeljywX",
    "outputId": "35a147a1-65d0-4f3f-b3a2-e4e16b0f902d"
   },
   "outputs": [
    {
     "data": {
      "text/html": [
       "<div>\n",
       "<style scoped>\n",
       "    .dataframe tbody tr th:only-of-type {\n",
       "        vertical-align: middle;\n",
       "    }\n",
       "\n",
       "    .dataframe tbody tr th {\n",
       "        vertical-align: top;\n",
       "    }\n",
       "\n",
       "    .dataframe thead th {\n",
       "        text-align: right;\n",
       "    }\n",
       "</style>\n",
       "<table border=\"1\" class=\"dataframe\">\n",
       "  <thead>\n",
       "    <tr style=\"text-align: right;\">\n",
       "      <th></th>\n",
       "      <th>city</th>\n",
       "      <th>state</th>\n",
       "      <th>uints</th>\n",
       "      <th>branch_id</th>\n",
       "      <th>branch</th>\n",
       "      <th>manager</th>\n",
       "      <th>revenue</th>\n",
       "    </tr>\n",
       "  </thead>\n",
       "  <tbody>\n",
       "    <tr>\n",
       "      <th>0</th>\n",
       "      <td>Mendocino</td>\n",
       "      <td>CA</td>\n",
       "      <td>1</td>\n",
       "      <td>47.0</td>\n",
       "      <td>Mendocino</td>\n",
       "      <td>Brett</td>\n",
       "      <td>200.0</td>\n",
       "    </tr>\n",
       "    <tr>\n",
       "      <th>1</th>\n",
       "      <td>Denver</td>\n",
       "      <td>CO</td>\n",
       "      <td>4</td>\n",
       "      <td>20.0</td>\n",
       "      <td>Denver</td>\n",
       "      <td>Joel</td>\n",
       "      <td>83.0</td>\n",
       "    </tr>\n",
       "    <tr>\n",
       "      <th>2</th>\n",
       "      <td>Austin</td>\n",
       "      <td>TX</td>\n",
       "      <td>2</td>\n",
       "      <td>10.0</td>\n",
       "      <td>Austin</td>\n",
       "      <td>Charles</td>\n",
       "      <td>100.0</td>\n",
       "    </tr>\n",
       "    <tr>\n",
       "      <th>3</th>\n",
       "      <td>Springfield</td>\n",
       "      <td>MO</td>\n",
       "      <td>5</td>\n",
       "      <td>31.0</td>\n",
       "      <td>Springfield</td>\n",
       "      <td>Sally</td>\n",
       "      <td>NaN</td>\n",
       "    </tr>\n",
       "    <tr>\n",
       "      <th>4</th>\n",
       "      <td>Springfield</td>\n",
       "      <td>IL</td>\n",
       "      <td>1</td>\n",
       "      <td>NaN</td>\n",
       "      <td>NaN</td>\n",
       "      <td>NaN</td>\n",
       "      <td>NaN</td>\n",
       "    </tr>\n",
       "    <tr>\n",
       "      <th>5</th>\n",
       "      <td>Springfield</td>\n",
       "      <td>IL</td>\n",
       "      <td>1</td>\n",
       "      <td>30.0</td>\n",
       "      <td>NaN</td>\n",
       "      <td>NaN</td>\n",
       "      <td>4.0</td>\n",
       "    </tr>\n",
       "    <tr>\n",
       "      <th>6</th>\n",
       "      <td>Springfield</td>\n",
       "      <td>MO</td>\n",
       "      <td>5</td>\n",
       "      <td>NaN</td>\n",
       "      <td>NaN</td>\n",
       "      <td>NaN</td>\n",
       "      <td>NaN</td>\n",
       "    </tr>\n",
       "  </tbody>\n",
       "</table>\n",
       "</div>"
      ],
      "text/plain": [
       "          city state  uints  branch_id       branch  manager  revenue\n",
       "0    Mendocino    CA      1       47.0    Mendocino    Brett    200.0\n",
       "1       Denver    CO      4       20.0       Denver     Joel     83.0\n",
       "2       Austin    TX      2       10.0       Austin  Charles    100.0\n",
       "3  Springfield    MO      5       31.0  Springfield    Sally      NaN\n",
       "4  Springfield    IL      1        NaN          NaN      NaN      NaN\n",
       "5  Springfield    IL      1       30.0          NaN      NaN      4.0\n",
       "6  Springfield    MO      5        NaN          NaN      NaN      NaN"
      ]
     },
     "execution_count": 14,
     "metadata": {},
     "output_type": "execute_result"
    }
   ],
   "source": [
    "merge_outer = pd.merge(sales_and_managers,revenue_and_sales, how='outer')\n",
    "merge_outer"
   ]
  },
  {
   "cell_type": "code",
   "execution_count": 15,
   "metadata": {
    "colab": {
     "base_uri": "https://localhost:8080/",
     "height": 224
    },
    "colab_type": "code",
    "executionInfo": {
     "elapsed": 430,
     "status": "ok",
     "timestamp": 1540560493167,
     "user": {
      "displayName": "Karol Jezierski",
      "photoUrl": "https://lh5.googleusercontent.com/-wgjj5yIIzw4/AAAAAAAAAAI/AAAAAAAAAdg/ukUvmCQdBQc/s64/photo.jpg",
      "userId": "07387898320424940670"
     },
     "user_tz": -120
    },
    "id": "gDn4Y_XCj1yO",
    "outputId": "fca3e5dc-b242-45a2-f359-bb30440e0978"
   },
   "outputs": [
    {
     "data": {
      "text/html": [
       "<div>\n",
       "<style scoped>\n",
       "    .dataframe tbody tr th:only-of-type {\n",
       "        vertical-align: middle;\n",
       "    }\n",
       "\n",
       "    .dataframe tbody tr th {\n",
       "        vertical-align: top;\n",
       "    }\n",
       "\n",
       "    .dataframe thead th {\n",
       "        text-align: right;\n",
       "    }\n",
       "</style>\n",
       "<table border=\"1\" class=\"dataframe\">\n",
       "  <thead>\n",
       "    <tr style=\"text-align: right;\">\n",
       "      <th></th>\n",
       "      <th>city</th>\n",
       "      <th>state</th>\n",
       "      <th>uints_x</th>\n",
       "      <th>branch_id_x</th>\n",
       "      <th>branch</th>\n",
       "      <th>manager</th>\n",
       "      <th>branch_id_y</th>\n",
       "      <th>revenue</th>\n",
       "      <th>uints_y</th>\n",
       "    </tr>\n",
       "  </thead>\n",
       "  <tbody>\n",
       "    <tr>\n",
       "      <th>0</th>\n",
       "      <td>Mendocino</td>\n",
       "      <td>CA</td>\n",
       "      <td>1</td>\n",
       "      <td>47.0</td>\n",
       "      <td>Mendocino</td>\n",
       "      <td>Brett</td>\n",
       "      <td>47.0</td>\n",
       "      <td>200.0</td>\n",
       "      <td>1</td>\n",
       "    </tr>\n",
       "    <tr>\n",
       "      <th>1</th>\n",
       "      <td>Denver</td>\n",
       "      <td>CO</td>\n",
       "      <td>4</td>\n",
       "      <td>20.0</td>\n",
       "      <td>Denver</td>\n",
       "      <td>Joel</td>\n",
       "      <td>20.0</td>\n",
       "      <td>83.0</td>\n",
       "      <td>4</td>\n",
       "    </tr>\n",
       "    <tr>\n",
       "      <th>2</th>\n",
       "      <td>Austin</td>\n",
       "      <td>TX</td>\n",
       "      <td>2</td>\n",
       "      <td>10.0</td>\n",
       "      <td>Austin</td>\n",
       "      <td>Charles</td>\n",
       "      <td>10.0</td>\n",
       "      <td>100.0</td>\n",
       "      <td>2</td>\n",
       "    </tr>\n",
       "    <tr>\n",
       "      <th>3</th>\n",
       "      <td>Springfield</td>\n",
       "      <td>MO</td>\n",
       "      <td>5</td>\n",
       "      <td>31.0</td>\n",
       "      <td>Springfield</td>\n",
       "      <td>Sally</td>\n",
       "      <td>NaN</td>\n",
       "      <td>NaN</td>\n",
       "      <td>5</td>\n",
       "    </tr>\n",
       "    <tr>\n",
       "      <th>4</th>\n",
       "      <td>Springfield</td>\n",
       "      <td>IL</td>\n",
       "      <td>1</td>\n",
       "      <td>NaN</td>\n",
       "      <td>NaN</td>\n",
       "      <td>NaN</td>\n",
       "      <td>30.0</td>\n",
       "      <td>4.0</td>\n",
       "      <td>1</td>\n",
       "    </tr>\n",
       "  </tbody>\n",
       "</table>\n",
       "</div>"
      ],
      "text/plain": [
       "          city state  uints_x  branch_id_x       branch  manager  branch_id_y  \\\n",
       "0    Mendocino    CA        1         47.0    Mendocino    Brett         47.0   \n",
       "1       Denver    CO        4         20.0       Denver     Joel         20.0   \n",
       "2       Austin    TX        2         10.0       Austin  Charles         10.0   \n",
       "3  Springfield    MO        5         31.0  Springfield    Sally          NaN   \n",
       "4  Springfield    IL        1          NaN          NaN      NaN         30.0   \n",
       "\n",
       "   revenue  uints_y  \n",
       "0    200.0        1  \n",
       "1     83.0        4  \n",
       "2    100.0        2  \n",
       "3      NaN        5  \n",
       "4      4.0        1  "
      ]
     },
     "execution_count": 15,
     "metadata": {},
     "output_type": "execute_result"
    }
   ],
   "source": [
    "merge_outer_on = pd.merge(sales_and_managers,revenue_and_sales,how='outer',on=['city','state'])\n",
    "merge_outer_on"
   ]
  },
  {
   "cell_type": "markdown",
   "metadata": {
    "colab_type": "text",
    "id": "WzFyrZw7kzra"
   },
   "source": [
    "### Using merge_ordered()"
   ]
  },
  {
   "cell_type": "code",
   "execution_count": 16,
   "metadata": {
    "colab": {},
    "colab_type": "code",
    "id": "_ydPjaJmj5iO"
   },
   "outputs": [],
   "source": [
    "austin = pd.DataFrame({\n",
    "    'date':['2016-01-01', '2016-02-08', '2016-01-17'],\n",
    "    'ratings': ['Cloudy','Cloudy','Sunny']\n",
    "})"
   ]
  },
  {
   "cell_type": "code",
   "execution_count": 17,
   "metadata": {
    "colab": {},
    "colab_type": "code",
    "id": "vkV0tjiylP74"
   },
   "outputs": [],
   "source": [
    "houston = pd.DataFrame({\n",
    "    'date':['2016-01-04', '2016-01-01', '2016-03-01'],\n",
    "    'ratings': ['Rainy','Cloudy','Sunny']\n",
    "})"
   ]
  },
  {
   "cell_type": "code",
   "execution_count": 18,
   "metadata": {
    "colab": {
     "base_uri": "https://localhost:8080/",
     "height": 204
    },
    "colab_type": "code",
    "executionInfo": {
     "elapsed": 423,
     "status": "ok",
     "timestamp": 1540561027602,
     "user": {
      "displayName": "Karol Jezierski",
      "photoUrl": "https://lh5.googleusercontent.com/-wgjj5yIIzw4/AAAAAAAAAAI/AAAAAAAAAdg/ukUvmCQdBQc/s64/photo.jpg",
      "userId": "07387898320424940670"
     },
     "user_tz": -120
    },
    "id": "aaP-8LxZl5RP",
    "outputId": "c37279ac-bbae-4ebc-a486-002738042969"
   },
   "outputs": [
    {
     "data": {
      "text/html": [
       "<div>\n",
       "<style scoped>\n",
       "    .dataframe tbody tr th:only-of-type {\n",
       "        vertical-align: middle;\n",
       "    }\n",
       "\n",
       "    .dataframe tbody tr th {\n",
       "        vertical-align: top;\n",
       "    }\n",
       "\n",
       "    .dataframe thead th {\n",
       "        text-align: right;\n",
       "    }\n",
       "</style>\n",
       "<table border=\"1\" class=\"dataframe\">\n",
       "  <thead>\n",
       "    <tr style=\"text-align: right;\">\n",
       "      <th></th>\n",
       "      <th>date</th>\n",
       "      <th>ratings</th>\n",
       "    </tr>\n",
       "  </thead>\n",
       "  <tbody>\n",
       "    <tr>\n",
       "      <th>0</th>\n",
       "      <td>2016-01-01</td>\n",
       "      <td>Cloudy</td>\n",
       "    </tr>\n",
       "    <tr>\n",
       "      <th>1</th>\n",
       "      <td>2016-01-04</td>\n",
       "      <td>Rainy</td>\n",
       "    </tr>\n",
       "    <tr>\n",
       "      <th>2</th>\n",
       "      <td>2016-01-17</td>\n",
       "      <td>Sunny</td>\n",
       "    </tr>\n",
       "    <tr>\n",
       "      <th>3</th>\n",
       "      <td>2016-02-08</td>\n",
       "      <td>Cloudy</td>\n",
       "    </tr>\n",
       "    <tr>\n",
       "      <th>4</th>\n",
       "      <td>2016-03-01</td>\n",
       "      <td>Sunny</td>\n",
       "    </tr>\n",
       "  </tbody>\n",
       "</table>\n",
       "</div>"
      ],
      "text/plain": [
       "         date ratings\n",
       "0  2016-01-01  Cloudy\n",
       "1  2016-01-04   Rainy\n",
       "2  2016-01-17   Sunny\n",
       "3  2016-02-08  Cloudy\n",
       "4  2016-03-01   Sunny"
      ]
     },
     "execution_count": 18,
     "metadata": {},
     "output_type": "execute_result"
    }
   ],
   "source": [
    "tx_weather = pd.merge_ordered(austin,houston)\n",
    "tx_weather"
   ]
  },
  {
   "cell_type": "code",
   "execution_count": 19,
   "metadata": {
    "colab": {
     "base_uri": "https://localhost:8080/",
     "height": 204
    },
    "colab_type": "code",
    "executionInfo": {
     "elapsed": 558,
     "status": "ok",
     "timestamp": 1540561064728,
     "user": {
      "displayName": "Karol Jezierski",
      "photoUrl": "https://lh5.googleusercontent.com/-wgjj5yIIzw4/AAAAAAAAAAI/AAAAAAAAAdg/ukUvmCQdBQc/s64/photo.jpg",
      "userId": "07387898320424940670"
     },
     "user_tz": -120
    },
    "id": "N5VYBNY0l8A2",
    "outputId": "b85a7b7e-715e-4c94-de7a-e05779e3aa5e"
   },
   "outputs": [
    {
     "data": {
      "text/html": [
       "<div>\n",
       "<style scoped>\n",
       "    .dataframe tbody tr th:only-of-type {\n",
       "        vertical-align: middle;\n",
       "    }\n",
       "\n",
       "    .dataframe tbody tr th {\n",
       "        vertical-align: top;\n",
       "    }\n",
       "\n",
       "    .dataframe thead th {\n",
       "        text-align: right;\n",
       "    }\n",
       "</style>\n",
       "<table border=\"1\" class=\"dataframe\">\n",
       "  <thead>\n",
       "    <tr style=\"text-align: right;\">\n",
       "      <th></th>\n",
       "      <th>date</th>\n",
       "      <th>ratings_aus</th>\n",
       "      <th>ratings_hus</th>\n",
       "    </tr>\n",
       "  </thead>\n",
       "  <tbody>\n",
       "    <tr>\n",
       "      <th>0</th>\n",
       "      <td>2016-01-01</td>\n",
       "      <td>Cloudy</td>\n",
       "      <td>Cloudy</td>\n",
       "    </tr>\n",
       "    <tr>\n",
       "      <th>1</th>\n",
       "      <td>2016-01-04</td>\n",
       "      <td>NaN</td>\n",
       "      <td>Rainy</td>\n",
       "    </tr>\n",
       "    <tr>\n",
       "      <th>2</th>\n",
       "      <td>2016-01-17</td>\n",
       "      <td>Sunny</td>\n",
       "      <td>NaN</td>\n",
       "    </tr>\n",
       "    <tr>\n",
       "      <th>3</th>\n",
       "      <td>2016-02-08</td>\n",
       "      <td>Cloudy</td>\n",
       "      <td>NaN</td>\n",
       "    </tr>\n",
       "    <tr>\n",
       "      <th>4</th>\n",
       "      <td>2016-03-01</td>\n",
       "      <td>NaN</td>\n",
       "      <td>Sunny</td>\n",
       "    </tr>\n",
       "  </tbody>\n",
       "</table>\n",
       "</div>"
      ],
      "text/plain": [
       "         date ratings_aus ratings_hus\n",
       "0  2016-01-01      Cloudy      Cloudy\n",
       "1  2016-01-04         NaN       Rainy\n",
       "2  2016-01-17       Sunny         NaN\n",
       "3  2016-02-08      Cloudy         NaN\n",
       "4  2016-03-01         NaN       Sunny"
      ]
     },
     "execution_count": 19,
     "metadata": {},
     "output_type": "execute_result"
    }
   ],
   "source": [
    "tx_weather_suff = pd.merge_ordered(austin,houston,on='date',suffixes=['_aus','_hus'])\n",
    "tx_weather_suff"
   ]
  },
  {
   "cell_type": "code",
   "execution_count": 20,
   "metadata": {
    "colab": {
     "base_uri": "https://localhost:8080/",
     "height": 204
    },
    "colab_type": "code",
    "executionInfo": {
     "elapsed": 429,
     "status": "ok",
     "timestamp": 1540561080519,
     "user": {
      "displayName": "Karol Jezierski",
      "photoUrl": "https://lh5.googleusercontent.com/-wgjj5yIIzw4/AAAAAAAAAAI/AAAAAAAAAdg/ukUvmCQdBQc/s64/photo.jpg",
      "userId": "07387898320424940670"
     },
     "user_tz": -120
    },
    "id": "VCQQG1RDmFC2",
    "outputId": "b1461779-4ac0-4e3f-a8da-79ea670476c0"
   },
   "outputs": [
    {
     "data": {
      "text/html": [
       "<div>\n",
       "<style scoped>\n",
       "    .dataframe tbody tr th:only-of-type {\n",
       "        vertical-align: middle;\n",
       "    }\n",
       "\n",
       "    .dataframe tbody tr th {\n",
       "        vertical-align: top;\n",
       "    }\n",
       "\n",
       "    .dataframe thead th {\n",
       "        text-align: right;\n",
       "    }\n",
       "</style>\n",
       "<table border=\"1\" class=\"dataframe\">\n",
       "  <thead>\n",
       "    <tr style=\"text-align: right;\">\n",
       "      <th></th>\n",
       "      <th>date</th>\n",
       "      <th>ratings_aus</th>\n",
       "      <th>ratings_hus</th>\n",
       "    </tr>\n",
       "  </thead>\n",
       "  <tbody>\n",
       "    <tr>\n",
       "      <th>0</th>\n",
       "      <td>2016-01-01</td>\n",
       "      <td>Cloudy</td>\n",
       "      <td>Cloudy</td>\n",
       "    </tr>\n",
       "    <tr>\n",
       "      <th>1</th>\n",
       "      <td>2016-01-04</td>\n",
       "      <td>Cloudy</td>\n",
       "      <td>Rainy</td>\n",
       "    </tr>\n",
       "    <tr>\n",
       "      <th>2</th>\n",
       "      <td>2016-01-17</td>\n",
       "      <td>Sunny</td>\n",
       "      <td>Rainy</td>\n",
       "    </tr>\n",
       "    <tr>\n",
       "      <th>3</th>\n",
       "      <td>2016-02-08</td>\n",
       "      <td>Cloudy</td>\n",
       "      <td>Rainy</td>\n",
       "    </tr>\n",
       "    <tr>\n",
       "      <th>4</th>\n",
       "      <td>2016-03-01</td>\n",
       "      <td>Cloudy</td>\n",
       "      <td>Sunny</td>\n",
       "    </tr>\n",
       "  </tbody>\n",
       "</table>\n",
       "</div>"
      ],
      "text/plain": [
       "         date ratings_aus ratings_hus\n",
       "0  2016-01-01      Cloudy      Cloudy\n",
       "1  2016-01-04      Cloudy       Rainy\n",
       "2  2016-01-17       Sunny       Rainy\n",
       "3  2016-02-08      Cloudy       Rainy\n",
       "4  2016-03-01      Cloudy       Sunny"
      ]
     },
     "execution_count": 20,
     "metadata": {},
     "output_type": "execute_result"
    }
   ],
   "source": [
    "tx_weather_ffill = pd.merge_ordered(austin,houston,on='date',suffixes=['_aus','_hus'],fill_method='ffill')\n",
    "tx_weather_ffill"
   ]
  },
  {
   "cell_type": "markdown",
   "metadata": {
    "colab_type": "text",
    "id": "GmDl6mpZmNSB"
   },
   "source": [
    "### Using merge_asof()"
   ]
  },
  {
   "cell_type": "code",
   "execution_count": 21,
   "metadata": {
    "colab": {},
    "colab_type": "code",
    "id": "UoQl3O83mI7d"
   },
   "outputs": [],
   "source": [
    "auto = pd.read_csv('automobiles.csv')\n",
    "oil = pd.read_csv('oil_price.csv')"
   ]
  },
  {
   "cell_type": "code",
   "execution_count": 22,
   "metadata": {
    "colab": {
     "base_uri": "https://localhost:8080/",
     "height": 204
    },
    "colab_type": "code",
    "executionInfo": {
     "elapsed": 421,
     "status": "ok",
     "timestamp": 1540561528282,
     "user": {
      "displayName": "Karol Jezierski",
      "photoUrl": "https://lh5.googleusercontent.com/-wgjj5yIIzw4/AAAAAAAAAAI/AAAAAAAAAdg/ukUvmCQdBQc/s64/photo.jpg",
      "userId": "07387898320424940670"
     },
     "user_tz": -120
    },
    "id": "F6OzL_2VnBkN",
    "outputId": "73319dfd-c9a1-4ded-b463-ff57a0e23cfe"
   },
   "outputs": [
    {
     "data": {
      "text/html": [
       "<div>\n",
       "<style scoped>\n",
       "    .dataframe tbody tr th:only-of-type {\n",
       "        vertical-align: middle;\n",
       "    }\n",
       "\n",
       "    .dataframe tbody tr th {\n",
       "        vertical-align: top;\n",
       "    }\n",
       "\n",
       "    .dataframe thead th {\n",
       "        text-align: right;\n",
       "    }\n",
       "</style>\n",
       "<table border=\"1\" class=\"dataframe\">\n",
       "  <thead>\n",
       "    <tr style=\"text-align: right;\">\n",
       "      <th></th>\n",
       "      <th>mpg</th>\n",
       "      <th>cyl</th>\n",
       "      <th>displ</th>\n",
       "      <th>hp</th>\n",
       "      <th>weight</th>\n",
       "      <th>accel</th>\n",
       "      <th>yr</th>\n",
       "      <th>origin</th>\n",
       "      <th>name</th>\n",
       "    </tr>\n",
       "  </thead>\n",
       "  <tbody>\n",
       "    <tr>\n",
       "      <th>0</th>\n",
       "      <td>18.0</td>\n",
       "      <td>8</td>\n",
       "      <td>307.0</td>\n",
       "      <td>130</td>\n",
       "      <td>3504</td>\n",
       "      <td>12.0</td>\n",
       "      <td>1970-01-01</td>\n",
       "      <td>US</td>\n",
       "      <td>chevrolet chevelle malibu</td>\n",
       "    </tr>\n",
       "    <tr>\n",
       "      <th>1</th>\n",
       "      <td>15.0</td>\n",
       "      <td>8</td>\n",
       "      <td>350.0</td>\n",
       "      <td>165</td>\n",
       "      <td>3693</td>\n",
       "      <td>11.5</td>\n",
       "      <td>1970-01-01</td>\n",
       "      <td>US</td>\n",
       "      <td>buick skylark 320</td>\n",
       "    </tr>\n",
       "    <tr>\n",
       "      <th>2</th>\n",
       "      <td>18.0</td>\n",
       "      <td>8</td>\n",
       "      <td>318.0</td>\n",
       "      <td>150</td>\n",
       "      <td>3436</td>\n",
       "      <td>11.0</td>\n",
       "      <td>1970-01-01</td>\n",
       "      <td>US</td>\n",
       "      <td>plymouth satellite</td>\n",
       "    </tr>\n",
       "    <tr>\n",
       "      <th>3</th>\n",
       "      <td>16.0</td>\n",
       "      <td>8</td>\n",
       "      <td>304.0</td>\n",
       "      <td>150</td>\n",
       "      <td>3433</td>\n",
       "      <td>12.0</td>\n",
       "      <td>1970-01-01</td>\n",
       "      <td>US</td>\n",
       "      <td>amc rebel sst</td>\n",
       "    </tr>\n",
       "    <tr>\n",
       "      <th>4</th>\n",
       "      <td>17.0</td>\n",
       "      <td>8</td>\n",
       "      <td>302.0</td>\n",
       "      <td>140</td>\n",
       "      <td>3449</td>\n",
       "      <td>10.5</td>\n",
       "      <td>1970-01-01</td>\n",
       "      <td>US</td>\n",
       "      <td>ford torino</td>\n",
       "    </tr>\n",
       "  </tbody>\n",
       "</table>\n",
       "</div>"
      ],
      "text/plain": [
       "    mpg  cyl  displ   hp  weight  accel          yr origin  \\\n",
       "0  18.0    8  307.0  130    3504   12.0  1970-01-01     US   \n",
       "1  15.0    8  350.0  165    3693   11.5  1970-01-01     US   \n",
       "2  18.0    8  318.0  150    3436   11.0  1970-01-01     US   \n",
       "3  16.0    8  304.0  150    3433   12.0  1970-01-01     US   \n",
       "4  17.0    8  302.0  140    3449   10.5  1970-01-01     US   \n",
       "\n",
       "                        name  \n",
       "0  chevrolet chevelle malibu  \n",
       "1          buick skylark 320  \n",
       "2         plymouth satellite  \n",
       "3              amc rebel sst  \n",
       "4                ford torino  "
      ]
     },
     "execution_count": 22,
     "metadata": {},
     "output_type": "execute_result"
    }
   ],
   "source": [
    "auto.head()"
   ]
  },
  {
   "cell_type": "code",
   "execution_count": 23,
   "metadata": {
    "colab": {
     "base_uri": "https://localhost:8080/",
     "height": 204
    },
    "colab_type": "code",
    "executionInfo": {
     "elapsed": 424,
     "status": "ok",
     "timestamp": 1540561532503,
     "user": {
      "displayName": "Karol Jezierski",
      "photoUrl": "https://lh5.googleusercontent.com/-wgjj5yIIzw4/AAAAAAAAAAI/AAAAAAAAAdg/ukUvmCQdBQc/s64/photo.jpg",
      "userId": "07387898320424940670"
     },
     "user_tz": -120
    },
    "id": "pUzWsLrLn2P9",
    "outputId": "3a3f9974-17c2-40a1-e47e-458bd8552f67"
   },
   "outputs": [
    {
     "data": {
      "text/html": [
       "<div>\n",
       "<style scoped>\n",
       "    .dataframe tbody tr th:only-of-type {\n",
       "        vertical-align: middle;\n",
       "    }\n",
       "\n",
       "    .dataframe tbody tr th {\n",
       "        vertical-align: top;\n",
       "    }\n",
       "\n",
       "    .dataframe thead th {\n",
       "        text-align: right;\n",
       "    }\n",
       "</style>\n",
       "<table border=\"1\" class=\"dataframe\">\n",
       "  <thead>\n",
       "    <tr style=\"text-align: right;\">\n",
       "      <th></th>\n",
       "      <th>Date</th>\n",
       "      <th>Price</th>\n",
       "    </tr>\n",
       "  </thead>\n",
       "  <tbody>\n",
       "    <tr>\n",
       "      <th>0</th>\n",
       "      <td>1970-01-01</td>\n",
       "      <td>3.35</td>\n",
       "    </tr>\n",
       "    <tr>\n",
       "      <th>1</th>\n",
       "      <td>1970-02-01</td>\n",
       "      <td>3.35</td>\n",
       "    </tr>\n",
       "    <tr>\n",
       "      <th>2</th>\n",
       "      <td>1970-03-01</td>\n",
       "      <td>3.35</td>\n",
       "    </tr>\n",
       "    <tr>\n",
       "      <th>3</th>\n",
       "      <td>1970-04-01</td>\n",
       "      <td>3.35</td>\n",
       "    </tr>\n",
       "    <tr>\n",
       "      <th>4</th>\n",
       "      <td>1970-05-01</td>\n",
       "      <td>3.35</td>\n",
       "    </tr>\n",
       "  </tbody>\n",
       "</table>\n",
       "</div>"
      ],
      "text/plain": [
       "         Date  Price\n",
       "0  1970-01-01   3.35\n",
       "1  1970-02-01   3.35\n",
       "2  1970-03-01   3.35\n",
       "3  1970-04-01   3.35\n",
       "4  1970-05-01   3.35"
      ]
     },
     "execution_count": 23,
     "metadata": {},
     "output_type": "execute_result"
    }
   ],
   "source": [
    "oil.head()"
   ]
  },
  {
   "cell_type": "code",
   "execution_count": 24,
   "metadata": {
    "colab": {
     "base_uri": "https://localhost:8080/",
     "height": 255
    },
    "colab_type": "code",
    "executionInfo": {
     "elapsed": 429,
     "status": "ok",
     "timestamp": 1540561719496,
     "user": {
      "displayName": "Karol Jezierski",
      "photoUrl": "https://lh5.googleusercontent.com/-wgjj5yIIzw4/AAAAAAAAAAI/AAAAAAAAAdg/ukUvmCQdBQc/s64/photo.jpg",
      "userId": "07387898320424940670"
     },
     "user_tz": -120
    },
    "id": "p7rQzxrxn3R1",
    "outputId": "f5f5575f-c48e-487c-aa2d-1cc01b14e596"
   },
   "outputs": [
    {
     "name": "stdout",
     "output_type": "stream",
     "text": [
      "<class 'pandas.core.frame.DataFrame'>\n",
      "RangeIndex: 392 entries, 0 to 391\n",
      "Data columns (total 9 columns):\n",
      "mpg       392 non-null float64\n",
      "cyl       392 non-null int64\n",
      "displ     392 non-null float64\n",
      "hp        392 non-null int64\n",
      "weight    392 non-null int64\n",
      "accel     392 non-null float64\n",
      "yr        392 non-null object\n",
      "origin    392 non-null object\n",
      "name      392 non-null object\n",
      "dtypes: float64(3), int64(3), object(3)\n",
      "memory usage: 27.6+ KB\n"
     ]
    }
   ],
   "source": [
    "oil.Date = oil.Date.astype('datetime64[ns]')\n",
    "auto.info()"
   ]
  },
  {
   "cell_type": "code",
   "execution_count": 25,
   "metadata": {
    "colab": {
     "base_uri": "https://localhost:8080/",
     "height": 255
    },
    "colab_type": "code",
    "executionInfo": {
     "elapsed": 407,
     "status": "ok",
     "timestamp": 1540561763732,
     "user": {
      "displayName": "Karol Jezierski",
      "photoUrl": "https://lh5.googleusercontent.com/-wgjj5yIIzw4/AAAAAAAAAAI/AAAAAAAAAdg/ukUvmCQdBQc/s64/photo.jpg",
      "userId": "07387898320424940670"
     },
     "user_tz": -120
    },
    "id": "Y-waz99dn4C9",
    "outputId": "2cb0b78f-b530-455f-d96c-2fe12a954b05"
   },
   "outputs": [
    {
     "name": "stdout",
     "output_type": "stream",
     "text": [
      "<class 'pandas.core.frame.DataFrame'>\n",
      "RangeIndex: 392 entries, 0 to 391\n",
      "Data columns (total 9 columns):\n",
      "mpg       392 non-null float64\n",
      "cyl       392 non-null int64\n",
      "displ     392 non-null float64\n",
      "hp        392 non-null int64\n",
      "weight    392 non-null int64\n",
      "accel     392 non-null float64\n",
      "yr        392 non-null datetime64[ns]\n",
      "origin    392 non-null object\n",
      "name      392 non-null object\n",
      "dtypes: datetime64[ns](1), float64(3), int64(3), object(2)\n",
      "memory usage: 27.6+ KB\n"
     ]
    }
   ],
   "source": [
    "auto.yr = auto.yr.astype('datetime64[ns]')\n",
    "auto.info()"
   ]
  },
  {
   "cell_type": "code",
   "execution_count": 26,
   "metadata": {
    "colab": {},
    "colab_type": "code",
    "id": "FqCHu-0_oupk"
   },
   "outputs": [],
   "source": [
    "merged = pd.merge_asof(auto,oil,left_on='yr',right_on='Date')"
   ]
  },
  {
   "cell_type": "code",
   "execution_count": 27,
   "metadata": {
    "colab": {
     "base_uri": "https://localhost:8080/",
     "height": 204
    },
    "colab_type": "code",
    "executionInfo": {
     "elapsed": 477,
     "status": "ok",
     "timestamp": 1540561783210,
     "user": {
      "displayName": "Karol Jezierski",
      "photoUrl": "https://lh5.googleusercontent.com/-wgjj5yIIzw4/AAAAAAAAAAI/AAAAAAAAAdg/ukUvmCQdBQc/s64/photo.jpg",
      "userId": "07387898320424940670"
     },
     "user_tz": -120
    },
    "id": "fhlA2YC8oyqk",
    "outputId": "b0eeacd1-c0de-4a9d-bfa8-6a3b82acb5e4"
   },
   "outputs": [
    {
     "data": {
      "text/html": [
       "<div>\n",
       "<style scoped>\n",
       "    .dataframe tbody tr th:only-of-type {\n",
       "        vertical-align: middle;\n",
       "    }\n",
       "\n",
       "    .dataframe tbody tr th {\n",
       "        vertical-align: top;\n",
       "    }\n",
       "\n",
       "    .dataframe thead th {\n",
       "        text-align: right;\n",
       "    }\n",
       "</style>\n",
       "<table border=\"1\" class=\"dataframe\">\n",
       "  <thead>\n",
       "    <tr style=\"text-align: right;\">\n",
       "      <th></th>\n",
       "      <th>mpg</th>\n",
       "      <th>cyl</th>\n",
       "      <th>displ</th>\n",
       "      <th>hp</th>\n",
       "      <th>weight</th>\n",
       "      <th>accel</th>\n",
       "      <th>yr</th>\n",
       "      <th>origin</th>\n",
       "      <th>name</th>\n",
       "      <th>Date</th>\n",
       "      <th>Price</th>\n",
       "    </tr>\n",
       "  </thead>\n",
       "  <tbody>\n",
       "    <tr>\n",
       "      <th>387</th>\n",
       "      <td>27.0</td>\n",
       "      <td>4</td>\n",
       "      <td>140.0</td>\n",
       "      <td>86</td>\n",
       "      <td>2790</td>\n",
       "      <td>15.6</td>\n",
       "      <td>1982-01-01</td>\n",
       "      <td>US</td>\n",
       "      <td>ford mustang gl</td>\n",
       "      <td>1982-01-01</td>\n",
       "      <td>33.85</td>\n",
       "    </tr>\n",
       "    <tr>\n",
       "      <th>388</th>\n",
       "      <td>44.0</td>\n",
       "      <td>4</td>\n",
       "      <td>97.0</td>\n",
       "      <td>52</td>\n",
       "      <td>2130</td>\n",
       "      <td>24.6</td>\n",
       "      <td>1982-01-01</td>\n",
       "      <td>Europe</td>\n",
       "      <td>vw pickup</td>\n",
       "      <td>1982-01-01</td>\n",
       "      <td>33.85</td>\n",
       "    </tr>\n",
       "    <tr>\n",
       "      <th>389</th>\n",
       "      <td>32.0</td>\n",
       "      <td>4</td>\n",
       "      <td>135.0</td>\n",
       "      <td>84</td>\n",
       "      <td>2295</td>\n",
       "      <td>11.6</td>\n",
       "      <td>1982-01-01</td>\n",
       "      <td>US</td>\n",
       "      <td>dodge rampage</td>\n",
       "      <td>1982-01-01</td>\n",
       "      <td>33.85</td>\n",
       "    </tr>\n",
       "    <tr>\n",
       "      <th>390</th>\n",
       "      <td>28.0</td>\n",
       "      <td>4</td>\n",
       "      <td>120.0</td>\n",
       "      <td>79</td>\n",
       "      <td>2625</td>\n",
       "      <td>18.6</td>\n",
       "      <td>1982-01-01</td>\n",
       "      <td>US</td>\n",
       "      <td>ford ranger</td>\n",
       "      <td>1982-01-01</td>\n",
       "      <td>33.85</td>\n",
       "    </tr>\n",
       "    <tr>\n",
       "      <th>391</th>\n",
       "      <td>31.0</td>\n",
       "      <td>4</td>\n",
       "      <td>119.0</td>\n",
       "      <td>82</td>\n",
       "      <td>2720</td>\n",
       "      <td>19.4</td>\n",
       "      <td>1982-01-01</td>\n",
       "      <td>US</td>\n",
       "      <td>chevy s-10</td>\n",
       "      <td>1982-01-01</td>\n",
       "      <td>33.85</td>\n",
       "    </tr>\n",
       "  </tbody>\n",
       "</table>\n",
       "</div>"
      ],
      "text/plain": [
       "      mpg  cyl  displ  hp  weight  accel         yr  origin             name  \\\n",
       "387  27.0    4  140.0  86    2790   15.6 1982-01-01      US  ford mustang gl   \n",
       "388  44.0    4   97.0  52    2130   24.6 1982-01-01  Europe        vw pickup   \n",
       "389  32.0    4  135.0  84    2295   11.6 1982-01-01      US    dodge rampage   \n",
       "390  28.0    4  120.0  79    2625   18.6 1982-01-01      US      ford ranger   \n",
       "391  31.0    4  119.0  82    2720   19.4 1982-01-01      US       chevy s-10   \n",
       "\n",
       "          Date  Price  \n",
       "387 1982-01-01  33.85  \n",
       "388 1982-01-01  33.85  \n",
       "389 1982-01-01  33.85  \n",
       "390 1982-01-01  33.85  \n",
       "391 1982-01-01  33.85  "
      ]
     },
     "execution_count": 27,
     "metadata": {},
     "output_type": "execute_result"
    }
   ],
   "source": [
    "merged.tail()"
   ]
  },
  {
   "cell_type": "code",
   "execution_count": 28,
   "metadata": {
    "colab": {},
    "colab_type": "code",
    "id": "fA03H_ZWo0eU"
   },
   "outputs": [],
   "source": [
    "yearly = merged.resample('A',on='Date')[['mpg','Price']].mean()"
   ]
  },
  {
   "cell_type": "code",
   "execution_count": 29,
   "metadata": {
    "colab": {
     "base_uri": "https://localhost:8080/",
     "height": 483
    },
    "colab_type": "code",
    "executionInfo": {
     "elapsed": 395,
     "status": "ok",
     "timestamp": 1540561796132,
     "user": {
      "displayName": "Karol Jezierski",
      "photoUrl": "https://lh5.googleusercontent.com/-wgjj5yIIzw4/AAAAAAAAAAI/AAAAAAAAAdg/ukUvmCQdBQc/s64/photo.jpg",
      "userId": "07387898320424940670"
     },
     "user_tz": -120
    },
    "id": "wtFLtev_o2SE",
    "outputId": "220be984-77f7-456b-c3b4-b74f6f957950"
   },
   "outputs": [
    {
     "data": {
      "text/html": [
       "<div>\n",
       "<style scoped>\n",
       "    .dataframe tbody tr th:only-of-type {\n",
       "        vertical-align: middle;\n",
       "    }\n",
       "\n",
       "    .dataframe tbody tr th {\n",
       "        vertical-align: top;\n",
       "    }\n",
       "\n",
       "    .dataframe thead th {\n",
       "        text-align: right;\n",
       "    }\n",
       "</style>\n",
       "<table border=\"1\" class=\"dataframe\">\n",
       "  <thead>\n",
       "    <tr style=\"text-align: right;\">\n",
       "      <th></th>\n",
       "      <th>mpg</th>\n",
       "      <th>Price</th>\n",
       "    </tr>\n",
       "    <tr>\n",
       "      <th>Date</th>\n",
       "      <th></th>\n",
       "      <th></th>\n",
       "    </tr>\n",
       "  </thead>\n",
       "  <tbody>\n",
       "    <tr>\n",
       "      <th>1970-12-31</th>\n",
       "      <td>17.689655</td>\n",
       "      <td>3.35</td>\n",
       "    </tr>\n",
       "    <tr>\n",
       "      <th>1971-12-31</th>\n",
       "      <td>21.111111</td>\n",
       "      <td>3.56</td>\n",
       "    </tr>\n",
       "    <tr>\n",
       "      <th>1972-12-31</th>\n",
       "      <td>18.714286</td>\n",
       "      <td>3.56</td>\n",
       "    </tr>\n",
       "    <tr>\n",
       "      <th>1973-12-31</th>\n",
       "      <td>17.100000</td>\n",
       "      <td>3.56</td>\n",
       "    </tr>\n",
       "    <tr>\n",
       "      <th>1974-12-31</th>\n",
       "      <td>22.769231</td>\n",
       "      <td>10.11</td>\n",
       "    </tr>\n",
       "    <tr>\n",
       "      <th>1975-12-31</th>\n",
       "      <td>20.266667</td>\n",
       "      <td>11.16</td>\n",
       "    </tr>\n",
       "    <tr>\n",
       "      <th>1976-12-31</th>\n",
       "      <td>21.573529</td>\n",
       "      <td>11.16</td>\n",
       "    </tr>\n",
       "    <tr>\n",
       "      <th>1977-12-31</th>\n",
       "      <td>23.375000</td>\n",
       "      <td>13.90</td>\n",
       "    </tr>\n",
       "    <tr>\n",
       "      <th>1978-12-31</th>\n",
       "      <td>24.061111</td>\n",
       "      <td>14.85</td>\n",
       "    </tr>\n",
       "    <tr>\n",
       "      <th>1979-12-31</th>\n",
       "      <td>25.093103</td>\n",
       "      <td>14.85</td>\n",
       "    </tr>\n",
       "    <tr>\n",
       "      <th>1980-12-31</th>\n",
       "      <td>33.803704</td>\n",
       "      <td>32.50</td>\n",
       "    </tr>\n",
       "    <tr>\n",
       "      <th>1981-12-31</th>\n",
       "      <td>30.185714</td>\n",
       "      <td>38.00</td>\n",
       "    </tr>\n",
       "    <tr>\n",
       "      <th>1982-12-31</th>\n",
       "      <td>32.000000</td>\n",
       "      <td>33.85</td>\n",
       "    </tr>\n",
       "  </tbody>\n",
       "</table>\n",
       "</div>"
      ],
      "text/plain": [
       "                  mpg  Price\n",
       "Date                        \n",
       "1970-12-31  17.689655   3.35\n",
       "1971-12-31  21.111111   3.56\n",
       "1972-12-31  18.714286   3.56\n",
       "1973-12-31  17.100000   3.56\n",
       "1974-12-31  22.769231  10.11\n",
       "1975-12-31  20.266667  11.16\n",
       "1976-12-31  21.573529  11.16\n",
       "1977-12-31  23.375000  13.90\n",
       "1978-12-31  24.061111  14.85\n",
       "1979-12-31  25.093103  14.85\n",
       "1980-12-31  33.803704  32.50\n",
       "1981-12-31  30.185714  38.00\n",
       "1982-12-31  32.000000  33.85"
      ]
     },
     "execution_count": 29,
     "metadata": {},
     "output_type": "execute_result"
    }
   ],
   "source": [
    "yearly"
   ]
  },
  {
   "cell_type": "code",
   "execution_count": 30,
   "metadata": {
    "colab": {
     "base_uri": "https://localhost:8080/",
     "height": 111
    },
    "colab_type": "code",
    "executionInfo": {
     "elapsed": 395,
     "status": "ok",
     "timestamp": 1540561802426,
     "user": {
      "displayName": "Karol Jezierski",
      "photoUrl": "https://lh5.googleusercontent.com/-wgjj5yIIzw4/AAAAAAAAAAI/AAAAAAAAAdg/ukUvmCQdBQc/s64/photo.jpg",
      "userId": "07387898320424940670"
     },
     "user_tz": -120
    },
    "id": "iAMHl3A5o3pV",
    "outputId": "27c5c1aa-7e29-4787-9a09-d52cdead878a"
   },
   "outputs": [
    {
     "data": {
      "text/html": [
       "<div>\n",
       "<style scoped>\n",
       "    .dataframe tbody tr th:only-of-type {\n",
       "        vertical-align: middle;\n",
       "    }\n",
       "\n",
       "    .dataframe tbody tr th {\n",
       "        vertical-align: top;\n",
       "    }\n",
       "\n",
       "    .dataframe thead th {\n",
       "        text-align: right;\n",
       "    }\n",
       "</style>\n",
       "<table border=\"1\" class=\"dataframe\">\n",
       "  <thead>\n",
       "    <tr style=\"text-align: right;\">\n",
       "      <th></th>\n",
       "      <th>mpg</th>\n",
       "      <th>Price</th>\n",
       "    </tr>\n",
       "  </thead>\n",
       "  <tbody>\n",
       "    <tr>\n",
       "      <th>mpg</th>\n",
       "      <td>1.000000</td>\n",
       "      <td>0.948677</td>\n",
       "    </tr>\n",
       "    <tr>\n",
       "      <th>Price</th>\n",
       "      <td>0.948677</td>\n",
       "      <td>1.000000</td>\n",
       "    </tr>\n",
       "  </tbody>\n",
       "</table>\n",
       "</div>"
      ],
      "text/plain": [
       "            mpg     Price\n",
       "mpg    1.000000  0.948677\n",
       "Price  0.948677  1.000000"
      ]
     },
     "execution_count": 30,
     "metadata": {},
     "output_type": "execute_result"
    }
   ],
   "source": [
    "yearly.corr()"
   ]
  },
  {
   "cell_type": "code",
   "execution_count": 0,
   "metadata": {
    "colab": {},
    "colab_type": "code",
    "id": "ffWyb_ZMo5L1"
   },
   "outputs": [],
   "source": []
  }
 ],
 "metadata": {
  "colab": {
   "collapsed_sections": [],
   "name": "merging_data.ipynb",
   "provenance": [],
   "version": "0.3.2"
  },
  "kernelspec": {
   "display_name": "Python 3",
   "language": "python",
   "name": "python3"
  },
  "language_info": {
   "codemirror_mode": {
    "name": "ipython",
    "version": 3
   },
   "file_extension": ".py",
   "mimetype": "text/x-python",
   "name": "python",
   "nbconvert_exporter": "python",
   "pygments_lexer": "ipython3",
   "version": "3.6.5"
  }
 },
 "nbformat": 4,
 "nbformat_minor": 1
}
