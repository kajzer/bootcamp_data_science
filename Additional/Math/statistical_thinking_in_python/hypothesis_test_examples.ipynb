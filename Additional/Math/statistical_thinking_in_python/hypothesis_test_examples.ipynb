{
 "cells": [
  {
   "cell_type": "markdown",
   "metadata": {},
   "source": [
    "# Hypothesis test examples"
   ]
  },
  {
   "cell_type": "markdown",
   "metadata": {},
   "source": [
    "### The vote for the Civil Rights Act in 1964"
   ]
  },
  {
   "cell_type": "code",
   "execution_count": 47,
   "metadata": {},
   "outputs": [],
   "source": [
    "import numpy as np\n",
    "import pandas as pd\n",
    "import matplotlib.pyplot as plt"
   ]
  },
  {
   "cell_type": "code",
   "execution_count": 12,
   "metadata": {},
   "outputs": [],
   "source": [
    "dems = np.array([True] * 153 + [False] * 91)\n",
    "reps = np.array([True]*136 + [False]*35)"
   ]
  },
  {
   "cell_type": "code",
   "execution_count": 13,
   "metadata": {},
   "outputs": [],
   "source": [
    "def frac_yea_dems(dems, reps):\n",
    "    \"\"\"Compute fraction of Democrat yea votes.\"\"\"\n",
    "    frac = np.sum(dems) / len(dems)\n",
    "    return frac"
   ]
  },
  {
   "cell_type": "code",
   "execution_count": 14,
   "metadata": {},
   "outputs": [],
   "source": [
    "def permutation_sample(data1, data2):\n",
    "    \"\"\"Generate a permutation sample from two data sets.\"\"\"\n",
    "    data = np.concatenate((data1, data2))\n",
    "    permuted_data = np.random.permutation(data)\n",
    "    perm_sample_1 = permuted_data[:len(data1)]\n",
    "    perm_sample_2 = permuted_data[len(data1):]\n",
    "    return perm_sample_1, perm_sample_2"
   ]
  },
  {
   "cell_type": "code",
   "execution_count": 15,
   "metadata": {},
   "outputs": [],
   "source": [
    "def draw_perm_reps(data_1, data_2, func, size=1):\n",
    "    \"\"\"Generate multiple permutation replicates.\"\"\"\n",
    "    perm_replicates = np.empty(size)\n",
    "    for i in range(size):\n",
    "      perm_sample_1, perm_sample_2 = permutation_sample(data_1, data_2)\n",
    "      perm_replicates[i] = func(perm_sample_1, perm_sample_2)\n",
    "    return perm_replicates"
   ]
  },
  {
   "cell_type": "code",
   "execution_count": 18,
   "metadata": {},
   "outputs": [],
   "source": [
    "perm_replicates = draw_perm_reps(dems, reps, frac_yea_dems, size=10000)"
   ]
  },
  {
   "cell_type": "code",
   "execution_count": 19,
   "metadata": {},
   "outputs": [
    {
     "name": "stdout",
     "output_type": "stream",
     "text": [
      "p-value = 0.0001\n"
     ]
    }
   ],
   "source": [
    "p = np.sum(perm_replicates <= 153/244) / len(perm_replicates)\n",
    "print('p-value =', p)"
   ]
  },
  {
   "cell_type": "markdown",
   "metadata": {},
   "source": [
    "### A time-on-website analog"
   ]
  },
  {
   "cell_type": "code",
   "execution_count": 20,
   "metadata": {},
   "outputs": [],
   "source": [
    "nht_dead = np.array([  -1,  894,   10,  130,    1,  934,   29,    6,  485,  254,  372,\n",
    "         81,  191,  355,  180,  286,   47,  269,  361,  173,  246,  492,\n",
    "        462, 1319,   58,  297,   31, 2970,  640,  237,  434,  570,   77,\n",
    "        271,  563, 3365,   89,    0,  379,  221,  479,  367,  628,  843,\n",
    "       1613, 1101,  215,  684,  814,  278,  324,  161,  219,  545,  715,\n",
    "        966,  624,   29,  450,  107,   20,   91, 1325,  124, 1468,  104,\n",
    "       1309,  429,   62, 1878, 1104,  123,  251,   93,  188,  983,  166,\n",
    "         96,  702,   23,  524,   26,  299,   59,   39,   12,    2,  308,\n",
    "       1114,  813,  887])"
   ]
  },
  {
   "cell_type": "code",
   "execution_count": 26,
   "metadata": {},
   "outputs": [],
   "source": [
    "nht_live = np.array([ 645, 2088,   42, 2090,   11,  886, 1665, 1084, 2900, 2432,  750,\n",
    "       4021, 1070, 1765, 1322,   26,  548, 1525,   77, 2181, 2752,  127,\n",
    "       2147,  211,   41, 1575,  151,  479,  697,  557, 2267,  542,  392,\n",
    "         73,  603,  233,  255,  528,  397, 1529, 1023, 1194,  462,  583,\n",
    "         37,  943,  996,  480, 1497,  717,  224,  219, 1531,  498,   44,\n",
    "        288,  267,  600,   52,  269, 1086,  386,  176, 2199,  216,   54,\n",
    "        675, 1243,  463,  650,  171,  327,  110,  774,  509,    8,  197,\n",
    "        136,   12, 1124,   64,  380,  811,  232,  192,  731,  715,  226,\n",
    "        605,  539, 1491,  323,  240,  179,  702,  156,   82, 1397,  354,\n",
    "        778,  603, 1001,  385,  986,  203,  149,  576,  445,  180, 1403,\n",
    "        252,  675, 1351, 2983, 1568,   45,  899, 3260, 1025,   31,  100,\n",
    "       2055, 4043,   79,  238, 3931, 2351,  595,  110,  215,    0,  563,\n",
    "        206,  660,  242,  577,  179,  157,  192,  192, 1848,  792, 1693,\n",
    "         55,  388,  225, 1134, 1172, 1555,   31, 1582, 1044,  378, 1687,\n",
    "       2915,  280,  765, 2819,  511, 1521,  745, 2491,  580, 2072, 6450,\n",
    "        578,  745, 1075, 1103, 1549, 1520,  138, 1202,  296,  277,  351,\n",
    "        391,  950,  459,   62, 1056, 1128,  139,  420,   87,   71,  814,\n",
    "        603, 1349,  162, 1027,  783,  326,  101,  876,  381,  905,  156,\n",
    "        419,  239,  119,  129,  467])"
   ]
  },
  {
   "cell_type": "code",
   "execution_count": 27,
   "metadata": {},
   "outputs": [],
   "source": [
    "def diff_of_means(data_1, data_2):\n",
    "  \"\"\"Difference in means of two arrays.\"\"\"\n",
    "  return np.mean(data_1) - np.mean(data_2)"
   ]
  },
  {
   "cell_type": "code",
   "execution_count": 28,
   "metadata": {},
   "outputs": [],
   "source": [
    "nht_diff_obs = diff_of_means(nht_dead, nht_live)"
   ]
  },
  {
   "cell_type": "code",
   "execution_count": 29,
   "metadata": {},
   "outputs": [],
   "source": [
    "perm_replicates = draw_perm_reps(nht_dead, nht_live, diff_of_means, size=10000)"
   ]
  },
  {
   "cell_type": "code",
   "execution_count": 30,
   "metadata": {},
   "outputs": [
    {
     "name": "stdout",
     "output_type": "stream",
     "text": [
      "p-val = 0.0001\n"
     ]
    }
   ],
   "source": [
    "p = np.sum(perm_replicates <= nht_diff_obs) / len(perm_replicates)\n",
    "print('p-val =', p)"
   ]
  },
  {
   "cell_type": "markdown",
   "metadata": {},
   "source": [
    "### Hypothesis test on Pearson correlation"
   ]
  },
  {
   "cell_type": "code",
   "execution_count": 31,
   "metadata": {},
   "outputs": [],
   "source": [
    "def pearson_r(x, y):\n",
    "    \"\"\"Compute Pearson correlation coefficient between two arrays.\"\"\"\n",
    "    corr_mat = np.corrcoef(x,y)\n",
    "    return corr_mat[0,1]"
   ]
  },
  {
   "cell_type": "code",
   "execution_count": 34,
   "metadata": {},
   "outputs": [],
   "source": [
    "df = pd.read_csv('female_literacy_fertility.csv')"
   ]
  },
  {
   "cell_type": "code",
   "execution_count": 35,
   "metadata": {},
   "outputs": [],
   "source": [
    "df['illiteracy'] = 100 - df['female literacy']\n",
    "illiteracy = df['illiteracy'].values\n",
    "fertility = df['fertility'].values"
   ]
  },
  {
   "cell_type": "code",
   "execution_count": 37,
   "metadata": {},
   "outputs": [],
   "source": [
    "r_obs = pearson_r(illiteracy, fertility)"
   ]
  },
  {
   "cell_type": "code",
   "execution_count": 39,
   "metadata": {},
   "outputs": [],
   "source": [
    "perm_replicates = np.empty(10000)"
   ]
  },
  {
   "cell_type": "code",
   "execution_count": 40,
   "metadata": {},
   "outputs": [],
   "source": [
    "for i in range(10000):\n",
    "    illiteracy_permuted = np.random.permutation(illiteracy)\n",
    "    perm_replicates[i] = pearson_r(illiteracy_permuted, fertility)"
   ]
  },
  {
   "cell_type": "code",
   "execution_count": 42,
   "metadata": {},
   "outputs": [
    {
     "name": "stdout",
     "output_type": "stream",
     "text": [
      "p-val= 0.0\n"
     ]
    }
   ],
   "source": [
    "p = np.sum(perm_replicates >= r_obs) / len(perm_replicates)\n",
    "print('p-val=', p)"
   ]
  },
  {
   "cell_type": "markdown",
   "metadata": {},
   "source": [
    "### Do neonicotinoid insecticides have unintended consequences?"
   ]
  },
  {
   "cell_type": "code",
   "execution_count": 43,
   "metadata": {},
   "outputs": [],
   "source": [
    "def ecdf(data):\n",
    "    \"\"\"Compute ECDF for a one-dimensional array of measurements.\"\"\"\n",
    "    # Number of data points: n\n",
    "    n = len(data)\n",
    "    \n",
    "    # x-data for the ECDF: x\n",
    "    x = np.sort(data)\n",
    "    \n",
    "    # y-data for the ECDF: y\n",
    "    y = np.arange(1, n+1) / n\n",
    "\n",
    "    return x, y"
   ]
  },
  {
   "cell_type": "code",
   "execution_count": 44,
   "metadata": {},
   "outputs": [],
   "source": [
    "control = np.array([  4.159234,   4.408002,   0.172812,   3.498278,   3.104912,\n",
    "         5.164174,   6.615262,   4.633066,   0.170408,   2.65    ,\n",
    "         0.0875  ,   1.997148,   6.92668 ,   4.574932,   3.896466,\n",
    "         5.209814,   3.70625 ,   0.      ,   4.62545 ,   3.01444 ,\n",
    "         0.732652,   0.4     ,   6.518382,   5.225   ,   6.218742,\n",
    "         6.840358,   1.211308,   0.368252,   3.59937 ,   4.212158,\n",
    "         6.052364,   2.115532,   6.60413 ,   5.26074 ,   6.05695 ,\n",
    "         6.481172,   3.171522,   3.057228,   0.218808,   5.215112,\n",
    "         4.465168,   2.28909 ,   3.732572,   2.17087 ,   1.834326,\n",
    "         6.074862,   5.841978,   8.524892,   4.698492,   2.965624,\n",
    "         2.324206,   3.409412,   4.830726,   0.1     ,   0.      ,\n",
    "         4.101432,   3.478162,   1.009688,   4.999296,   4.32196 ,\n",
    "         0.299592,   3.606032,   7.54026 ,   4.284024,   0.057494,\n",
    "         6.036668,   2.924084,   4.150144,   1.256926,   4.666502,\n",
    "         4.806594,   2.52478 ,   2.027654,   2.52283 ,   4.735598,\n",
    "         2.033236,   0.      ,   6.177294,   2.601834,   3.544408,\n",
    "         3.6045  ,   5.520346,   4.80698 ,   3.002478,   3.559816,\n",
    "         7.075844,  10.      ,   0.139772,   6.17171 ,   3.201232,\n",
    "         8.459546,   0.17857 ,   7.088276,   5.496662,   5.415086,\n",
    "         1.932282,   3.02838 ,   7.47996 ,   1.86259 ,   7.838498,\n",
    "         2.242718,   3.292958,   6.363644,   4.386898,   8.47533 ,\n",
    "         4.156304,   1.463956,   4.533628,   5.573922,   1.29454 ,\n",
    "         7.547504,   3.92466 ,   5.820258,   4.118522,   4.125   ,\n",
    "         2.286698,   0.591882,   1.273124,   0.      ,   0.      ,\n",
    "         0.      ,  12.22502 ,   7.601604,   5.56798 ,   1.679914,\n",
    "         8.77096 ,   5.823942,   0.258374,   0.      ,   5.899236,\n",
    "         5.486354,   2.053148,   3.25541 ,   2.72564 ,   3.364066,\n",
    "         2.43427 ,   5.282548,   3.963666,   0.24851 ,   0.347916,\n",
    "         4.046862,   5.461436,   4.066104,   0.      ,   0.065   ])"
   ]
  },
  {
   "cell_type": "code",
   "execution_count": 45,
   "metadata": {},
   "outputs": [],
   "source": [
    "treated = np.array([ 1.342686,  1.058476,  3.793784,  0.40428 ,  4.528388,  2.142966,\n",
    "        3.937742,  0.1375  ,  6.919164,  0.      ,  3.597812,  5.196538,\n",
    "        2.78955 ,  2.3229  ,  1.090636,  5.323916,  1.021618,  0.931836,\n",
    "        2.78    ,  0.412202,  1.180934,  2.8674  ,  0.      ,  0.064354,\n",
    "        3.008348,  0.876634,  0.      ,  4.971712,  7.280658,  4.79732 ,\n",
    "        2.084956,  3.251514,  1.9405  ,  1.566192,  0.58894 ,  5.219658,\n",
    "        0.977976,  3.124584,  1.297564,  1.433328,  4.24337 ,  0.880964,\n",
    "        2.376566,  3.763658,  1.918426,  3.74    ,  3.841726,  4.69964 ,\n",
    "        4.386876,  0.      ,  1.127432,  1.845452,  0.690314,  4.185602,\n",
    "        2.284732,  7.237594,  2.185148,  2.799124,  3.43218 ,  0.63354 ,\n",
    "        1.142496,  0.586   ,  2.372858,  1.80032 ,  3.329306,  4.028804,\n",
    "        3.474156,  7.508752,  2.032824,  1.336556,  1.906496,  1.396046,\n",
    "        2.488104,  4.759114,  1.07853 ,  3.19927 ,  3.814252,  4.275962,\n",
    "        2.817056,  0.552198,  3.27194 ,  5.11525 ,  2.064628,  0.      ,\n",
    "        3.34101 ,  6.177322,  0.      ,  3.66415 ,  2.352582,  1.531696])"
   ]
  },
  {
   "cell_type": "code",
   "execution_count": 48,
   "metadata": {},
   "outputs": [
    {
     "data": {
      "image/png": "[encoded data removed]",
      "text/plain": [
       "<Figure size 432x288 with 1 Axes>"
      ]
     },
     "metadata": {},
     "output_type": "display_data"
    }
   ],
   "source": [
    "x_control, y_control = ecdf(control)\n",
    "x_treated, y_treated = ecdf(treated)\n",
    "\n",
    "plt.plot(x_control, y_control, marker='.', linestyle='none')\n",
    "plt.plot(x_treated, y_treated, marker='.', linestyle='none')\n",
    "\n",
    "plt.margins(0.02)\n",
    "\n",
    "plt.legend(('control', 'treated'), loc='lower right')\n",
    "\n",
    "plt.xlabel('millions of alive sperm per mL')\n",
    "plt.ylabel('ECDF')\n",
    "plt.show()"
   ]
  },
  {
   "cell_type": "markdown",
   "metadata": {},
   "source": [
    "### Bootstrap hypothesis test on bee sperm counts"
   ]
  },
  {
   "cell_type": "code",
   "execution_count": 49,
   "metadata": {},
   "outputs": [],
   "source": [
    "def bootstrap_replicate_1d(data, func):\n",
    "    \"\"\"Generate bootstrap replicate of 1D data.\"\"\"\n",
    "    return func(np.random.choice(data, size=len(data)))"
   ]
  },
  {
   "cell_type": "code",
   "execution_count": 50,
   "metadata": {},
   "outputs": [],
   "source": [
    "def draw_bs_reps(data, func, size=1):\n",
    "    \"\"\"Draw bootstrap replicates.\"\"\"\n",
    "    bs_replicates = np.empty(size)\n",
    "    for i in range(size):\n",
    "        bs_replicates[i] = bootstrap_replicate_1d(data, func)\n",
    "    return bs_replicates"
   ]
  },
  {
   "cell_type": "code",
   "execution_count": 51,
   "metadata": {},
   "outputs": [],
   "source": [
    "diff_means = np.mean(control) - np.mean(treated)"
   ]
  },
  {
   "cell_type": "code",
   "execution_count": 52,
   "metadata": {},
   "outputs": [],
   "source": [
    "mean_count = np.mean(np.concatenate((control, treated)))"
   ]
  },
  {
   "cell_type": "code",
   "execution_count": 53,
   "metadata": {},
   "outputs": [],
   "source": [
    "control_shifted = control - np.mean(control) + mean_count\n",
    "treated_shifted = treated - np.mean(treated) + mean_count"
   ]
  },
  {
   "cell_type": "code",
   "execution_count": 54,
   "metadata": {},
   "outputs": [],
   "source": [
    "bs_reps_control = draw_bs_reps(control_shifted,\n",
    "                       np.mean, size=10000)\n",
    "bs_reps_treated = draw_bs_reps(treated_shifted,\n",
    "                       np.mean, size=10000)"
   ]
  },
  {
   "cell_type": "code",
   "execution_count": 55,
   "metadata": {},
   "outputs": [],
   "source": [
    "bs_replicates = bs_reps_control - bs_reps_treated"
   ]
  },
  {
   "cell_type": "code",
   "execution_count": 56,
   "metadata": {},
   "outputs": [
    {
     "name": "stdout",
     "output_type": "stream",
     "text": [
      "p-value = 0.0\n"
     ]
    }
   ],
   "source": [
    "p = np.sum(bs_replicates >= np.mean(control) - np.mean(treated)) \\\n",
    "            / len(bs_replicates)\n",
    "print('p-value =', p)"
   ]
  },
  {
   "cell_type": "code",
   "execution_count": null,
   "metadata": {},
   "outputs": [],
   "source": []
  }
 ],
 "metadata": {
  "kernelspec": {
   "display_name": "Python 3",
   "language": "python",
   "name": "python3"
  },
  "language_info": {
   "codemirror_mode": {
    "name": "ipython",
    "version": 3
   },
   "file_extension": ".py",
   "mimetype": "text/x-python",
   "name": "python",
   "nbconvert_exporter": "python",
   "pygments_lexer": "ipython3",
   "version": "3.6.5"
  }
 },
 "nbformat": 4,
 "nbformat_minor": 2
}
