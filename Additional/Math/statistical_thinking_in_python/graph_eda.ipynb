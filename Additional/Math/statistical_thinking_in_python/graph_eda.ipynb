{
 "cells": [
  {
   "cell_type": "markdown",
   "metadata": {
    "colab_type": "text",
    "id": "iXroI6nu5F36"
   },
   "source": [
    "# Graphical exploratory data analysis"
   ]
  },
  {
   "cell_type": "markdown",
   "metadata": {
    "colab_type": "text",
    "id": "YxUP4vZn5KCi"
   },
   "source": [
    "### Plotting a histogram of iris data"
   ]
  },
  {
   "cell_type": "code",
   "execution_count": 1,
   "metadata": {
    "colab": {},
    "colab_type": "code",
    "id": "hgJeTfVr4iCP"
   },
   "outputs": [],
   "source": [
    "import matplotlib.pyplot as plt\n",
    "import seaborn as sns\n",
    "import numpy as np"
   ]
  },
  {
   "cell_type": "code",
   "execution_count": 2,
   "metadata": {
    "colab": {
     "base_uri": "https://localhost:8080/",
     "height": 204
    },
    "colab_type": "code",
    "executionInfo": {
     "elapsed": 422,
     "status": "ok",
     "timestamp": 1542109715060,
     "user": {
      "displayName": "Karol Jezierski",
      "photoUrl": "https://lh5.googleusercontent.com/-wgjj5yIIzw4/AAAAAAAAAAI/AAAAAAAAAdg/ukUvmCQdBQc/s64/photo.jpg",
      "userId": "07387898320424940670"
     },
     "user_tz": -60
    },
    "id": "OFqZ5Unb5RZr",
    "outputId": "20b12098-179a-4060-fd62-c09b194f1b2e"
   },
   "outputs": [
    {
     "data": {
      "text/html": [
       "<div>\n",
       "<style scoped>\n",
       "    .dataframe tbody tr th:only-of-type {\n",
       "        vertical-align: middle;\n",
       "    }\n",
       "\n",
       "    .dataframe tbody tr th {\n",
       "        vertical-align: top;\n",
       "    }\n",
       "\n",
       "    .dataframe thead th {\n",
       "        text-align: right;\n",
       "    }\n",
       "</style>\n",
       "<table border=\"1\" class=\"dataframe\">\n",
       "  <thead>\n",
       "    <tr style=\"text-align: right;\">\n",
       "      <th></th>\n",
       "      <th>sepal_length</th>\n",
       "      <th>sepal_width</th>\n",
       "      <th>petal_length</th>\n",
       "      <th>petal_width</th>\n",
       "      <th>species</th>\n",
       "    </tr>\n",
       "  </thead>\n",
       "  <tbody>\n",
       "    <tr>\n",
       "      <th>0</th>\n",
       "      <td>5.1</td>\n",
       "      <td>3.5</td>\n",
       "      <td>1.4</td>\n",
       "      <td>0.2</td>\n",
       "      <td>setosa</td>\n",
       "    </tr>\n",
       "    <tr>\n",
       "      <th>1</th>\n",
       "      <td>4.9</td>\n",
       "      <td>3.0</td>\n",
       "      <td>1.4</td>\n",
       "      <td>0.2</td>\n",
       "      <td>setosa</td>\n",
       "    </tr>\n",
       "    <tr>\n",
       "      <th>2</th>\n",
       "      <td>4.7</td>\n",
       "      <td>3.2</td>\n",
       "      <td>1.3</td>\n",
       "      <td>0.2</td>\n",
       "      <td>setosa</td>\n",
       "    </tr>\n",
       "    <tr>\n",
       "      <th>3</th>\n",
       "      <td>4.6</td>\n",
       "      <td>3.1</td>\n",
       "      <td>1.5</td>\n",
       "      <td>0.2</td>\n",
       "      <td>setosa</td>\n",
       "    </tr>\n",
       "    <tr>\n",
       "      <th>4</th>\n",
       "      <td>5.0</td>\n",
       "      <td>3.6</td>\n",
       "      <td>1.4</td>\n",
       "      <td>0.2</td>\n",
       "      <td>setosa</td>\n",
       "    </tr>\n",
       "  </tbody>\n",
       "</table>\n",
       "</div>"
      ],
      "text/plain": [
       "   sepal_length  sepal_width  petal_length  petal_width species\n",
       "0           5.1          3.5           1.4          0.2  setosa\n",
       "1           4.9          3.0           1.4          0.2  setosa\n",
       "2           4.7          3.2           1.3          0.2  setosa\n",
       "3           4.6          3.1           1.5          0.2  setosa\n",
       "4           5.0          3.6           1.4          0.2  setosa"
      ]
     },
     "execution_count": 2,
     "metadata": {},
     "output_type": "execute_result"
    }
   ],
   "source": [
    "iris = sns.load_dataset('iris')\n",
    "iris.head()"
   ]
  },
  {
   "cell_type": "code",
   "execution_count": 3,
   "metadata": {
    "colab": {
     "base_uri": "https://localhost:8080/",
     "height": 34
    },
    "colab_type": "code",
    "executionInfo": {
     "elapsed": 532,
     "status": "ok",
     "timestamp": 1542109781250,
     "user": {
      "displayName": "Karol Jezierski",
      "photoUrl": "https://lh5.googleusercontent.com/-wgjj5yIIzw4/AAAAAAAAAAI/AAAAAAAAAdg/ukUvmCQdBQc/s64/photo.jpg",
      "userId": "07387898320424940670"
     },
     "user_tz": -60
    },
    "id": "0NCAk-TU5r0L",
    "outputId": "1bc3d77a-37fa-46b1-9d4c-afc213346041"
   },
   "outputs": [
    {
     "data": {
      "text/plain": [
       "array(['setosa', 'versicolor', 'virginica'], dtype=object)"
      ]
     },
     "execution_count": 3,
     "metadata": {},
     "output_type": "execute_result"
    }
   ],
   "source": [
    "iris.species.unique()"
   ]
  },
  {
   "cell_type": "code",
   "execution_count": 4,
   "metadata": {
    "colab": {},
    "colab_type": "code",
    "id": "WVbHP_fx5xeC"
   },
   "outputs": [],
   "source": [
    "versicolor_petal_length = iris[iris.species == 'versicolor'].petal_length"
   ]
  },
  {
   "cell_type": "code",
   "execution_count": 5,
   "metadata": {
    "colab": {},
    "colab_type": "code",
    "id": "h5qbFC3I6U13"
   },
   "outputs": [],
   "source": [
    "sns.set()"
   ]
  },
  {
   "cell_type": "markdown",
   "metadata": {
    "colab_type": "text",
    "id": "iT9ZaUuG6hLO"
   },
   "source": [
    "### Axis labels"
   ]
  },
  {
   "cell_type": "code",
   "execution_count": 6,
   "metadata": {
    "colab": {
     "base_uri": "https://localhost:8080/",
     "height": 361
    },
    "colab_type": "code",
    "executionInfo": {
     "elapsed": 437,
     "status": "ok",
     "timestamp": 1542110049034,
     "user": {
      "displayName": "Karol Jezierski",
      "photoUrl": "https://lh5.googleusercontent.com/-wgjj5yIIzw4/AAAAAAAAAAI/AAAAAAAAAdg/ukUvmCQdBQc/s64/photo.jpg",
      "userId": "07387898320424940670"
     },
     "user_tz": -60
    },
    "id": "EPrrsyE-6cLH",
    "outputId": "93efb422-4ae4-4877-a07e-168eefebbe19"
   },
   "outputs": [
    {
     "data": {
      "image/png": "[encoded data removed]",
      "text/plain": [
       "<Figure size 432x288 with 1 Axes>"
      ]
     },
     "metadata": {},
     "output_type": "display_data"
    }
   ],
   "source": [
    "plt.hist(versicolor_petal_length)\n",
    "plt.xlabel('petal length (cm)')\n",
    "plt.ylabel('count')\n",
    "plt.show()"
   ]
  },
  {
   "cell_type": "markdown",
   "metadata": {
    "colab_type": "text",
    "id": "gC0T7CwH7DPU"
   },
   "source": [
    "### Adjusting the number of bins in a histogram (\"square root rule\")"
   ]
  },
  {
   "cell_type": "code",
   "execution_count": 7,
   "metadata": {
    "colab": {},
    "colab_type": "code",
    "id": "pemvlI5T65S9"
   },
   "outputs": [],
   "source": [
    "n_bins = int(np.sqrt(len(versicolor_petal_length)))"
   ]
  },
  {
   "cell_type": "code",
   "execution_count": 8,
   "metadata": {
    "colab": {
     "base_uri": "https://localhost:8080/",
     "height": 361
    },
    "colab_type": "code",
    "executionInfo": {
     "elapsed": 470,
     "status": "ok",
     "timestamp": 1542110354461,
     "user": {
      "displayName": "Karol Jezierski",
      "photoUrl": "https://lh5.googleusercontent.com/-wgjj5yIIzw4/AAAAAAAAAAI/AAAAAAAAAdg/ukUvmCQdBQc/s64/photo.jpg",
      "userId": "07387898320424940670"
     },
     "user_tz": -60
    },
    "id": "7_OmTINC8FOk",
    "outputId": "4698f6a6-2499-4501-feee-1bc504463dc8"
   },
   "outputs": [
    {
     "data": {
      "image/png": "[encoded data removed]",
      "text/plain": [
       "<Figure size 432x288 with 1 Axes>"
      ]
     },
     "metadata": {},
     "output_type": "display_data"
    }
   ],
   "source": [
    "plt.hist(versicolor_petal_length, bins=n_bins)\n",
    "_ = plt.xlabel('petal length (cm)')\n",
    "_ = plt.ylabel('count')\n",
    "plt.show()"
   ]
  },
  {
   "cell_type": "markdown",
   "metadata": {
    "colab_type": "text",
    "id": "36T6RB7A8w_L"
   },
   "source": [
    "### Bee swarm plot"
   ]
  },
  {
   "cell_type": "code",
   "execution_count": 9,
   "metadata": {
    "colab": {
     "base_uri": "https://localhost:8080/",
     "height": 361
    },
    "colab_type": "code",
    "executionInfo": {
     "elapsed": 606,
     "status": "ok",
     "timestamp": 1542110726668,
     "user": {
      "displayName": "Karol Jezierski",
      "photoUrl": "https://lh5.googleusercontent.com/-wgjj5yIIzw4/AAAAAAAAAAI/AAAAAAAAAdg/ukUvmCQdBQc/s64/photo.jpg",
      "userId": "07387898320424940670"
     },
     "user_tz": -60
    },
    "id": "sH08xMgI8JoT",
    "outputId": "6e6f1e9a-112a-4d45-b88b-16551ec39aca"
   },
   "outputs": [
    {
     "data": {
      "image/png": "[encoded data removed]",
      "text/plain": [
       "<Figure size 432x288 with 1 Axes>"
      ]
     },
     "metadata": {},
     "output_type": "display_data"
    }
   ],
   "source": [
    "sns.swarmplot(x='species', y='petal_length', data=iris)\n",
    "_ = plt.xlabel('species')\n",
    "_ = plt.ylabel('petal length (cm)')\n",
    "plt.show()"
   ]
  },
  {
   "cell_type": "markdown",
   "metadata": {
    "colab_type": "text",
    "id": "1jFUJiv3_7Ve"
   },
   "source": [
    "### Computing the ECDF (\"Empirical cumulative distribution function\")"
   ]
  },
  {
   "cell_type": "code",
   "execution_count": 10,
   "metadata": {
    "colab": {},
    "colab_type": "code",
    "id": "-apLaNnw9kd8"
   },
   "outputs": [],
   "source": [
    "def ecdf(data):\n",
    "    \"\"\"Compute ECDF for a one-dimensional array of measurements.\"\"\"\n",
    "    # Number of data points: n\n",
    "    n = len(data)\n",
    "    \n",
    "    # x-data for the ECDF: x\n",
    "    x = np.sort(data)\n",
    "\t\n",
    "    # y-data for the ECDF: y\n",
    "    y = np.arange(1, n+1) / n\n",
    "\n",
    "    return x, y"
   ]
  },
  {
   "cell_type": "markdown",
   "metadata": {
    "colab_type": "text",
    "id": "aD2Gf7PoYqIg"
   },
   "source": [
    "### Plotting the ECDF"
   ]
  },
  {
   "cell_type": "code",
   "execution_count": 11,
   "metadata": {
    "colab": {},
    "colab_type": "code",
    "id": "nfDvK7YbYmPA"
   },
   "outputs": [],
   "source": [
    "x_vers, y_vers = ecdf(versicolor_petal_length)"
   ]
  },
  {
   "cell_type": "code",
   "execution_count": 12,
   "metadata": {
    "colab": {
     "base_uri": "https://localhost:8080/",
     "height": 361
    },
    "colab_type": "code",
    "executionInfo": {
     "elapsed": 426,
     "status": "ok",
     "timestamp": 1542118198195,
     "user": {
      "displayName": "Karol Jezierski",
      "photoUrl": "https://lh5.googleusercontent.com/-wgjj5yIIzw4/AAAAAAAAAAI/AAAAAAAAAdg/ukUvmCQdBQc/s64/photo.jpg",
      "userId": "07387898320424940670"
     },
     "user_tz": -60
    },
    "id": "cioLlAm7Z-LE",
    "outputId": "e1daffe2-5ca6-4523-e95c-f259fbba4f42"
   },
   "outputs": [
    {
     "data": {
      "image/png": "[encoded data removed]",
      "text/plain": [
       "<Figure size 432x288 with 1 Axes>"
      ]
     },
     "metadata": {},
     "output_type": "display_data"
    }
   ],
   "source": [
    "plt.plot(x_vers, y_vers, marker='.', linestyle='none')\n",
    "_ = plt.ylabel('ECDF')\n",
    "_ = plt.xlabel('points')\n",
    "plt.show()"
   ]
  },
  {
   "cell_type": "markdown",
   "metadata": {
    "colab_type": "text",
    "id": "oyKHwq1Vbh8W"
   },
   "source": [
    "### Comparison of ECDFs"
   ]
  },
  {
   "cell_type": "code",
   "execution_count": 13,
   "metadata": {
    "colab": {},
    "colab_type": "code",
    "id": "DAH4FXGIcFyY"
   },
   "outputs": [],
   "source": [
    "setosa_petal_length = iris[iris.species == 'setosa'].petal_length\n",
    "virginica_petal_length = iris[iris.species == 'virginica'].petal_length"
   ]
  },
  {
   "cell_type": "code",
   "execution_count": 14,
   "metadata": {
    "colab": {},
    "colab_type": "code",
    "id": "XxZVAwJFcDZY"
   },
   "outputs": [],
   "source": [
    "x_set, y_set = ecdf(setosa_petal_length)\n",
    "x_vers, y_vers = ecdf(versicolor_petal_length)\n",
    "x_virg, y_virg = ecdf(virginica_petal_length)"
   ]
  },
  {
   "cell_type": "code",
   "execution_count": 15,
   "metadata": {
    "colab": {
     "base_uri": "https://localhost:8080/",
     "height": 361
    },
    "colab_type": "code",
    "executionInfo": {
     "elapsed": 540,
     "status": "ok",
     "timestamp": 1542119047390,
     "user": {
      "displayName": "Karol Jezierski",
      "photoUrl": "https://lh5.googleusercontent.com/-wgjj5yIIzw4/AAAAAAAAAAI/AAAAAAAAAdg/ukUvmCQdBQc/s64/photo.jpg",
      "userId": "07387898320424940670"
     },
     "user_tz": -60
    },
    "id": "CQh7GyO3aEnd",
    "outputId": "1ed79428-57aa-470b-ba79-d32e6a96b0de"
   },
   "outputs": [
    {
     "data": {
      "image/png": "[encoded data removed]",
      "text/plain": [
       "<Figure size 432x288 with 1 Axes>"
      ]
     },
     "metadata": {},
     "output_type": "display_data"
    }
   ],
   "source": [
    "plt.plot(x_set, y_set, marker='.', linestyle='none')\n",
    "plt.plot(x_vers, y_vers, marker='.', linestyle='none')\n",
    "plt.plot(x_virg, y_virg, marker='.', linestyle='none')\n",
    "\n",
    "plt.legend(('setosa', 'versicolor', 'virginica'), loc='lower right')\n",
    "_ = plt.xlabel('petal length (cm)')\n",
    "_ = plt.ylabel('ECDF')\n",
    "\n",
    "plt.show()"
   ]
  },
  {
   "cell_type": "code",
   "execution_count": null,
   "metadata": {
    "colab": {},
    "colab_type": "code",
    "id": "5gzq9ujjdT57"
   },
   "outputs": [],
   "source": []
  }
 ],
 "metadata": {
  "colab": {
   "collapsed_sections": [],
   "name": "graph_eda.ipynb",
   "provenance": [],
   "version": "0.3.2"
  },
  "kernelspec": {
   "display_name": "Python 3",
   "language": "python",
   "name": "python3"
  },
  "language_info": {
   "codemirror_mode": {
    "name": "ipython",
    "version": 3
   },
   "file_extension": ".py",
   "mimetype": "text/x-python",
   "name": "python",
   "nbconvert_exporter": "python",
   "pygments_lexer": "ipython3",
   "version": "3.6.5"
  }
 },
 "nbformat": 4,
 "nbformat_minor": 1
}
