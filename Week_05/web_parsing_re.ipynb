{
 "cells": [
  {
   "cell_type": "markdown",
   "metadata": {},
   "source": [
    "# Web parsing regex"
   ]
  },
  {
   "cell_type": "code",
   "execution_count": 1,
   "metadata": {},
   "outputs": [],
   "source": [
    "import io, os.path, re\n",
    "import requests, urllib, json\n",
    "import numpy as np\n",
    "import pandas as pd"
   ]
  },
  {
   "cell_type": "code",
   "execution_count": 32,
   "metadata": {},
   "outputs": [],
   "source": [
    "response = requests.get('https://pl.wikipedia.org/wiki/Zygmunt_III_Waza')"
   ]
  },
  {
   "cell_type": "code",
   "execution_count": 33,
   "metadata": {},
   "outputs": [],
   "source": [
    "web_text = response.text"
   ]
  },
  {
   "cell_type": "code",
   "execution_count": 35,
   "metadata": {},
   "outputs": [],
   "source": [
    "pattern = r\"<a .*href=[\\\"'](.*?)[\\\"'].*>(.*)</a>\"\n",
    "links = re.findall(pattern, web_text)"
   ]
  },
  {
   "cell_type": "code",
   "execution_count": 36,
   "metadata": {},
   "outputs": [
    {
     "data": {
      "text/html": [
       "<div>\n",
       "<style scoped>\n",
       "    .dataframe tbody tr th:only-of-type {\n",
       "        vertical-align: middle;\n",
       "    }\n",
       "\n",
       "    .dataframe tbody tr th {\n",
       "        vertical-align: top;\n",
       "    }\n",
       "\n",
       "    .dataframe thead th {\n",
       "        text-align: right;\n",
       "    }\n",
       "</style>\n",
       "<table border=\"1\" class=\"dataframe\">\n",
       "  <thead>\n",
       "    <tr style=\"text-align: right;\">\n",
       "      <th></th>\n",
       "      <th>href</th>\n",
       "      <th>text</th>\n",
       "    </tr>\n",
       "  </thead>\n",
       "  <tbody>\n",
       "    <tr>\n",
       "      <th>0</th>\n",
       "      <td>#mw-head</td>\n",
       "      <td>Przejdź do nawigacji</td>\n",
       "    </tr>\n",
       "    <tr>\n",
       "      <th>1</th>\n",
       "      <td>#p-search</td>\n",
       "      <td>Przejdź do wyszukiwania</td>\n",
       "    </tr>\n",
       "    <tr>\n",
       "      <th>2</th>\n",
       "      <td>/wiki/Plik:Zygmunt_Waza_Soutman.jpg</td>\n",
       "      <td></td>\n",
       "    </tr>\n",
       "    <tr>\n",
       "      <th>3</th>\n",
       "      <td>/wiki/Plik:Coat_of_arms_of_Vasa_kings_of_Polan...</td>\n",
       "      <td></td>\n",
       "    </tr>\n",
       "    <tr>\n",
       "      <th>4</th>\n",
       "      <td>/wiki/Plik:Sigismundus_III_Rex_-_signature.png</td>\n",
       "      <td></td>\n",
       "    </tr>\n",
       "    <tr>\n",
       "      <th>5</th>\n",
       "      <td>/wiki/Kr%C3%B3l_Polski</td>\n",
       "      <td>król Polski i wielki książę litewski</td>\n",
       "    </tr>\n",
       "    <tr>\n",
       "      <th>6</th>\n",
       "      <td>/wiki/Krak%C3%B3w</td>\n",
       "      <td>Kraków</td>\n",
       "    </tr>\n",
       "    <tr>\n",
       "      <th>7</th>\n",
       "      <td>/wiki/Stefan_Batory</td>\n",
       "      <td>Stefan Batory</td>\n",
       "    </tr>\n",
       "    <tr>\n",
       "      <th>8</th>\n",
       "      <td>/wiki/W%C5%82adys%C5%82aw_IV_Waza</td>\n",
       "      <td>Władysław IV Waza</td>\n",
       "    </tr>\n",
       "    <tr>\n",
       "      <th>9</th>\n",
       "      <td>/wiki/W%C5%82adcy_Szwecji</td>\n",
       "      <td>król Szwecji</td>\n",
       "    </tr>\n",
       "  </tbody>\n",
       "</table>\n",
       "</div>"
      ],
      "text/plain": [
       "                                                href  \\\n",
       "0                                           #mw-head   \n",
       "1                                          #p-search   \n",
       "2                /wiki/Plik:Zygmunt_Waza_Soutman.jpg   \n",
       "3  /wiki/Plik:Coat_of_arms_of_Vasa_kings_of_Polan...   \n",
       "4     /wiki/Plik:Sigismundus_III_Rex_-_signature.png   \n",
       "5                             /wiki/Kr%C3%B3l_Polski   \n",
       "6                                  /wiki/Krak%C3%B3w   \n",
       "7                                /wiki/Stefan_Batory   \n",
       "8                  /wiki/W%C5%82adys%C5%82aw_IV_Waza   \n",
       "9                          /wiki/W%C5%82adcy_Szwecji   \n",
       "\n",
       "                                   text  \n",
       "0                  Przejdź do nawigacji  \n",
       "1               Przejdź do wyszukiwania  \n",
       "2                                        \n",
       "3                                        \n",
       "4                                        \n",
       "5  król Polski i wielki książę litewski  \n",
       "6                                Kraków  \n",
       "7                         Stefan Batory  \n",
       "8                     Władysław IV Waza  \n",
       "9                          król Szwecji  "
      ]
     },
     "execution_count": 36,
     "metadata": {},
     "output_type": "execute_result"
    }
   ],
   "source": [
    "df_links = pd.DataFrame(links)\n",
    "df_links.columns = ['href','text']\n",
    "df_links.head(10)"
   ]
  },
  {
   "cell_type": "code",
   "execution_count": 50,
   "metadata": {},
   "outputs": [],
   "source": [
    "response = requests.get('https://stooq.pl/q/?s=cdr')"
   ]
  },
  {
   "cell_type": "code",
   "execution_count": 51,
   "metadata": {},
   "outputs": [],
   "source": [
    "web_text = response.text"
   ]
  },
  {
   "cell_type": "code",
   "execution_count": 61,
   "metadata": {},
   "outputs": [],
   "source": [
    "pattern_k = r\"id=aq_.*?_[a-z]*?\\d*>(\\S*)\\%?</span>\"\n",
    "all_matches = re.findall(pattern_k, web_text)"
   ]
  },
  {
   "cell_type": "code",
   "execution_count": 62,
   "metadata": {},
   "outputs": [
    {
     "data": {
      "text/plain": [
       "['17:04',\n",
       " '142.90',\n",
       " '-8.10',\n",
       " '(-5.36%)</span>',\n",
       " '<<',\n",
       " '20181026170411',\n",
       " '20181026170000',\n",
       " '17:00',\n",
       " '142.90',\n",
       " '2018-10-26',\n",
       " '17:04:11',\n",
       " '-8.10',\n",
       " '(-5.36%)',\n",
       " '151.30',\n",
       " '141.40',\n",
       " '+25.10',\n",
       " '(+21.31%)',\n",
       " '149.50',\n",
       " '151.00',\n",
       " '142.90',\n",
       " 'x951',\n",
       " '143.00',\n",
       " 'x20',\n",
       " '321k',\n",
       " '45.2m',\n",
       " '',\n",
       " '</div>']"
      ]
     },
     "execution_count": 62,
     "metadata": {},
     "output_type": "execute_result"
    }
   ],
   "source": [
    "all_matches"
   ]
  },
  {
   "cell_type": "code",
   "execution_count": 65,
   "metadata": {},
   "outputs": [
    {
     "data": {
      "text/plain": [
       "142.9"
      ]
     },
     "execution_count": 65,
     "metadata": {},
     "output_type": "execute_result"
    }
   ],
   "source": [
    "value = float(all_matches[1])\n",
    "value"
   ]
  },
  {
   "cell_type": "code",
   "execution_count": 67,
   "metadata": {},
   "outputs": [
    {
     "data": {
      "text/plain": [
       "-8.1"
      ]
     },
     "execution_count": 67,
     "metadata": {},
     "output_type": "execute_result"
    }
   ],
   "source": [
    "change = float(all_matches[2])\n",
    "change"
   ]
  },
  {
   "cell_type": "code",
   "execution_count": 72,
   "metadata": {},
   "outputs": [
    {
     "data": {
      "text/plain": [
       "-5.36"
      ]
     },
     "execution_count": 72,
     "metadata": {},
     "output_type": "execute_result"
    }
   ],
   "source": [
    "change_2 = float(all_matches[12].replace('(','').replace(')','').replace('%',''))\n",
    "change_2"
   ]
  },
  {
   "cell_type": "code",
   "execution_count": 69,
   "metadata": {},
   "outputs": [
    {
     "data": {
      "text/plain": [
       "'2018-10-26'"
      ]
     },
     "execution_count": 69,
     "metadata": {},
     "output_type": "execute_result"
    }
   ],
   "source": [
    "date = all_matches[9]\n",
    "date"
   ]
  },
  {
   "cell_type": "code",
   "execution_count": null,
   "metadata": {},
   "outputs": [],
   "source": []
  }
 ],
 "metadata": {
  "kernelspec": {
   "display_name": "Python 3",
   "language": "python",
   "name": "python3"
  },
  "language_info": {
   "codemirror_mode": {
    "name": "ipython",
    "version": 3
   },
   "file_extension": ".py",
   "mimetype": "text/x-python",
   "name": "python",
   "nbconvert_exporter": "python",
   "pygments_lexer": "ipython3",
   "version": "3.6.5"
  }
 },
 "nbformat": 4,
 "nbformat_minor": 2
}
