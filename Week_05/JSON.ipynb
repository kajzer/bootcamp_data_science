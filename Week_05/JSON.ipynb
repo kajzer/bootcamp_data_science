{
 "cells": [
  {
   "cell_type": "markdown",
   "metadata": {},
   "source": [
    "# JSON"
   ]
  },
  {
   "cell_type": "code",
   "execution_count": 2,
   "metadata": {},
   "outputs": [],
   "source": [
    "import io, os.path, re\n",
    "import requests, urllib, json\n",
    "import numpy as np\n",
    "import pandas as pd"
   ]
  },
  {
   "cell_type": "code",
   "execution_count": 10,
   "metadata": {},
   "outputs": [],
   "source": [
    "def mojeIP():\n",
    "    response = requests.get('http://httpbin.org/ip')\n",
    "    my_ip = json.loads(response.text)\n",
    "    return my_ip['origin']"
   ]
  },
  {
   "cell_type": "code",
   "execution_count": 11,
   "metadata": {},
   "outputs": [
    {
     "name": "stdout",
     "output_type": "stream",
     "text": [
      "217.67.203.51\n"
     ]
    }
   ],
   "source": [
    "print(mojeIP())"
   ]
  },
  {
   "cell_type": "code",
   "execution_count": 112,
   "metadata": {},
   "outputs": [],
   "source": [
    "def getNumberFact(api_type, num1, num2=None, multiple=False):\n",
    "    \"\"\"\n",
    "    type is one of trivia, math, date, or year. Defaults to trivia if omitted.\n",
    "    number isan integer, or the keyword random, for which we will try to return a random available fact, or\n",
    "    a day of year in the form month/day (eg. 2/29, 1/09, 04/1), if type is date\n",
    "    \"\"\"\n",
    "    if api_type not in ['trivia','math','date','year']:\n",
    "        return 'You did something wrong'\n",
    "    if not multiple:\n",
    "        if not num2 is None:\n",
    "            digit = str(num1) +'/'+ str(num2)\n",
    "        else:\n",
    "            digit = str(num1)\n",
    "    elif num2 is None:\n",
    "        return \"You didnt specify second number\"\n",
    "    else:\n",
    "        digit = str(num1) +'..'+ str(num2)\n",
    "    url = 'http://numbersapi.com/%s/%s?json' % (digit, api_type)\n",
    "    response = requests.get(url)\n",
    "    resp_json = json.loads(response.text)\n",
    "    if not multiple:\n",
    "        ret = resp_json['text']\n",
    "    else:\n",
    "        ret = pd.DataFrame(resp_json).T[['number','text']]\n",
    "    return ret"
   ]
  },
  {
   "cell_type": "code",
   "execution_count": 113,
   "metadata": {},
   "outputs": [
    {
     "data": {
      "text/plain": [
       "'3 is number of performers in a trio.'"
      ]
     },
     "execution_count": 113,
     "metadata": {},
     "output_type": "execute_result"
    }
   ],
   "source": [
    "getNumberFact('trivia', 3)"
   ]
  },
  {
   "cell_type": "code",
   "execution_count": 114,
   "metadata": {},
   "outputs": [
    {
     "data": {
      "text/plain": [
       "'March 5th is the day in 1946 that Winston Churchill uses the phrase \"Iron Curtain\" in his speech at Westminster College, Missouri.'"
      ]
     },
     "execution_count": 114,
     "metadata": {},
     "output_type": "execute_result"
    }
   ],
   "source": [
    "getNumberFact('date', 3, 5)"
   ]
  },
  {
   "cell_type": "code",
   "execution_count": 115,
   "metadata": {},
   "outputs": [
    {
     "data": {
      "text/plain": [
       "'You did something wrong'"
      ]
     },
     "execution_count": 115,
     "metadata": {},
     "output_type": "execute_result"
    }
   ],
   "source": [
    "getNumberFact('some', 3, 5)"
   ]
  },
  {
   "cell_type": "code",
   "execution_count": 116,
   "metadata": {},
   "outputs": [
    {
     "data": {
      "text/html": [
       "<div>\n",
       "<style scoped>\n",
       "    .dataframe tbody tr th:only-of-type {\n",
       "        vertical-align: middle;\n",
       "    }\n",
       "\n",
       "    .dataframe tbody tr th {\n",
       "        vertical-align: top;\n",
       "    }\n",
       "\n",
       "    .dataframe thead th {\n",
       "        text-align: right;\n",
       "    }\n",
       "</style>\n",
       "<table border=\"1\" class=\"dataframe\">\n",
       "  <thead>\n",
       "    <tr style=\"text-align: right;\">\n",
       "      <th></th>\n",
       "      <th>number</th>\n",
       "      <th>text</th>\n",
       "    </tr>\n",
       "  </thead>\n",
       "  <tbody>\n",
       "    <tr>\n",
       "      <th>3</th>\n",
       "      <td>3</td>\n",
       "      <td>3 is the cost in cents to make a $1 bill in th...</td>\n",
       "    </tr>\n",
       "    <tr>\n",
       "      <th>4</th>\n",
       "      <td>4</td>\n",
       "      <td>4 is the number of strings on a violin, a viol...</td>\n",
       "    </tr>\n",
       "    <tr>\n",
       "      <th>5</th>\n",
       "      <td>5</td>\n",
       "      <td>5 is the number of interlocked rings in the sy...</td>\n",
       "    </tr>\n",
       "    <tr>\n",
       "      <th>6</th>\n",
       "      <td>6</td>\n",
       "      <td>6 is the number of symbolic foods placed on th...</td>\n",
       "    </tr>\n",
       "    <tr>\n",
       "      <th>7</th>\n",
       "      <td>7</td>\n",
       "      <td>7 is the number of types of viruses according ...</td>\n",
       "    </tr>\n",
       "    <tr>\n",
       "      <th>8</th>\n",
       "      <td>8</td>\n",
       "      <td>8 is the number of planets in the Solar System.</td>\n",
       "    </tr>\n",
       "    <tr>\n",
       "      <th>9</th>\n",
       "      <td>9</td>\n",
       "      <td>9 is the number of innings in a regulation, no...</td>\n",
       "    </tr>\n",
       "    <tr>\n",
       "      <th>10</th>\n",
       "      <td>10</td>\n",
       "      <td>10 is the number of fingers on a pair of human...</td>\n",
       "    </tr>\n",
       "  </tbody>\n",
       "</table>\n",
       "</div>"
      ],
      "text/plain": [
       "   number                                               text\n",
       "3       3  3 is the cost in cents to make a $1 bill in th...\n",
       "4       4  4 is the number of strings on a violin, a viol...\n",
       "5       5  5 is the number of interlocked rings in the sy...\n",
       "6       6  6 is the number of symbolic foods placed on th...\n",
       "7       7  7 is the number of types of viruses according ...\n",
       "8       8    8 is the number of planets in the Solar System.\n",
       "9       9  9 is the number of innings in a regulation, no...\n",
       "10     10  10 is the number of fingers on a pair of human..."
      ]
     },
     "execution_count": 116,
     "metadata": {},
     "output_type": "execute_result"
    }
   ],
   "source": [
    "getNumberFact('trivia', 3, 10, True)"
   ]
  },
  {
   "cell_type": "code",
   "execution_count": 117,
   "metadata": {},
   "outputs": [
    {
     "data": {
      "text/html": [
       "<div>\n",
       "<style scoped>\n",
       "    .dataframe tbody tr th:only-of-type {\n",
       "        vertical-align: middle;\n",
       "    }\n",
       "\n",
       "    .dataframe tbody tr th {\n",
       "        vertical-align: top;\n",
       "    }\n",
       "\n",
       "    .dataframe thead th {\n",
       "        text-align: right;\n",
       "    }\n",
       "</style>\n",
       "<table border=\"1\" class=\"dataframe\">\n",
       "  <thead>\n",
       "    <tr style=\"text-align: right;\">\n",
       "      <th></th>\n",
       "      <th>found</th>\n",
       "      <th>number</th>\n",
       "      <th>text</th>\n",
       "      <th>type</th>\n",
       "    </tr>\n",
       "  </thead>\n",
       "  <tbody>\n",
       "    <tr>\n",
       "      <th>1</th>\n",
       "      <td>1</td>\n",
       "      <td>1</td>\n",
       "      <td>1 is the year that the Kingdom of Aksum, cente...</td>\n",
       "      <td>year</td>\n",
       "    </tr>\n",
       "    <tr>\n",
       "      <th>2</th>\n",
       "      <td>1</td>\n",
       "      <td>2</td>\n",
       "      <td>2 is the year that Cedeides becomes Archon of ...</td>\n",
       "      <td>year</td>\n",
       "    </tr>\n",
       "    <tr>\n",
       "      <th>3</th>\n",
       "      <td>1</td>\n",
       "      <td>3</td>\n",
       "      <td>3 is the year that Lucius Aelius Lamia and Mar...</td>\n",
       "      <td>year</td>\n",
       "    </tr>\n",
       "  </tbody>\n",
       "</table>\n",
       "</div>"
      ],
      "text/plain": [
       "   found  number                                               text  type\n",
       "1      1       1  1 is the year that the Kingdom of Aksum, cente...  year\n",
       "2      1       2  2 is the year that Cedeides becomes Archon of ...  year\n",
       "3      1       3  3 is the year that Lucius Aelius Lamia and Mar...  year"
      ]
     },
     "execution_count": 117,
     "metadata": {},
     "output_type": "execute_result"
    }
   ],
   "source": [
    "pd.read_json('http://numbersapi.com/1..3/year?json', orient=\"index\")"
   ]
  },
  {
   "cell_type": "code",
   "execution_count": null,
   "metadata": {},
   "outputs": [],
   "source": []
  }
 ],
 "metadata": {
  "kernelspec": {
   "display_name": "Python 3",
   "language": "python",
   "name": "python3"
  },
  "language_info": {
   "codemirror_mode": {
    "name": "ipython",
    "version": 3
   },
   "file_extension": ".py",
   "mimetype": "text/x-python",
   "name": "python",
   "nbconvert_exporter": "python",
   "pygments_lexer": "ipython3",
   "version": "3.6.5"
  }
 },
 "nbformat": 4,
 "nbformat_minor": 2
}
