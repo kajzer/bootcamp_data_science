{
 "cells": [
  {
   "cell_type": "markdown",
   "metadata": {},
   "source": [
    "### Zadanie dla chetnych\n",
    "\n",
    "* Stworz klase DataProcess która będzie:\n",
    "   * Przetwarzać plik /var/log/syslog z logami,\n",
    "   * Dodatkowo można użyć wyrażeń regularnych,\n",
    "   * Stworzy statystyki: Ile było errorów w zakresie czasu\n",
    "       * Dodatkowo można stworzyć metodę do wizualizacji (Histogram)\n",
    "       * Pliki z wizualizacji zapisuj na dysku\n",
    "\n",
    "* Klasa ta jest obiektem w sqlAlchemy(Orm):\n",
    "   * Czyli Zapisujemy wyniki przetwarzania do bazy danych,\n",
    "\n",
    "* Stworzcie zapytanie sql ktore bedzie wyswietlac wyniki przetwarzania\n",
    "\n",
    "** Użyjcie flaska - stwórzcie endpoint do wyświetlania listy statystyk"
   ]
  },
  {
   "cell_type": "code",
   "execution_count": 1,
   "metadata": {
    "collapsed": true
   },
   "outputs": [],
   "source": [
    "%matplotlib inline\n",
    "\n",
    "import re\n",
    "import os\n",
    "import calendar\n",
    "from datetime import datetime, timezone\n",
    "import matplotlib.pyplot as plt\n",
    "import numpy as np"
   ]
  },
  {
   "cell_type": "code",
   "execution_count": 2,
   "metadata": {
    "collapsed": false
   },
   "outputs": [
    {
     "name": "stdout",
     "output_type": "stream",
     "text": [
      "/media/sf_SharedFolderDS/code/bootcamp_data_science/Week_02\n"
     ]
    }
   ],
   "source": [
    "print(os.getcwd())"
   ]
  },
  {
   "cell_type": "code",
   "execution_count": 75,
   "metadata": {
    "collapsed": false
   },
   "outputs": [],
   "source": [
    "class DataProcess:\n",
    "    \"\"\"TODO: Descritpion\"\"\"\n",
    "    @staticmethod\n",
    "    def get_file_contents(fpath=\"../../../../../var/log/syslog\"):\n",
    "        \"\"\"Returns data contents. Defaults to syslog\"\"\"\n",
    "        return open(fpath)\n",
    "        \n",
    "    @staticmethod\n",
    "    def print_file_contents(file=\"\"):\n",
    "        \"\"\"Prints out file contents. Default value to syslog\"\"\"\n",
    "        if len(file) < 1:\n",
    "            file = \"../../../../../var/log/syslog\"\n",
    "        fh = DataProcess.get_file_contents(file)\n",
    "        for line in fh:\n",
    "            print(line)\n",
    "    @staticmethod\n",
    "    def print_lines_with(pattern=r\"error\"):\n",
    "        \"\"\"Prints out lines with errors. Default value to error\"\"\"\n",
    "        fh = DataProcess.get_file_contents()\n",
    "        for line in fh:\n",
    "            if not re.findall(pattern, line, re.IGNORECASE): continue\n",
    "            print(line)\n",
    "    @staticmethod        \n",
    "    def count_errors():\n",
    "        fh = DataProcess.get_file_contents()\n",
    "        errors_cnt = 0\n",
    "        pattern=r\"error\"\n",
    "        for line in fh:\n",
    "            if not re.findall(pattern, line, re.IGNORECASE): continue\n",
    "            errors_cnt += 1\n",
    "        err_arr = DataProcess.get_error_data()\n",
    "        time_delta = err_arr[-1][0] - err_arr[0][0]\n",
    "        return errors_cnt, time_delta\n",
    "    @staticmethod        \n",
    "    def get_error_data():\n",
    "        \"\"\"Returns error array with time, name and part of description\"\"\"\n",
    "        fh = DataProcess.get_file_contents()\n",
    "        months_dict = dict((v,k) for k,v in enumerate(calendar.month_abbr))\n",
    "        pattern=r\"error\"\n",
    "        error_array = []\n",
    "        for line in fh:\n",
    "            if not re.findall(pattern, line, re.IGNORECASE): continue\n",
    "            err_type = line.split(':')[5]\n",
    "            err_name = line.split(':')[6]\n",
    "            month = line.split(' ')[0]\n",
    "            day = line.split(' ')[1]\n",
    "            time = line.split(' ')[2]\n",
    "            t = datetime(2018, months_dict[month], int(day), int(time.split(\":\")[0]), int(time.split(\":\")[1]), int(time.split(\":\")[2]), 345, tzinfo=timezone.utc)\n",
    "            error_array.append([t, err_type, err_name])\n",
    "        \n",
    "        return error_array\n",
    "    @staticmethod\n",
    "    def plot_errors():\n",
    "        err_arr = DataProcess.get_error_data() \n",
    "        dates = np.array([x[0] for x in err_arr])\n",
    "        values = np.array([1 for x in err_arr])\n",
    "        plt.plot_date(dates, values)\n",
    "        plt.title('Error Log')\n",
    "        plt.xlabel(\"Date\")\n",
    "        plt.ylabel(\"Error\")\n",
    "        plt.savefig(\"Error_Log.png\")\n",
    "        plt.show()"
   ]
  },
  {
   "cell_type": "code",
   "execution_count": 76,
   "metadata": {
    "collapsed": false,
    "scrolled": true
   },
   "outputs": [
    {
     "data": {
      "text/plain": [
       "[[datetime.datetime(2018, 9, 22, 9, 26, 35, 345, tzinfo=datetime.timezone.utc),\n",
       "  ' Fu-WARNING **',\n",
       "  ' FuMain'],\n",
       " [datetime.datetime(2018, 9, 22, 9, 26, 59, 345, tzinfo=datetime.timezone.utc),\n",
       "  ' Gs-WARNING **',\n",
       "  ' failed to call gs_plugin_add_updates on fwupd'],\n",
       " [datetime.datetime(2018, 9, 22, 9, 27, 0, 345, tzinfo=datetime.timezone.utc),\n",
       "  ' Fu-WARNING **',\n",
       "  ' FuMain'],\n",
       " [datetime.datetime(2018, 9, 22, 9, 30, 52, 345, tzinfo=datetime.timezone.utc),\n",
       "  ' WARNING **',\n",
       "  ' zeitgeist-datahub.vala'],\n",
       " [datetime.datetime(2018, 9, 22, 10, 23, 32, 345, tzinfo=datetime.timezone.utc),\n",
       "  ' WARNING **',\n",
       "  ' zeitgeist-datahub.vala'],\n",
       " [datetime.datetime(2018, 9, 22, 14, 10, 43, 345, tzinfo=datetime.timezone.utc),\n",
       "  ' WARNING **',\n",
       "  ' zeitgeist-datahub.vala']]"
      ]
     },
     "execution_count": 76,
     "metadata": {},
     "output_type": "execute_result"
    }
   ],
   "source": [
    "DataProcess.get_error_data()"
   ]
  },
  {
   "cell_type": "markdown",
   "metadata": {},
   "source": [
    "## Create DB to store errors"
   ]
  },
  {
   "cell_type": "markdown",
   "metadata": {},
   "source": [
    "Implementation with https://www.pythoncentral.io/introductory-tutorial-python-sqlalchemy/"
   ]
  },
  {
   "cell_type": "code",
   "execution_count": 117,
   "metadata": {
    "collapsed": true
   },
   "outputs": [],
   "source": [
    "import os\n",
    "import sys\n",
    "from sqlalchemy import Column, ForeignKey, String, DateTime, Integer\n",
    "from sqlalchemy.ext.declarative import declarative_base\n",
    "from sqlalchemy.orm import relationship\n",
    "from sqlalchemy import create_engine\n",
    "from sqlalchemy.orm import sessionmaker\n",
    " \n",
    "Base = declarative_base()"
   ]
  },
  {
   "cell_type": "code",
   "execution_count": 118,
   "metadata": {
    "collapsed": false
   },
   "outputs": [],
   "source": [
    "class ErrorLog(Base):\n",
    "    __tablename__ = 'errorlog'\n",
    "    id = Column(Integer, primary_key=True)\n",
    "    error_type = Column(String(250))\n",
    "    error_name = Column(String(250))\n",
    "    error_date = Column(DateTime, default=datetime.utcnow)"
   ]
  },
  {
   "cell_type": "code",
   "execution_count": 119,
   "metadata": {
    "collapsed": true
   },
   "outputs": [],
   "source": [
    "engine = create_engine('sqlite:///error_log.db')"
   ]
  },
  {
   "cell_type": "code",
   "execution_count": 120,
   "metadata": {
    "collapsed": true
   },
   "outputs": [],
   "source": [
    "Base.metadata.create_all(engine)"
   ]
  },
  {
   "cell_type": "code",
   "execution_count": 121,
   "metadata": {
    "collapsed": true
   },
   "outputs": [],
   "source": [
    "Base.metadata.bind = engine\n",
    "DBSession = sessionmaker(bind=engine)"
   ]
  },
  {
   "cell_type": "code",
   "execution_count": 122,
   "metadata": {
    "collapsed": true
   },
   "outputs": [],
   "source": [
    "session = DBSession()"
   ]
  },
  {
   "cell_type": "code",
   "execution_count": 123,
   "metadata": {
    "collapsed": false
   },
   "outputs": [],
   "source": [
    "new_error = ErrorLog(error_name='New error')\n",
    "session.add(new_error)\n",
    "session.commit()"
   ]
  },
  {
   "cell_type": "code",
   "execution_count": 124,
   "metadata": {
    "collapsed": false
   },
   "outputs": [
    {
     "data": {
      "text/plain": [
       "[<__main__.ErrorLog at 0x7f463b0b6c88>, <__main__.ErrorLog at 0x7f463b0f7908>]"
      ]
     },
     "execution_count": 124,
     "metadata": {},
     "output_type": "execute_result"
    }
   ],
   "source": [
    "session.query(ErrorLog).all()"
   ]
  },
  {
   "cell_type": "code",
   "execution_count": 125,
   "metadata": {
    "collapsed": true
   },
   "outputs": [],
   "source": [
    "some_error = session.query(ErrorLog).first()"
   ]
  },
  {
   "cell_type": "code",
   "execution_count": 126,
   "metadata": {
    "collapsed": false
   },
   "outputs": [
    {
     "name": "stdout",
     "output_type": "stream",
     "text": [
      "<__main__.ErrorLog object at 0x7f463b0b6c88>\n"
     ]
    }
   ],
   "source": [
    "print(some_error)"
   ]
  },
  {
   "cell_type": "code",
   "execution_count": 127,
   "metadata": {
    "collapsed": false
   },
   "outputs": [
    {
     "name": "stdout",
     "output_type": "stream",
     "text": [
      "New error\n"
     ]
    }
   ],
   "source": [
    "print(some_error.error_name)"
   ]
  },
  {
   "cell_type": "code",
   "execution_count": 129,
   "metadata": {
    "collapsed": false
   },
   "outputs": [
    {
     "data": {
      "text/plain": [
       "2"
      ]
     },
     "execution_count": 129,
     "metadata": {},
     "output_type": "execute_result"
    }
   ],
   "source": [
    "session.query(ErrorLog).filter_by(error_name='New error').delete()"
   ]
  },
  {
   "cell_type": "markdown",
   "metadata": {},
   "source": [
    "## Persist all errors in DB"
   ]
  },
  {
   "cell_type": "code",
   "execution_count": 160,
   "metadata": {
    "collapsed": false
   },
   "outputs": [],
   "source": [
    "for record in DataProcess.get_error_data():\n",
    "    new_error = ErrorLog(error_name=record[2], error_type=record[1], error_date=record[0])\n",
    "    session.add(new_error)\n",
    "session.commit()"
   ]
  },
  {
   "cell_type": "code",
   "execution_count": 161,
   "metadata": {
    "collapsed": false
   },
   "outputs": [],
   "source": [
    "# session.query(ErrorLog).delete()"
   ]
  },
  {
   "cell_type": "code",
   "execution_count": 166,
   "metadata": {
    "collapsed": false
   },
   "outputs": [
    {
     "name": "stdout",
     "output_type": "stream",
     "text": [
      "2018-09-22 09:26:35.000345:  Fu-WARNING ** -  FuMain\n",
      "2018-09-22 09:26:59.000345:  Gs-WARNING ** -  failed to call gs_plugin_add_updates on fwupd\n",
      "2018-09-22 09:27:00.000345:  Fu-WARNING ** -  FuMain\n",
      "2018-09-22 09:30:52.000345:  WARNING ** -  zeitgeist-datahub.vala\n",
      "2018-09-22 10:23:32.000345:  WARNING ** -  zeitgeist-datahub.vala\n",
      "2018-09-22 14:10:43.000345:  WARNING ** -  zeitgeist-datahub.vala\n"
     ]
    }
   ],
   "source": [
    "for err in session.query(ErrorLog).all():\n",
    "    print(f'{err.error_date}: {err.error_type} - {err.error_name}')"
   ]
  },
  {
   "cell_type": "code",
   "execution_count": null,
   "metadata": {
    "collapsed": true
   },
   "outputs": [],
   "source": []
  }
 ],
 "metadata": {
  "kernelspec": {
   "display_name": "Python 3",
   "language": "python",
   "name": "python3"
  },
  "language_info": {
   "codemirror_mode": {
    "name": "ipython",
    "version": 3
   },
   "file_extension": ".py",
   "mimetype": "text/x-python",
   "name": "python",
   "nbconvert_exporter": "python",
   "pygments_lexer": "ipython3",
   "version": "3.6.0"
  }
 },
 "nbformat": 4,
 "nbformat_minor": 2
}
