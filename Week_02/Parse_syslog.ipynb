{
 "cells": [
  {
   "cell_type": "markdown",
   "metadata": {},
   "source": [
    "# Parse file with errors\n",
    "\n",
    "* Create class DataProcess\n",
    "    * gets file from given path or local access.log file as a sample\n",
    "    * using regular expression finds lines containing 'error' in file\n",
    "    * can check how many lines with errors are in file and returns timedelta\n",
    "        * shows two types of plots using matplotlib\n",
    "        * saves files with plots to drive\n",
    "* Used sqlalchemy to create DB and persist data from DataProcess class\n",
    "* Used SQL to show all error records\n",
    "** Used flas to create simple API endpoint and 2 routes to return \n",
    "* data as JSON object\n",
    "* return text - how many records are in DB"
   ]
  },
  {
   "cell_type": "markdown",
   "metadata": {},
   "source": [
    "#### Import modules for class DataProcess"
   ]
  },
  {
   "cell_type": "code",
   "execution_count": 95,
   "metadata": {
    "collapsed": true
   },
   "outputs": [],
   "source": [
    "%matplotlib inline\n",
    "\n",
    "import re\n",
    "import os\n",
    "import calendar\n",
    "from datetime import datetime, timezone\n",
    "import matplotlib.pyplot as plt\n",
    "import matplotlib.dates as mdates\n",
    "import numpy as np"
   ]
  },
  {
   "cell_type": "markdown",
   "metadata": {},
   "source": [
    "#### Sanity check for directory"
   ]
  },
  {
   "cell_type": "code",
   "execution_count": 96,
   "metadata": {
    "collapsed": false
   },
   "outputs": [
    {
     "name": "stdout",
     "output_type": "stream",
     "text": [
      "/media/sf_SharedFolderDS/code/bootcamp_data_science/Week_02\n"
     ]
    }
   ],
   "source": [
    "print(os.getcwd())"
   ]
  },
  {
   "cell_type": "code",
   "execution_count": 209,
   "metadata": {
    "collapsed": false
   },
   "outputs": [],
   "source": [
    "class DataProcess:\n",
    "    \"\"\"DataProcess class gets data from file, parses for lines with error and can visualise in plots\"\"\"\n",
    "    @staticmethod\n",
    "    def get_file_contents(fpath=\"./access.log\"):\n",
    "        \"\"\"Returns data contents. Defaults to syslog\"\"\"\n",
    "        return open(fpath)\n",
    "        \n",
    "    @staticmethod\n",
    "    def print_file_contents(file=\"\"):\n",
    "        \"\"\"Prints out file contents. Default value to syslog\"\"\"\n",
    "        if len(file) < 1:\n",
    "            file = \"./access.log\"\n",
    "        fh = DataProcess.get_file_contents(file)\n",
    "        for line in fh:\n",
    "            print(line)\n",
    "    @staticmethod\n",
    "    def print_lines_with(pattern=r\"error\"):\n",
    "        \"\"\"Prints out lines with errors. Default value to error\"\"\"\n",
    "        fh = DataProcess.get_file_contents()\n",
    "        for line in fh:\n",
    "            if not re.findall(pattern, line, re.IGNORECASE): continue\n",
    "            print(line)\n",
    "    @staticmethod        \n",
    "    def count_errors():\n",
    "        \"\"\"Counts errors in file\"\"\"\n",
    "        fh = DataProcess.get_file_contents()\n",
    "        errors_cnt = 0\n",
    "        pattern=r\"error\"\n",
    "        for line in fh:\n",
    "            if not re.findall(pattern, line, re.IGNORECASE): continue\n",
    "            errors_cnt += 1\n",
    "        err_arr = DataProcess.get_error_data()\n",
    "        time_delta = err_arr[-1][0] - err_arr[0][0]\n",
    "        return errors_cnt, time_delta\n",
    "    @staticmethod        \n",
    "    def get_error_data():\n",
    "        \"\"\"Returns error array with time, name and part of description\"\"\"\n",
    "        fh = DataProcess.get_file_contents()\n",
    "        months_dict = dict((v,k) for k,v in enumerate(calendar.month_abbr))\n",
    "        pattern=r\"error\"\n",
    "        error_array = []\n",
    "        for line in fh:\n",
    "            if not re.findall(pattern, line, re.IGNORECASE): continue\n",
    "            err_type = line.split(' ')[6]\n",
    "            err_name = line.split(' ')[0]\n",
    "            month = line.split(' ')[3].split('/')[1]\n",
    "            day = line.split(' ')[3].split('/')[0][1:]\n",
    "            year = line.split(' ')[3].split('/')[2].split(':')[0]\n",
    "            hours = line.split(' ')[3].split('/')[2].split(':')[1]\n",
    "            minutes = line.split(' ')[3].split('/')[2].split(':')[2]\n",
    "            seconds = line.split(' ')[3].split('/')[2].split(':')[3]\n",
    "            t = datetime(int(year), months_dict[month], int(day), int(hours), int(minutes), int(seconds), 345, tzinfo=timezone.utc)\n",
    "            error_array.append([t, err_type, err_name])\n",
    "        \n",
    "        return error_array\n",
    "    @staticmethod\n",
    "    def plot_errors():\n",
    "        \"\"\"Simple plot to display how many errors in time were thrown\"\"\"\n",
    "        err_arr = DataProcess.get_error_data() \n",
    "        dates = np.array([x[0] for x in err_arr])\n",
    "        values = np.array([1 for x in err_arr])\n",
    "        plt.plot_date(dates, values)\n",
    "        plt.title('Error Log')\n",
    "        plt.xlabel(\"Date\")\n",
    "        plt.ylabel(\"Error\")\n",
    "        plt.savefig(\"Error_Log.png\")\n",
    "        plt.show()\n",
    "    @staticmethod\n",
    "    def plot_err_hist():\n",
    "        \"\"\"Plots histogram with errors\"\"\"\n",
    "        err_arr = DataProcess.get_error_data()\n",
    "        dates = np.array([mdates.date2num(x[0]) for x in err_arr])\n",
    "        values = np.array([1 for x in err_arr])\n",
    "        fig, ax = plt.subplots()\n",
    "        ax.hist(dates, bins=44, color='lightblue')\n",
    "        locator = mdates.AutoDateLocator()\n",
    "        ax.xaxis.set_major_locator(locator)\n",
    "        ax.xaxis.set_major_formatter(mdates.AutoDateFormatter(locator))\n",
    "        fig.autofmt_xdate()\n",
    "        plt.title('Error Log')\n",
    "        plt.xlabel(\"Date\")\n",
    "        plt.ylabel(\"Error Count\")\n",
    "        plt.savefig(\"Error_Log_Hist.png\")\n",
    "        plt.show()        "
   ]
  },
  {
   "cell_type": "markdown",
   "metadata": {},
   "source": [
    "## Sample Usage of DataProcess class"
   ]
  },
  {
   "cell_type": "markdown",
   "metadata": {},
   "source": [
    "Prints out lines containting errors from file"
   ]
  },
  {
   "cell_type": "code",
   "execution_count": 211,
   "metadata": {
    "collapsed": false
   },
   "outputs": [
    {
     "name": "stdout",
     "output_type": "stream",
     "text": [
      "40.77.167.66 - - [13/Dec/2015:12:05:25 +0100] \"GET /apache-log/error.log.44.gz HTTP/1.1\" 404 232 \"-\" \"Mozilla/5.0 (compatible; bingbot/2.0; +http://www.bing.com/bingbot.htm)\" \"-\"\n",
      "\n",
      "157.55.39.8 - - [13/Dec/2015:16:14:58 +0100] \"GET /apache-log/error.log.55.gz HTTP/1.1\" 404 232 \"-\" \"Mozilla/5.0 (compatible; bingbot/2.0; +http://www.bing.com/bingbot.htm)\" \"-\"\n",
      "\n",
      "188.143.232.11 - - [13/Dec/2015:18:43:22 +0100] \"GET /apache-log/error.log HTTP/1.1\" 200 1514 \"-\" \"Mozilla/4.0 (compatible; MSIE 6.0; Windows NT 5.1; SV1)\" \"-\"\n",
      "\n",
      "40.77.167.94 - - [16/Dec/2015:21:00:26 +0100] \"GET /apache-log/error.log.20.gz HTTP/1.1\" 404 232 \"-\" \"Mozilla/5.0 (compatible; bingbot/2.0; +http://www.bing.com/bingbot.htm)\" \"-\"\n",
      "\n",
      "180.76.15.10 - - [17/Dec/2015:11:26:35 +0100] \"GET /apache-log/error.log HTTP/1.1\" 200 10998 \"-\" \"Mozilla/5.0 (compatible; Baiduspider/2.0; +http://www.baidu.com/search/spider.html)\" \"-\"\n",
      "\n",
      "180.76.15.16 - - [20/Dec/2015:08:25:52 +0100] \"GET /apache-log/error.log HTTP/1.1\" 200 20047 \"-\" \"Mozilla/5.0 (compatible; Baiduspider/2.0; +http://www.baidu.com/search/spider.html)\" \"-\"\n",
      "\n",
      "157.55.39.92 - - [21/Dec/2015:19:28:46 +0100] \"GET /apache-log/error.log.47.gz HTTP/1.1\" 404 232 \"-\" \"Mozilla/5.0 (compatible; bingbot/2.0; +http://www.bing.com/bingbot.htm)\" \"-\"\n",
      "\n",
      "207.46.13.161 - - [22/Dec/2015:22:13:49 +0100] \"GET /apache-log/error.log.88.gz HTTP/1.1\" 404 232 \"-\" \"Mozilla/5.0 (compatible; bingbot/2.0; +http://www.bing.com/bingbot.htm)\" \"-\"\n",
      "\n",
      "207.46.13.70 - - [24/Dec/2015:14:17:10 +0100] \"GET /apache-log/error.log.84.gz HTTP/1.1\" 404 232 \"-\" \"Mozilla/5.0 (compatible; bingbot/2.0; +http://www.bing.com/bingbot.htm)\" \"-\"\n",
      "\n",
      "157.55.39.169 - - [25/Dec/2015:03:36:04 +0100] \"GET /apache-log/error.log.89.gz HTTP/1.1\" 404 232 \"-\" \"Mozilla/5.0 (compatible; bingbot/2.0; +http://www.bing.com/bingbot.htm)\" \"-\"\n",
      "\n",
      "66.249.66.22 - - [26/Dec/2015:04:09:40 +0100] \"GET /apache-log/error.log HTTP/1.1\" 200 44709 \"-\" \"Mozilla/5.0 (compatible; Googlebot/2.1; +http://www.google.com/bot.html)\" \"-\"\n",
      "\n",
      "40.77.167.0 - - [26/Dec/2015:16:30:54 +0100] \"GET /apache-log/error.log.41.gz HTTP/1.1\" 404 232 \"-\" \"Mozilla/5.0 (compatible; bingbot/2.0; +http://www.bing.com/bingbot.htm)\" \"-\"\n",
      "\n",
      "157.55.39.245 - - [28/Dec/2015:13:58:35 +0100] \"GET /apache-log/error.log.66.gz HTTP/1.1\" 404 232 \"-\" \"Mozilla/5.0 (compatible; bingbot/2.0; +http://www.bing.com/bingbot.htm)\" \"-\"\n",
      "\n",
      "2.137.210.106 - - [29/Dec/2015:19:48:49 +0100] \"GET /apache-log/error.log HTTP/1.1\" 200 59946 \"http://www.almhuette-raith.at/apache-log/\" \"Mozilla/5.0 (X11; Linux x86_64; rv:38.0) Gecko/20100101 Firefox/38.0 Iceweasel/38.4.0\" \"-\"\n",
      "\n",
      "40.77.167.36 - - [30/Dec/2015:11:16:25 +0100] \"GET /apache-log/error.log.73.gz HTTP/1.1\" 404 232 \"-\" \"Mozilla/5.0 (compatible; bingbot/2.0; +http://www.bing.com/bingbot.htm)\" \"-\"\n",
      "\n",
      "40.77.167.79 - - [01/Jan/2016:14:40:26 +0100] \"GET /apache-log/error.log.8.gz HTTP/1.1\" 404 231 \"-\" \"Mozilla/5.0 (compatible; bingbot/2.0; +http://www.bing.com/bingbot.htm)\" \"-\"\n",
      "\n",
      "40.77.167.79 - - [01/Jan/2016:19:14:28 +0100] \"GET /apache-log/error.log.8.gz HTTP/1.1\" 404 231 \"-\" \"Mozilla/5.0 (compatible; bingbot/2.0; +http://www.bing.com/bingbot.htm)\" \"-\"\n",
      "\n",
      "157.55.39.214 - - [04/Jan/2016:08:26:51 +0100] \"GET /apache-log/error.log.56.gz HTTP/1.1\" 404 232 \"-\" \"Mozilla/5.0 (compatible; bingbot/2.0; +http://www.bing.com/bingbot.htm)\" \"-\"\n",
      "\n",
      "157.55.39.215 - - [04/Jan/2016:23:24:11 +0100] \"GET /apache-log/error.log.56.gz HTTP/1.1\" 404 232 \"-\" \"Mozilla/5.0 (compatible; bingbot/2.0; +http://www.bing.com/bingbot.htm)\" \"-\"\n",
      "\n",
      "157.55.39.155 - - [11/Jan/2016:13:05:53 +0100] \"GET /apache-log/error.log.68.gz HTTP/1.1\" 404 232 \"-\" \"Mozilla/5.0 (compatible; bingbot/2.0; +http://www.bing.com/bingbot.htm)\" \"-\"\n",
      "\n",
      "157.55.39.156 - - [11/Jan/2016:15:10:20 +0100] \"GET /apache-log/error.log.68.gz HTTP/1.1\" 404 232 \"-\" \"Mozilla/5.0 (compatible; bingbot/2.0; +http://www.bing.com/bingbot.htm)\" \"-\"\n",
      "\n",
      "180.76.15.137 - - [12/Jan/2016:07:17:56 +0100] \"GET /apache-log/error.log HTTP/1.1\" 200 252904 \"-\" \"Mozilla/5.0 (compatible; Baiduspider/2.0; +http://www.baidu.com/search/spider.html)\" \"-\"\n",
      "\n",
      "195.70.46.193 - - [12/Jan/2016:10:19:21 +0100] \"GET /apache-log/error.log HTTP/1.1\" 200 253805 \"http://www.almhuette-raith.at/apache-log/\" \"Mozilla/5.0 (Windows NT 6.3; WOW64) AppleWebKit/537.36 (KHTML, like Gecko) Chrome/47.0.2526.106 Safari/537.36\" \"-\"\n",
      "\n",
      "195.70.46.193 - - [12/Jan/2016:10:20:04 +0100] \"GET /apache-log/error.log HTTP/1.1\" 304 - \"http://www.almhuette-raith.at/apache-log/\" \"Mozilla/5.0 (Windows NT 6.3; WOW64) AppleWebKit/537.36 (KHTML, like Gecko) Chrome/47.0.2526.106 Safari/537.36\" \"-\"\n",
      "\n",
      "207.46.13.140 - - [12/Jan/2016:17:01:02 +0100] \"GET /apache-log/error.log.51.gz HTTP/1.1\" 404 232 \"-\" \"Mozilla/5.0 (compatible; bingbot/2.0; +http://www.bing.com/bingbot.htm)\" \"-\"\n",
      "\n",
      "157.55.39.155 - - [12/Jan/2016:20:36:50 +0100] \"GET /apache-log/error.log.34.gz HTTP/1.1\" 404 232 \"-\" \"Mozilla/5.0 (compatible; bingbot/2.0; +http://www.bing.com/bingbot.htm)\" \"-\"\n",
      "\n",
      "180.76.15.146 - - [12/Jan/2016:22:05:03 +0100] \"GET /apache-log/error.log HTTP/1.1\" 200 256153 \"-\" \"Mozilla/5.0 (compatible; Baiduspider/2.0; +http://www.baidu.com/search/spider.html)\" \"-\"\n",
      "\n",
      "157.55.39.44 - - [13/Jan/2016:12:32:15 +0100] \"GET /apache-log/error.log.70.gz HTTP/1.1\" 404 232 \"-\" \"Mozilla/5.0 (compatible; bingbot/2.0; +http://www.bing.com/bingbot.htm)\" \"-\"\n",
      "\n",
      "157.55.39.44 - - [13/Jan/2016:16:50:12 +0100] \"GET /apache-log/error.log.63.gz HTTP/1.1\" 404 232 \"-\" \"Mozilla/5.0 (compatible; bingbot/2.0; +http://www.bing.com/bingbot.htm)\" \"-\"\n",
      "\n",
      "207.46.13.85 - - [13/Jan/2016:20:55:09 +0100] \"GET /apache-log/error.log.67.gz HTTP/1.1\" 404 232 \"-\" \"Mozilla/5.0 (compatible; bingbot/2.0; +http://www.bing.com/bingbot.htm)\" \"-\"\n",
      "\n",
      "91.207.7.34 - - [14/Jan/2016:06:46:27 +0100] \"GET /?1=%40ini_set%28%22display_errors%22%2C%220%22%29%3B%40set_time_limit%280%29%3B%40set_magic_quotes_runtime%280%29%3Becho%20%27-%3E%7C%27%3Bfile_put_contents%28%24_SERVER%5B%27DOCUMENT_ROOT%27%5D.%27/images/al277.php%27%2Cbase64_decode%28%27PD9waHAgZXZhbCgkX1BPU1RbMV0pOz8%2B%27%29%29%3Becho%20%27%7C%3C-%27%3B HTTP/1.1\" 200 179 \"-\" \"}__test|O:21:\\\"JDatabaseDriverMysqli\\\":3:{s:2:\\\"fc\\\";O:17:\\\"JSimplepieFactory\\\":0:{}s:21:\\\"\\\\0\\\\0\\\\0disconnectHandlers\\\";a:1:{i:0;a:2:{i:0;O:9:\\\"SimplePie\\\":5:{s:8:\\\"sanitize\\\";O:20:\\\"JDatabaseDriverMysql\\\":0:{}s:8:\\\"feed_url\\\";s:46:\\\"eval($_REQUEST[1]);JFactory::getConfig();exit;\\\";s:19:\\\"cache_name_function\\\";s:6:\\\"assert\\\";s:5:\\\"cache\\\";b:1;s:11:\\\"cache_class\\\";O:20:\\\"JDatabaseDriverMysql\\\":0:{}}i:1;s:4:\\\"init\\\";}}s:13:\\\"\\\\0\\\\0\\\\0connection\\\";b:1;}\\xf0\\x9d\\x8c\\x86\" \"-\"\n",
      "\n",
      "91.207.7.34 - - [14/Jan/2016:06:46:27 +0100] \"GET /?1=%40ini_set%28%22display_errors%22%2C%220%22%29%3B%40set_time_limit%280%29%3B%40set_magic_quotes_runtime%280%29%3Becho%20%27-%3E%7C%27%3Bfile_put_contents%28%24_SERVER%5B%27DOCUMENT_ROOT%27%5D.%27/images/al277.php%27%2Cbase64_decode%28%27PD9waHAgZXZhbCgkX1BPU1RbMV0pOz8%2B%27%29%29%3Becho%20%27%7C%3C-%27%3B HTTP/1.1\" 200 179 \"-\" \"Python-urllib/2.7\" \"-\"\n",
      "\n",
      "157.55.39.155 - - [15/Jan/2016:10:38:19 +0100] \"GET /apache-log/error.log.6.gz HTTP/1.1\" 404 231 \"-\" \"Mozilla/5.0 (compatible; bingbot/2.0; +http://www.bing.com/bingbot.htm)\" \"-\"\n",
      "\n",
      "207.46.13.147 - - [20/Jan/2016:04:02:30 +0100] \"GET /apache-log/error.log.58.gz HTTP/1.1\" 404 232 \"-\" \"Mozilla/5.0 (compatible; bingbot/2.0; +http://www.bing.com/bingbot.htm)\" \"-\"\n",
      "\n",
      "207.46.13.147 - - [20/Jan/2016:21:54:30 +0100] \"GET /apache-log/error.log.19.gz HTTP/1.1\" 404 232 \"-\" \"Mozilla/5.0 (compatible; bingbot/2.0; +http://www.bing.com/bingbot.htm)\" \"-\"\n",
      "\n",
      "79.200.200.123 - - [22/Jan/2016:17:50:05 +0100] \"GET /apache-log/error.log HTTP/1.1\" 200 358370 \"http://www.almhuette-raith.at/apache-log/\" \"Mozilla/5.0 (Windows NT 6.1; WOW64; rv:43.0) Gecko/20100101 Firefox/43.0\" \"-\"\n",
      "\n",
      "157.55.39.48 - - [23/Jan/2016:15:27:45 +0100] \"GET /apache-log/error.log.44.gz HTTP/1.1\" 404 232 \"-\" \"Mozilla/5.0 (compatible; bingbot/2.0; +http://www.bing.com/bingbot.htm)\" \"-\"\n",
      "\n",
      "157.55.39.225 - - [23/Jan/2016:20:58:45 +0100] \"GET /apache-log/error.log.42.gz HTTP/1.1\" 404 232 \"-\" \"Mozilla/5.0 (compatible; bingbot/2.0; +http://www.bing.com/bingbot.htm)\" \"-\"\n",
      "\n",
      "207.46.13.125 - - [24/Jan/2016:02:17:49 +0100] \"GET /apache-log/error.log.55.gz HTTP/1.1\" 404 232 \"-\" \"Mozilla/5.0 (compatible; bingbot/2.0; +http://www.bing.com/bingbot.htm)\" \"-\"\n",
      "\n",
      "157.55.39.153 - - [24/Jan/2016:08:10:22 +0100] \"GET /apache-log/error.log.83.gz HTTP/1.1\" 404 232 \"-\" \"Mozilla/5.0 (compatible; bingbot/2.0; +http://www.bing.com/bingbot.htm)\" \"-\"\n",
      "\n",
      "157.55.39.153 - - [25/Jan/2016:18:29:18 +0100] \"GET /apache-log/error.log.78.gz HTTP/1.1\" 404 232 \"-\" \"Mozilla/5.0 (compatible; bingbot/2.0; +http://www.bing.com/bingbot.htm)\" \"-\"\n",
      "\n",
      "40.77.167.85 - - [26/Jan/2016:00:27:40 +0100] \"GET /apache-log/error.log.9.gz HTTP/1.1\" 404 231 \"-\" \"Mozilla/5.0 (compatible; bingbot/2.0; +http://www.bing.com/bingbot.htm)\" \"-\"\n",
      "\n",
      "40.77.167.92 - - [26/Jan/2016:08:35:56 +0100] \"GET /apache-log/error.log.53.gz HTTP/1.1\" 404 232 \"-\" \"Mozilla/5.0 (compatible; bingbot/2.0; +http://www.bing.com/bingbot.htm)\" \"-\"\n",
      "\n",
      "207.46.13.99 - - [26/Jan/2016:18:29:45 +0100] \"GET /apache-log/error.log.21.gz HTTP/1.1\" 404 232 \"-\" \"Mozilla/5.0 (compatible; bingbot/2.0; +http://www.bing.com/bingbot.htm)\" \"-\"\n",
      "\n"
     ]
    }
   ],
   "source": [
    "DataProcess.print_lines_with()"
   ]
  },
  {
   "cell_type": "markdown",
   "metadata": {},
   "source": [
    "Count errors and returns timedelta object"
   ]
  },
  {
   "cell_type": "code",
   "execution_count": 212,
   "metadata": {
    "collapsed": false
   },
   "outputs": [
    {
     "data": {
      "text/plain": [
       "(44, datetime.timedelta(44, 23060))"
      ]
     },
     "execution_count": 212,
     "metadata": {},
     "output_type": "execute_result"
    }
   ],
   "source": [
    "DataProcess.count_errors()"
   ]
  },
  {
   "cell_type": "markdown",
   "metadata": {},
   "source": [
    "Two types of error visualisation. Graphs saved as file to same location as notebook"
   ]
  },
  {
   "cell_type": "code",
   "execution_count": 213,
   "metadata": {
    "collapsed": false
   },
   "outputs": [
    {
     "data": {
      "image/png": "[encoded data removed]",
      "text/plain": [
       "<matplotlib.figure.Figure at 0x7ff5eedab668>"
      ]
     },
     "metadata": {},
     "output_type": "display_data"
    }
   ],
   "source": [
    "DataProcess.plot_errors()"
   ]
  },
  {
   "cell_type": "code",
   "execution_count": 210,
   "metadata": {
    "collapsed": false
   },
   "outputs": [
    {
     "data": {
      "image/png": "[encoded data removed]",
      "text/plain": [
       "<matplotlib.figure.Figure at 0x7ff5e5a0d978>"
      ]
     },
     "metadata": {},
     "output_type": "display_data"
    }
   ],
   "source": [
    "DataProcess.plot_err_hist()"
   ]
  },
  {
   "cell_type": "markdown",
   "metadata": {},
   "source": [
    "## Create DB to store errors"
   ]
  },
  {
   "cell_type": "markdown",
   "metadata": {},
   "source": [
    "Implementation based on https://www.pythoncentral.io/introductory-tutorial-python-sqlalchemy/\n",
    "\n",
    "import modules needed for DB manipulation and sqlalchemy"
   ]
  },
  {
   "cell_type": "code",
   "execution_count": 217,
   "metadata": {
    "collapsed": true
   },
   "outputs": [],
   "source": [
    "import os\n",
    "import sys\n",
    "from sqlalchemy import Column, ForeignKey, String, DateTime, Integer\n",
    "from sqlalchemy.ext.declarative import declarative_base\n",
    "from sqlalchemy.orm import relationship\n",
    "from sqlalchemy import create_engine\n",
    "from sqlalchemy.orm import sessionmaker\n",
    " \n",
    "Base = declarative_base()"
   ]
  },
  {
   "cell_type": "markdown",
   "metadata": {},
   "source": [
    "Create class describing DB table"
   ]
  },
  {
   "cell_type": "code",
   "execution_count": 218,
   "metadata": {
    "collapsed": false
   },
   "outputs": [],
   "source": [
    "class ErrorLog(Base):\n",
    "    __tablename__ = 'errorlog'\n",
    "    id = Column(Integer, primary_key=True)\n",
    "    error_type = Column(String(250))\n",
    "    error_name = Column(String(250))\n",
    "    error_date = Column(DateTime, default=datetime.utcnow)"
   ]
  },
  {
   "cell_type": "markdown",
   "metadata": {},
   "source": [
    "Create sqlite engine"
   ]
  },
  {
   "cell_type": "code",
   "execution_count": 219,
   "metadata": {
    "collapsed": true
   },
   "outputs": [],
   "source": [
    "engine = create_engine('sqlite:///error_log.db')"
   ]
  },
  {
   "cell_type": "markdown",
   "metadata": {},
   "source": [
    "Create schema from class"
   ]
  },
  {
   "cell_type": "code",
   "execution_count": 220,
   "metadata": {
    "collapsed": true
   },
   "outputs": [],
   "source": [
    "Base.metadata.create_all(engine)"
   ]
  },
  {
   "cell_type": "code",
   "execution_count": 221,
   "metadata": {
    "collapsed": true
   },
   "outputs": [],
   "source": [
    "Base.metadata.bind = engine\n",
    "DBSession = sessionmaker(bind=engine)"
   ]
  },
  {
   "cell_type": "markdown",
   "metadata": {},
   "source": [
    "Create session object"
   ]
  },
  {
   "cell_type": "code",
   "execution_count": 222,
   "metadata": {
    "collapsed": true
   },
   "outputs": [],
   "source": [
    "session = DBSession()"
   ]
  },
  {
   "cell_type": "markdown",
   "metadata": {},
   "source": [
    "Create one error as sanity check"
   ]
  },
  {
   "cell_type": "code",
   "execution_count": 223,
   "metadata": {
    "collapsed": false
   },
   "outputs": [],
   "source": [
    "new_error = ErrorLog(error_name='New error')\n",
    "session.add(new_error)\n",
    "session.commit()"
   ]
  },
  {
   "cell_type": "markdown",
   "metadata": {},
   "source": [
    "Display all rows of ErrorLog table"
   ]
  },
  {
   "cell_type": "code",
   "execution_count": 224,
   "metadata": {
    "collapsed": false
   },
   "outputs": [
    {
     "data": {
      "text/plain": [
       "[<__main__.ErrorLog at 0x7ff5e4072fd0>,\n",
       " <__main__.ErrorLog at 0x7ff5dfffa080>,\n",
       " <__main__.ErrorLog at 0x7ff5dfffa0f0>,\n",
       " <__main__.ErrorLog at 0x7ff5dfffa198>,\n",
       " <__main__.ErrorLog at 0x7ff5dfffa240>,\n",
       " <__main__.ErrorLog at 0x7ff5dfffa2e8>,\n",
       " <__main__.ErrorLog at 0x7ff5e4072be0>]"
      ]
     },
     "execution_count": 224,
     "metadata": {},
     "output_type": "execute_result"
    }
   ],
   "source": [
    "session.query(ErrorLog).all()"
   ]
  },
  {
   "cell_type": "markdown",
   "metadata": {},
   "source": [
    "select first record display object and then print error_name field value"
   ]
  },
  {
   "cell_type": "code",
   "execution_count": 225,
   "metadata": {
    "collapsed": true
   },
   "outputs": [],
   "source": [
    "some_error = session.query(ErrorLog).first()"
   ]
  },
  {
   "cell_type": "code",
   "execution_count": 226,
   "metadata": {
    "collapsed": false
   },
   "outputs": [
    {
     "name": "stdout",
     "output_type": "stream",
     "text": [
      "<__main__.ErrorLog object at 0x7ff5e4072fd0>\n"
     ]
    }
   ],
   "source": [
    "print(some_error)"
   ]
  },
  {
   "cell_type": "code",
   "execution_count": 227,
   "metadata": {
    "collapsed": false
   },
   "outputs": [
    {
     "name": "stdout",
     "output_type": "stream",
     "text": [
      " FuMain\n"
     ]
    }
   ],
   "source": [
    "print(some_error.error_name)"
   ]
  },
  {
   "cell_type": "markdown",
   "metadata": {},
   "source": [
    "Delete record with name New error"
   ]
  },
  {
   "cell_type": "code",
   "execution_count": 231,
   "metadata": {
    "collapsed": false
   },
   "outputs": [
    {
     "data": {
      "text/plain": [
       "0"
      ]
     },
     "execution_count": 231,
     "metadata": {},
     "output_type": "execute_result"
    }
   ],
   "source": [
    "session.query(ErrorLog).filter_by(error_name='New error').delete()"
   ]
  },
  {
   "cell_type": "markdown",
   "metadata": {},
   "source": [
    "Delete all rows from DB before persisting data from file"
   ]
  },
  {
   "cell_type": "code",
   "execution_count": 230,
   "metadata": {
    "collapsed": false
   },
   "outputs": [
    {
     "data": {
      "text/plain": [
       "50"
      ]
     },
     "execution_count": 230,
     "metadata": {},
     "output_type": "execute_result"
    }
   ],
   "source": [
    "session.query(ErrorLog).delete()"
   ]
  },
  {
   "cell_type": "markdown",
   "metadata": {},
   "source": [
    "## Persist all errors in DB"
   ]
  },
  {
   "cell_type": "code",
   "execution_count": 232,
   "metadata": {
    "collapsed": false
   },
   "outputs": [],
   "source": [
    "for record in DataProcess.get_error_data():\n",
    "    new_error = ErrorLog(error_name=record[2], error_type=record[1], error_date=record[0])\n",
    "    session.add(new_error)\n",
    "session.commit()"
   ]
  },
  {
   "cell_type": "code",
   "execution_count": 233,
   "metadata": {
    "collapsed": false
   },
   "outputs": [
    {
     "name": "stdout",
     "output_type": "stream",
     "text": [
      "2015-12-13 12:05:25.000345: /apache-log/error.log.44.gz - 40.77.167.66\n",
      "2015-12-13 16:14:58.000345: /apache-log/error.log.55.gz - 157.55.39.8\n",
      "2015-12-13 18:43:22.000345: /apache-log/error.log - 188.143.232.11\n",
      "2015-12-16 21:00:26.000345: /apache-log/error.log.20.gz - 40.77.167.94\n",
      "2015-12-17 11:26:35.000345: /apache-log/error.log - 180.76.15.10\n",
      "2015-12-20 08:25:52.000345: /apache-log/error.log - 180.76.15.16\n",
      "2015-12-21 19:28:46.000345: /apache-log/error.log.47.gz - 157.55.39.92\n",
      "2015-12-22 22:13:49.000345: /apache-log/error.log.88.gz - 207.46.13.161\n",
      "2015-12-24 14:17:10.000345: /apache-log/error.log.84.gz - 207.46.13.70\n",
      "2015-12-25 03:36:04.000345: /apache-log/error.log.89.gz - 157.55.39.169\n",
      "2015-12-26 04:09:40.000345: /apache-log/error.log - 66.249.66.22\n",
      "2015-12-26 16:30:54.000345: /apache-log/error.log.41.gz - 40.77.167.0\n",
      "2015-12-28 13:58:35.000345: /apache-log/error.log.66.gz - 157.55.39.245\n",
      "2015-12-29 19:48:49.000345: /apache-log/error.log - 2.137.210.106\n",
      "2015-12-30 11:16:25.000345: /apache-log/error.log.73.gz - 40.77.167.36\n",
      "2016-01-01 14:40:26.000345: /apache-log/error.log.8.gz - 40.77.167.79\n",
      "2016-01-01 19:14:28.000345: /apache-log/error.log.8.gz - 40.77.167.79\n",
      "2016-01-04 08:26:51.000345: /apache-log/error.log.56.gz - 157.55.39.214\n",
      "2016-01-04 23:24:11.000345: /apache-log/error.log.56.gz - 157.55.39.215\n",
      "2016-01-11 13:05:53.000345: /apache-log/error.log.68.gz - 157.55.39.155\n",
      "2016-01-11 15:10:20.000345: /apache-log/error.log.68.gz - 157.55.39.156\n",
      "2016-01-12 07:17:56.000345: /apache-log/error.log - 180.76.15.137\n",
      "2016-01-12 10:19:21.000345: /apache-log/error.log - 195.70.46.193\n",
      "2016-01-12 10:20:04.000345: /apache-log/error.log - 195.70.46.193\n",
      "2016-01-12 17:01:02.000345: /apache-log/error.log.51.gz - 207.46.13.140\n",
      "2016-01-12 20:36:50.000345: /apache-log/error.log.34.gz - 157.55.39.155\n",
      "2016-01-12 22:05:03.000345: /apache-log/error.log - 180.76.15.146\n",
      "2016-01-13 12:32:15.000345: /apache-log/error.log.70.gz - 157.55.39.44\n",
      "2016-01-13 16:50:12.000345: /apache-log/error.log.63.gz - 157.55.39.44\n",
      "2016-01-13 20:55:09.000345: /apache-log/error.log.67.gz - 207.46.13.85\n",
      "2016-01-14 06:46:27.000345: /?1=%40ini_set%28%22display_errors%22%2C%220%22%29%3B%40set_time_limit%280%29%3B%40set_magic_quotes_runtime%280%29%3Becho%20%27-%3E%7C%27%3Bfile_put_contents%28%24_SERVER%5B%27DOCUMENT_ROOT%27%5D.%27/images/al277.php%27%2Cbase64_decode%28%27PD9waHAgZXZhbCgkX1BPU1RbMV0pOz8%2B%27%29%29%3Becho%20%27%7C%3C-%27%3B - 91.207.7.34\n",
      "2016-01-14 06:46:27.000345: /?1=%40ini_set%28%22display_errors%22%2C%220%22%29%3B%40set_time_limit%280%29%3B%40set_magic_quotes_runtime%280%29%3Becho%20%27-%3E%7C%27%3Bfile_put_contents%28%24_SERVER%5B%27DOCUMENT_ROOT%27%5D.%27/images/al277.php%27%2Cbase64_decode%28%27PD9waHAgZXZhbCgkX1BPU1RbMV0pOz8%2B%27%29%29%3Becho%20%27%7C%3C-%27%3B - 91.207.7.34\n",
      "2016-01-15 10:38:19.000345: /apache-log/error.log.6.gz - 157.55.39.155\n",
      "2016-01-20 04:02:30.000345: /apache-log/error.log.58.gz - 207.46.13.147\n",
      "2016-01-20 21:54:30.000345: /apache-log/error.log.19.gz - 207.46.13.147\n",
      "2016-01-22 17:50:05.000345: /apache-log/error.log - 79.200.200.123\n",
      "2016-01-23 15:27:45.000345: /apache-log/error.log.44.gz - 157.55.39.48\n",
      "2016-01-23 20:58:45.000345: /apache-log/error.log.42.gz - 157.55.39.225\n",
      "2016-01-24 02:17:49.000345: /apache-log/error.log.55.gz - 207.46.13.125\n",
      "2016-01-24 08:10:22.000345: /apache-log/error.log.83.gz - 157.55.39.153\n",
      "2016-01-25 18:29:18.000345: /apache-log/error.log.78.gz - 157.55.39.153\n",
      "2016-01-26 00:27:40.000345: /apache-log/error.log.9.gz - 40.77.167.85\n",
      "2016-01-26 08:35:56.000345: /apache-log/error.log.53.gz - 40.77.167.92\n",
      "2016-01-26 18:29:45.000345: /apache-log/error.log.21.gz - 207.46.13.99\n"
     ]
    }
   ],
   "source": [
    "for err in session.query(ErrorLog).all():\n",
    "    print(f'{err.error_date}: {err.error_type} - {err.error_name}')"
   ]
  },
  {
   "cell_type": "markdown",
   "metadata": {},
   "source": [
    "## Raw SQL to DB"
   ]
  },
  {
   "cell_type": "code",
   "execution_count": 234,
   "metadata": {
    "collapsed": false
   },
   "outputs": [],
   "source": [
    "from sqlalchemy import text\n",
    "sql = text('select * from ErrorLog')\n",
    "result = session.execute(sql)"
   ]
  },
  {
   "cell_type": "code",
   "execution_count": 235,
   "metadata": {
    "collapsed": false
   },
   "outputs": [
    {
     "name": "stdout",
     "output_type": "stream",
     "text": [
      "(1, '/apache-log/error.log.44.gz', '40.77.167.66', '2015-12-13 12:05:25.000345')\n",
      "(2, '/apache-log/error.log.55.gz', '157.55.39.8', '2015-12-13 16:14:58.000345')\n",
      "(3, '/apache-log/error.log', '188.143.232.11', '2015-12-13 18:43:22.000345')\n",
      "(4, '/apache-log/error.log.20.gz', '40.77.167.94', '2015-12-16 21:00:26.000345')\n",
      "(5, '/apache-log/error.log', '180.76.15.10', '2015-12-17 11:26:35.000345')\n",
      "(6, '/apache-log/error.log', '180.76.15.16', '2015-12-20 08:25:52.000345')\n",
      "(7, '/apache-log/error.log.47.gz', '157.55.39.92', '2015-12-21 19:28:46.000345')\n",
      "(8, '/apache-log/error.log.88.gz', '207.46.13.161', '2015-12-22 22:13:49.000345')\n",
      "(9, '/apache-log/error.log.84.gz', '207.46.13.70', '2015-12-24 14:17:10.000345')\n",
      "(10, '/apache-log/error.log.89.gz', '157.55.39.169', '2015-12-25 03:36:04.000345')\n",
      "(11, '/apache-log/error.log', '66.249.66.22', '2015-12-26 04:09:40.000345')\n",
      "(12, '/apache-log/error.log.41.gz', '40.77.167.0', '2015-12-26 16:30:54.000345')\n",
      "(13, '/apache-log/error.log.66.gz', '157.55.39.245', '2015-12-28 13:58:35.000345')\n",
      "(14, '/apache-log/error.log', '2.137.210.106', '2015-12-29 19:48:49.000345')\n",
      "(15, '/apache-log/error.log.73.gz', '40.77.167.36', '2015-12-30 11:16:25.000345')\n",
      "(16, '/apache-log/error.log.8.gz', '40.77.167.79', '2016-01-01 14:40:26.000345')\n",
      "(17, '/apache-log/error.log.8.gz', '40.77.167.79', '2016-01-01 19:14:28.000345')\n",
      "(18, '/apache-log/error.log.56.gz', '157.55.39.214', '2016-01-04 08:26:51.000345')\n",
      "(19, '/apache-log/error.log.56.gz', '157.55.39.215', '2016-01-04 23:24:11.000345')\n",
      "(20, '/apache-log/error.log.68.gz', '157.55.39.155', '2016-01-11 13:05:53.000345')\n",
      "(21, '/apache-log/error.log.68.gz', '157.55.39.156', '2016-01-11 15:10:20.000345')\n",
      "(22, '/apache-log/error.log', '180.76.15.137', '2016-01-12 07:17:56.000345')\n",
      "(23, '/apache-log/error.log', '195.70.46.193', '2016-01-12 10:19:21.000345')\n",
      "(24, '/apache-log/error.log', '195.70.46.193', '2016-01-12 10:20:04.000345')\n",
      "(25, '/apache-log/error.log.51.gz', '207.46.13.140', '2016-01-12 17:01:02.000345')\n",
      "(26, '/apache-log/error.log.34.gz', '157.55.39.155', '2016-01-12 20:36:50.000345')\n",
      "(27, '/apache-log/error.log', '180.76.15.146', '2016-01-12 22:05:03.000345')\n",
      "(28, '/apache-log/error.log.70.gz', '157.55.39.44', '2016-01-13 12:32:15.000345')\n",
      "(29, '/apache-log/error.log.63.gz', '157.55.39.44', '2016-01-13 16:50:12.000345')\n",
      "(30, '/apache-log/error.log.67.gz', '207.46.13.85', '2016-01-13 20:55:09.000345')\n",
      "(31, '/?1=%40ini_set%28%22display_errors%22%2C%220%22%29%3B%40set_time_limit%280%29%3B%40set_magic_quotes_runtime%280%29%3Becho%20%27-%3E%7C%27%3Bfile_put_ ... (12 characters truncated) ... 24_SERVER%5B%27DOCUMENT_ROOT%27%5D.%27/images/al277.php%27%2Cbase64_decode%28%27PD9waHAgZXZhbCgkX1BPU1RbMV0pOz8%2B%27%29%29%3Becho%20%27%7C%3C-%27%3B', '91.207.7.34', '2016-01-14 06:46:27.000345')\n",
      "(32, '/?1=%40ini_set%28%22display_errors%22%2C%220%22%29%3B%40set_time_limit%280%29%3B%40set_magic_quotes_runtime%280%29%3Becho%20%27-%3E%7C%27%3Bfile_put_ ... (12 characters truncated) ... 24_SERVER%5B%27DOCUMENT_ROOT%27%5D.%27/images/al277.php%27%2Cbase64_decode%28%27PD9waHAgZXZhbCgkX1BPU1RbMV0pOz8%2B%27%29%29%3Becho%20%27%7C%3C-%27%3B', '91.207.7.34', '2016-01-14 06:46:27.000345')\n",
      "(33, '/apache-log/error.log.6.gz', '157.55.39.155', '2016-01-15 10:38:19.000345')\n",
      "(34, '/apache-log/error.log.58.gz', '207.46.13.147', '2016-01-20 04:02:30.000345')\n",
      "(35, '/apache-log/error.log.19.gz', '207.46.13.147', '2016-01-20 21:54:30.000345')\n",
      "(36, '/apache-log/error.log', '79.200.200.123', '2016-01-22 17:50:05.000345')\n",
      "(37, '/apache-log/error.log.44.gz', '157.55.39.48', '2016-01-23 15:27:45.000345')\n",
      "(38, '/apache-log/error.log.42.gz', '157.55.39.225', '2016-01-23 20:58:45.000345')\n",
      "(39, '/apache-log/error.log.55.gz', '207.46.13.125', '2016-01-24 02:17:49.000345')\n",
      "(40, '/apache-log/error.log.83.gz', '157.55.39.153', '2016-01-24 08:10:22.000345')\n",
      "(41, '/apache-log/error.log.78.gz', '157.55.39.153', '2016-01-25 18:29:18.000345')\n",
      "(42, '/apache-log/error.log.9.gz', '40.77.167.85', '2016-01-26 00:27:40.000345')\n",
      "(43, '/apache-log/error.log.53.gz', '40.77.167.92', '2016-01-26 08:35:56.000345')\n",
      "(44, '/apache-log/error.log.21.gz', '207.46.13.99', '2016-01-26 18:29:45.000345')\n"
     ]
    }
   ],
   "source": [
    "for row in result:\n",
    "    print(row)"
   ]
  }
 ],
 "metadata": {
  "kernelspec": {
   "display_name": "Python 3",
   "language": "python",
   "name": "python3"
  },
  "language_info": {
   "codemirror_mode": {
    "name": "ipython",
    "version": 3
   },
   "file_extension": ".py",
   "mimetype": "text/x-python",
   "name": "python",
   "nbconvert_exporter": "python",
   "pygments_lexer": "ipython3",
   "version": "3.6.0"
  }
 },
 "nbformat": 4,
 "nbformat_minor": 2
}
