{
 "cells": [
  {
   "cell_type": "code",
   "execution_count": 3,
   "metadata": {},
   "outputs": [],
   "source": [
    "%matplotlib inline\n",
    "\n",
    "import matplotlib.pyplot as plt\n",
    "import numpy as np\n",
    "from faker import Faker\n",
    "import random\n",
    "from sklearn import linear_model\n",
    "from sklearn import datasets\n",
    "\n",
    "fake = Faker('pl_PL')"
   ]
  },
  {
   "cell_type": "markdown",
   "metadata": {},
   "source": [
    "- Stwórz klasę student (imię, nazwisko, nr albumu, lista ocen, nieobecności)\n",
    "- Klasa powinna mieć metodę, która wylicza średnią studenta\n",
    "- Klasa powinna mieć metody które przedstawiają studenta w sposób:\n",
    "- Student: Adam Nowak, index: 123456 ma średnią ocen:  3,65, jest studentem ze słabą/dobrą frekwencją\n",
    "- Przyjmujemy że student z dobrą frekwencją to taki co opuścił maksymalnie 2 zajęcia\n",
    "- Na podstawie średniej ocen dokonaj predykcji ilości dni opuszczonych przez studenta: jego oceny to: [3, 3, 3, 2]\n"
   ]
  },
  {
   "cell_type": "code",
   "execution_count": 4,
   "metadata": {},
   "outputs": [],
   "source": [
    "class Student:\n",
    "    def __init__(self, imie, nazwisko, nr_albumu, lista_ocen, nieobecnosci):\n",
    "        self.imie         = imie\n",
    "        self.nazwisko     = nazwisko\n",
    "        self.nr_albumu    = nr_albumu\n",
    "        self.lista_ocen    = lista_ocen\n",
    "        self.nieobecnosci = nieobecnosci\n",
    "    def srednia_ocen(self):\n",
    "        srednia = np.mean(self.lista_ocen)\n",
    "        return srednia\n",
    "    def frekwencja(self):\n",
    "        if self.nieobecnosci <= 2:\n",
    "            return \"z dobrą\"\n",
    "        else:\n",
    "            return \"ze słabą\"\n",
    "    def identyfikuj(self):\n",
    "        print(\"%s %s, index: %s ma średnią ocen: %.1f, jest studentem %s frekwencją - '%i' dni\" % \n",
    "              (self.imie, self.nazwisko, self.nr_albumu, self.srednia_ocen(), self.frekwencja(), self.nieobecnosci))"
   ]
  },
  {
   "cell_type": "code",
   "execution_count": 5,
   "metadata": {},
   "outputs": [],
   "source": [
    "adam   = Student(\"Adam\", \"Nowak\", \"1234\", [3, 4, 5, 2, 6], 2)\n",
    "bartek = Student(\"Bartek\", \"Łoziński\", \"1235\", [5, 4, 5, 5, 6], 3)"
   ]
  },
  {
   "cell_type": "code",
   "execution_count": 6,
   "metadata": {},
   "outputs": [
    {
     "name": "stdout",
     "output_type": "stream",
     "text": [
      "4.0\n"
     ]
    }
   ],
   "source": [
    "print(adam.srednia_ocen())"
   ]
  },
  {
   "cell_type": "code",
   "execution_count": 7,
   "metadata": {},
   "outputs": [
    {
     "name": "stdout",
     "output_type": "stream",
     "text": [
      "Adam Nowak, index: 1234 ma średnią ocen: 4.0, jest studentem z dobrą frekwencją - '2' dni\n"
     ]
    }
   ],
   "source": [
    "adam.identyfikuj()"
   ]
  },
  {
   "cell_type": "code",
   "execution_count": 8,
   "metadata": {},
   "outputs": [
    {
     "name": "stdout",
     "output_type": "stream",
     "text": [
      "Bartek Łoziński, index: 1235 ma średnią ocen: 5.0, jest studentem ze słabą frekwencją - '3' dni\n"
     ]
    }
   ],
   "source": [
    "bartek.identyfikuj()"
   ]
  },
  {
   "cell_type": "markdown",
   "metadata": {},
   "source": [
    "## zadanie 11**"
   ]
  },
  {
   "cell_type": "markdown",
   "metadata": {},
   "source": [
    "- Na podstawie funkcji 10\n",
    "- Stwórz funkcję która przyjmuje parametr ilosc studentow\n",
    "- Funkcja generuje studentow z losowymi danymi\n",
    "- *Użyj paczki faker\n",
    "- Funkcja zwraca listę obiektów\n"
   ]
  },
  {
   "cell_type": "code",
   "execution_count": 13,
   "metadata": {},
   "outputs": [],
   "source": [
    "def generuj_studentow(ilosc):\n",
    "    lista = list()\n",
    "    print(type(lista))\n",
    "    for _ in range(ilosc):\n",
    "        imie = fake.name().split(' ')[-2]\n",
    "        nazwisko = fake.name().split(' ')[-1]\n",
    "        nr_indeksu = random.randint(1000,9999)\n",
    "        oceny = [random.randint(2, 5) for x in range(random.randint(3, 6))]\n",
    "        # nieobecnosci = random.randint(0, (8 // np.mean(oceny)*3))\n",
    "        nieobecnosci = -3*int(round(np.mean(oceny)))+14\n",
    "        lista.append(Student(imie, nazwisko, nr_indeksu, oceny, nieobecnosci)) \n",
    "    return lista\n"
   ]
  },
  {
   "cell_type": "code",
   "execution_count": 14,
   "metadata": {},
   "outputs": [
    {
     "name": "stdout",
     "output_type": "stream",
     "text": [
      "<class 'list'>\n"
     ]
    }
   ],
   "source": [
    "lista_studentow = generuj_studentow(100)"
   ]
  },
  {
   "cell_type": "code",
   "execution_count": 19,
   "metadata": {},
   "outputs": [
    {
     "name": "stdout",
     "output_type": "stream",
     "text": [
      "<class 'numpy.ndarray'>\n"
     ]
    }
   ],
   "source": [
    "srednie_oceny = np.array([x.srednia_ocen() for x in lista_studentow])\n",
    "dni_nieobecnosci = np.array([x.nieobecnosci for x in lista_studentow])\n",
    "print(type(srednie_oceny))"
   ]
  },
  {
   "cell_type": "code",
   "execution_count": 16,
   "metadata": {},
   "outputs": [
    {
     "data": {
      "image/png": "[encoded data removed]",
      "text/plain": [
       "<Figure size 432x288 with 1 Axes>"
      ]
     },
     "metadata": {},
     "output_type": "display_data"
    }
   ],
   "source": [
    "plt.scatter(srednie_oceny, dni_nieobecnosci,color='black')\n",
    "plt.xlabel(\"srednie oceny\")\n",
    "plt.ylabel(\"nieobecnosci\")\n",
    "plt.show()"
   ]
  },
  {
   "cell_type": "markdown",
   "metadata": {},
   "source": [
    "Deklarowanie funkcji regresji liniowej i wywołanie fit żeby nauczyć model"
   ]
  },
  {
   "cell_type": "code",
   "execution_count": 21,
   "metadata": {},
   "outputs": [
    {
     "data": {
      "text/plain": [
       "LinearRegression(copy_X=True, fit_intercept=True, n_jobs=1, normalize=False)"
      ]
     },
     "execution_count": 21,
     "metadata": {},
     "output_type": "execute_result"
    }
   ],
   "source": [
    "reg=linear_model.LinearRegression()\n",
    "reg.fit(srednie_oceny.reshape(-1, 1), dni_nieobecnosci.reshape(-1, 1))"
   ]
  },
  {
   "cell_type": "code",
   "execution_count": 22,
   "metadata": {},
   "outputs": [
    {
     "name": "stdout",
     "output_type": "stream",
     "text": [
      "slope= [-3.11032959] intercept= [14.25028308]\n"
     ]
    }
   ],
   "source": [
    "m=reg.coef_[0]\n",
    "b=reg.intercept_\n",
    "print(\"slope=\",m, \"intercept=\",b)"
   ]
  },
  {
   "cell_type": "code",
   "execution_count": 25,
   "metadata": {},
   "outputs": [
    {
     "data": {
      "image/png": "[encoded data removed]",
      "text/plain": [
       "<Figure size 432x288 with 1 Axes>"
      ]
     },
     "metadata": {},
     "output_type": "display_data"
    }
   ],
   "source": [
    "y_pred = reg.predict(srednie_oceny.reshape(-1,1))\n",
    "plt.scatter(srednie_oceny, dni_nieobecnosci,color='black')\n",
    "plt.plot(srednie_oceny, y_pred, 'b')\n",
    "plt.xlabel(\"srednie oceny\")\n",
    "plt.ylabel(\"nieobecnosci\")\n",
    "plt.show()"
   ]
  },
  {
   "cell_type": "code",
   "execution_count": 24,
   "metadata": {},
   "outputs": [
    {
     "name": "stdout",
     "output_type": "stream",
     "text": [
      "4\n"
     ]
    }
   ],
   "source": [
    "prediction = reg.predict(3)\n",
    "print(int(prediction[0][0]))"
   ]
  },
  {
   "cell_type": "markdown",
   "metadata": {},
   "source": [
    "## Zadanie 12"
   ]
  },
  {
   "cell_type": "markdown",
   "metadata": {},
   "source": [
    "- Na podstawie zadań 10 i 11\n",
    "- Stwórz klasę ClassInterpretation\n",
    "- Klasa posiada metody:\n",
    "- Zwracające dane odnośnie:\n",
    "- Średniej,\n",
    "- Mediany\n",
    "- Metoda str wykonana na obiekcie będzie opisywać słownie grupę studentów\n",
    "- Metoda float będzie zwracać średnią wszystkich studentów zaokrągloną do 2 miejsca po przecinku\n",
    "- Dokonaj wizuazlizacji grupy studentow (zaleznosc wyniki ocen od ilosci opuszczonych zajec)\n",
    "- Dokonaj predykcji dla studenta \n"
   ]
  },
  {
   "cell_type": "code",
   "execution_count": null,
   "metadata": {
    "collapsed": true
   },
   "outputs": [],
   "source": [
    "class ClassInterpretation:\n",
    "    def __init__(self, lista_klasy):\n",
    "        self.lista_klasy = lista_klasy\n",
    "    def __str__(self):\n",
    "        return \"na liście wpisanych jest %i studentów. Średnia ocen wszystkich studentów to: %.1f. Mediana ze wszystkich średnich to: %i\" % (len(self.lista_klasy), self.srednia(), self.mediana())\n",
    "    def __float__(self):\n",
    "        return float(round(self.srednia(), 2))\n",
    "    def srednia(self):\n",
    "        srednia = np.mean([student.srednia_ocen() for student in self.lista_klasy])\n",
    "        return srednia\n",
    "    def mediana(self):\n",
    "        # mediana ze średniej oceny wszystkich studentów\n",
    "        mediana = np.median([student.srednia_ocen() for student in self.lista_klasy])\n",
    "        return mediana\n",
    "    \n",
    "        "
   ]
  },
  {
   "cell_type": "code",
   "execution_count": null,
   "metadata": {
    "collapsed": true
   },
   "outputs": [],
   "source": [
    "classInterpreter = ClassInterpretation(lista_studentow)"
   ]
  },
  {
   "cell_type": "code",
   "execution_count": null,
   "metadata": {},
   "outputs": [],
   "source": [
    "print(classInterpreter)"
   ]
  },
  {
   "cell_type": "code",
   "execution_count": null,
   "metadata": {},
   "outputs": [],
   "source": [
    "float(classInterpreter)"
   ]
  }
 ],
 "metadata": {
  "kernelspec": {
   "display_name": "Python 3",
   "language": "python",
   "name": "python3"
  },
  "language_info": {
   "codemirror_mode": {
    "name": "ipython",
    "version": 3
   },
   "file_extension": ".py",
   "mimetype": "text/x-python",
   "name": "python",
   "nbconvert_exporter": "python",
   "pygments_lexer": "ipython3",
   "version": "3.6.5"
  }
 },
 "nbformat": 4,
 "nbformat_minor": 2
}
