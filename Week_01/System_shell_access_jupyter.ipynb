{
 "cells": [
  {
   "cell_type": "markdown",
   "metadata": {},
   "source": [
    "## System shell access from jupyter notebooks\n",
    "Any input line beginning with a \"!\" character is passed to the underlying operating system."
   ]
  },
  {
   "cell_type": "code",
   "execution_count": 8,
   "metadata": {
    "scrolled": false
   },
   "outputs": [
    {
     "name": "stdout",
     "output_type": "stream",
     "text": [
      "kodolamacz\r\n"
     ]
    }
   ],
   "source": [
    "!whoami"
   ]
  },
  {
   "cell_type": "code",
   "execution_count": 9,
   "metadata": {
    "scrolled": true
   },
   "outputs": [
    {
     "name": "stdout",
     "output_type": "stream",
     "text": [
      "razem 77\r\n",
      "drwxrwx--- 1 root vboxsf  4096 wrz 19 17:40 .\r\n",
      "drwxrwx--- 1 root vboxsf     0 wrz 16 09:42 ..\r\n",
      "drwxrwx--- 1 root vboxsf  4096 wrz 19 17:25 .git\r\n",
      "drwxrwx--- 1 root vboxsf     0 wrz 19 17:36 .ipynb_checkpoints\r\n",
      "-rwxrwx--- 1 root vboxsf 11122 wrz 16 17:31 Matplot.ipynb\r\n",
      "-rwxrwx--- 1 root vboxsf    23 wrz 19 17:31 README.md\r\n",
      "-rwxrwx--- 1 root vboxsf  2438 wrz 19 17:40 System shell access.ipynb\r\n",
      "-rwxrwx--- 1 root vboxsf 49469 wrz 19 17:36 Zadania Python.ipynb\r\n",
      "-rwxrwx--- 1 root vboxsf    67 wrz 16 14:14 zadanie6.py\r\n"
     ]
    }
   ],
   "source": [
    "!ls -al"
   ]
  },
  {
   "cell_type": "code",
   "execution_count": 10,
   "metadata": {},
   "outputs": [
    {
     "name": "stdout",
     "output_type": "stream",
     "text": [
      "A system variable: /home/kodolamacz\r\n"
     ]
    }
   ],
   "source": [
    "!echo \"A system variable: $$HOME\""
   ]
  },
  {
   "cell_type": "code",
   "execution_count": 11,
   "metadata": {},
   "outputs": [
    {
     "name": "stdout",
     "output_type": "stream",
     "text": [
      "/home/kodolamacz\r\n"
     ]
    }
   ],
   "source": [
    "!echo $HOME"
   ]
  },
  {
   "cell_type": "code",
   "execution_count": null,
   "metadata": {
    "collapsed": true
   },
   "outputs": [],
   "source": []
  }
 ],
 "metadata": {
  "kernelspec": {
   "display_name": "Python 3",
   "language": "python",
   "name": "python3"
  },
  "language_info": {
   "codemirror_mode": {
    "name": "ipython",
    "version": 3
   },
   "file_extension": ".py",
   "mimetype": "text/x-python",
   "name": "python",
   "nbconvert_exporter": "python",
   "pygments_lexer": "ipython3",
   "version": "3.6.5"
  }
 },
 "nbformat": 4,
 "nbformat_minor": 2
}
