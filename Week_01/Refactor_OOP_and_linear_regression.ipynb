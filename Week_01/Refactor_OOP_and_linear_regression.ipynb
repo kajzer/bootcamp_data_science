{
 "cells": [
  {
   "cell_type": "markdown",
   "metadata": {},
   "source": [
    "# OOP and linear regression\n",
    "Import necessary modules and init Faker with Polish localilization"
   ]
  },
  {
   "cell_type": "code",
   "execution_count": 337,
   "metadata": {},
   "outputs": [],
   "source": [
    "%matplotlib inline\n",
    "\n",
    "import matplotlib.pyplot as plt\n",
    "import math\n",
    "import numpy as np\n",
    "from faker import Faker\n",
    "import random\n",
    "from sklearn import linear_model\n",
    "from sklearn import datasets\n",
    "\n",
    "fake = Faker('pl_PL')"
   ]
  },
  {
   "cell_type": "markdown",
   "metadata": {},
   "source": [
    "Implement base class for `Student` and `PreSchool` classes"
   ]
  },
  {
   "cell_type": "code",
   "execution_count": 10,
   "metadata": {},
   "outputs": [],
   "source": [
    "class Person:\n",
    "    \"\"\"Base class for Student, other w8ing for implementation\"\"\"\n",
    "    def __init__(self, name, last_name):\n",
    "        self.name = name\n",
    "        self.last_name = last_name"
   ]
  },
  {
   "cell_type": "markdown",
   "metadata": {},
   "source": [
    "`Student` class inherits from `Person` class.\n",
    "Available methods:\n",
    "- `mean_marks` - will return mean of marks for one student\n",
    "- `attendance` - will return number of adsent days\n",
    "- `identify` - prints out info about student"
   ]
  },
  {
   "cell_type": "code",
   "execution_count": 36,
   "metadata": {},
   "outputs": [],
   "source": [
    "class Student(Person):\n",
    "    \"\"\"Inherited from Person class - implements basic functionalities for Student\"\"\"\n",
    "    def __init__(self, name, last_name, index_nr, marks, absence):\n",
    "        super().__init__(name, last_name)\n",
    "        self.index_nr    = index_nr\n",
    "        self.marks    = marks\n",
    "        self.absence = absence\n",
    "    def mean_marks(self):\n",
    "        \"\"\"Returns mean marks for student\"\"\"\n",
    "        mean = np.mean(self.marks)\n",
    "        return mean\n",
    "    def attendance(self):\n",
    "        \"\"\"Returns string depending on nr of missed days\"\"\"\n",
    "        if self.absence <= 2:\n",
    "            return \"good\"\n",
    "        else:\n",
    "            return \"bad\"\n",
    "    def identify(self):\n",
    "        \"\"\"Returns string: name, last_name, index: index_nr marks mean: mean_marks and is a student with\n",
    "        attendance() - absence days\"\"\"\n",
    "        print(\"%s %s, index: %s marks mean: %.1f, and is a student with %s attendance - %i days\" % \n",
    "              (self.name, self.last_name, self.index_nr, self.mean_marks(), self.attendance(), self.absence))"
   ]
  },
  {
   "cell_type": "markdown",
   "metadata": {},
   "source": [
    "`PreSchool` is same as `Student` with exception of `mean_marks` which will always return 5.0 and attendance that will return super/superb."
   ]
  },
  {
   "cell_type": "code",
   "execution_count": 188,
   "metadata": {},
   "outputs": [],
   "source": [
    "class PreSchooler(Person):\n",
    "    \"\"\"Inherited from Person class - implements basic functionalities for PreSchooler\"\"\"\n",
    "    def __init__(self, name, last_name, index_nr, marks, absence):\n",
    "        super().__init__(name, last_name)\n",
    "        self.index_nr    = index_nr\n",
    "        self.marks    = marks\n",
    "        self.absence = absence\n",
    "    def mean_marks(self):\n",
    "        \"\"\"Returns mean marks for preschooler but since we can not discourge them it will always be 5.0\"\"\"\n",
    "        return 5.0\n",
    "    def attendance(self):\n",
    "        \"\"\"Returns string depending on nr of missed days - they are sick a lot so options are only super/superb\"\"\"\n",
    "        if self.absence <= 2:\n",
    "            return \"superb\"\n",
    "        else:\n",
    "            return \"super\"\n",
    "    def identify(self):\n",
    "        \"\"\"Returns string: name, last_name, index: index_nr marks mean: mean_marks and is a student with\n",
    "        attendance() - absence days\"\"\"\n",
    "        print(\"%s %s, index: %s marks mean: %.1f, and is a student with %s attendance - %i days\" % \n",
    "              (self.name, self.last_name, self.index_nr, self.mean_marks(), self.attendance(), self.absence))"
   ]
  },
  {
   "cell_type": "markdown",
   "metadata": {},
   "source": [
    "`ClassInterpretation` takes either `Student` or `PreSchool` class as argument. Implements one class variable `school_name`. Sample usage of all methods bellow class. For each method you can call `?` or `help()` ex: `adam.mean_marks?` or `help(adam.mean_marks)`"
   ]
  },
  {
   "cell_type": "code",
   "execution_count": 394,
   "metadata": {},
   "outputs": [],
   "source": [
    "class ClassInterpretation:\n",
    "    \n",
    "    school_name = \"School of rock\"\n",
    "    \n",
    "    def __init__(self, student_class):\n",
    "        self._class_list = []\n",
    "        self.student_class = student_class\n",
    "    \n",
    "    def __str__(self):\n",
    "        \"\"\"returns information about students in the class\"\"\"\n",
    "        return \"There is %i students in the class room. Mean of marks of all students is: %.1f. Median of all means is: %i\" % (len(self.class_list), self.mean(), self.median())\n",
    "    \n",
    "    def __float__(self):\n",
    "        \"\"\"returns mean of all means of all students\"\"\"\n",
    "        return float(round(self.mean(), 2))\n",
    "    \n",
    "    def __len__(self):\n",
    "        \"\"\"returns length of student list\"\"\"\n",
    "        return len(self.class_list)\n",
    "    \n",
    "    def __add__(self, other):\n",
    "        \"\"\"adds studetn to do class list\n",
    "        Usage: \n",
    "        someClass = ClassInterpretation(Student)\n",
    "        some+['Oliwier', 'Hanusiak', 5214, [4, 5, 3, 4], 2]\"\"\"\n",
    "        self.class_list.append(self.student_class(*other))\n",
    "        \n",
    "    @property\n",
    "    def class_list(self):\n",
    "        \"\"\"when called generates random list of students with random length from 15 to 20 students\n",
    "        when assigned value will generate random list of students with given length\"\"\"\n",
    "        if len(self._class_list) < 1:\n",
    "            self.class_list = random.randint(15, 20)\n",
    "            return self._class_list\n",
    "        else:\n",
    "            return self._class_list\n",
    "        \n",
    "    @class_list.setter\n",
    "    def class_list(self, nr_students):\n",
    "        gen_list = list()\n",
    "        for _ in range(nr_students):\n",
    "            name = fake.name().split(' ')[-2]\n",
    "            last_name = fake.name().split(' ')[-1]\n",
    "            index_nr = random.randint(1000,9999)\n",
    "            marks = [random.randint(2, 5) for x in range(random.randint(3, 6))]\n",
    "            absence = -3*int(round(np.mean(marks)))+14\n",
    "            gen_list.append(self.student_class(name, last_name, index_nr, marks, absence)) \n",
    "        self._class_list = gen_list\n",
    "        \n",
    "    @classmethod\n",
    "    def set_school_name(cls, new_school_name):\n",
    "        \"\"\"sets class varaible value\"\"\"\n",
    "        cls.school_name = new_school_name\n",
    "        \n",
    "    @classmethod\n",
    "    def print_school_name(cls):\n",
    "        \"\"\"prints class variable\"\"\"\n",
    "        print(\"This school is named:\", cls.school_name)\n",
    "        \n",
    "    @staticmethod\n",
    "    def std_deviation(elm_list):\n",
    "        \"\"\"returns standard deviation of given list\"\"\"\n",
    "        my_mean = np.mean(elm_list)\n",
    "        my_sum = sum([(x - my_mean)**2 for x in elm_list])\n",
    "        return math.sqrt(my_sum/len(elm_list))\n",
    "    \n",
    "    def mean(self):\n",
    "        \"\"\"returns mean of all student marks in class\"\"\"\n",
    "        mean = np.mean([atendee.mean_marks() for atendee in self.class_list])\n",
    "        return mean\n",
    "    \n",
    "    def median(self):\n",
    "        \"\"\"returns median from mean od all students\"\"\"\n",
    "        median = np.median([atendee.mean_marks() for atendee in self.class_list])\n",
    "        return median\n",
    "    \n",
    "    def print_students(self):\n",
    "        \"\"\"prints out info about every student\"\"\"\n",
    "        for atendee in self.class_list:\n",
    "            atendee.identify()\n",
    "            \n",
    "    def get_mean_absence_arrays(self):\n",
    "        \"\"\"helper method for linear regression, trying out returning multiple values with tuple\"\"\"\n",
    "        mean_marks = np.array([x.mean_marks() for x in self.class_list])\n",
    "        absence_days = np.array([x.absence for x in self.class_list])\n",
    "        return (mean_marks, absence_days)\n",
    "    \n",
    "    def plot_students(self):\n",
    "        \"\"\"plot students with matplotlib\"\"\"\n",
    "        mean_marks, absence_days = self.get_mean_absence_arrays()\n",
    "        plt.scatter(mean_marks, absence_days,color='black')\n",
    "        plt.xlabel(\"mean marks\")\n",
    "        plt.ylabel(\"# of abence days\")\n",
    "        plt.show()\n",
    "        \n",
    "    def linear_regression(self):\n",
    "        \"\"\"create linear regression model with sklearn\"\"\"\n",
    "        reg=linear_model.LinearRegression()\n",
    "        mean_marks, absence_days = self.get_mean_absence_arrays()\n",
    "        mean_marks, absence_days = mean_marks.reshape(-1, 1), absence_days.reshape(-1, 1)\n",
    "        reg.fit(mean_marks, absence_days)\n",
    "        m=reg.coef_[0]\n",
    "        b=reg.intercept_\n",
    "        print(\"slope=\",m, \"intercept=\",b)\n",
    "        y_pred = reg.predict(mean_marks)\n",
    "        plt.scatter(mean_marks, absence_days,color='black')\n",
    "        plt.plot(mean_marks, y_pred, 'b')\n",
    "        plt.xlabel(\"mean marks\")\n",
    "        plt.ylabel(\"# of abence days\")\n",
    "        plt.show()\n",
    "        \n",
    "    def predict_nr_days_absence(self, mean):\n",
    "        \"\"\"returns predicted # of days of absence based on a given mean of marks\"\"\"\n",
    "        reg=linear_model.LinearRegression()\n",
    "        mean_marks, absence_days = self.get_mean_absence_arrays()\n",
    "        mean_marks, absence_days = mean_marks.reshape(-1, 1), absence_days.reshape(-1, 1)\n",
    "        reg.fit(mean_marks, absence_days)\n",
    "        return reg.predict(mean)"
   ]
  },
  {
   "cell_type": "markdown",
   "metadata": {},
   "source": [
    "Standard deviation thanks to `@staticmethod` decorator"
   ]
  },
  {
   "cell_type": "code",
   "execution_count": 395,
   "metadata": {},
   "outputs": [
    {
     "data": {
      "text/plain": [
       "1.9720265943665387"
      ]
     },
     "execution_count": 395,
     "metadata": {},
     "output_type": "execute_result"
    }
   ],
   "source": [
    "ClassInterpretation.std_deviation([2, 5, 8, 4, 6, 7])"
   ]
  },
  {
   "cell_type": "markdown",
   "metadata": {},
   "source": [
    "Print school name with `print_school_name` `@classmethod` change name and print again"
   ]
  },
  {
   "cell_type": "code",
   "execution_count": 396,
   "metadata": {},
   "outputs": [
    {
     "name": "stdout",
     "output_type": "stream",
     "text": [
      "This school is named: School of rock\n",
      "This school is named: New school name\n"
     ]
    }
   ],
   "source": [
    "ClassInterpretation.print_school_name()\n",
    "ClassInterpretation.set_school_name('New school name')\n",
    "ClassInterpretation.print_school_name()"
   ]
  },
  {
   "cell_type": "markdown",
   "metadata": {},
   "source": [
    "Instantiate `ClassInterpretation` to some_school variable passing `Student` class as argument. Class can be instantiatet by passing `PreSchool` class as well. Implemented variation of **simple abstract factory** design pattern."
   ]
  },
  {
   "cell_type": "code",
   "execution_count": 397,
   "metadata": {},
   "outputs": [],
   "source": [
    "some_school = ClassInterpretation(Student)"
   ]
  },
  {
   "cell_type": "markdown",
   "metadata": {},
   "source": [
    "Usage of dunder methods `__str__` `__float__` `__len__` and `__add__` more info with `help()`"
   ]
  },
  {
   "cell_type": "code",
   "execution_count": 398,
   "metadata": {},
   "outputs": [
    {
     "name": "stdout",
     "output_type": "stream",
     "text": [
      "There is 17 students in the class room. Mean of marks of all students is: 3.6. Median of all means is: 3\n",
      "3.56\n",
      "Help on method __float__ in module __main__:\n",
      "\n",
      "__float__() method of __main__.ClassInterpretation instance\n",
      "    returns mean of all means of all students\n",
      "\n",
      "17\n",
      "Adding new atendee\n",
      "18\n"
     ]
    }
   ],
   "source": [
    "print(some_school)\n",
    "print(float(some_school))\n",
    "help(some_school.__float__)\n",
    "print(len(some_school))\n",
    "print(\"Adding new atendee\")\n",
    "some_school+['Oliwier', 'Hanusiak', 5214, [4, 5, 3, 4], 2]\n",
    "print(len(some_school))"
   ]
  },
  {
   "cell_type": "markdown",
   "metadata": {},
   "source": [
    "Usage of `print_students()` method"
   ]
  },
  {
   "cell_type": "code",
   "execution_count": 399,
   "metadata": {},
   "outputs": [
    {
     "name": "stdout",
     "output_type": "stream",
     "text": [
      "18\n",
      "5\n",
      "Eliza Kokosza, index: 1681 marks mean: 3.0, and is a student with bad attendance - 5 days\n",
      "Roksana Kabza, index: 9318 marks mean: 2.7, and is a student with bad attendance - 5 days\n",
      "Witold Chomiuk, index: 1257 marks mean: 2.8, and is a student with bad attendance - 5 days\n",
      "Jan Gałach, index: 6709 marks mean: 4.2, and is a student with good attendance - 2 days\n",
      "Marika Krzykała, index: 6458 marks mean: 3.7, and is a student with good attendance - 2 days\n",
      "\n",
      "\n",
      "Eliza Kokosza, index: 1681 marks mean: 3.0, and is a student with bad attendance - 5 days\n",
      "Roksana Kabza, index: 9318 marks mean: 2.7, and is a student with bad attendance - 5 days\n",
      "Witold Chomiuk, index: 1257 marks mean: 2.8, and is a student with bad attendance - 5 days\n",
      "Jan Gałach, index: 6709 marks mean: 4.2, and is a student with good attendance - 2 days\n",
      "Marika Krzykała, index: 6458 marks mean: 3.7, and is a student with good attendance - 2 days\n",
      "Oliwier Hanusiak, index: 5214 marks mean: 4.0, and is a student with good attendance - 2 days\n"
     ]
    }
   ],
   "source": [
    "print(len(some_school))\n",
    "some_school.class_list = 5\n",
    "print(len(some_school))\n",
    "\n",
    "some_school.print_students()\n",
    "\n",
    "some_school+['Oliwier', 'Hanusiak', 5214, [4, 5, 3, 4], 2]\n",
    "print('\\n')\n",
    "some_school.print_students()"
   ]
  },
  {
   "cell_type": "markdown",
   "metadata": {},
   "source": [
    "Usage of `mean` and `median` methods"
   ]
  },
  {
   "cell_type": "code",
   "execution_count": 401,
   "metadata": {},
   "outputs": [
    {
     "name": "stdout",
     "output_type": "stream",
     "text": [
      "3.380555555555556\n",
      "3.333333333333333\n"
     ]
    }
   ],
   "source": [
    "print(some_school.mean())\n",
    "print(some_school.median())"
   ]
  },
  {
   "cell_type": "markdown",
   "metadata": {},
   "source": [
    "Increase number of students and use `plot_students` to plot out number of abcence days and mean marks of a atendee"
   ]
  },
  {
   "cell_type": "code",
   "execution_count": 405,
   "metadata": {},
   "outputs": [
    {
     "data": {
      "image/png": "[encoded data removed]",
      "text/plain": [
       "<Figure size 432x288 with 1 Axes>"
      ]
     },
     "metadata": {},
     "output_type": "display_data"
    }
   ],
   "source": [
    "some_school.class_list = 80\n",
    "some_school.plot_students()"
   ]
  },
  {
   "cell_type": "markdown",
   "metadata": {},
   "source": [
    "Training linear regression model to predict dependancy od atendees mean mark and number of days of absence"
   ]
  },
  {
   "cell_type": "code",
   "execution_count": 406,
   "metadata": {},
   "outputs": [
    {
     "name": "stdout",
     "output_type": "stream",
     "text": [
      "slope= [-2.9310211] intercept= [13.72373121]\n"
     ]
    },
    {
     "data": {
      "image/png": "[encoded data removed]",
      "text/plain": [
       "<Figure size 432x288 with 1 Axes>"
      ]
     },
     "metadata": {},
     "output_type": "display_data"
    }
   ],
   "source": [
    "some_school.linear_regression()"
   ]
  },
  {
   "cell_type": "markdown",
   "metadata": {},
   "source": [
    "Predict number of days of absence based on given mean mark"
   ]
  },
  {
   "cell_type": "code",
   "execution_count": 350,
   "metadata": {},
   "outputs": [
    {
     "name": "stdout",
     "output_type": "stream",
     "text": [
      "3\n"
     ]
    }
   ],
   "source": [
    "print(int(some_school.predict_nr_days_absence(3.5)[0][0]))"
   ]
  },
  {
   "cell_type": "code",
   "execution_count": 351,
   "metadata": {},
   "outputs": [
    {
     "data": {
      "text/plain": [
       "mappingproxy({'__module__': '__main__',\n",
       "              '__doc__': 'Inherited from Person class - implements basic functionalities for Student',\n",
       "              '__init__': <function __main__.Student.__init__(self, name, last_name, index_nr, marks, absence)>,\n",
       "              'mean_marks': <function __main__.Student.mean_marks(self)>,\n",
       "              'attendance': <function __main__.Student.attendance(self)>,\n",
       "              'identify': <function __main__.Student.identify(self)>})"
      ]
     },
     "execution_count": 351,
     "metadata": {},
     "output_type": "execute_result"
    }
   ],
   "source": [
    "Student.__dict__"
   ]
  },
  {
   "cell_type": "code",
   "execution_count": 358,
   "metadata": {},
   "outputs": [
    {
     "name": "stdout",
     "output_type": "stream",
     "text": [
      "Help on method mean_marks in module __main__:\n",
      "\n",
      "mean_marks() method of __main__.Student instance\n",
      "    Returns mean marks for student\n",
      "\n"
     ]
    }
   ],
   "source": [
    "help(adam.mean_marks)"
   ]
  }
 ],
 "metadata": {
  "kernelspec": {
   "display_name": "Python 3",
   "language": "python",
   "name": "python3"
  },
  "language_info": {
   "codemirror_mode": {
    "name": "ipython",
    "version": 3
   },
   "file_extension": ".py",
   "mimetype": "text/x-python",
   "name": "python",
   "nbconvert_exporter": "python",
   "pygments_lexer": "ipython3",
   "version": "3.6.5"
  }
 },
 "nbformat": 4,
 "nbformat_minor": 2
}
