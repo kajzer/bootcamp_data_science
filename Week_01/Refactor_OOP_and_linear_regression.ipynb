{
 "cells": [
  {
   "cell_type": "markdown",
   "metadata": {},
   "source": [
    "# OOP and linear regression\n",
    "Import necessary modules and init Faker with Polish localilization"
   ]
  },
  {
   "cell_type": "code",
   "execution_count": 50,
   "metadata": {},
   "outputs": [],
   "source": [
    "%matplotlib inline\n",
    "\n",
    "import matplotlib.pyplot as plt\n",
    "import math\n",
    "import numpy as np\n",
    "from faker import Faker\n",
    "import random\n",
    "from sklearn import linear_model\n",
    "from sklearn import datasets\n",
    "import json\n",
    "import requests\n",
    "import urllib\n",
    "\n",
    "fake = Faker('pl_PL')"
   ]
  },
  {
   "cell_type": "markdown",
   "metadata": {},
   "source": [
    "Implement base class for `Student` and `PreSchool` classes"
   ]
  },
  {
   "cell_type": "code",
   "execution_count": 51,
   "metadata": {},
   "outputs": [],
   "source": [
    "class Person:\n",
    "    \"\"\"Base class for Student, other w8ing for implementation\"\"\"\n",
    "    def __init__(self, name, last_name):\n",
    "        self.name = name\n",
    "        self.last_name = last_name"
   ]
  },
  {
   "cell_type": "markdown",
   "metadata": {},
   "source": [
    "`Student` class inherits from `Person` class.\n",
    "Available methods:\n",
    "- `mean_marks` - will return mean of marks for one student\n",
    "- `attendance` - will return number of adsent days\n",
    "- `identify` - prints out info about student"
   ]
  },
  {
   "cell_type": "code",
   "execution_count": 52,
   "metadata": {},
   "outputs": [],
   "source": [
    "class Student(Person):\n",
    "    \"\"\"Inherited from Person class - implements basic functionalities for Student\"\"\"\n",
    "    def __init__(self, name, last_name, index_nr, marks, absence):\n",
    "        super().__init__(name, last_name)\n",
    "        self.index_nr    = index_nr\n",
    "        self.marks    = marks\n",
    "        self.absence = absence\n",
    "    def mean_marks(self):\n",
    "        \"\"\"Returns mean marks for student\"\"\"\n",
    "        mean = np.mean(self.marks)\n",
    "        return mean\n",
    "    def attendance(self):\n",
    "        \"\"\"Returns string depending on nr of missed days\"\"\"\n",
    "        if self.absence <= 2:\n",
    "            return \"good\"\n",
    "        else:\n",
    "            return \"bad\"\n",
    "    def identify(self):\n",
    "        \"\"\"Returns string: name, last_name, index: index_nr marks mean: mean_marks and is a student with\n",
    "        attendance() - absence days\"\"\"\n",
    "        print(\"%s %s, index: %s marks mean: %.1f, and is a student with %s attendance - %i days\" % \n",
    "              (self.name, self.last_name, self.index_nr, self.mean_marks(), self.attendance(), self.absence))"
   ]
  },
  {
   "cell_type": "markdown",
   "metadata": {},
   "source": [
    "`PreSchool` is same as `Student` with exception of `mean_marks` which will always return 5.0 and attendance that will return super/superb."
   ]
  },
  {
   "cell_type": "code",
   "execution_count": 53,
   "metadata": {},
   "outputs": [],
   "source": [
    "class PreSchooler(Person):\n",
    "    \"\"\"Inherited from Person class - implements basic functionalities for PreSchooler\"\"\"\n",
    "    def __init__(self, name, last_name, index_nr, marks, absence):\n",
    "        super().__init__(name, last_name)\n",
    "        self.index_nr    = index_nr\n",
    "        self.marks    = marks\n",
    "        self.absence = absence\n",
    "    def mean_marks(self):\n",
    "        \"\"\"Returns mean marks for preschooler but since we can not discourge them it will always be 5.0\"\"\"\n",
    "        return 5.0\n",
    "    def attendance(self):\n",
    "        \"\"\"Returns string depending on nr of missed days - they are sick a lot so options are only super/superb\"\"\"\n",
    "        if self.absence <= 2:\n",
    "            return \"superb\"\n",
    "        else:\n",
    "            return \"super\"\n",
    "    def identify(self):\n",
    "        \"\"\"Returns string: name, last_name, index: index_nr marks mean: mean_marks and is a student with\n",
    "        attendance() - absence days\"\"\"\n",
    "        print(\"%s %s, index: %s marks mean: %.1f, and is a student with %s attendance - %i days\" % \n",
    "              (self.name, self.last_name, self.index_nr, self.mean_marks(), self.attendance(), self.absence))"
   ]
  },
  {
   "cell_type": "markdown",
   "metadata": {},
   "source": [
    "`ConnectionApi` connects to API endpoint to download data and convert to list of initialized objects of class **only** Student. Dosent't support `PreSchool` class. More infon about API: [Rails API](https://github.com/kajzer/school_api). Pass parameter (int) to limit amout of data to be returned by API. Hardcoded access_token for testing. API deployed on Heroku."
   ]
  },
  {
   "cell_type": "code",
   "execution_count": 54,
   "metadata": {},
   "outputs": [],
   "source": [
    "class ConnectionAPI:\n",
    "    def __init__(self):\n",
    "        pass\n",
    "    @staticmethod\n",
    "    def get_data(limit):\n",
    "        \"\"\"Download data from API endpoint. More info on API can be found: https://github.com/kajzer/school_api\"\"\"\n",
    "        url ='https://still-sea-49183.herokuapp.com/api/v1/users?access_token=abracadabra&limit=%i' % (limit)\n",
    "        response = requests.get(url)\n",
    "        response.raise_for_status()\n",
    "        studentData = json.loads(response.text)\n",
    "        studentArray = list()\n",
    "        for entry in studentData['users']:\n",
    "            studentArray.append(Student(entry['name'], entry['last_name'], entry['index_nr'], entry['marks'], entry['absence']))\n",
    "        return studentArray"
   ]
  },
  {
   "cell_type": "markdown",
   "metadata": {},
   "source": [
    "`ClassInterpretation` takes either `Student` or `PreSchool` class as argument. Implements one class variable `school_name`. Sample usage of all methods bellow class. For each method you can call `?` or `help()` ex: `adam.mean_marks?` or `help(adam.mean_marks)`"
   ]
  },
  {
   "cell_type": "code",
   "execution_count": 55,
   "metadata": {},
   "outputs": [],
   "source": [
    "class ClassInterpretation:\n",
    "    \n",
    "    school_name = \"School of rock\"\n",
    "    \n",
    "    def __init__(self, student_class):\n",
    "        self._class_list = []\n",
    "        self.student_class = student_class\n",
    "    \n",
    "    def __str__(self):\n",
    "        \"\"\"returns information about students in the class\"\"\"\n",
    "        return \"There is %i students in the class room. Mean of marks of all students is: %.1f. Median of all means is: %i\" % (len(self.class_list), self.mean(), self.median())\n",
    "    \n",
    "    def __float__(self):\n",
    "        \"\"\"returns mean of all means of all students\"\"\"\n",
    "        return float(round(self.mean(), 2))\n",
    "    \n",
    "    def __len__(self):\n",
    "        \"\"\"returns length of student list\"\"\"\n",
    "        return len(self.class_list)\n",
    "    \n",
    "    def __add__(self, other):\n",
    "        \"\"\"adds studetn to do class list\n",
    "        Usage: \n",
    "        someClass = ClassInterpretation(Student)\n",
    "        someClass+['Oliwier', 'Hanusiak', 5214, [4, 5, 3, 4], 2]\"\"\"\n",
    "        self.class_list.append(self.student_class(*other))\n",
    "        \n",
    "    @property\n",
    "    def class_list(self):\n",
    "        \"\"\"when called generates random list of students with random length from 15 to 20 students\n",
    "        when assigned value will generate random list of students with given length\"\"\"\n",
    "        if len(self._class_list) < 1:\n",
    "            self.class_list = random.randint(15, 20)\n",
    "            return self._class_list\n",
    "        else:\n",
    "            return self._class_list\n",
    "        \n",
    "    @class_list.setter\n",
    "    def class_list(self, nr_students):\n",
    "        gen_list = list()\n",
    "        for _ in range(nr_students):\n",
    "            name = fake.name().split(' ')[-2]\n",
    "            last_name = fake.name().split(' ')[-1]\n",
    "            index_nr = random.randint(1000,9999)\n",
    "            marks = [random.randint(2, 5) for x in range(random.randint(3, 6))]\n",
    "            absence = -3*int(round(np.mean(marks)))+14\n",
    "            gen_list.append(self.student_class(name, last_name, index_nr, marks, absence)) \n",
    "        self._class_list = gen_list\n",
    "        \n",
    "    @classmethod\n",
    "    def set_school_name(cls, new_school_name):\n",
    "        \"\"\"sets class varaible value\"\"\"\n",
    "        cls.school_name = new_school_name\n",
    "        \n",
    "    @classmethod\n",
    "    def print_school_name(cls):\n",
    "        \"\"\"prints class variable\"\"\"\n",
    "        print(\"This school is named:\", cls.school_name)\n",
    "        \n",
    "    @staticmethod\n",
    "    def std_deviation(elm_list):\n",
    "        \"\"\"returns standard deviation of given list\"\"\"\n",
    "        my_mean = np.mean(elm_list)\n",
    "        my_sum = sum([(x - my_mean)**2 for x in elm_list])\n",
    "        return math.sqrt(my_sum/len(elm_list))\n",
    "    \n",
    "    def mean(self):\n",
    "        \"\"\"returns mean of all student marks in class\"\"\"\n",
    "        mean = np.mean([atendee.mean_marks() for atendee in self.class_list])\n",
    "        return mean\n",
    "    \n",
    "    def median(self):\n",
    "        \"\"\"returns median from mean od all students\"\"\"\n",
    "        median = np.median([atendee.mean_marks() for atendee in self.class_list])\n",
    "        return median\n",
    "    \n",
    "    def print_students(self):\n",
    "        \"\"\"prints out info about every student\"\"\"\n",
    "        for atendee in self.class_list:\n",
    "            atendee.identify()\n",
    "            \n",
    "    def get_mean_absence_arrays(self):\n",
    "        \"\"\"helper method for linear regression, trying out returning multiple values with tuple\"\"\"\n",
    "        mean_marks = np.array([x.mean_marks() for x in self.class_list])\n",
    "        absence_days = np.array([x.absence for x in self.class_list])\n",
    "        return (mean_marks, absence_days)\n",
    "    \n",
    "    def plot_students(self):\n",
    "        \"\"\"plot students with matplotlib\"\"\"\n",
    "        mean_marks, absence_days = self.get_mean_absence_arrays()\n",
    "        plt.scatter(mean_marks, absence_days,color='black')\n",
    "        plt.xlabel(\"mean marks\")\n",
    "        plt.ylabel(\"# of abence days\")\n",
    "        plt.show()\n",
    "        \n",
    "    def linear_regression(self):\n",
    "        \"\"\"create linear regression model with sklearn\"\"\"\n",
    "        reg=linear_model.LinearRegression()\n",
    "        mean_marks, absence_days = self.get_mean_absence_arrays()\n",
    "        mean_marks, absence_days = mean_marks.reshape(-1, 1), absence_days.reshape(-1, 1)\n",
    "        reg.fit(mean_marks, absence_days)\n",
    "        m=reg.coef_[0]\n",
    "        b=reg.intercept_\n",
    "        print(\"slope=\",m, \"intercept=\",b)\n",
    "        y_pred = reg.predict(mean_marks)\n",
    "        plt.scatter(mean_marks, absence_days,color='black')\n",
    "        plt.plot(mean_marks, y_pred, 'b')\n",
    "        plt.xlabel(\"mean marks\")\n",
    "        plt.ylabel(\"# of abence days\")\n",
    "        plt.show()\n",
    "        \n",
    "    def predict_nr_days_absence(self, mean):\n",
    "        \"\"\"returns predicted # of days of absence based on a given mean of marks\"\"\"\n",
    "        reg=linear_model.LinearRegression()\n",
    "        mean_marks, absence_days = self.get_mean_absence_arrays()\n",
    "        mean_marks, absence_days = mean_marks.reshape(-1, 1), absence_days.reshape(-1, 1)\n",
    "        reg.fit(mean_marks, absence_days)\n",
    "        return reg.predict(mean)\n",
    "    def get_students_from_api(self, limit):\n",
    "        \"\"\"Download data from API endpoint. More info on API can be found: https://github.com/kajzer/school_api and return as Student list\"\"\"\n",
    "        self._class_list = ConnectionAPI.get_data(limit)"
   ]
  },
  {
   "cell_type": "markdown",
   "metadata": {},
   "source": [
    "Standard deviation thanks to `@staticmethod` decorator"
   ]
  },
  {
   "cell_type": "code",
   "execution_count": 56,
   "metadata": {},
   "outputs": [
    {
     "data": {
      "text/plain": [
       "1.9720265943665387"
      ]
     },
     "execution_count": 56,
     "metadata": {},
     "output_type": "execute_result"
    }
   ],
   "source": [
    "ClassInterpretation.std_deviation([2, 5, 8, 4, 6, 7])"
   ]
  },
  {
   "cell_type": "markdown",
   "metadata": {},
   "source": [
    "Print school name with `print_school_name` `@classmethod` change name and print again"
   ]
  },
  {
   "cell_type": "code",
   "execution_count": 57,
   "metadata": {},
   "outputs": [
    {
     "name": "stdout",
     "output_type": "stream",
     "text": [
      "This school is named: School of rock\n",
      "This school is named: New school name\n"
     ]
    }
   ],
   "source": [
    "ClassInterpretation.print_school_name()\n",
    "ClassInterpretation.set_school_name('New school name')\n",
    "ClassInterpretation.print_school_name()"
   ]
  },
  {
   "cell_type": "markdown",
   "metadata": {},
   "source": [
    "Instantiate `ClassInterpretation` to some_school variable passing `Student` class as argument. Class can be instantiatet by passing `PreSchool` class as well. Implemented variation of **simple abstract factory** design pattern."
   ]
  },
  {
   "cell_type": "code",
   "execution_count": 58,
   "metadata": {},
   "outputs": [],
   "source": [
    "some_school = ClassInterpretation(Student)"
   ]
  },
  {
   "cell_type": "markdown",
   "metadata": {},
   "source": [
    "Usage of dunder methods `__str__` `__float__` `__len__` and `__add__` more info with `help()`"
   ]
  },
  {
   "cell_type": "code",
   "execution_count": 59,
   "metadata": {},
   "outputs": [
    {
     "name": "stdout",
     "output_type": "stream",
     "text": [
      "There is 15 students in the class room. Mean of marks of all students is: 3.4. Median of all means is: 3\n",
      "3.45\n",
      "Help on method __float__ in module __main__:\n",
      "\n",
      "__float__() method of __main__.ClassInterpretation instance\n",
      "    returns mean of all means of all students\n",
      "\n",
      "15\n",
      "Adding new atendee\n",
      "16\n"
     ]
    }
   ],
   "source": [
    "print(some_school)\n",
    "print(float(some_school))\n",
    "help(some_school.__float__)\n",
    "print(len(some_school))\n",
    "print(\"Adding new atendee\")\n",
    "some_school+['Oliwier', 'Hanusiak', 5214, [4, 5, 3, 4], 2]\n",
    "print(len(some_school))"
   ]
  },
  {
   "cell_type": "markdown",
   "metadata": {},
   "source": [
    "Usage of `print_students()` method"
   ]
  },
  {
   "cell_type": "code",
   "execution_count": 60,
   "metadata": {},
   "outputs": [
    {
     "name": "stdout",
     "output_type": "stream",
     "text": [
      "16\n",
      "5\n",
      "Stefan Zatoń, index: 4806 marks mean: 3.4, and is a student with bad attendance - 5 days\n",
      "Eliza Holeksa, index: 9920 marks mean: 3.7, and is a student with good attendance - 2 days\n",
      "Sara Sztuczka, index: 7957 marks mean: 4.6, and is a student with good attendance - -1 days\n",
      "Hubert Szoka, index: 5510 marks mean: 3.6, and is a student with good attendance - 2 days\n",
      "Lidia Latek, index: 9326 marks mean: 3.0, and is a student with bad attendance - 5 days\n",
      "\n",
      "\n",
      "Stefan Zatoń, index: 4806 marks mean: 3.4, and is a student with bad attendance - 5 days\n",
      "Eliza Holeksa, index: 9920 marks mean: 3.7, and is a student with good attendance - 2 days\n",
      "Sara Sztuczka, index: 7957 marks mean: 4.6, and is a student with good attendance - -1 days\n",
      "Hubert Szoka, index: 5510 marks mean: 3.6, and is a student with good attendance - 2 days\n",
      "Lidia Latek, index: 9326 marks mean: 3.0, and is a student with bad attendance - 5 days\n",
      "Oliwier Hanusiak, index: 5214 marks mean: 4.0, and is a student with good attendance - 2 days\n"
     ]
    }
   ],
   "source": [
    "print(len(some_school))\n",
    "some_school.class_list = 5\n",
    "print(len(some_school))\n",
    "\n",
    "some_school.print_students()\n",
    "\n",
    "some_school+['Oliwier', 'Hanusiak', 5214, [4, 5, 3, 4], 2]\n",
    "print('\\n')\n",
    "some_school.print_students()"
   ]
  },
  {
   "cell_type": "markdown",
   "metadata": {},
   "source": [
    "Usage of `mean` and `median` methods"
   ]
  },
  {
   "cell_type": "code",
   "execution_count": 61,
   "metadata": {},
   "outputs": [
    {
     "name": "stdout",
     "output_type": "stream",
     "text": [
      "3.711111111111111\n",
      "3.6333333333333333\n"
     ]
    }
   ],
   "source": [
    "print(some_school.mean())\n",
    "print(some_school.median())"
   ]
  },
  {
   "cell_type": "markdown",
   "metadata": {},
   "source": [
    "Increase number of students and use `plot_students` to plot out number of abcence days and mean marks of a atendee"
   ]
  },
  {
   "cell_type": "code",
   "execution_count": 62,
   "metadata": {},
   "outputs": [
    {
     "data": {
      "image/png": "[encoded data removed]",
      "text/plain": [
       "<Figure size 432x288 with 1 Axes>"
      ]
     },
     "metadata": {},
     "output_type": "display_data"
    }
   ],
   "source": [
    "some_school.class_list = 80\n",
    "some_school.plot_students()"
   ]
  },
  {
   "cell_type": "markdown",
   "metadata": {},
   "source": [
    "Training linear regression model to predict dependancy od atendees mean mark and number of days of absence"
   ]
  },
  {
   "cell_type": "code",
   "execution_count": 63,
   "metadata": {},
   "outputs": [
    {
     "name": "stdout",
     "output_type": "stream",
     "text": [
      "slope= [-3.01603943] intercept= [14.17871832]\n"
     ]
    },
    {
     "data": {
      "image/png": "[encoded data removed]",
      "text/plain": [
       "<Figure size 432x288 with 1 Axes>"
      ]
     },
     "metadata": {},
     "output_type": "display_data"
    }
   ],
   "source": [
    "some_school.linear_regression()"
   ]
  },
  {
   "cell_type": "markdown",
   "metadata": {},
   "source": [
    "Predict number of days of absence based on given mean mark"
   ]
  },
  {
   "cell_type": "code",
   "execution_count": 64,
   "metadata": {},
   "outputs": [
    {
     "name": "stdout",
     "output_type": "stream",
     "text": [
      "3\n"
     ]
    }
   ],
   "source": [
    "print(int(some_school.predict_nr_days_absence(3.5)[0][0]))"
   ]
  },
  {
   "cell_type": "code",
   "execution_count": 65,
   "metadata": {},
   "outputs": [
    {
     "data": {
      "text/plain": [
       "mappingproxy({'__module__': '__main__',\n",
       "              '__doc__': 'Inherited from Person class - implements basic functionalities for Student',\n",
       "              '__init__': <function __main__.Student.__init__(self, name, last_name, index_nr, marks, absence)>,\n",
       "              'mean_marks': <function __main__.Student.mean_marks(self)>,\n",
       "              'attendance': <function __main__.Student.attendance(self)>,\n",
       "              'identify': <function __main__.Student.identify(self)>})"
      ]
     },
     "execution_count": 65,
     "metadata": {},
     "output_type": "execute_result"
    }
   ],
   "source": [
    "Student.__dict__"
   ]
  },
  {
   "cell_type": "code",
   "execution_count": 66,
   "metadata": {},
   "outputs": [
    {
     "name": "stdout",
     "output_type": "stream",
     "text": [
      "Help on method get_students_from_api in module __main__:\n",
      "\n",
      "get_students_from_api(limit) method of __main__.ClassInterpretation instance\n",
      "    Download data from API endpoint. More info on API can be found: https://github.com/kajzer/school_api and return as Student list\n",
      "\n"
     ]
    }
   ],
   "source": [
    "help(some_school.get_students_from_api)"
   ]
  },
  {
   "cell_type": "markdown",
   "metadata": {},
   "source": [
    "Get students from **API**"
   ]
  },
  {
   "cell_type": "code",
   "execution_count": 67,
   "metadata": {},
   "outputs": [],
   "source": [
    "some_school.get_students_from_api(25)"
   ]
  },
  {
   "cell_type": "markdown",
   "metadata": {},
   "source": [
    "Print out students from API"
   ]
  },
  {
   "cell_type": "code",
   "execution_count": 68,
   "metadata": {},
   "outputs": [
    {
     "name": "stdout",
     "output_type": "stream",
     "text": [
      "Krystyna Nowacki, index: 44603138 marks mean: 2.8, and is a student with bad attendance - 5 days\n",
      "Beata Walicki, index: 40745225 marks mean: 3.2, and is a student with bad attendance - 4 days\n",
      "Ambroży Bielecki, index: 59739241 marks mean: 3.8, and is a student with good attendance - 2 days\n",
      "Gerwazy Gombrowicz, index: 59460013 marks mean: 4.2, and is a student with good attendance - 1 days\n",
      "Joanna Śliwa, index: 29453084 marks mean: 3.6, and is a student with bad attendance - 3 days\n",
      "Aleksandra Piwowarczyk, index: 59081879 marks mean: 3.0, and is a student with bad attendance - 5 days\n",
      "Jadwiga Królikowska, index: 28961493 marks mean: 2.7, and is a student with bad attendance - 6 days\n",
      "Daniel Stychlerz, index: 28270521 marks mean: 4.3, and is a student with good attendance - 1 days\n",
      "Mariola Tatarczyk, index: 00813668 marks mean: 3.7, and is a student with bad attendance - 3 days\n",
      "Zofia Regulski, index: 33195403 marks mean: 3.2, and is a student with bad attendance - 4 days\n",
      "Gabriela Kaczorowski, index: 35357553 marks mean: 4.2, and is a student with good attendance - 1 days\n",
      "Ferdynand Wielopolski, index: 51616492 marks mean: 3.3, and is a student with bad attendance - 4 days\n",
      "Eliza Mackiewicz, index: 30503478 marks mean: 4.3, and is a student with good attendance - 1 days\n",
      "Piotr Grzesiak, index: 14333031 marks mean: 3.0, and is a student with bad attendance - 5 days\n",
      "Wiktoria Czerwińska, index: 10131002 marks mean: 2.7, and is a student with bad attendance - 6 days\n",
      "Katarzyna Ryś, index: 58043432 marks mean: 5.0, and is a student with good attendance - -1 days\n",
      "Wanda Stychlerz, index: 95500615 marks mean: 2.7, and is a student with bad attendance - 6 days\n",
      "Alina Piekarski, index: 09383905 marks mean: 3.0, and is a student with bad attendance - 5 days\n",
      "Ireneusz Winnicki, index: 27773285 marks mean: 3.2, and is a student with bad attendance - 4 days\n",
      "Jędrzej Wójtowicz, index: 78354575 marks mean: 4.5, and is a student with good attendance - 0 days\n",
      "Dawid Wesołowska, index: 13244761 marks mean: 3.6, and is a student with bad attendance - 3 days\n",
      "Henryka Kot, index: 39270121 marks mean: 2.8, and is a student with bad attendance - 5 days\n",
      "Jerzy Wolski, index: 05693827 marks mean: 4.2, and is a student with good attendance - 1 days\n",
      "Józefa Krajewski, index: 43169703 marks mean: 3.0, and is a student with bad attendance - 5 days\n",
      "Artur Bagiński, index: 52250298 marks mean: 3.8, and is a student with good attendance - 2 days\n"
     ]
    }
   ],
   "source": [
    "some_school.print_students()"
   ]
  },
  {
   "cell_type": "markdown",
   "metadata": {},
   "source": [
    "Print out students from API Endpoint"
   ]
  },
  {
   "cell_type": "code",
   "execution_count": 70,
   "metadata": {},
   "outputs": [
    {
     "data": {
      "image/png": "[encoded data removed]",
      "text/plain": [
       "<Figure size 432x288 with 1 Axes>"
      ]
     },
     "metadata": {},
     "output_type": "display_data"
    }
   ],
   "source": [
    "some_school.plot_students()"
   ]
  },
  {
   "cell_type": "markdown",
   "metadata": {},
   "source": [
    "Make prediction from API Students"
   ]
  },
  {
   "cell_type": "code",
   "execution_count": 71,
   "metadata": {},
   "outputs": [
    {
     "name": "stdout",
     "output_type": "stream",
     "text": [
      "slope= [-3.0348744] intercept= [13.8944324]\n"
     ]
    },
    {
     "data": {
      "image/png": "[encoded data removed]",
      "text/plain": [
       "<Figure size 432x288 with 1 Axes>"
      ]
     },
     "metadata": {},
     "output_type": "display_data"
    }
   ],
   "source": [
    "some_school.linear_regression()"
   ]
  },
  {
   "cell_type": "code",
   "execution_count": null,
   "metadata": {},
   "outputs": [],
   "source": []
  }
 ],
 "metadata": {
  "kernelspec": {
   "display_name": "Python 3",
   "language": "python",
   "name": "python3"
  },
  "language_info": {
   "codemirror_mode": {
    "name": "ipython",
    "version": 3
   },
   "file_extension": ".py",
   "mimetype": "text/x-python",
   "name": "python",
   "nbconvert_exporter": "python",
   "pygments_lexer": "ipython3",
   "version": "3.6.5"
  }
 },
 "nbformat": 4,
 "nbformat_minor": 2
}
