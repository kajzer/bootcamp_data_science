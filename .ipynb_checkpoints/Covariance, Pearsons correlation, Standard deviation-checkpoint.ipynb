{
 "cells": [
  {
   "cell_type": "markdown",
   "metadata": {},
   "source": [
    "### Create functions for calculating Co-variance, Pearsons correlation and Standard deviation\n",
    "- Import random and numpy modules\n",
    "- Create random lists"
   ]
  },
  {
   "cell_type": "code",
   "execution_count": 32,
   "metadata": {
    "collapsed": true
   },
   "outputs": [],
   "source": [
    "import random\n",
    "import math\n",
    "import numpy as np"
   ]
  },
  {
   "cell_type": "code",
   "execution_count": 33,
   "metadata": {
    "collapsed": true
   },
   "outputs": [],
   "source": [
    "list_size = 20\n",
    "x = [random.randint(0, 100) for x in range(list_size)]\n",
    "y = [random.randint(100, 200) for x in range(list_size)]"
   ]
  },
  {
   "cell_type": "markdown",
   "metadata": {},
   "source": [
    "### Co-variance function\n",
    "[Wikipedia](https://en.wikipedia.org/wiki/Covariance)\n",
    "\n",
    "Covariance equation:\n",
    "\n",
    "$$ S_{xy} = \\sum_{i=1}^{n} (x_i - \\bar{x})(y_i - \\bar{y}) $$"
   ]
  },
  {
   "cell_type": "code",
   "execution_count": 34,
   "metadata": {
    "collapsed": true
   },
   "outputs": [],
   "source": [
    "def my_covariance(list1, list2):\n",
    "    if len(list1) != len(list2):\n",
    "        print(\"LLists are not equal!\")\n",
    "        return None\n",
    "    mean_x = np.mean(list1)\n",
    "    mean_y = np.mean(list2)\n",
    "    n = len(list1)\n",
    "    my_sum = list()\n",
    "    for x, y in zip(list1, list2):\n",
    "        my_sum.append((x - mean_x)*(y - mean_y))\n",
    "    return(sum(my_sum)/n)"
   ]
  },
  {
   "cell_type": "code",
   "execution_count": 35,
   "metadata": {
    "collapsed": false
   },
   "outputs": [
    {
     "name": "stdout",
     "output_type": "stream",
     "text": [
      "-104.7875\n"
     ]
    }
   ],
   "source": [
    "print(my_covariance(x, y))"
   ]
  },
  {
   "cell_type": "markdown",
   "metadata": {},
   "source": [
    "### Standard deviation\n",
    "[Wikipedia](https://en.wikipedia.org/wiki/Standard_deviation)\n",
    "\n",
    "Standard deviation equation:\n",
    "\n",
    "$$ \\sigma = \\sqrt{\\frac{1}{N} \\sum_{i=1}^N (x_i - \\mu)^2} $$"
   ]
  },
  {
   "cell_type": "code",
   "execution_count": 38,
   "metadata": {
    "collapsed": true
   },
   "outputs": [],
   "source": [
    "def std_deviation(elm_list):\n",
    "    my_mean = np.mean(elm_list)\n",
    "    my_sum = sum([(x - my_mean)**2 for x in elm_list])\n",
    "    return math.sqrt(my_sum/len(elm_list))"
   ]
  },
  {
   "cell_type": "code",
   "execution_count": 39,
   "metadata": {
    "collapsed": false
   },
   "outputs": [
    {
     "name": "stdout",
     "output_type": "stream",
     "text": [
      "25.945857087404146\n"
     ]
    }
   ],
   "source": [
    "print(std_deviation(x))"
   ]
  },
  {
   "cell_type": "markdown",
   "metadata": {},
   "source": [
    "### Pearsons correlation\n",
    "[Wikipedia](https://en.wikipedia.org/wiki/Pearson_correlation_coefficient)\n",
    "\n",
    "Pearsons correlation equation:\n",
    "\n",
    "$$ \\rho = \\frac{\\text{cov}(X,Y)}{\\sigma_x \\sigma_y} $$"
   ]
  },
  {
   "cell_type": "code",
   "execution_count": 40,
   "metadata": {
    "collapsed": true
   },
   "outputs": [],
   "source": [
    "def pearsons_correlation(list1, list2):\n",
    "    p_cov = my_covariance(list1, list2)/(std_deviation(list1)*std_deviation(list2))\n",
    "    return p_cov"
   ]
  },
  {
   "cell_type": "code",
   "execution_count": 42,
   "metadata": {
    "collapsed": false
   },
   "outputs": [
    {
     "name": "stdout",
     "output_type": "stream",
     "text": [
      "-0.139296325694\n"
     ]
    }
   ],
   "source": [
    "print(pearsons_correlation(x, y))"
   ]
  },
  {
   "cell_type": "code",
   "execution_count": null,
   "metadata": {
    "collapsed": true
   },
   "outputs": [],
   "source": []
  }
 ],
 "metadata": {
  "kernelspec": {
   "display_name": "Python 3",
   "language": "python",
   "name": "python3"
  },
  "language_info": {
   "codemirror_mode": {
    "name": "ipython",
    "version": 3
   },
   "file_extension": ".py",
   "mimetype": "text/x-python",
   "name": "python",
   "nbconvert_exporter": "python",
   "pygments_lexer": "ipython3",
   "version": "3.6.0"
  }
 },
 "nbformat": 4,
 "nbformat_minor": 2
}
