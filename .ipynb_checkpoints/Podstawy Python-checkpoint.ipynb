{
 "cells": [
  {
   "cell_type": "code",
   "execution_count": 37,
   "metadata": {},
   "outputs": [
    {
     "name": "stdout",
     "output_type": "stream",
     "text": [
      "laptop-fncivib1\\kajzer\n"
     ]
    }
   ],
   "source": [
    "!whoami"
   ]
  },
  {
   "cell_type": "code",
   "execution_count": 38,
   "metadata": {},
   "outputs": [
    {
     "name": "stdout",
     "output_type": "stream",
     "text": [
      " Volume in drive E is DATA\n",
      " Volume Serial Number is A8D1-D30A\n",
      "\n",
      " Directory of E:\\VirtualBoxVDI\\SharedFolderDS\\code\\bootcamp_data_science\n",
      "\n",
      "16.09.2018  14:43    <DIR>          .\n",
      "16.09.2018  14:43    <DIR>          ..\n",
      "16.09.2018  09:11    <DIR>          .ipynb_checkpoints\n",
      "16.09.2018  14:43            18 119 Podstawy Python.ipynb\n",
      "16.09.2018  09:53                34 README.md\n",
      "16.09.2018  14:14                67 zadanie6.py\n",
      "               3 File(s)         18 220 bytes\n",
      "               3 Dir(s)  444 023 197 696 bytes free\n"
     ]
    }
   ],
   "source": [
    "!dir"
   ]
  },
  {
   "cell_type": "markdown",
   "metadata": {},
   "source": [
    "## Zadanie 6*"
   ]
  },
  {
   "attachments": {},
   "cell_type": "markdown",
   "metadata": {},
   "source": [
    "- Utwórz listę wzrostu uczestników\n",
    "- Utwórz listę wagi uczestników\n",
    "- Dzięki matplotlib narysuj wykres zależności"
   ]
  },
  {
   "cell_type": "code",
   "execution_count": 170,
   "metadata": {},
   "outputs": [],
   "source": [
    "%matplotlib inline\n",
    "\n",
    "import matplotlib.pyplot as plt\n",
    "import numpy as np\n",
    "from faker import Faker\n",
    "import random\n",
    "from sklearn import linear_model\n",
    "from sklearn import datasets\n",
    "\n",
    "fake = Faker('pl_PL')\n",
    "\n",
    "wzrost = [176, 165, 185, 190, 178, 170]\n",
    "waga = [60, 80, 90, 75, 82, 65]"
   ]
  },
  {
   "cell_type": "code",
   "execution_count": 171,
   "metadata": {},
   "outputs": [
    {
     "data": {
      "image/png": "[encoded data removed]",
      "text/plain": [
       "<Figure size 432x288 with 1 Axes>"
      ]
     },
     "metadata": {},
     "output_type": "display_data"
    }
   ],
   "source": [
    "plt.plot(wzrost, waga, 'ro')\n",
    "plt.show()"
   ]
  },
  {
   "cell_type": "markdown",
   "metadata": {},
   "source": [
    "## Zadanie 9*"
   ]
  },
  {
   "attachments": {},
   "cell_type": "markdown",
   "metadata": {},
   "source": [
    "Użyj bibliotek numpy oraz matplotlib w celu wyrysowania rozkładu danych"
   ]
  },
  {
   "cell_type": "code",
   "execution_count": 113,
   "metadata": {},
   "outputs": [],
   "source": [
    "rozklad = np.random.normal(30, 100, 1000)"
   ]
  },
  {
   "cell_type": "code",
   "execution_count": 114,
   "metadata": {},
   "outputs": [
    {
     "data": {
      "image/png": "[encoded data removed]",
      "text/plain": [
       "<Figure size 432x288 with 1 Axes>"
      ]
     },
     "metadata": {},
     "output_type": "display_data"
    }
   ],
   "source": [
    "plt.hist(rozklad, 30)\n",
    "plt.show()"
   ]
  },
  {
   "cell_type": "markdown",
   "metadata": {},
   "source": [
    "## zadanie 10*"
   ]
  },
  {
   "cell_type": "markdown",
   "metadata": {},
   "source": [
    "- Stwórz klasę student (imię, nazwisko, nr albumu, lista ocen, nieobecności)\n",
    "- Klasa powinna mieć metodę, która wylicza średnią studenta\n",
    "- Klasa powinna mieć metody które przedstawiają studenta w sposób:\n",
    "- Student: Adam Nowak, index: 123456 ma średnią ocen:  3,65, jest studentem ze słabą/dobrą frekwencją\n",
    "- Przyjmujemy że student z dobrą frekwencją to taki co opuścił maksymalnie 2 zajęcia\n",
    "- Na podstawie średniej ocen dokonaj predykcji ilości dni opuszczonych przez studenta: jego oceny to: [3, 3, 3, 2]\n"
   ]
  },
  {
   "cell_type": "code",
   "execution_count": 115,
   "metadata": {},
   "outputs": [],
   "source": [
    "class Student:\n",
    "    def __init__(self, imie, nazwisko, nr_albumu, lista_ocen, nieobecnosci):\n",
    "        self.imie         = imie\n",
    "        self.nazwisko     = nazwisko\n",
    "        self.nr_albumu    = nr_albumu\n",
    "        self.lista_ocen    = lista_ocen\n",
    "        self.nieobecnosci = nieobecnosci\n",
    "    def srednia_ocen(self):\n",
    "        srednia = np.mean(self.lista_ocen)\n",
    "        return srednia\n",
    "    def frekwencja(self):\n",
    "        if self.nieobecnosci <= 2:\n",
    "            return \"z dobrą\"\n",
    "        else:\n",
    "            return \"ze słabą\"\n",
    "    def identyfikuj(self):\n",
    "        print(\"%s %s, index: %s ma średnią ocen: %.1f, jest studentem %s frekwencją - '%i' dni\" % \n",
    "              (self.imie, self.nazwisko, self.nr_albumu, self.srednia_ocen(), self.frekwencja(), self.nieobecnosci))"
   ]
  },
  {
   "cell_type": "code",
   "execution_count": 116,
   "metadata": {},
   "outputs": [],
   "source": [
    "adam   = Student(\"Adam\", \"Nowak\", \"1234\", [3, 4, 5, 2, 6], 2)\n",
    "bartek = Student(\"Bartek\", \"Łoziński\", \"1235\", [5, 4, 5, 5, 6], 3)"
   ]
  },
  {
   "cell_type": "code",
   "execution_count": 117,
   "metadata": {},
   "outputs": [
    {
     "name": "stdout",
     "output_type": "stream",
     "text": [
      "4.0\n"
     ]
    }
   ],
   "source": [
    "print(adam.srednia_ocen())"
   ]
  },
  {
   "cell_type": "code",
   "execution_count": 118,
   "metadata": {},
   "outputs": [
    {
     "name": "stdout",
     "output_type": "stream",
     "text": [
      "Adam Nowak, index: 1234 ma średnią ocen: 4.0, jest studentem z dobrą frekwencją - '2' dni\n"
     ]
    }
   ],
   "source": [
    "adam.identyfikuj()"
   ]
  },
  {
   "cell_type": "code",
   "execution_count": 119,
   "metadata": {},
   "outputs": [
    {
     "name": "stdout",
     "output_type": "stream",
     "text": [
      "Bartek Łoziński, index: 1235 ma średnią ocen: 5.0, jest studentem ze słabą frekwencją - '3' dni\n"
     ]
    }
   ],
   "source": [
    "bartek.identyfikuj()"
   ]
  },
  {
   "cell_type": "markdown",
   "metadata": {},
   "source": [
    "## zadanie 11**"
   ]
  },
  {
   "cell_type": "markdown",
   "metadata": {},
   "source": [
    "- Na podstawie funkcji 10\n",
    "- Stwórz funkcję która przyjmuje parametr ilosc studentow\n",
    "- Funkcja generuje studentow z losowymi danymi\n",
    "- *Użyj paczki faker\n",
    "- Funkcja zwraca listę obiektów\n"
   ]
  },
  {
   "cell_type": "code",
   "execution_count": 201,
   "metadata": {},
   "outputs": [],
   "source": [
    "def generuj_studentow(ilosc):\n",
    "    lista = list()\n",
    "    print(type(lista))\n",
    "    for _ in range(ilosc):\n",
    "        imie = fake.name().split(' ')[-2]\n",
    "        nazwisko = fake.name().split(' ')[-1]\n",
    "        nr_indeksu = random.randint(1000,9999)\n",
    "        oceny = [random.randint(2, 5) for x in range(random.randint(3, 6))]\n",
    "        nieobecnosci = random.randint(0, (8 // np.mean(oceny)*3))\n",
    "        lista.append(Student(imie, nazwisko, nr_indeksu, oceny, nieobecnosci)) \n",
    "    return lista\n"
   ]
  },
  {
   "cell_type": "code",
   "execution_count": 202,
   "metadata": {},
   "outputs": [
    {
     "name": "stdout",
     "output_type": "stream",
     "text": [
      "<class 'list'>\n"
     ]
    }
   ],
   "source": [
    "lista_studentow = generuj_studentow(100)"
   ]
  },
  {
   "cell_type": "markdown",
   "metadata": {},
   "source": [
    "### Duża lista studentów - wygenerowane dla przykładu - nie generować ponownie dla dużej ilości studentów"
   ]
  },
  {
   "cell_type": "code",
   "execution_count": 147,
   "metadata": {},
   "outputs": [
    {
     "name": "stdout",
     "output_type": "stream",
     "text": [
      "Radosław Flisiak, index: 9941 ma średnią ocen: 2.8, jest studentem z dobrą frekwencją - '1' dni\n",
      "Bartek Gamrat, index: 8206 ma średnią ocen: 3.8, jest studentem z dobrą frekwencją - '0' dni\n",
      "Antoni Różak, index: 1424 ma średnią ocen: 3.8, jest studentem z dobrą frekwencją - '0' dni\n",
      "Liwia Forma, index: 4535 ma średnią ocen: 3.0, jest studentem ze słabą frekwencją - '3' dni\n",
      "Ewelina Heba, index: 8801 ma średnią ocen: 3.0, jest studentem z dobrą frekwencją - '2' dni\n",
      "Konrad Noszczyk, index: 3454 ma średnią ocen: 2.6, jest studentem ze słabą frekwencją - '3' dni\n",
      "Kornelia Kaczka, index: 4663 ma średnią ocen: 3.0, jest studentem z dobrą frekwencją - '2' dni\n",
      "Daniel Budzyń, index: 9460 ma średnią ocen: 3.3, jest studentem z dobrą frekwencją - '0' dni\n"
     ]
    }
   ],
   "source": [
    "for student in lista_studentow:\n",
    "    student.identyfikuj()"
   ]
  },
  {
   "cell_type": "code",
   "execution_count": 203,
   "metadata": {},
   "outputs": [],
   "source": [
    "srednie_oceny = np.array([x.srednia_ocen() for x in lista_studentow])\n",
    "dni_nieobecnosci = np.array([x.nieobecnosci for x in lista_studentow])"
   ]
  },
  {
   "cell_type": "code",
   "execution_count": 204,
   "metadata": {},
   "outputs": [
    {
     "data": {
      "image/png": "[encoded data removed]",
      "text/plain": [
       "<Figure size 432x288 with 1 Axes>"
      ]
     },
     "metadata": {},
     "output_type": "display_data"
    }
   ],
   "source": [
    "plt.scatter(srednie_oceny, dni_nieobecnosci,color='black')\n",
    "plt.xlabel(\"srednie oceny\")\n",
    "plt.ylabel(\"nieobecnosci\")\n",
    "plt.show()"
   ]
  },
  {
   "cell_type": "markdown",
   "metadata": {},
   "source": [
    "Deklarowanie funkcji regresji liniowej i wywołanie fit żeby nauczyć model"
   ]
  },
  {
   "cell_type": "code",
   "execution_count": 205,
   "metadata": {},
   "outputs": [
    {
     "data": {
      "text/plain": [
       "LinearRegression(copy_X=True, fit_intercept=True, n_jobs=1, normalize=False)"
      ]
     },
     "execution_count": 205,
     "metadata": {},
     "output_type": "execute_result"
    }
   ],
   "source": [
    "reg=linear_model.LinearRegression()\n",
    "reg.fit(srednie_oceny.reshape(-1, 1), dni_nieobecnosci.reshape(-1, 1))"
   ]
  },
  {
   "cell_type": "code",
   "execution_count": 206,
   "metadata": {},
   "outputs": [
    {
     "name": "stdout",
     "output_type": "stream",
     "text": [
      "slope= [-1.29635039] intercept= [7.34852271]\n"
     ]
    }
   ],
   "source": [
    "m=reg.coef_[0]\n",
    "b=reg.intercept_\n",
    "print(\"slope=\",m, \"intercept=\",b)"
   ]
  },
  {
   "cell_type": "code",
   "execution_count": 207,
   "metadata": {},
   "outputs": [
    {
     "data": {
      "text/plain": [
       "Text(0,0.5,'nieobecnosci')"
      ]
     },
     "execution_count": 207,
     "metadata": {},
     "output_type": "execute_result"
    },
    {
     "data": {
      "image/png": "[encoded data removed]",
      "text/plain": [
       "<Figure size 432x288 with 1 Axes>"
      ]
     },
     "metadata": {},
     "output_type": "display_data"
    }
   ],
   "source": [
    "y_pred = reg.predict(srednie_oceny.reshape(-1,1))\n",
    "plt.scatter(srednie_oceny, dni_nieobecnosci,color='black')\n",
    "plt.plot(srednie_oceny, y_pred, 'b')\n",
    "plt.xlabel(\"srednie oceny\")\n",
    "plt.ylabel(\"nieobecnosci\")"
   ]
  },
  {
   "cell_type": "markdown",
   "metadata": {},
   "source": [
    "## Zadanie 12"
   ]
  },
  {
   "cell_type": "markdown",
   "metadata": {},
   "source": [
    "- Na podstawie zadań 10 i 11\n",
    "- Stwórz klasę ClassInterpretation\n",
    "- Klasa posiada metody:\n",
    "- Zwracające dane odnośnie:\n",
    "- Średniej,\n",
    "- Mediany\n",
    "- Metoda str wykonana na obiekcie będzie opisywać słownie grupę studentów\n",
    "- Metoda float będzie zwracać średnią wszystkich studentów zaokrągloną do 2 miejsca po przecinku\n",
    "- Dokonaj wizuazlizacji grupy studentow (zaleznosc wyniki ocen od ilosci opuszczonych zajec)\n",
    "- Dokonaj predykcji dla studenta \n"
   ]
  },
  {
   "cell_type": "code",
   "execution_count": 242,
   "metadata": {},
   "outputs": [],
   "source": [
    "class ClassInterpretation:\n",
    "    def __init__(self, lista_klasy):\n",
    "        self.lista_klasy = lista_klasy\n",
    "    def __str__(self):\n",
    "        return \"na liście wpisanych jest %i studentów. Średnia ocen wszystkich studentów to: %.1f. Mediana ze wszystkich średnich to: %i\" % (len(self.lista_klasy), self.srednia(), self.mediana())\n",
    "    def __float__(self):\n",
    "        return float(round(self.srednia(), 2))\n",
    "    def srednia(self):\n",
    "        srednia = np.mean([student.srednia_ocen() for student in self.lista_klasy])\n",
    "        return srednia\n",
    "    def mediana(self):\n",
    "        # mediana ze średniej oceny wszystkich studentów\n",
    "        mediana = np.median([student.srednia_ocen() for student in self.lista_klasy])\n",
    "        return mediana\n",
    "    \n",
    "        "
   ]
  },
  {
   "cell_type": "code",
   "execution_count": 243,
   "metadata": {},
   "outputs": [],
   "source": [
    "classInterpreter = ClassInterpretation(lista_studentow)"
   ]
  },
  {
   "cell_type": "code",
   "execution_count": 244,
   "metadata": {},
   "outputs": [
    {
     "name": "stdout",
     "output_type": "stream",
     "text": [
      "na liście wpisanych jest 100 studentów. Średnia ocen wszystkich studentów to: 3.5. Mediana ze wszystkich średnich to: 3\n"
     ]
    }
   ],
   "source": [
    "print(classInterpreter)"
   ]
  },
  {
   "cell_type": "code",
   "execution_count": 245,
   "metadata": {},
   "outputs": [
    {
     "data": {
      "text/plain": [
       "3.5"
      ]
     },
     "execution_count": 245,
     "metadata": {},
     "output_type": "execute_result"
    }
   ],
   "source": [
    "float(classInterpreter)"
   ]
  },
  {
   "cell_type": "markdown",
   "metadata": {},
   "source": [
    "## Zadanie 13***"
   ]
  },
  {
   "attachments": {},
   "cell_type": "markdown",
   "metadata": {},
   "source": [
    "- Napisz funkcje:\n",
    "- Kowariancji\n",
    "- Korelacji Pearsona\n",
    "- Na odchylenie standardowe"
   ]
  },
  {
   "cell_type": "code",
   "execution_count": 284,
   "metadata": {},
   "outputs": [],
   "source": [
    "list_size = 20\n",
    "x = [random.randint(0, 100) for x in range(list_size)]\n",
    "y = [random.randint(100, 200) for x in range(list_size)]"
   ]
  },
  {
   "cell_type": "code",
   "execution_count": 285,
   "metadata": {},
   "outputs": [],
   "source": [
    "def kowariancja(list1, list2):\n",
    "    if len(list1) != len(list2):\n",
    "        print(\"Listy są nie równe, podaj listy o identycznej długości\")\n",
    "        return None\n",
    "    srednia_x = np.mean(list1)\n",
    "    srednia_y = np.mean(list2)\n",
    "    n = len(list1)\n",
    "    suma = list()\n",
    "    for x, y in zip(list1, list2):\n",
    "        suma.append((x - srednia_x)*(y - srednia_y))\n",
    "    return(sum(suma)/n)\n",
    "    \n"
   ]
  },
  {
   "cell_type": "code",
   "execution_count": 286,
   "metadata": {},
   "outputs": [
    {
     "name": "stdout",
     "output_type": "stream",
     "text": [
      "224.03000000000003\n"
     ]
    }
   ],
   "source": [
    "print(kowariancja(x, y))"
   ]
  },
  {
   "cell_type": "code",
   "execution_count": 290,
   "metadata": {},
   "outputs": [],
   "source": [
    "def odchylenie_standardowe(lista):\n",
    "    srednia = np.mean(lista)\n",
    "    suma = sum([(x - srednia)**2 for x in lista])\n",
    "    return suma/len(lista)"
   ]
  },
  {
   "cell_type": "code",
   "execution_count": 292,
   "metadata": {},
   "outputs": [
    {
     "name": "stdout",
     "output_type": "stream",
     "text": [
      "13667.799999999997\n",
      "13667.799999999997\n"
     ]
    }
   ],
   "source": [
    "print(odchylenie_standardowe(x))"
   ]
  },
  {
   "cell_type": "code",
   "execution_count": 293,
   "metadata": {},
   "outputs": [],
   "source": [
    "def kowariancja_P(lista1, lista2):\n",
    "    kow_P = kowariancja(lista1, lista2)/(odchylenie_standardowe(lista1)*odchylenie_standardowe(lista2))\n",
    "    return kow_p"
   ]
  },
  {
   "cell_type": "code",
   "execution_count": 294,
   "metadata": {},
   "outputs": [
    {
     "name": "stdout",
     "output_type": "stream",
     "text": [
      "224.03000000000003\n"
     ]
    }
   ],
   "source": [
    "print(kowariancja(x, y))"
   ]
  },
  {
   "cell_type": "code",
   "execution_count": null,
   "metadata": {},
   "outputs": [],
   "source": []
  }
 ],
 "metadata": {
  "kernelspec": {
   "display_name": "Python 3",
   "language": "python",
   "name": "python3"
  },
  "language_info": {
   "codemirror_mode": {
    "name": "ipython",
    "version": 3
   },
   "file_extension": ".py",
   "mimetype": "text/x-python",
   "name": "python",
   "nbconvert_exporter": "python",
   "pygments_lexer": "ipython3",
   "version": "3.6.5"
  }
 },
 "nbformat": 4,
 "nbformat_minor": 2
}
